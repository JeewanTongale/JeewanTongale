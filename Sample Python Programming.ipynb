{
 "cells": [
  {
   "cell_type": "markdown",
   "id": "front-chuck",
   "metadata": {},
   "source": [
    "#### Prime Number"
   ]
  },
  {
   "cell_type": "code",
   "execution_count": 107,
   "id": "fossil-participant",
   "metadata": {},
   "outputs": [
    {
     "name": "stdout",
     "output_type": "stream",
     "text": [
      "Print prime number between 11 and 78\n",
      "11\n",
      "13\n",
      "17\n",
      "19\n",
      "23\n",
      "29\n",
      "31\n",
      "37\n",
      "41\n",
      "43\n",
      "47\n",
      "53\n",
      "59\n",
      "61\n",
      "67\n",
      "71\n",
      "73\n"
     ]
    }
   ],
   "source": [
    "start = 11\n",
    "end = 78\n",
    "print(\"Print prime number between\", start, \"and\", end)\n",
    "for i in range(start, end + 1):\n",
    "    if i > 1:\n",
    "        for j in range(2, i):\n",
    "            if(i % j) == 0:\n",
    "                break\n",
    "        else:\n",
    "            print(i)"
   ]
  },
  {
   "cell_type": "markdown",
   "id": "optical-bloom",
   "metadata": {},
   "source": [
    "### Square"
   ]
  },
  {
   "cell_type": "code",
   "execution_count": 114,
   "id": "christian-gazette",
   "metadata": {},
   "outputs": [
    {
     "name": "stdout",
     "output_type": "stream",
     "text": [
      "Square of Number 34 is : 1156\n"
     ]
    }
   ],
   "source": [
    "num = int(input(\"Enter a Number: \"))\n",
    "print(\"Square of Number\", num, \"is :\", num * num)"
   ]
  },
  {
   "cell_type": "code",
   "execution_count": null,
   "id": "three-heater",
   "metadata": {},
   "outputs": [],
   "source": [
    "num = int(input(\"Enter a Number: \"))\n",
    "for i in range(1, 11):\n",
    "    print(i * num)"
   ]
  },
  {
   "cell_type": "code",
   "execution_count": null,
   "id": "front-television",
   "metadata": {},
   "outputs": [],
   "source": [
    "a = int(input(\"Enter 1st number to add: \"))\n",
    "num = 46\n",
    "print(\"Addition of {} and {} is: \".format(a, num), a + num)"
   ]
  },
  {
   "cell_type": "code",
   "execution_count": null,
   "id": "parliamentary-syracuse",
   "metadata": {},
   "outputs": [],
   "source": [
    "import calendar\n",
    "\n",
    "yy = 2022\n",
    "mm = 4\n",
    "print(calendar.month(yy, mm))"
   ]
  },
  {
   "cell_type": "code",
   "execution_count": 109,
   "id": "advance-figure",
   "metadata": {},
   "outputs": [
    {
     "name": "stdout",
     "output_type": "stream",
     "text": [
      "Swapping x = 3 and y = 5\n",
      "After swapping x = 5 and b = 3\n"
     ]
    }
   ],
   "source": [
    "x = 3\n",
    "y = 5\n",
    "print(\"Swapping x = {} and y = {}\".format(x, y))\n",
    "x, y = y, x\n",
    "print(\"After swapping x = {} and b = {}\".format(x, y))"
   ]
  },
  {
   "cell_type": "code",
   "execution_count": 110,
   "id": "0f9936eb",
   "metadata": {},
   "outputs": [
    {
     "name": "stdout",
     "output_type": "stream",
     "text": [
      "Factorial of  7 is : 5040\n"
     ]
    }
   ],
   "source": [
    "num = 7 \n",
    "fact = 1\n",
    "for i in range(1, num + 1):\n",
    "    fact = fact * i\n",
    "print(\"Factorial of \", num, \"is :\", fact)    "
   ]
  },
  {
   "cell_type": "code",
   "execution_count": 111,
   "id": "0330b75e",
   "metadata": {},
   "outputs": [
    {
     "name": "stdout",
     "output_type": "stream",
     "text": [
      "0b11010110\n"
     ]
    }
   ],
   "source": [
    "dec = 214\n",
    "print(bin(dec))"
   ]
  },
  {
   "cell_type": "code",
   "execution_count": 112,
   "id": "2a18efe8",
   "metadata": {},
   "outputs": [
    {
     "name": "stdout",
     "output_type": "stream",
     "text": [
      "[24, 6, 8]\n",
      "[76, 6, 8]\n",
      "[75, 11, 9]\n",
      "[24, 6, 8]\n",
      "[76, 6, 8]\n",
      "[75, 11, 9]\n",
      "True\n"
     ]
    }
   ],
   "source": [
    "x = [[12,3,4],\n",
    "     [42,2,3],\n",
    "     [52,6,3]]\n",
    "y = [[12,3,4],\n",
    "     [34,4,5],\n",
    "     [23,5,6]]\n",
    "z = [[0,0,0],\n",
    "     [0,0,0],\n",
    "     [0,0,0]]\n",
    "c = [[0,0,0],\n",
    "     [0,0,0],\n",
    "     [0,0,0]]\n",
    "\n",
    "for i in range(len(x)):\n",
    "    for j in range(len(x[0])):\n",
    "        z[i][j] = x[i][j] + y[i][j]\n",
    "for B in z:\n",
    "    print(B)\n",
    "for i in range(len(x)):\n",
    "    for j in range(len(y)):\n",
    "        c[i][j] = x[i][j] + y[i][j]\n",
    "for N in c:\n",
    "    print(N)        \n",
    "print(z == c)        \n"
   ]
  },
  {
   "cell_type": "code",
   "execution_count": 113,
   "id": "imposed-hotel",
   "metadata": {},
   "outputs": [
    {
     "ename": "ValueError",
     "evalue": "invalid literal for int() with base 10: ''",
     "output_type": "error",
     "traceback": [
      "\u001b[0;31m---------------------------------------------------------------------------\u001b[0m",
      "\u001b[0;31mValueError\u001b[0m                                Traceback (most recent call last)",
      "\u001b[0;32m<ipython-input-113-53c8dcebec5e>\u001b[0m in \u001b[0;36m<module>\u001b[0;34m\u001b[0m\n\u001b[0;32m----> 1\u001b[0;31m \u001b[0mrow\u001b[0m \u001b[0;34m=\u001b[0m \u001b[0mint\u001b[0m\u001b[0;34m(\u001b[0m\u001b[0minput\u001b[0m\u001b[0;34m(\u001b[0m\u001b[0;34m\"Enter number of rows: \"\u001b[0m\u001b[0;34m)\u001b[0m\u001b[0;34m)\u001b[0m\u001b[0;34m\u001b[0m\u001b[0;34m\u001b[0m\u001b[0m\n\u001b[0m\u001b[1;32m      2\u001b[0m \u001b[0;34m\u001b[0m\u001b[0m\n\u001b[1;32m      3\u001b[0m \u001b[0;32mfor\u001b[0m \u001b[0mi\u001b[0m \u001b[0;32min\u001b[0m \u001b[0mrange\u001b[0m\u001b[0;34m(\u001b[0m\u001b[0mrow\u001b[0m\u001b[0;34m)\u001b[0m\u001b[0;34m:\u001b[0m\u001b[0;34m\u001b[0m\u001b[0;34m\u001b[0m\u001b[0m\n\u001b[1;32m      4\u001b[0m     \u001b[0;32mfor\u001b[0m \u001b[0mj\u001b[0m \u001b[0;32min\u001b[0m \u001b[0mrange\u001b[0m\u001b[0;34m(\u001b[0m\u001b[0mi\u001b[0m \u001b[0;34m+\u001b[0m \u001b[0;36m1\u001b[0m\u001b[0;34m)\u001b[0m\u001b[0;34m:\u001b[0m\u001b[0;34m\u001b[0m\u001b[0;34m\u001b[0m\u001b[0m\n\u001b[1;32m      5\u001b[0m         \u001b[0mprint\u001b[0m\u001b[0;34m(\u001b[0m\u001b[0;34m\"*\"\u001b[0m\u001b[0;34m,\u001b[0m \u001b[0mend\u001b[0m \u001b[0;34m=\u001b[0m \u001b[0;34m\" \"\u001b[0m\u001b[0;34m)\u001b[0m\u001b[0;34m\u001b[0m\u001b[0;34m\u001b[0m\u001b[0m\n",
      "\u001b[0;31mValueError\u001b[0m: invalid literal for int() with base 10: ''"
     ]
    }
   ],
   "source": [
    "row = int(input(\"Enter number of rows: \"))\n",
    "\n",
    "for i in range(row):\n",
    "    for j in range(i + 1):\n",
    "        print(\"*\", end = \" \")\n",
    "    print(\"\\n\")    "
   ]
  },
  {
   "cell_type": "code",
   "execution_count": null,
   "id": "8b7e0628",
   "metadata": {},
   "outputs": [],
   "source": [
    "array = [3,4,5,6,7,8]\n",
    "sum = 0\n",
    "for i in array:\n",
    "    sum = sum + i\n",
    "print(\"Sum of array is:\", sum)     "
   ]
  },
  {
   "cell_type": "code",
   "execution_count": null,
   "id": "92b98d71",
   "metadata": {},
   "outputs": [],
   "source": [
    "def areaC(num):\n",
    "    pi = 3.14\n",
    "    result = pi * (num ** 2)\n",
    "    return result\n",
    "areaC(7)"
   ]
  },
  {
   "cell_type": "code",
   "execution_count": null,
   "id": "dca9f5ce",
   "metadata": {},
   "outputs": [],
   "source": [
    "s = \"aababa\"\n",
    "# a = s[::-1]\n",
    "# print(a)\n",
    "print(s == s[::-1])"
   ]
  },
  {
   "cell_type": "code",
   "execution_count": null,
   "id": "3926cf87",
   "metadata": {},
   "outputs": [],
   "source": [
    "num = int(input(\"Enter: \"))\n",
    "n1, n2 = 0, 1\n",
    "count = 0\n",
    "while count < num:\n",
    "    print(n1)\n",
    "    nth = n1 + n2\n",
    "    n1 = n2\n",
    "    n2 = nth\n",
    "    count += 1\n"
   ]
  },
  {
   "cell_type": "code",
   "execution_count": null,
   "id": "8d79b0ca",
   "metadata": {},
   "outputs": [],
   "source": [
    "num = int(input(\"Enter: \"))\n",
    "for i in range(num):\n",
    "    for j in range(i + 1):\n",
    "        print(\"*\", end=\" \")\n",
    "    print(\"\\n\")    \n"
   ]
  },
  {
   "cell_type": "code",
   "execution_count": null,
   "id": "e2232ebb",
   "metadata": {},
   "outputs": [],
   "source": [
    "print(max(23,82))"
   ]
  },
  {
   "cell_type": "code",
   "execution_count": null,
   "id": "e644c102",
   "metadata": {},
   "outputs": [],
   "source": [
    "import random\n",
    "\n",
    "for i in range(3):\n",
    "    b = [random.randint(0, 6)]\n",
    "    print(b)"
   ]
  },
  {
   "cell_type": "code",
   "execution_count": null,
   "id": "7f666ccc",
   "metadata": {},
   "outputs": [],
   "source": [
    "for i in range(0, 21):\n",
    "    if i % 2 == 0:\n",
    "        continue\n",
    "    else:\n",
    "        print(i)"
   ]
  },
  {
   "cell_type": "code",
   "execution_count": null,
   "id": "13869ba9",
   "metadata": {},
   "outputs": [],
   "source": [
    "sT = \"Hello my name is Jeewan\"\n",
    "a = list(\"abcd\")\n",
    "x = sT.split(\" \", 2)\n",
    "print(x)"
   ]
  },
  {
   "cell_type": "code",
   "execution_count": null,
   "id": "5cdf6151",
   "metadata": {},
   "outputs": [],
   "source": [
    "def factorial(num):\n",
    "    result = 1\n",
    "    for n in range(2, num + 1):\n",
    "        result *= n\n",
    "    return result\n",
    "\n",
    "factorial(4)    \n",
    "        "
   ]
  },
  {
   "cell_type": "code",
   "execution_count": null,
   "id": "ea6cc438",
   "metadata": {},
   "outputs": [],
   "source": [
    "a = \"Hello My Name Is Jeewan\"\n",
    "b = a.split()\n",
    "c = b[::-1]\n",
    "d = \" \".join(c)\n",
    "print(d)"
   ]
  },
  {
   "cell_type": "code",
   "execution_count": null,
   "id": "a2636bfc",
   "metadata": {},
   "outputs": [],
   "source": [
    "a = [1]\n",
    "print(a)"
   ]
  },
  {
   "cell_type": "code",
   "execution_count": null,
   "id": "0dd01c20",
   "metadata": {},
   "outputs": [],
   "source": [
    "def demo(something):\n",
    "    for idx, char in enumerate(something):\n",
    "        print(idx,\": \", char)\n",
    "demo(\"Hello\")    "
   ]
  },
  {
   "cell_type": "code",
   "execution_count": null,
   "id": "2f27152a",
   "metadata": {},
   "outputs": [],
   "source": [
    "string = input(\"Enter\")\n",
    "s1 = str()\n",
    "for i in string:\n",
    "    if i.isupper():\n",
    "        i = i.lower()\n",
    "        s1 += i\n",
    "    else:    \n",
    "        i = i.upper()\n",
    "        s1 += i\n",
    "print(string + \" After \" + s1)        \n",
    "        \n",
    "        "
   ]
  },
  {
   "cell_type": "code",
   "execution_count": null,
   "id": "7b4d7b0f",
   "metadata": {},
   "outputs": [],
   "source": [
    "string = input(\"Enter: \")\n",
    "count = 0\n",
    "ls = string.lower()\n",
    "for i in ls:\n",
    "    if i == 'a' or i == 'i' or i == 'e' or i == 'o' or i == 'u':\n",
    "        count += 1\n",
    "if count == 0:\n",
    "    print(\"No Vowels !!\")  \n",
    "else:\n",
    "    print(\"Vowels are: \", ls, count)      "
   ]
  },
  {
   "cell_type": "code",
   "execution_count": null,
   "id": "f10bbdf0",
   "metadata": {},
   "outputs": [],
   "source": [
    "def checkPal(string):\n",
    "    print(string == string[::-1])\n",
    "checkPal(\"aba\")    \n",
    "        "
   ]
  },
  {
   "cell_type": "code",
   "execution_count": null,
   "id": "0b491524",
   "metadata": {},
   "outputs": [],
   "source": [
    "s1 = \"jee\"\n",
    "s2 = \"eew\"\n",
    "s1 = sorted(s1.lower())\n",
    "s2 = sorted(s2.lower())\n",
    "print(\"Anagram\" if s1 == s2 else \"Not\")"
   ]
  },
  {
   "cell_type": "code",
   "execution_count": null,
   "id": "47f11d7a",
   "metadata": {},
   "outputs": [],
   "source": [
    "list = [\"0\"] * 4\n",
    "print(list)"
   ]
  },
  {
   "cell_type": "code",
   "execution_count": null,
   "id": "9beeabc3",
   "metadata": {},
   "outputs": [],
   "source": [
    "def multiply(num1, num2):\n",
    "    \"\"\"\n",
    "    :type num1: str\n",
    "    :type num2: str\n",
    "    :rtype: str\n",
    "    \"\"\"\n",
    "\n",
    "    res1, res2 = 0, 0 \n",
    "    for d in num1:\n",
    "        print(d)\n",
    "        print(ord(d))\n",
    "        print(ord('0'))\n",
    "        res1 = res1 * 10 + (ord(d) - ord('0'))\n",
    "    for d in num2:\n",
    "        res2 = res2 * 10 + (ord(d) - ord('0'))\n",
    "    return str(res1 * res2)\n",
    "multiply('5', '5')"
   ]
  },
  {
   "cell_type": "code",
   "execution_count": null,
   "id": "a9e7f6c0",
   "metadata": {},
   "outputs": [],
   "source": [
    "string = \"abcc\"\n",
    "for i in string:\n",
    "    freq = string.count(i)\n",
    "    print(i,\":\", str(freq), end=\", \")"
   ]
  },
  {
   "cell_type": "code",
   "execution_count": null,
   "id": "efb33012",
   "metadata": {},
   "outputs": [],
   "source": [
    "string = input(\"Enter 1: \")\n",
    "str1 = input(\"Sub1: \")\n",
    "str2 = input(\"Sub2: \")\n",
    "string = string.replace(str1, str2)\n",
    "print(\"After.. \\n\", string)"
   ]
  },
  {
   "cell_type": "code",
   "execution_count": null,
   "id": "d8978f10",
   "metadata": {},
   "outputs": [],
   "source": [
    "string = input(\"Enter: \")\n",
    "string = \"\".join(string.split())\n",
    "print(string)"
   ]
  },
  {
   "cell_type": "code",
   "execution_count": null,
   "id": "27c66a36",
   "metadata": {},
   "outputs": [],
   "source": [
    "str1 = 'aswe'\n",
    "str2 = 'qwert'\n",
    "\n",
    "edit = [x for x in range(len(str1) + 1)]\n",
    "print(edit)"
   ]
  },
  {
   "cell_type": "code",
   "execution_count": null,
   "id": "interstate-dressing",
   "metadata": {},
   "outputs": [],
   "source": [
    "str1 = \"qwe\"\n",
    "str2 = \"asdf\"\n",
    "\n",
    "edit = [[x for x in range(len(str1) + 1)] for y in range(len(str2) + 1)]\n",
    "print(edit)\n"
   ]
  },
  {
   "cell_type": "code",
   "execution_count": null,
   "id": "df8d3979",
   "metadata": {},
   "outputs": [],
   "source": [
    "listA = [21,31,23,314,134,1345,436,54,64,75,6,75,34,53]\n",
    "print(6 in listA)"
   ]
  },
  {
   "cell_type": "code",
   "execution_count": null,
   "id": "821ba266",
   "metadata": {},
   "outputs": [],
   "source": [
    "listA = [1,2,3,4,3,4,5]\n",
    "print(list(set(listA)))"
   ]
  },
  {
   "cell_type": "code",
   "execution_count": null,
   "id": "earned-eclipse",
   "metadata": {},
   "outputs": [],
   "source": [
    "str1 = \"alive\"\n",
    "str2 = \"eliva\"\n",
    "print(set(str1) == set(str2), set(str1), set(str2))"
   ]
  },
  {
   "cell_type": "code",
   "execution_count": null,
   "id": "processed-softball",
   "metadata": {},
   "outputs": [],
   "source": [
    "def pair(a):\n",
    "    pair = []\n",
    "\n",
    "    for idx, x in enumerate(a):\n",
    "        for idx, y in enumerate(a[idx + 1:]):\n",
    "            if x + y == 8:\n",
    "                pair.append((x, y))\n",
    "    return pair\n",
    "pair([1,2,3,4,5,6])"
   ]
  },
  {
   "cell_type": "code",
   "execution_count": null,
   "id": "built-discharge",
   "metadata": {},
   "outputs": [],
   "source": [
    "str1 = \"anna\"\n",
    "print(str1 == str1[::-1])"
   ]
  },
  {
   "cell_type": "code",
   "execution_count": null,
   "id": "superior-laser",
   "metadata": {},
   "outputs": [],
   "source": [
    "#Use List as Array, Stack and Queue\n",
    "\n",
    "A = [1,2,3]\n",
    "\n",
    "# List\n",
    "A += [4,5]\n",
    "print(\"List: \", A)\n",
    "\n",
    "# Stack\n",
    "A.append(6)\n",
    "print(\"Stack: \", A)\n",
    "A.pop()\n",
    "print(\"Stack: \", A)\n",
    "\n",
    "# Queue\n",
    "A.insert(0,5)\n",
    "print(\"Queue: \", A)\n",
    "A.pop()\n",
    "print(\"Queue: \", A)"
   ]
  },
  {
   "cell_type": "markdown",
   "id": "graduate-fitness",
   "metadata": {},
   "source": [
    "### *Important "
   ]
  },
  {
   "cell_type": "code",
   "execution_count": null,
   "id": "overhead-veteran",
   "metadata": {},
   "outputs": [],
   "source": [
    "def missing(lst):\n",
    "    return set(range(lst[len(lst) - 1])[1:]) - set(l)\n",
    "l = list(range(1, 100))\n",
    "l.remove(45)\n",
    "l.remove(50)\n",
    "print(missing(l))"
   ]
  },
  {
   "cell_type": "code",
   "execution_count": null,
   "id": "raised-pacific",
   "metadata": {},
   "outputs": [],
   "source": [
    "l = list(range(1, 100))\n",
    "l.remove(49)\n",
    "print(l)\n",
    "print(\"\\n\")\n",
    "print(range(l[len(l) - 1]))\n",
    "print(\"\\n\")\n",
    "print(set(range(l[len(l) - 1])[1:]) - set(l))"
   ]
  },
  {
   "cell_type": "code",
   "execution_count": null,
   "id": "younger-cambridge",
   "metadata": {},
   "outputs": [],
   "source": [
    "def intersect(lis1, lis2):\n",
    "    res, lis2C = [], lis2[:]\n",
    "    for ele in lis1:\n",
    "        if ele in lis2C:\n",
    "            res.append(ele)\n",
    "            lis2C.remove(ele)\n",
    "    return res\n",
    "\n",
    "intersect([1,2,3,4,5,6], [4,5,6,7,8])"
   ]
  },
  {
   "cell_type": "code",
   "execution_count": null,
   "id": "welsh-concept",
   "metadata": {},
   "outputs": [],
   "source": [
    "def recursion(str1):\n",
    "    if len(str1) <= 1:\n",
    "        return str1\n",
    "    return recursion(str1[1:]) + str1[0]\n",
    "recursion(\"Hello\")"
   ]
  },
  {
   "cell_type": "code",
   "execution_count": null,
   "id": "expressed-siemens",
   "metadata": {},
   "outputs": [],
   "source": [
    "# Fibbonacci\n",
    "\n",
    "a, b = 0, 1\n",
    "\n",
    "n = 10\n",
    "\n",
    "for i in range(n):\n",
    "    print(b)\n",
    "    \n",
    "    a, b = b, a + b"
   ]
  },
  {
   "cell_type": "markdown",
   "id": "harmful-combat",
   "metadata": {},
   "source": [
    "### Permutations of String"
   ]
  },
  {
   "cell_type": "code",
   "execution_count": null,
   "id": "owned-oriental",
   "metadata": {},
   "outputs": [],
   "source": [
    "def per(w):\n",
    "    if len(w) <= 1:\n",
    "        return set(w)\n",
    "    smaller = per(w[1:])\n",
    "    perms = set()\n",
    "    for x in smaller:\n",
    "        for pos in range(0, len(x) + 1):\n",
    "            perm = x[:pos] + w[0] + x[pos:]\n",
    "            perms.add(perm)\n",
    "    return perms\n",
    "per(\"wan\")"
   ]
  },
  {
   "cell_type": "code",
   "execution_count": null,
   "id": "motivated-runner",
   "metadata": {},
   "outputs": [],
   "source": [
    "a = [[1,2,3],\n",
    "     [1,2,3],\n",
    "     [1,2,3]\n",
    "    ]\n",
    "b = [[1,2,3],\n",
    "     [1,2,3],\n",
    "     [1,2,3]\n",
    "    ]\n",
    "result = [[0,0,0],\n",
    "          [0,0,0],\n",
    "          [0,0,0]\n",
    "         ]\n",
    "\n",
    "for i in range(len(a)):\n",
    "    for j in range(len(a[0])):\n",
    "        result[i][j] = a[i][j] + b[i][j]\n",
    "for b in result:\n",
    "    print(b)\n",
    "        "
   ]
  },
  {
   "cell_type": "code",
   "execution_count": null,
   "id": "5a372a2a",
   "metadata": {},
   "outputs": [],
   "source": [
    "for i in range(1, 11):\n",
    "    for j in range(1, 11):\n",
    "        print(\"{}\\t\".format(i * j), end=\"\")\n",
    "    print()"
   ]
  },
  {
   "cell_type": "code",
   "execution_count": null,
   "id": "a12acad7",
   "metadata": {},
   "outputs": [],
   "source": [
    "m = int(input(\"m : \"))\n",
    "n = int(input(\"n : \"))\n",
    "for i in range(1, m + 1):\n",
    "    for j in range(1, n + 1):\n",
    "        print(\"%d\\t\"%(i*j), end=\"\")\n",
    "    print()"
   ]
  },
  {
   "cell_type": "markdown",
   "id": "9fd42a5e",
   "metadata": {},
   "source": [
    "Change array element"
   ]
  },
  {
   "cell_type": "code",
   "execution_count": null,
   "id": "84d0274c",
   "metadata": {},
   "outputs": [],
   "source": [
    "a = [\"a\",\"k\",\"l\",\"a\",\"e\",\"a\"]\n",
    "count = 0\n",
    "for c, i in enumerate(a) :\n",
    "    if i == \"a\":\n",
    "        a[c] = \"Changed\"\n",
    "print(a)        "
   ]
  },
  {
   "cell_type": "code",
   "execution_count": null,
   "id": "aeed6e90",
   "metadata": {},
   "outputs": [],
   "source": []
  },
  {
   "cell_type": "markdown",
   "id": "04648d0e",
   "metadata": {},
   "source": [
    "_________________________________________________________________________________________________________________________________________________________________________________"
   ]
  },
  {
   "cell_type": "markdown",
   "id": "278fca41",
   "metadata": {},
   "source": [
    "Sorted Square Array"
   ]
  },
  {
   "cell_type": "code",
   "execution_count": null,
   "id": "7a262108",
   "metadata": {},
   "outputs": [],
   "source": [
    "array = [-4,-3,-2,-1,2,3,4,5,6,7,8,9,10]\n",
    "a = [0 for i in array]\n",
    "for idx in range(len(array)):\n",
    "    value = array[idx]\n",
    "    a[idx] = value * value\n",
    "print(\"Not Sorted: \",a)    \n",
    "a.sort()\n",
    "print(\"\\t    \",a)    "
   ]
  },
  {
   "cell_type": "code",
   "execution_count": null,
   "id": "0f9b186c",
   "metadata": {},
   "outputs": [],
   "source": [
    "array = [-4,-3,-2,-1,2,3,4,5,6,7,8,9,10]\n",
    "a = [0 for i in array]\n",
    "sIdx = 0\n",
    "bIdx = len(array) - 1\n",
    "\n",
    "for idx in reversed(range(len(array))):\n",
    "    s = array[sIdx]\n",
    "    b = array[bIdx]\n",
    "    if abs(s) > abs(b):\n",
    "        a[idx] = s * s\n",
    "        sIdx += 1\n",
    "    else:\n",
    "        a[idx] = b * b\n",
    "        bIdx -= 1\n",
    "print(a)            \n",
    "    "
   ]
  },
  {
   "cell_type": "code",
   "execution_count": null,
   "id": "9cff1e88",
   "metadata": {},
   "outputs": [],
   "source": [
    "array = [-4,-3,-2,-1,2,3,4,5,6,7,8,9,10]\n",
    "a = [0 for _ in array]\n",
    "sIdx = 0\n",
    "bIdx = len(array) - 1\n",
    "for idx in reversed(range(len(array))):\n",
    "    s = array[sIdx]\n",
    "    b = array[bIdx]\n",
    "    if abs(s) > abs(b):\n",
    "        a[idx] = s * s\n",
    "        sIdx += 1\n",
    "    else:\n",
    "        a[idx] = b * b\n",
    "        bIdx -= 1\n",
    "print(a)        \n",
    "            \n",
    "        "
   ]
  },
  {
   "cell_type": "code",
   "execution_count": null,
   "id": "b4715597",
   "metadata": {},
   "outputs": [],
   "source": [
    "array = [-4,-3,-2,-1,2,3,4,5,6,7,8,9,10]\n",
    "n = {}\n",
    "for i in array:\n",
    "    pm = 6 - i\n",
    "    if pm in n:\n",
    "        print([pm, i])\n",
    "    else:\n",
    "        n[i] = True    "
   ]
  },
  {
   "cell_type": "code",
   "execution_count": null,
   "id": "4d45b81f",
   "metadata": {},
   "outputs": [],
   "source": [
    "a = [5, 1, 22, 25, 6, -1, 8, 10]\n",
    "b = [1, 6, -1, 10]\n",
    "\n",
    "aIdx = 0\n",
    "bIdx = 0\n",
    "\n",
    "while aIdx < len(a) and bIdx < len(b):\n",
    "    if a[aIdx] == b[bIdx]:\n",
    "        bIdx += 1\n",
    "    aIdx += 1\n",
    "    print(bIdx, len(b))\n",
    "print(bIdx == len(b))        "
   ]
  },
  {
   "cell_type": "code",
   "execution_count": null,
   "id": "ec43b3fd",
   "metadata": {},
   "outputs": [],
   "source": [
    "a = [5, 1, 22, 25, 6, -1, 8, 10]\n",
    "b = [1, 6, -1, 10]\n",
    "\n",
    "seqIdx = 0\n",
    "\n",
    "for value in a:\n",
    "    if seqIdx == len(b):\n",
    "        break\n",
    "    if b[seqIdx] == value:\n",
    "        seqIdx += 1\n",
    "print(seqIdx, b)                \n",
    "print(seqIdx == len(b))        "
   ]
  },
  {
   "cell_type": "code",
   "execution_count": null,
   "id": "a7869dd5",
   "metadata": {},
   "outputs": [],
   "source": [
    "competitions = [[\"HTML\", \"C#\"], [\"C#\", \"Python\"], [\"Python\", \"HTML\"]]\n",
    "results = [0, 0, 1]\n",
    "\n",
    "def tournmentWinner(competitions, results):\n",
    "    currentBestTeam = \"\"\n",
    "    scores = {currentBestTeam: 0}\n",
    "\n",
    "    for idx, competition in enumerate(competitions):\n",
    "        result = results[idx]\n",
    "        homeTeam, awayTeam = competition\n",
    "    \n",
    "        winningTeam = homeTeam if result == 1 else awayTeam\n",
    "    \n",
    "        updateScores(winningTeam, 3, scores)\n",
    "\n",
    "        if scores[winningTeam] > scores[currentBestTeam]:\n",
    "            currentBestTeam = winningTeam\n",
    "    \n",
    "    return currentBestTeam        \n",
    "    \n",
    "    \n",
    "def updateScores(team, points, scores):\n",
    "    if team not in scores:\n",
    "        scores[team] = 0\n",
    "    scores[team] += points\n",
    "\n",
    "\n",
    "\n",
    "tournmentWinner([[\"HTML\", \"C#\"], [\"C#\", \"Python\"], [\"Python\", \"HTML\"]], [1, 0, 1])\n",
    "\n"
   ]
  },
  {
   "cell_type": "code",
   "execution_count": null,
   "id": "3ec68b77",
   "metadata": {},
   "outputs": [],
   "source": [
    "def nonConstructableChange(coins):\n",
    "    coins.sort()\n",
    "    change = 0\n",
    "    \n",
    "    for coin in coins:\n",
    "        if coin > change + 1:\n",
    "            return change + 1\n",
    "        change += coin\n",
    "    return change + 1        \n",
    "\n",
    "nonConstructableChange([5, 7, 1, 1, 2, 3, 22])"
   ]
  },
  {
   "cell_type": "markdown",
   "id": "3dfc5c3f",
   "metadata": {},
   "source": [
    "Three Number Sum"
   ]
  },
  {
   "cell_type": "code",
   "execution_count": null,
   "id": "8ce90246",
   "metadata": {},
   "outputs": [],
   "source": [
    "a = [12, 3, 1, 2, -6, 5, -8, 6]\n",
    "targetSum = 0\n",
    "t = []\n",
    "a.sort()\n",
    "for i in range(len(a) - 2):\n",
    "    left = i + 1\n",
    "    right = len(a) - 1\n",
    "    while left < right:\n",
    "        currentSum = a[i] + a[left] + a[right]\n",
    "        if currentSum == targetSum:\n",
    "            t.append([a[i], a[left], a[right]])\n",
    "            left += 1\n",
    "            right -= 1\n",
    "        elif currentSum < targetSum:\n",
    "            left += 1\n",
    "        elif currentSum > targetSum:\n",
    "            right -= 1\n",
    "print(t)                "
   ]
  },
  {
   "cell_type": "code",
   "execution_count": null,
   "id": "9189b911",
   "metadata": {},
   "outputs": [],
   "source": [
    "def SmallestDeference(a, b):\n",
    "    a.sort()\n",
    "    b.sort()\n",
    "\n",
    "    idxOne = 0\n",
    "    idxTwo = 0\n",
    "\n",
    "    smallest = float(\"inf\")\n",
    "    current = float(\"inf\")\n",
    "\n",
    "    c = []\n",
    "\n",
    "    while idxOne < len(a) and idxTwo < len(b):\n",
    "        numA = a[idxOne]\n",
    "        numB = b[idxTwo]\n",
    "    \n",
    "        if numA < numB:\n",
    "            current = numB - numA\n",
    "            idxOne += 1\n",
    "        elif numB < numA:\n",
    "            current = numA - numB\n",
    "            idxTwo += 1\n",
    "        else:\n",
    "            return [numA, numB]       \n",
    "    \n",
    "        if smallest > current:\n",
    "            smallest = current\n",
    "            c = [numA, numB]\n",
    "    return c            \n",
    "\n",
    "SmallestDeference([-1, 5, 10, 20, 28, 3], [26, 134, 135, 15, 17])\n",
    "    \n",
    "    \n",
    "    \n",
    "    \n",
    "    "
   ]
  },
  {
   "cell_type": "markdown",
   "id": "9a9a4da8",
   "metadata": {},
   "source": [
    "Smallest Difference"
   ]
  },
  {
   "cell_type": "code",
   "execution_count": null,
   "id": "d2ca7099",
   "metadata": {},
   "outputs": [],
   "source": [
    "def s(arr1, arr2):\n",
    "    arr1.sort()\n",
    "    arr2.sort()\n",
    "    idx1 = 0\n",
    "    idx2 = 0\n",
    "    current = float(\"inf\")\n",
    "    small = float(\"inf\")\n",
    "    array = []\n",
    "    while idx1 < len(arr1) and idx2 < len(arr2):\n",
    "        num1 = arr1[idx1]\n",
    "        num2 = arr2[idx2]\n",
    "        if num1 < num2:\n",
    "            current = num2 - num1\n",
    "            idx1 += 1\n",
    "        elif num2 < num1:\n",
    "            current = num1 - num2\n",
    "            idx2 += 1\n",
    "        else:\n",
    "            return [num1, num2]\n",
    "        \n",
    "        if small > current:\n",
    "            small = current\n",
    "            array = [num1, num2]\n",
    "    return array                \n",
    "\n",
    "s([-1, 5, 10, 20, 28, 3], [26, 134, 135, 15, 17])\n",
    "        "
   ]
  },
  {
   "cell_type": "code",
   "execution_count": null,
   "id": "c8968993",
   "metadata": {},
   "outputs": [],
   "source": [
    "wifi = True\n",
    "login = True\n",
    "admin = True\n",
    "    \n",
    "if wifi:\n",
    "    if login:\n",
    "        if admin:\n",
    "            print(\"Give Access\")\n",
    "        else:\n",
    "            print(\"NO Admin\")\n",
    "    else:\n",
    "        print(\"NO Login\")\n",
    "else:\n",
    "    print(\"NO WiFi\")\n",
    "                            \n"
   ]
  },
  {
   "cell_type": "code",
   "execution_count": null,
   "id": "a4dff025",
   "metadata": {},
   "outputs": [],
   "source": [
    "wifi = True\n",
    "login = True\n",
    "admin = True\n",
    "    \n",
    "if not wifi:\n",
    "    print(\"NO WiFi\")\n",
    "if not login:\n",
    "    print(\"NO Login\")\n",
    "if not admin:\n",
    "    print(\"NO Admin\")\n",
    "else:\n",
    "    print(\"Give Access\")            \n",
    "        "
   ]
  },
  {
   "cell_type": "code",
   "execution_count": null,
   "id": "32ea9b25",
   "metadata": {},
   "outputs": [],
   "source": [
    "import time\n",
    "\n",
    "start = time.time()\n",
    "\n",
    "a = [1,2,3,4]\n",
    "\n",
    "for i in a:\n",
    "    for j in a:\n",
    "        if i == j:\n",
    "            continue\n",
    "        print([i, j], end=\"\")\n",
    "end = time.time()\n",
    "print(\"\\n\", end - start)"
   ]
  },
  {
   "cell_type": "markdown",
   "id": "047c9ec8",
   "metadata": {},
   "source": [
    "Move To End"
   ]
  },
  {
   "cell_type": "code",
   "execution_count": null,
   "id": "ea90ef5a",
   "metadata": {},
   "outputs": [
    {
     "data": {
      "text/plain": [
       "[1, 7, 6, 5, 3, 4, 2, 2, 2]"
      ]
     },
     "execution_count": 106,
     "metadata": {},
     "output_type": "execute_result"
    }
   ],
   "source": [
    "def moveToEnd(array, toMove):\n",
    "    start = 0\n",
    "    end = len(array) - 1\n",
    "\n",
    "    while start < end:\n",
    "        while start < end and array[end] == toMove:\n",
    "            end -= 1\n",
    "        if array[start] == toMove:\n",
    "            array[start], array[end] = array[end], array[start]\n",
    "        start += 1\n",
    "    return array\n",
    "\n",
    "moveToEnd([1,2,2,2,3,4,5,6,7], 2)\n"
   ]
  },
  {
   "cell_type": "markdown",
   "id": "8b7b5af9",
   "metadata": {},
   "source": [
    "Sum of elements of Array"
   ]
  },
  {
   "cell_type": "code",
   "execution_count": 2,
   "id": "78612215",
   "metadata": {},
   "outputs": [
    {
     "name": "stdout",
     "output_type": "stream",
     "text": [
      "21\n"
     ]
    }
   ],
   "source": [
    "arrayA = [1,2,3,4,5,6]\n",
    "sumA = 0\n",
    "for i in arrayA:\n",
    "    sumA += i\n",
    "print(sumA)    "
   ]
  },
  {
   "cell_type": "markdown",
   "id": "5800e019",
   "metadata": {},
   "source": [
    "Print Index of Number if Found in Array else - 1"
   ]
  },
  {
   "cell_type": "code",
   "execution_count": 28,
   "id": "1ea5b5c1",
   "metadata": {},
   "outputs": [
    {
     "data": {
      "text/plain": [
       "-1"
      ]
     },
     "execution_count": 28,
     "metadata": {},
     "output_type": "execute_result"
    }
   ],
   "source": [
    "def linearS(arr, num):\n",
    "    for i, j in enumerate(arr):\n",
    "        if j == num:\n",
    "            return i\n",
    "    return -1    \n",
    "linearS([1,2,3,4,5,6], 7)        "
   ]
  },
  {
   "cell_type": "markdown",
   "id": "fd51081d",
   "metadata": {},
   "source": [
    "If Number Divisible by 3 & 5 print FissBuzz or Divisible by 3 print Fiss or\n",
    " Divisible by 5 print Buzz else Print Number"
   ]
  },
  {
   "cell_type": "code",
   "execution_count": 37,
   "id": "f1282fda",
   "metadata": {},
   "outputs": [
    {
     "name": "stdout",
     "output_type": "stream",
     "text": [
      "Fiss..\n"
     ]
    }
   ],
   "source": [
    "def div(num):\n",
    "    if num % 3 == 0 and num % 5 == 0:\n",
    "        print(\"FissBuzz..\")\n",
    "    elif num % 3 == 0:\n",
    "        print(\"Fiss..\")\n",
    "    elif num % 5 == 0:\n",
    "        print(\"Buzz..\")        \n",
    "    else:\n",
    "        print(num) \n",
    "div(3)           "
   ]
  },
  {
   "cell_type": "markdown",
   "id": "04f81360",
   "metadata": {},
   "source": [
    "Non - Increasing Non - Decreasing Array"
   ]
  },
  {
   "cell_type": "code",
   "execution_count": 113,
   "id": "7ee8d79f",
   "metadata": {},
   "outputs": [
    {
     "data": {
      "text/plain": [
       "True"
      ]
     },
     "execution_count": 113,
     "metadata": {},
     "output_type": "execute_result"
    }
   ],
   "source": [
    "def monotonic(arr):\n",
    "    isNonDecreasing = True\n",
    "    isNonIncreasing = True\n",
    "    \n",
    "    for i in range(1, len(arr)):\n",
    "        if arr[i] < arr[i - 1]:\n",
    "            isNonDecreasing = False\n",
    "        if arr[i] > arr[i - 1]:\n",
    "            isNonIncreasing = False\n",
    "    return isNonDecreasing or isNonIncreasing           \n",
    "monotonic([1,2,3,4,5])        "
   ]
  },
  {
   "cell_type": "markdown",
   "id": "1ead0f6b",
   "metadata": {},
   "source": [
    "Print Matrix in Spiral Order"
   ]
  },
  {
   "cell_type": "code",
   "execution_count": 118,
   "id": "6c3ad8c4",
   "metadata": {},
   "outputs": [
    {
     "data": {
      "text/plain": [
       "[1, 2, 3, 4, 5, 6, 7, 8, 9, 10, 11, 12, 13, 14, 15, 16]"
      ]
     },
     "execution_count": 118,
     "metadata": {},
     "output_type": "execute_result"
    }
   ],
   "source": [
    "def SpiralTraversal(arr):\n",
    "    \n",
    "    result = []\n",
    "    startRow, endRow = 0, len(arr) - 1\n",
    "    startCol, endCol = 0, len(arr[0]) - 1\n",
    "    \n",
    "    while startRow <= endRow and startCol <= endCol:\n",
    "        for col in range(startCol, endCol + 1):\n",
    "            result.append(arr[startRow][col])\n",
    "        for row in range(startRow + 1, endRow + 1):\n",
    "            result.append(arr[row][endCol])\n",
    "        for col in reversed(range(startCol, endCol)):\n",
    "            if startRow == endRow:\n",
    "                break\n",
    "            result.append(arr[endRow][col])\n",
    "        for row in reversed(range(startRow + 1, endRow)):\n",
    "            if startCol == endCol:\n",
    "                break\n",
    "            result.append(arr[row][startCol])\n",
    "        \n",
    "        startRow += 1\n",
    "        endRow -= 1\n",
    "        startCol += 1\n",
    "        endCol -= 1\n",
    "    \n",
    "    return result  \n",
    "\n",
    "SpiralTraversal([\n",
    "    [1, 2, 3, 4],\n",
    "    [12, 13, 14, 5],\n",
    "    [11, 16, 15, 6],\n",
    "    [10, 9, 8, 7]\n",
    "  ])                   "
   ]
  },
  {
   "cell_type": "markdown",
   "id": "52c4cbd6",
   "metadata": {},
   "source": [
    "First Duplicate in Array"
   ]
  },
  {
   "cell_type": "code",
   "execution_count": 121,
   "id": "a3f9507a",
   "metadata": {},
   "outputs": [
    {
     "name": "stdout",
     "output_type": "stream",
     "text": [
      "{1}\n",
      "{1, 2}\n",
      "{1, 2, 3}\n",
      "{1, 2, 3, 4}\n"
     ]
    },
    {
     "data": {
      "text/plain": [
       "3"
      ]
     },
     "execution_count": 121,
     "metadata": {},
     "output_type": "execute_result"
    }
   ],
   "source": [
    "def duplicate(arr):\n",
    "    seen = set()\n",
    "    for value in arr:\n",
    "        if value in seen:\n",
    "            return value\n",
    "        seen.add(value)\n",
    "        print(seen)\n",
    "    return -1\n",
    "\n",
    "duplicate([1,2,3,4,3,6])    "
   ]
  },
  {
   "cell_type": "markdown",
   "id": "4bb6958c",
   "metadata": {},
   "source": [
    "Product Of Array Elements Except it's Idx "
   ]
  },
  {
   "cell_type": "code",
   "execution_count": 18,
   "id": "0a136bd5",
   "metadata": {},
   "outputs": [
    {
     "data": {
      "text/plain": [
       "[8, 40, 10, 20]"
      ]
     },
     "execution_count": 18,
     "metadata": {},
     "output_type": "execute_result"
    }
   ],
   "source": [
    "def arrayOfProduct(arr):\n",
    "    products = [1 for _ in range(len(arr))]\n",
    "    \n",
    "    leftRunningProduct = 1\n",
    "    for i in range(len(arr)):\n",
    "        products[i] = leftRunningProduct\n",
    "        leftRunningProduct *= arr[i]\n",
    "    \n",
    "    rightRunningProduct = 1\n",
    "    for i in reversed(range(len(arr))):\n",
    "        products[i] *= rightRunningProduct  \n",
    "        rightRunningProduct *= arr[i]\n",
    "    \n",
    "    return products\n",
    "        \n",
    "arrayOfProduct([5, 1, 4, 2])        "
   ]
  },
  {
   "cell_type": "code",
   "execution_count": 51,
   "id": "f647d48c",
   "metadata": {},
   "outputs": [
    {
     "name": "stdout",
     "output_type": "stream",
     "text": [
      "[1, 2, 3, 4]\n",
      "[1, 1, 3, 4]\n",
      "[1, 1, 1, 4]\n",
      "[1, 1, 1, 1]\n",
      "\n",
      " [1, 1, 1, 1]\n"
     ]
    }
   ],
   "source": [
    "a = [1,2,3,4]\n",
    "b = 1\n",
    "c = 1\n",
    "for i in range(len(a)):\n",
    "    a[i] = b \n",
    "    b *= a[i]\n",
    "    print(a)\n",
    "for i in reversed(range(len(a))):\n",
    "    a[i] *= c\n",
    "    c *= a[i]\n",
    "print(\"\\n\", a)\n",
    "    "
   ]
  },
  {
   "cell_type": "code",
   "execution_count": null,
   "id": "42f1ccc7",
   "metadata": {},
   "outputs": [],
   "source": []
  }
 ],
 "metadata": {
  "interpreter": {
   "hash": "31f2aee4e71d21fbe5cf8b01ff0e069b9275f58929596ceb00d14d90e3e16cd6"
  },
  "kernelspec": {
   "display_name": "Python 3.8.9 64-bit",
   "language": "python",
   "name": "python3"
  },
  "language_info": {
   "codemirror_mode": {
    "name": "ipython",
    "version": 3
   },
   "file_extension": ".py",
   "mimetype": "text/x-python",
   "name": "python",
   "nbconvert_exporter": "python",
   "pygments_lexer": "ipython3",
   "version": "3.8.9"
  }
 },
 "nbformat": 4,
 "nbformat_minor": 5
}
