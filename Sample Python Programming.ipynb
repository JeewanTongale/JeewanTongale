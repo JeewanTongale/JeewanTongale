{
 "cells": [
  {
   "cell_type": "markdown",
   "id": "front-chuck",
   "metadata": {},
   "source": [
    "#### Prime Number"
   ]
  },
  {
   "cell_type": "code",
   "execution_count": 16,
   "id": "fossil-participant",
   "metadata": {},
   "outputs": [
    {
     "name": "stdout",
     "output_type": "stream",
     "text": [
      "Print prime number between 11 and 78\n",
      "11\n",
      "13\n",
      "17\n",
      "19\n",
      "23\n",
      "29\n",
      "31\n",
      "37\n",
      "41\n",
      "43\n",
      "47\n",
      "53\n",
      "59\n",
      "61\n",
      "67\n",
      "71\n",
      "73\n"
     ]
    }
   ],
   "source": [
    "start = 11\n",
    "end = 78\n",
    "print(\"Print prime number between\", start, \"and\", end)\n",
    "for i in range(start, end + 1):\n",
    "    if i > 1:\n",
    "        for j in range(2, i):\n",
    "            if(i % j) == 0:\n",
    "                break\n",
    "        else:\n",
    "            print(i)"
   ]
  },
  {
   "cell_type": "markdown",
   "id": "optical-bloom",
   "metadata": {},
   "source": [
    "### Square"
   ]
  },
  {
   "cell_type": "code",
   "execution_count": 17,
   "id": "christian-gazette",
   "metadata": {},
   "outputs": [
    {
     "name": "stdout",
     "output_type": "stream",
     "text": [
      "Square of Number 4 is : 16\n"
     ]
    }
   ],
   "source": [
    "num = int(input(\"Enter a Number: \"))\n",
    "print(\"Square of Number\", num, \"is :\", num * num)"
   ]
  },
  {
   "cell_type": "code",
   "execution_count": 18,
   "id": "three-heater",
   "metadata": {},
   "outputs": [
    {
     "name": "stdout",
     "output_type": "stream",
     "text": [
      "4\n",
      "8\n",
      "12\n",
      "16\n",
      "20\n",
      "24\n",
      "28\n",
      "32\n",
      "36\n",
      "40\n"
     ]
    }
   ],
   "source": [
    "num = int(input(\"Enter a Number: \"))\n",
    "for i in range(1, 11):\n",
    "    print(i * num)"
   ]
  },
  {
   "cell_type": "code",
   "execution_count": 19,
   "id": "front-television",
   "metadata": {},
   "outputs": [
    {
     "name": "stdout",
     "output_type": "stream",
     "text": [
      "Addition of 4 and 4 is: 8\n"
     ]
    }
   ],
   "source": [
    "a = int(input(\"Enter 1st number to add: \"))\n",
    "num = int(input(\"Enter 2st number to add: \"))\n",
    "print(\"Addition of {} and {} is:\".format(a, num), a + num)"
   ]
  },
  {
   "cell_type": "code",
   "execution_count": 20,
   "id": "parliamentary-syracuse",
   "metadata": {},
   "outputs": [
    {
     "name": "stdout",
     "output_type": "stream",
     "text": [
      "     April 2022\n",
      "Mo Tu We Th Fr Sa Su\n",
      "             1  2  3\n",
      " 4  5  6  7  8  9 10\n",
      "11 12 13 14 15 16 17\n",
      "18 19 20 21 22 23 24\n",
      "25 26 27 28 29 30\n",
      "\n"
     ]
    }
   ],
   "source": [
    "import calendar\n",
    "\n",
    "yy = 2022\n",
    "mm = 4\n",
    "print(calendar.month(yy, mm))"
   ]
  },
  {
   "cell_type": "code",
   "execution_count": 21,
   "id": "advance-figure",
   "metadata": {},
   "outputs": [
    {
     "name": "stdout",
     "output_type": "stream",
     "text": [
      "Swapping x = 3 and y = 5\n",
      "After swapping x = 5 and b = 3\n"
     ]
    }
   ],
   "source": [
    "x = 3\n",
    "y = 5\n",
    "print(\"Swapping x = {} and y = {}\".format(x, y))\n",
    "x, y = y, x\n",
    "print(\"After swapping x = {} and b = {}\".format(x, y))"
   ]
  },
  {
   "cell_type": "code",
   "execution_count": 22,
   "id": "0f9936eb",
   "metadata": {},
   "outputs": [
    {
     "name": "stdout",
     "output_type": "stream",
     "text": [
      "Factorial of  7 is : 5040\n"
     ]
    }
   ],
   "source": [
    "num = 7 \n",
    "fact = 1\n",
    "for i in range(1, num + 1):\n",
    "    fact = fact * i\n",
    "print(\"Factorial of \", num, \"is :\", fact)    "
   ]
  },
  {
   "cell_type": "code",
   "execution_count": 23,
   "id": "0330b75e",
   "metadata": {},
   "outputs": [
    {
     "name": "stdout",
     "output_type": "stream",
     "text": [
      "0b11010110\n"
     ]
    }
   ],
   "source": [
    "dec = 214\n",
    "print(bin(dec))"
   ]
  },
  {
   "cell_type": "code",
   "execution_count": 24,
   "id": "2a18efe8",
   "metadata": {},
   "outputs": [
    {
     "name": "stdout",
     "output_type": "stream",
     "text": [
      "[24, 6, 8]\n",
      "[76, 6, 8]\n",
      "[75, 11, 9]\n",
      "[24, 6, 8]\n",
      "[76, 6, 8]\n",
      "[75, 11, 9]\n",
      "True\n"
     ]
    }
   ],
   "source": [
    "x = [[12,3,4],\n",
    "     [42,2,3],\n",
    "     [52,6,3]]\n",
    "y = [[12,3,4],\n",
    "     [34,4,5],\n",
    "     [23,5,6]]\n",
    "z = [[0,0,0],\n",
    "     [0,0,0],\n",
    "     [0,0,0]]\n",
    "c = [[0,0,0],\n",
    "     [0,0,0],\n",
    "     [0,0,0]]\n",
    "\n",
    "for i in range(len(x)):\n",
    "    for j in range(len(x[0])):\n",
    "        z[i][j] = x[i][j] + y[i][j]\n",
    "for B in z:\n",
    "    print(B)\n",
    "for i in range(len(x)):\n",
    "    for j in range(len(y)):\n",
    "        c[i][j] = x[i][j] + y[i][j]\n",
    "for N in c:\n",
    "    print(N)        \n",
    "print(z == c)        \n"
   ]
  },
  {
   "cell_type": "code",
   "execution_count": 25,
   "id": "imposed-hotel",
   "metadata": {},
   "outputs": [
    {
     "name": "stdout",
     "output_type": "stream",
     "text": [
      "* \n",
      "\n",
      "* * \n",
      "\n",
      "* * * \n",
      "\n",
      "* * * * \n",
      "\n"
     ]
    }
   ],
   "source": [
    "row = int(input(\"Enter number of rows: \"))\n",
    "\n",
    "for i in range(row):\n",
    "    for j in range(i + 1):\n",
    "        print(\"*\", end = \" \")\n",
    "    print(\"\\n\")    "
   ]
  },
  {
   "cell_type": "code",
   "execution_count": 26,
   "id": "8b7e0628",
   "metadata": {},
   "outputs": [
    {
     "name": "stdout",
     "output_type": "stream",
     "text": [
      "Sum of array is: 33\n"
     ]
    }
   ],
   "source": [
    "array = [3,4,5,6,7,8]\n",
    "sum = 0\n",
    "for i in array:\n",
    "    sum = sum + i\n",
    "print(\"Sum of array is:\", sum)     "
   ]
  },
  {
   "cell_type": "code",
   "execution_count": 27,
   "id": "92b98d71",
   "metadata": {},
   "outputs": [
    {
     "data": {
      "text/plain": [
       "153.86"
      ]
     },
     "execution_count": 27,
     "metadata": {},
     "output_type": "execute_result"
    }
   ],
   "source": [
    "def areaC(num):\n",
    "    pi = 3.14\n",
    "    result = pi * (num ** 2)\n",
    "    return result\n",
    "areaC(7)"
   ]
  },
  {
   "cell_type": "code",
   "execution_count": 28,
   "id": "dca9f5ce",
   "metadata": {},
   "outputs": [
    {
     "name": "stdout",
     "output_type": "stream",
     "text": [
      "False\n"
     ]
    }
   ],
   "source": [
    "s = \"aababa\"\n",
    "# a = s[::-1]\n",
    "# print(a)\n",
    "print(s == s[::-1])"
   ]
  },
  {
   "cell_type": "code",
   "execution_count": 29,
   "id": "3926cf87",
   "metadata": {},
   "outputs": [
    {
     "name": "stdout",
     "output_type": "stream",
     "text": [
      "0\n",
      "1\n",
      "1\n",
      "2\n"
     ]
    }
   ],
   "source": [
    "num = int(input(\"Enter: \"))\n",
    "n1, n2 = 0, 1\n",
    "count = 0\n",
    "while count < num:\n",
    "    print(n1)\n",
    "    nth = n1 + n2\n",
    "    n1 = n2\n",
    "    n2 = nth\n",
    "    count += 1\n"
   ]
  },
  {
   "cell_type": "code",
   "execution_count": 30,
   "id": "e2232ebb",
   "metadata": {},
   "outputs": [
    {
     "name": "stdout",
     "output_type": "stream",
     "text": [
      "82\n"
     ]
    }
   ],
   "source": [
    "print(max(23,82))"
   ]
  },
  {
   "cell_type": "code",
   "execution_count": 31,
   "id": "e644c102",
   "metadata": {},
   "outputs": [
    {
     "name": "stdout",
     "output_type": "stream",
     "text": [
      "[4]\n",
      "[0]\n",
      "[5]\n"
     ]
    }
   ],
   "source": [
    "import random\n",
    "\n",
    "for i in range(3):\n",
    "    b = [random.randint(0, 6)]\n",
    "    print(b)"
   ]
  },
  {
   "cell_type": "code",
   "execution_count": 32,
   "id": "7f666ccc",
   "metadata": {},
   "outputs": [
    {
     "name": "stdout",
     "output_type": "stream",
     "text": [
      "1\n",
      "3\n",
      "5\n",
      "7\n",
      "9\n",
      "11\n",
      "13\n",
      "15\n",
      "17\n",
      "19\n"
     ]
    }
   ],
   "source": [
    "for i in range(0, 21):\n",
    "    if i % 2 == 0:\n",
    "        continue\n",
    "    else:\n",
    "        print(i)"
   ]
  },
  {
   "cell_type": "code",
   "execution_count": 33,
   "id": "13869ba9",
   "metadata": {},
   "outputs": [
    {
     "name": "stdout",
     "output_type": "stream",
     "text": [
      "['a', 'b', 'c', 'd']\n"
     ]
    }
   ],
   "source": [
    "sT = \"Hello my name is Jeewan\"\n",
    "a = list(\"abcd\")\n",
    "x = sT.split(\" \", 2)\n",
    "print(a)"
   ]
  },
  {
   "cell_type": "code",
   "execution_count": 34,
   "id": "5cdf6151",
   "metadata": {},
   "outputs": [
    {
     "data": {
      "text/plain": [
       "120"
      ]
     },
     "execution_count": 34,
     "metadata": {},
     "output_type": "execute_result"
    }
   ],
   "source": [
    "def factorial(num):\n",
    "    result = 1\n",
    "    for n in range(2, num + 1):\n",
    "        result *= n\n",
    "    return result\n",
    "\n",
    "factorial(5)    \n",
    "        "
   ]
  },
  {
   "cell_type": "code",
   "execution_count": 35,
   "id": "ea6cc438",
   "metadata": {},
   "outputs": [
    {
     "name": "stdout",
     "output_type": "stream",
     "text": [
      "Jeewan Is Name My Hello\n"
     ]
    }
   ],
   "source": [
    "a = \"Hello My Name Is Jeewan\"\n",
    "b = a.split()\n",
    "c = b[::-1]\n",
    "d = \" \".join(c)\n",
    "print(d)"
   ]
  },
  {
   "cell_type": "code",
   "execution_count": 36,
   "id": "0dd01c20",
   "metadata": {},
   "outputs": [
    {
     "name": "stdout",
     "output_type": "stream",
     "text": [
      "0 :  H\n",
      "1 :  e\n",
      "2 :  l\n",
      "3 :  l\n",
      "4 :  o\n"
     ]
    }
   ],
   "source": [
    "def demo(something):\n",
    "    for idx, char in enumerate(something):\n",
    "        print(idx,\": \", char)\n",
    "demo(\"Hello\")    "
   ]
  },
  {
   "cell_type": "code",
   "execution_count": 37,
   "id": "2f27152a",
   "metadata": {},
   "outputs": [
    {
     "name": "stdout",
     "output_type": "stream",
     "text": [
      "5 After 5\n"
     ]
    }
   ],
   "source": [
    "string = input(\"Enter\")\n",
    "s1 = str()\n",
    "for i in string:\n",
    "    if i.isupper():\n",
    "        i = i.lower()\n",
    "        s1 += i\n",
    "    else:    \n",
    "        i = i.upper()\n",
    "        s1 += i\n",
    "print(string + \" After \" + s1)        \n",
    "        \n",
    "        "
   ]
  },
  {
   "cell_type": "code",
   "execution_count": 38,
   "id": "7b4d7b0f",
   "metadata": {},
   "outputs": [
    {
     "name": "stdout",
     "output_type": "stream",
     "text": [
      "No Vowels !!\n"
     ]
    }
   ],
   "source": [
    "string = input(\"Enter: \")\n",
    "count = 0\n",
    "ls = string.lower()\n",
    "for i in ls:\n",
    "    if i == 'a' or i == 'i' or i == 'e' or i == 'o' or i == 'u':\n",
    "        count += 1\n",
    "if count == 0:\n",
    "    print(\"No Vowels !!\")  \n",
    "else:\n",
    "    print(\"Vowels of %s are:\" % ls, count)      "
   ]
  },
  {
   "cell_type": "code",
   "execution_count": 39,
   "id": "0b491524",
   "metadata": {},
   "outputs": [
    {
     "name": "stdout",
     "output_type": "stream",
     "text": [
      "Anagram\n"
     ]
    }
   ],
   "source": [
    "s1 = \"jee\"\n",
    "s2 = \"eje\"\n",
    "s1 = sorted(s1.lower())\n",
    "s2 = sorted(s2.lower())\n",
    "print(\"Anagram\" if s1 == s2 else \"Not\")"
   ]
  },
  {
   "cell_type": "markdown",
   "id": "a2b196a9",
   "metadata": {},
   "source": [
    "## Read Again"
   ]
  },
  {
   "cell_type": "code",
   "execution_count": 40,
   "id": "9beeabc3",
   "metadata": {},
   "outputs": [
    {
     "name": "stdout",
     "output_type": "stream",
     "text": [
      "5\n",
      "53\n",
      "48\n"
     ]
    },
    {
     "data": {
      "text/plain": [
       "'25'"
      ]
     },
     "execution_count": 40,
     "metadata": {},
     "output_type": "execute_result"
    }
   ],
   "source": [
    "def multiply(num1, num2):\n",
    "    \"\"\"\n",
    "    :type num1: str\n",
    "    :type num2: str\n",
    "    :rtype: str\n",
    "    \"\"\"\n",
    "\n",
    "    res1, res2 = 0, 0 \n",
    "    for d in num1:\n",
    "        print(d)\n",
    "        print(ord(d))\n",
    "        print(ord('0'))\n",
    "        res1 = res1 * 10 + (ord(d) - ord('0'))\n",
    "    for d in num2:\n",
    "        res2 = res2 * 10 + (ord(d) - ord('0'))\n",
    "    return str(res1 * res2)\n",
    "multiply('5', '5')"
   ]
  },
  {
   "cell_type": "code",
   "execution_count": 41,
   "id": "a9e7f6c0",
   "metadata": {},
   "outputs": [
    {
     "name": "stdout",
     "output_type": "stream",
     "text": [
      "a : 1, b : 1, c : 2, c : 2, "
     ]
    }
   ],
   "source": [
    "string = \"abcc\"\n",
    "for i in string:\n",
    "    freq = string.count(i)\n",
    "    print(i,\":\", str(freq), end=\", \")"
   ]
  },
  {
   "cell_type": "code",
   "execution_count": 42,
   "id": "efb33012",
   "metadata": {},
   "outputs": [
    {
     "name": "stdout",
     "output_type": "stream",
     "text": [
      "After.. \n",
      " \n"
     ]
    }
   ],
   "source": [
    "string = input(\"Enter 1: \")\n",
    "str1 = input(\"Sub1: \")\n",
    "str2 = input(\"Sub2: \")\n",
    "string = string.replace(str1, str2)\n",
    "print(\"After.. \\n\", string)"
   ]
  },
  {
   "cell_type": "code",
   "execution_count": 43,
   "id": "interstate-dressing",
   "metadata": {},
   "outputs": [
    {
     "name": "stdout",
     "output_type": "stream",
     "text": [
      "[[0, 1, 2, 3], [0, 1, 2, 3], [0, 1, 2, 3], [0, 1, 2, 3], [0, 1, 2, 3]]\n"
     ]
    }
   ],
   "source": [
    "str1 = \"qwe\"\n",
    "str2 = \"asdf\"\n",
    "\n",
    "edit = [[x for x in range(len(str1) + 1)] for y in range(len(str2) + 1)]\n",
    "print(edit)\n"
   ]
  },
  {
   "cell_type": "code",
   "execution_count": 44,
   "id": "df8d3979",
   "metadata": {},
   "outputs": [
    {
     "name": "stdout",
     "output_type": "stream",
     "text": [
      "True\n"
     ]
    }
   ],
   "source": [
    "listA = [21,31,23,314,134,1345,436,54,64,75,6,75,34,53]\n",
    "print(6 in listA)"
   ]
  },
  {
   "cell_type": "code",
   "execution_count": 45,
   "id": "821ba266",
   "metadata": {},
   "outputs": [
    {
     "name": "stdout",
     "output_type": "stream",
     "text": [
      "{1, 2, 4, 5, 6, 7, 8, 23}\n"
     ]
    }
   ],
   "source": [
    "a = [1,23,4,5,6,7,7,8,2,2]\n",
    "b = set(a)\n",
    "print(b)"
   ]
  },
  {
   "cell_type": "code",
   "execution_count": 46,
   "id": "earned-eclipse",
   "metadata": {},
   "outputs": [
    {
     "name": "stdout",
     "output_type": "stream",
     "text": [
      "True {'a', 'e', 'l', 'i', 'v'} {'a', 'i', 'e', 'l', 'v'}\n"
     ]
    }
   ],
   "source": [
    "str1 = \"alive\"\n",
    "str2 = \"eliva\"\n",
    "print(set(str1) == set(str2), set(str1), set(str2))"
   ]
  },
  {
   "cell_type": "code",
   "execution_count": 47,
   "id": "processed-softball",
   "metadata": {},
   "outputs": [
    {
     "data": {
      "text/plain": [
       "[(2, 6), (3, 5)]"
      ]
     },
     "execution_count": 47,
     "metadata": {},
     "output_type": "execute_result"
    }
   ],
   "source": [
    "def pair(a):\n",
    "    pair = []\n",
    "\n",
    "    for idx, x in enumerate(a):\n",
    "        for idx, y in enumerate(a[idx + 1:]):\n",
    "            if x + y == 8:\n",
    "                pair.append((x, y))\n",
    "    return pair\n",
    "pair([1,2,3,4,5,6])"
   ]
  },
  {
   "cell_type": "code",
   "execution_count": 48,
   "id": "superior-laser",
   "metadata": {},
   "outputs": [
    {
     "name": "stdout",
     "output_type": "stream",
     "text": [
      "List:  [1, 2, 3, 4, 5]\n",
      "Stack:  [1, 2, 3, 4, 5, 6]\n",
      "Stack:  [1, 2, 3, 4, 5]\n",
      "Queue:  [5, 1, 2, 3, 4, 5]\n",
      "Queue:  [5, 1, 2, 3, 4]\n"
     ]
    }
   ],
   "source": [
    "#Use List as Array, Stack and Queue\n",
    "\n",
    "A = [1,2,3]\n",
    "\n",
    "# List\n",
    "A += [4,5]\n",
    "print(\"List: \", A)\n",
    "\n",
    "# Stack\n",
    "A.append(6)\n",
    "print(\"Stack: \", A)\n",
    "A.pop()\n",
    "print(\"Stack: \", A)\n",
    "\n",
    "# Queue\n",
    "A.insert(0,5)\n",
    "print(\"Queue: \", A)\n",
    "A.pop()\n",
    "print(\"Queue: \", A)"
   ]
  },
  {
   "cell_type": "markdown",
   "id": "graduate-fitness",
   "metadata": {},
   "source": [
    "### *Important "
   ]
  },
  {
   "cell_type": "code",
   "execution_count": 49,
   "id": "overhead-veteran",
   "metadata": {},
   "outputs": [
    {
     "name": "stdout",
     "output_type": "stream",
     "text": [
      "{50, 45}\n"
     ]
    }
   ],
   "source": [
    "def missing(lst):\n",
    "    return set(range(lst[len(lst) - 1])[1:]) - set(l)\n",
    "l = list(range(1, 100))\n",
    "l.remove(45)\n",
    "l.remove(50)\n",
    "print(missing(l))"
   ]
  },
  {
   "cell_type": "code",
   "execution_count": 50,
   "id": "raised-pacific",
   "metadata": {},
   "outputs": [
    {
     "name": "stdout",
     "output_type": "stream",
     "text": [
      "[1, 2, 3, 4, 5, 6, 7, 8, 9, 10, 11, 12, 13, 14, 15, 16, 17, 18, 19, 20, 21, 22, 23, 24, 25, 26, 27, 28, 29, 30, 31, 32, 33, 34, 35, 36, 37, 38, 39, 40, 41, 42, 43, 44, 45, 46, 47, 48, 50, 51, 52, 53, 54, 55, 56, 57, 58, 59, 60, 61, 62, 63, 64, 65, 66, 67, 68, 69, 70, 71, 72, 73, 74, 75, 76, 77, 78, 79, 80, 81, 82, 83, 84, 85, 86, 87, 88, 89, 90, 91, 92, 93, 94, 95, 96, 97, 98, 99]\n",
      "\n",
      "\n",
      "range(0, 99)\n",
      "\n",
      "\n",
      "{49}\n"
     ]
    }
   ],
   "source": [
    "l = list(range(1, 100))\n",
    "l.remove(49)\n",
    "print(l)\n",
    "print(\"\\n\")\n",
    "print(range(l[len(l) - 1]))\n",
    "print(\"\\n\")\n",
    "print(set(range(l[len(l) - 1])[1:]) - set(l))"
   ]
  },
  {
   "cell_type": "markdown",
   "id": "7f4d44f9",
   "metadata": {},
   "source": [
    "## List To Compare"
   ]
  },
  {
   "cell_type": "code",
   "execution_count": 51,
   "id": "younger-cambridge",
   "metadata": {},
   "outputs": [
    {
     "name": "stdout",
     "output_type": "stream",
     "text": [
      "[4, 5, 6]\n"
     ]
    }
   ],
   "source": [
    "# def intersect(lis1, lis2):\n",
    "#     res, lis2C = [], lis2[:]\n",
    "#     for ele in lis1:\n",
    "#         if ele in lis2C:\n",
    "#             res.append(ele)\n",
    "#             lis2C.remove(ele)\n",
    "#     return res\n",
    "# intersect([1,2,3,4,5,6], [4,5,6,7,8])\n",
    "\n",
    "a = [1,2,3,4,5,6]\n",
    "b = [4,5,6,7,8]\n",
    "result = []\n",
    "list2Compare = b[:]\n",
    "for element in a:\n",
    "    if element in list2Compare:\n",
    "        result.append(element)\n",
    "        list2Compare.remove(element)\n",
    "print(result)        "
   ]
  },
  {
   "cell_type": "code",
   "execution_count": 52,
   "id": "welsh-concept",
   "metadata": {},
   "outputs": [
    {
     "data": {
      "text/plain": [
       "'olleH'"
      ]
     },
     "execution_count": 52,
     "metadata": {},
     "output_type": "execute_result"
    }
   ],
   "source": [
    "def recursion(str1):\n",
    "    if len(str1) <= 1:\n",
    "        return str1\n",
    "    return recursion(str1[1:]) + str1[0]\n",
    "recursion(\"Hello\")"
   ]
  },
  {
   "cell_type": "code",
   "execution_count": 53,
   "id": "expressed-siemens",
   "metadata": {},
   "outputs": [
    {
     "name": "stdout",
     "output_type": "stream",
     "text": [
      "1\n",
      "1\n",
      "2\n",
      "3\n",
      "5\n",
      "8\n",
      "13\n",
      "21\n",
      "34\n",
      "55\n"
     ]
    }
   ],
   "source": [
    "# Fibbonacci\n",
    "\n",
    "a, b = 0, 1\n",
    "\n",
    "n = 10\n",
    "\n",
    "for i in range(n):\n",
    "    print(b)\n",
    "    \n",
    "    a, b = b, a + b"
   ]
  },
  {
   "cell_type": "markdown",
   "id": "harmful-combat",
   "metadata": {},
   "source": [
    "### Permutations of String"
   ]
  },
  {
   "cell_type": "code",
   "execution_count": 54,
   "id": "owned-oriental",
   "metadata": {},
   "outputs": [
    {
     "data": {
      "text/plain": [
       "{'amn', 'anm', 'man', 'mna', 'nam', 'nma'}"
      ]
     },
     "execution_count": 54,
     "metadata": {},
     "output_type": "execute_result"
    }
   ],
   "source": [
    "def per(w):\n",
    "    if len(w) <= 1:\n",
    "        return set(w)\n",
    "    smaller = per(w[1:])\n",
    "    perms = set()\n",
    "    for x in smaller:\n",
    "        for pos in range(0, len(x) + 1):\n",
    "            perm = x[:pos] + w[0] + x[pos:]\n",
    "            perms.add(perm)\n",
    "    return perms\n",
    "per(\"man\")"
   ]
  },
  {
   "cell_type": "code",
   "execution_count": 55,
   "id": "motivated-runner",
   "metadata": {},
   "outputs": [
    {
     "name": "stdout",
     "output_type": "stream",
     "text": [
      "[2, 4, 6]\n",
      "[2, 4, 6]\n",
      "[2, 4, 6]\n"
     ]
    }
   ],
   "source": [
    "a = [[1,2,3],\n",
    "     [1,2,3],\n",
    "     [1,2,3]\n",
    "    ]\n",
    "b = [[1,2,3],\n",
    "     [1,2,3],\n",
    "     [1,2,3]\n",
    "    ]\n",
    "result = [[0,0,0],\n",
    "          [0,0,0],\n",
    "          [0,0,0]\n",
    "         ]\n",
    "\n",
    "for i in range(len(a)):\n",
    "    for j in range(len(a[0])):\n",
    "        result[i][j] = a[i][j] + b[i][j]\n",
    "for b in result:\n",
    "    print(b)\n",
    "        "
   ]
  },
  {
   "cell_type": "code",
   "execution_count": 56,
   "id": "5a372a2a",
   "metadata": {},
   "outputs": [
    {
     "name": "stdout",
     "output_type": "stream",
     "text": [
      "1\t2\t3\t4\t5\t6\t7\t8\t9\t10\t\n",
      "2\t4\t6\t8\t10\t12\t14\t16\t18\t20\t\n",
      "3\t6\t9\t12\t15\t18\t21\t24\t27\t30\t\n",
      "4\t8\t12\t16\t20\t24\t28\t32\t36\t40\t\n",
      "5\t10\t15\t20\t25\t30\t35\t40\t45\t50\t\n",
      "6\t12\t18\t24\t30\t36\t42\t48\t54\t60\t\n",
      "7\t14\t21\t28\t35\t42\t49\t56\t63\t70\t\n",
      "8\t16\t24\t32\t40\t48\t56\t64\t72\t80\t\n",
      "9\t18\t27\t36\t45\t54\t63\t72\t81\t90\t\n",
      "10\t20\t30\t40\t50\t60\t70\t80\t90\t100\t\n"
     ]
    }
   ],
   "source": [
    "for i in range(1, 11):\n",
    "    for j in range(1, 11):\n",
    "        print(\"{}\\t\".format(i * j), end=\"\")\n",
    "    print()"
   ]
  },
  {
   "cell_type": "code",
   "execution_count": 57,
   "id": "a12acad7",
   "metadata": {},
   "outputs": [
    {
     "name": "stdout",
     "output_type": "stream",
     "text": [
      "1\t2\t3\t4\t5\t6\t7\t8\t9\t10\t11\t12\t13\t14\t15\t16\t17\t18\t19\t20\t21\t22\t23\t\n",
      "2\t4\t6\t8\t10\t12\t14\t16\t18\t20\t22\t24\t26\t28\t30\t32\t34\t36\t38\t40\t42\t44\t46\t\n",
      "3\t6\t9\t12\t15\t18\t21\t24\t27\t30\t33\t36\t39\t42\t45\t48\t51\t54\t57\t60\t63\t66\t69\t\n",
      "4\t8\t12\t16\t20\t24\t28\t32\t36\t40\t44\t48\t52\t56\t60\t64\t68\t72\t76\t80\t84\t88\t92\t\n",
      "5\t10\t15\t20\t25\t30\t35\t40\t45\t50\t55\t60\t65\t70\t75\t80\t85\t90\t95\t100\t105\t110\t115\t\n",
      "6\t12\t18\t24\t30\t36\t42\t48\t54\t60\t66\t72\t78\t84\t90\t96\t102\t108\t114\t120\t126\t132\t138\t\n",
      "7\t14\t21\t28\t35\t42\t49\t56\t63\t70\t77\t84\t91\t98\t105\t112\t119\t126\t133\t140\t147\t154\t161\t\n",
      "8\t16\t24\t32\t40\t48\t56\t64\t72\t80\t88\t96\t104\t112\t120\t128\t136\t144\t152\t160\t168\t176\t184\t\n",
      "9\t18\t27\t36\t45\t54\t63\t72\t81\t90\t99\t108\t117\t126\t135\t144\t153\t162\t171\t180\t189\t198\t207\t\n",
      "10\t20\t30\t40\t50\t60\t70\t80\t90\t100\t110\t120\t130\t140\t150\t160\t170\t180\t190\t200\t210\t220\t230\t\n",
      "11\t22\t33\t44\t55\t66\t77\t88\t99\t110\t121\t132\t143\t154\t165\t176\t187\t198\t209\t220\t231\t242\t253\t\n",
      "12\t24\t36\t48\t60\t72\t84\t96\t108\t120\t132\t144\t156\t168\t180\t192\t204\t216\t228\t240\t252\t264\t276\t\n",
      "13\t26\t39\t52\t65\t78\t91\t104\t117\t130\t143\t156\t169\t182\t195\t208\t221\t234\t247\t260\t273\t286\t299\t\n",
      "14\t28\t42\t56\t70\t84\t98\t112\t126\t140\t154\t168\t182\t196\t210\t224\t238\t252\t266\t280\t294\t308\t322\t\n",
      "15\t30\t45\t60\t75\t90\t105\t120\t135\t150\t165\t180\t195\t210\t225\t240\t255\t270\t285\t300\t315\t330\t345\t\n",
      "16\t32\t48\t64\t80\t96\t112\t128\t144\t160\t176\t192\t208\t224\t240\t256\t272\t288\t304\t320\t336\t352\t368\t\n",
      "17\t34\t51\t68\t85\t102\t119\t136\t153\t170\t187\t204\t221\t238\t255\t272\t289\t306\t323\t340\t357\t374\t391\t\n",
      "18\t36\t54\t72\t90\t108\t126\t144\t162\t180\t198\t216\t234\t252\t270\t288\t306\t324\t342\t360\t378\t396\t414\t\n",
      "19\t38\t57\t76\t95\t114\t133\t152\t171\t190\t209\t228\t247\t266\t285\t304\t323\t342\t361\t380\t399\t418\t437\t\n",
      "20\t40\t60\t80\t100\t120\t140\t160\t180\t200\t220\t240\t260\t280\t300\t320\t340\t360\t380\t400\t420\t440\t460\t\n",
      "21\t42\t63\t84\t105\t126\t147\t168\t189\t210\t231\t252\t273\t294\t315\t336\t357\t378\t399\t420\t441\t462\t483\t\n",
      "22\t44\t66\t88\t110\t132\t154\t176\t198\t220\t242\t264\t286\t308\t330\t352\t374\t396\t418\t440\t462\t484\t506\t\n",
      "23\t46\t69\t92\t115\t138\t161\t184\t207\t230\t253\t276\t299\t322\t345\t368\t391\t414\t437\t460\t483\t506\t529\t\n"
     ]
    }
   ],
   "source": [
    "m = int(input(\"m : \"))\n",
    "n = int(input(\"n : \"))\n",
    "for i in range(1, m + 1):\n",
    "    for j in range(1, n + 1):\n",
    "        print(\"%d\\t\"%(i*j), end=\"\")\n",
    "    print()"
   ]
  },
  {
   "cell_type": "markdown",
   "id": "9fd42a5e",
   "metadata": {},
   "source": [
    "Change array element"
   ]
  },
  {
   "cell_type": "code",
   "execution_count": 58,
   "id": "84d0274c",
   "metadata": {},
   "outputs": [
    {
     "name": "stdout",
     "output_type": "stream",
     "text": [
      "['Changed', 'k', 'l', 'Changed', 'e', 'Changed']\n"
     ]
    }
   ],
   "source": [
    "a = [\"a\",\"k\",\"l\",\"a\",\"e\",\"a\"]\n",
    "count = 0\n",
    "for c, i in enumerate(a) :\n",
    "    if i == \"a\":\n",
    "        a[c] = \"Changed\"\n",
    "print(a)        "
   ]
  },
  {
   "cell_type": "code",
   "execution_count": null,
   "id": "aeed6e90",
   "metadata": {},
   "outputs": [],
   "source": []
  },
  {
   "cell_type": "markdown",
   "id": "04648d0e",
   "metadata": {},
   "source": [
    "_____\n",
    "\n",
    "# AlgoExpert Solutions Start From Here\n",
    "____"
   ]
  },
  {
   "cell_type": "markdown",
   "id": "278fca41",
   "metadata": {},
   "source": [
    "Sorted Square Array"
   ]
  },
  {
   "cell_type": "code",
   "execution_count": 59,
   "id": "7a262108",
   "metadata": {},
   "outputs": [
    {
     "name": "stdout",
     "output_type": "stream",
     "text": [
      "Not Sorted:  [16, 9, 4, 1, 4, 9, 16, 25, 36, 49, 64, 81, 100]\n",
      "\t     [1, 4, 4, 9, 9, 16, 16, 25, 36, 49, 64, 81, 100]\n"
     ]
    }
   ],
   "source": [
    "array = [-4,-3,-2,-1,2,3,4,5,6,7,8,9,10]\n",
    "a = [0 for i in array]\n",
    "for idx in range(len(array)):\n",
    "    value = array[idx]\n",
    "    a[idx] = value * value\n",
    "print(\"Not Sorted: \",a)    \n",
    "a.sort()\n",
    "print(\"\\t    \",a)    "
   ]
  },
  {
   "cell_type": "code",
   "execution_count": 60,
   "id": "0f9b186c",
   "metadata": {},
   "outputs": [
    {
     "name": "stdout",
     "output_type": "stream",
     "text": [
      "[1, 4, 4, 9, 9, 16, 16, 25, 36, 49, 64, 81, 100]\n"
     ]
    }
   ],
   "source": [
    "array = [-4,-3,-2,-1,2,3,4,5,6,7,8,9,10]\n",
    "a = [0 for i in array]\n",
    "sIdx = 0\n",
    "bIdx = len(array) - 1\n",
    "\n",
    "for idx in reversed(range(len(array))):\n",
    "    s = array[sIdx]\n",
    "    b = array[bIdx]\n",
    "    if abs(s) > abs(b):\n",
    "        a[idx] = s * s\n",
    "        sIdx += 1\n",
    "    else:\n",
    "        a[idx] = b * b\n",
    "        bIdx -= 1\n",
    "print(a)            \n",
    "    "
   ]
  },
  {
   "cell_type": "code",
   "execution_count": 63,
   "id": "b4715597",
   "metadata": {},
   "outputs": [
    {
     "name": "stdout",
     "output_type": "stream",
     "text": [
      "[2, 4]\n",
      "[-1, 7]\n",
      "[-2, 8]\n",
      "[-3, 9]\n",
      "[-4, 10]\n"
     ]
    }
   ],
   "source": [
    "array = [-4,-3,-2,-1,2,3,4,5,6,7,8,9,10]\n",
    "n = {}\n",
    "for i in array:\n",
    "    pm = 6 - i\n",
    "    if pm in n:\n",
    "        print([pm, i])\n",
    "    else:\n",
    "        n[i] = True    "
   ]
  },
  {
   "cell_type": "code",
   "execution_count": 64,
   "id": "4d45b81f",
   "metadata": {},
   "outputs": [
    {
     "name": "stdout",
     "output_type": "stream",
     "text": [
      "0 4\n",
      "1 4\n",
      "1 4\n",
      "1 4\n",
      "2 4\n",
      "3 4\n",
      "3 4\n",
      "4 4\n",
      "True\n"
     ]
    }
   ],
   "source": [
    "a = [5, 1, 22, 25, 6, -1, 8, 10]\n",
    "b = [1, 6, -1, 10]\n",
    "\n",
    "aIdx = 0\n",
    "bIdx = 0\n",
    "\n",
    "while aIdx < len(a) and bIdx < len(b):\n",
    "    if a[aIdx] == b[bIdx]:\n",
    "        bIdx += 1\n",
    "    aIdx += 1\n",
    "    print(bIdx, len(b))\n",
    "print(bIdx == len(b))        "
   ]
  },
  {
   "cell_type": "code",
   "execution_count": 65,
   "id": "ec43b3fd",
   "metadata": {},
   "outputs": [
    {
     "name": "stdout",
     "output_type": "stream",
     "text": [
      "4 [1, 6, -1, 10]\n",
      "True\n"
     ]
    }
   ],
   "source": [
    "a = [5, 1, 22, 25, 6, -1, 8, 10]\n",
    "b = [1, 6, -1, 10]\n",
    "\n",
    "seqIdx = 0\n",
    "\n",
    "for value in a:\n",
    "    if seqIdx == len(b):\n",
    "        break\n",
    "    if b[seqIdx] == value:\n",
    "        seqIdx += 1\n",
    "print(seqIdx, b)                \n",
    "print(seqIdx == len(b))        "
   ]
  },
  {
   "cell_type": "code",
   "execution_count": 66,
   "id": "a7869dd5",
   "metadata": {},
   "outputs": [
    {
     "data": {
      "text/plain": [
       "'Python'"
      ]
     },
     "execution_count": 66,
     "metadata": {},
     "output_type": "execute_result"
    }
   ],
   "source": [
    "competitions = [[\"HTML\", \"C#\"], [\"C#\", \"Python\"], [\"Python\", \"HTML\"]]\n",
    "results = [0, 0, 1]\n",
    "\n",
    "def tournmentWinner(competitions, results):\n",
    "    currentBestTeam = \"\"\n",
    "    scores = {currentBestTeam: 0}\n",
    "\n",
    "    for idx, competition in enumerate(competitions):\n",
    "        result = results[idx]\n",
    "        homeTeam, awayTeam = competition\n",
    "    \n",
    "        winningTeam = homeTeam if result == 1 else awayTeam\n",
    "    \n",
    "        updateScores(winningTeam, 3, scores)\n",
    "\n",
    "        if scores[winningTeam] > scores[currentBestTeam]:\n",
    "            currentBestTeam = winningTeam\n",
    "    \n",
    "    return currentBestTeam        \n",
    "    \n",
    "    \n",
    "def updateScores(team, points, scores):\n",
    "    if team not in scores:\n",
    "        scores[team] = 0\n",
    "    scores[team] += points\n",
    "\n",
    "\n",
    "\n",
    "tournmentWinner([[\"HTML\", \"C#\"], [\"C#\", \"Python\"], [\"Python\", \"HTML\"]], [1, 0, 1])\n",
    "\n"
   ]
  },
  {
   "cell_type": "code",
   "execution_count": 67,
   "id": "3ec68b77",
   "metadata": {},
   "outputs": [
    {
     "data": {
      "text/plain": [
       "20"
      ]
     },
     "execution_count": 67,
     "metadata": {},
     "output_type": "execute_result"
    }
   ],
   "source": [
    "def nonConstructableChange(coins):\n",
    "    coins.sort()\n",
    "    change = 0\n",
    "    \n",
    "    for coin in coins:\n",
    "        if coin > change + 1:\n",
    "            return change + 1\n",
    "        change += coin\n",
    "    return change + 1        \n",
    "\n",
    "nonConstructableChange([5, 7, 1, 1, 2, 3, 22])"
   ]
  },
  {
   "cell_type": "markdown",
   "id": "3dfc5c3f",
   "metadata": {},
   "source": [
    "Three Number Sum"
   ]
  },
  {
   "cell_type": "code",
   "execution_count": 69,
   "id": "8ce90246",
   "metadata": {},
   "outputs": [
    {
     "name": "stdout",
     "output_type": "stream",
     "text": [
      "[[-8, 5, 6], [-6, 3, 6]]\n"
     ]
    }
   ],
   "source": [
    "a = [12, 3, 1, 2, -6, 5, -8, 6]\n",
    "targetSum = 3\n",
    "t = []\n",
    "a.sort()\n",
    "for i in range(len(a) - 2):\n",
    "    left = i + 1\n",
    "    right = len(a) - 1\n",
    "    while left < right:\n",
    "        currentSum = a[i] + a[left] + a[right]\n",
    "        if currentSum == targetSum:\n",
    "            t.append([a[i], a[left], a[right]])\n",
    "            left += 1\n",
    "            right -= 1\n",
    "        elif currentSum < targetSum:\n",
    "            left += 1\n",
    "        elif currentSum > targetSum:\n",
    "            right -= 1\n",
    "print(t)                "
   ]
  },
  {
   "cell_type": "code",
   "execution_count": 70,
   "id": "9189b911",
   "metadata": {},
   "outputs": [
    {
     "data": {
      "text/plain": [
       "[28, 26]"
      ]
     },
     "execution_count": 70,
     "metadata": {},
     "output_type": "execute_result"
    }
   ],
   "source": [
    "def SmallestDeference(a, b):\n",
    "    a.sort()\n",
    "    b.sort()\n",
    "\n",
    "    idxOne = 0\n",
    "    idxTwo = 0\n",
    "\n",
    "    smallest = float(\"inf\")\n",
    "    current = float(\"inf\")\n",
    "\n",
    "    c = []\n",
    "\n",
    "    while idxOne < len(a) and idxTwo < len(b):\n",
    "        numA = a[idxOne]\n",
    "        numB = b[idxTwo]\n",
    "    \n",
    "        if numA < numB:\n",
    "            current = numB - numA\n",
    "            idxOne += 1\n",
    "        elif numB < numA:\n",
    "            current = numA - numB\n",
    "            idxTwo += 1\n",
    "        else:\n",
    "            return [numA, numB]       \n",
    "    \n",
    "        if smallest > current:\n",
    "            smallest = current\n",
    "            c = [numA, numB]\n",
    "    return c            \n",
    "\n",
    "SmallestDeference([-1, 5, 10, 20, 28, 3], [26, 134, 135, 15, 17])\n",
    "    \n",
    "    \n",
    "    \n",
    "    \n",
    "    "
   ]
  },
  {
   "cell_type": "markdown",
   "id": "9a9a4da8",
   "metadata": {},
   "source": [
    "Smallest Difference"
   ]
  },
  {
   "cell_type": "code",
   "execution_count": null,
   "id": "d2ca7099",
   "metadata": {},
   "outputs": [],
   "source": [
    "def s(arr1, arr2):\n",
    "    arr1.sort()\n",
    "    arr2.sort()\n",
    "    idx1 = 0\n",
    "    idx2 = 0\n",
    "    current = float(\"inf\")\n",
    "    small = float(\"inf\")\n",
    "    array = []\n",
    "    while idx1 < len(arr1) and idx2 < len(arr2):\n",
    "        num1 = arr1[idx1]\n",
    "        num2 = arr2[idx2]\n",
    "        if num1 < num2:\n",
    "            current = num2 - num1\n",
    "            idx1 += 1\n",
    "        elif num2 < num1:\n",
    "            current = num1 - num2\n",
    "            idx2 += 1\n",
    "        else:\n",
    "            return [num1, num2]\n",
    "        \n",
    "        if small > current:\n",
    "            small = current\n",
    "            array = [num1, num2]\n",
    "    return array                \n",
    "\n",
    "s([-1, 5, 10, 20, 28, 3], [26, 134, 135, 15, 17])\n",
    "        "
   ]
  },
  {
   "cell_type": "code",
   "execution_count": 1,
   "id": "c8968993",
   "metadata": {},
   "outputs": [
    {
     "name": "stdout",
     "output_type": "stream",
     "text": [
      "Give Access\n"
     ]
    }
   ],
   "source": [
    "wifi = True\n",
    "login = True\n",
    "admin = True\n",
    "    \n",
    "if wifi:\n",
    "    if login:\n",
    "        if admin:\n",
    "            print(\"Give Access\")\n",
    "        else:\n",
    "            print(\"NO Admin\")\n",
    "    else:\n",
    "        print(\"NO Login\")\n",
    "else:\n",
    "    print(\"NO WiFi\")\n",
    "                            \n"
   ]
  },
  {
   "cell_type": "code",
   "execution_count": 2,
   "id": "a4dff025",
   "metadata": {},
   "outputs": [
    {
     "name": "stdout",
     "output_type": "stream",
     "text": [
      "Give Access\n"
     ]
    }
   ],
   "source": [
    "wifi = True\n",
    "login = True\n",
    "admin = True\n",
    "    \n",
    "if not wifi:\n",
    "    print(\"NO WiFi\")\n",
    "if not login:\n",
    "    print(\"NO Login\")\n",
    "if not admin:\n",
    "    print(\"NO Admin\")\n",
    "else:\n",
    "    print(\"Give Access\")            \n",
    "        "
   ]
  },
  {
   "cell_type": "code",
   "execution_count": 3,
   "id": "32ea9b25",
   "metadata": {},
   "outputs": [
    {
     "name": "stdout",
     "output_type": "stream",
     "text": [
      "[1, 2][1, 3][1, 4][2, 1][2, 3][2, 4][3, 1][3, 2][3, 4][4, 1][4, 2][4, 3]\n",
      " 0.0005002021789550781\n"
     ]
    }
   ],
   "source": [
    "import time\n",
    "\n",
    "start = time.time()\n",
    "\n",
    "a = [1,2,3,4]\n",
    "\n",
    "for i in a:\n",
    "    for j in a:\n",
    "        if i == j:\n",
    "            continue\n",
    "        print([i, j], end=\"\")\n",
    "end = time.time()\n",
    "print(\"\\n\", end - start)"
   ]
  },
  {
   "cell_type": "markdown",
   "id": "047c9ec8",
   "metadata": {},
   "source": [
    "Move To End"
   ]
  },
  {
   "cell_type": "code",
   "execution_count": 2,
   "id": "ea90ef5a",
   "metadata": {},
   "outputs": [
    {
     "data": {
      "text/plain": [
       "[1, 7, 6, 5, 3, 4, 2, 2, 2]"
      ]
     },
     "execution_count": 2,
     "metadata": {},
     "output_type": "execute_result"
    }
   ],
   "source": [
    "def moveToEnd(array, toMove):\n",
    "    start = 0\n",
    "    end = len(array) - 1\n",
    "\n",
    "    while start < end:\n",
    "        while start < end and array[end] == toMove:\n",
    "            end -= 1\n",
    "        if array[start] == toMove:\n",
    "            array[start], array[end] = array[end], array[start]\n",
    "        start += 1\n",
    "    return array\n",
    "\n",
    "moveToEnd([1,2,2,2,3,4,5,6,7], 2)\n"
   ]
  },
  {
   "cell_type": "markdown",
   "id": "8b7b5af9",
   "metadata": {},
   "source": [
    "Sum of elements of Array"
   ]
  },
  {
   "cell_type": "code",
   "execution_count": 5,
   "id": "78612215",
   "metadata": {},
   "outputs": [
    {
     "name": "stdout",
     "output_type": "stream",
     "text": [
      "21\n"
     ]
    }
   ],
   "source": [
    "arrayA = [1,2,3,4,5,6]\n",
    "sumA = 0\n",
    "for i in arrayA:\n",
    "    sumA += i\n",
    "print(sumA)    "
   ]
  },
  {
   "cell_type": "markdown",
   "id": "5800e019",
   "metadata": {},
   "source": [
    "Print Index of Number if Found in Array else - 1"
   ]
  },
  {
   "cell_type": "code",
   "execution_count": 7,
   "id": "1ea5b5c1",
   "metadata": {},
   "outputs": [
    {
     "data": {
      "text/plain": [
       "2"
      ]
     },
     "execution_count": 7,
     "metadata": {},
     "output_type": "execute_result"
    }
   ],
   "source": [
    "def linearS(arr, num):\n",
    "    for i, j in enumerate(arr):\n",
    "        if j == num:\n",
    "            return i\n",
    "    return -1    \n",
    "linearS([1,2,3,4,5,6], 3)        "
   ]
  },
  {
   "cell_type": "markdown",
   "id": "fd51081d",
   "metadata": {},
   "source": [
    "If Number Divisible by 3 & 5 print FissBuzz or Divisible by 3 print Fiss or\n",
    " Divisible by 5 print Buzz else Print Number"
   ]
  },
  {
   "cell_type": "code",
   "execution_count": null,
   "id": "f1282fda",
   "metadata": {},
   "outputs": [
    {
     "name": "stdout",
     "output_type": "stream",
     "text": [
      "Fiss..\n"
     ]
    }
   ],
   "source": [
    "def div(num):\n",
    "    if num % 3 == 0 and num % 5 == 0:\n",
    "        print(\"FissBuzz..\")\n",
    "    elif num % 3 == 0:\n",
    "        print(\"Fiss..\")\n",
    "    elif num % 5 == 0:\n",
    "        print(\"Buzz..\")        \n",
    "    else:\n",
    "        print(num) \n",
    "div(3)           "
   ]
  },
  {
   "cell_type": "markdown",
   "id": "04f81360",
   "metadata": {},
   "source": [
    "Non - Increasing Non - Decreasing Array"
   ]
  },
  {
   "cell_type": "code",
   "execution_count": 3,
   "id": "7ee8d79f",
   "metadata": {},
   "outputs": [
    {
     "data": {
      "text/plain": [
       "True"
      ]
     },
     "execution_count": 3,
     "metadata": {},
     "output_type": "execute_result"
    }
   ],
   "source": [
    "def monotonic(arr):\n",
    "    isNonDecreasing = True\n",
    "    isNonIncreasing = True\n",
    "    \n",
    "    for i in range(1, len(arr)):\n",
    "        if arr[i] < arr[i - 1]:\n",
    "            isNonDecreasing = False\n",
    "        if arr[i] > arr[i - 1]:\n",
    "            isNonIncreasing = False\n",
    "    return isNonDecreasing or isNonIncreasing           \n",
    "monotonic([1,2,3,4,5])        "
   ]
  },
  {
   "cell_type": "markdown",
   "id": "1ead0f6b",
   "metadata": {},
   "source": [
    "Print Matrix in Spiral Order"
   ]
  },
  {
   "cell_type": "code",
   "execution_count": null,
   "id": "6c3ad8c4",
   "metadata": {},
   "outputs": [
    {
     "data": {
      "text/plain": [
       "[1, 2, 3, 4, 5, 6, 7, 8, 9, 10, 11, 12, 13, 14, 15, 16]"
      ]
     },
     "execution_count": 118,
     "metadata": {},
     "output_type": "execute_result"
    }
   ],
   "source": [
    "def SpiralTraversal(arr):\n",
    "    \n",
    "    result = []\n",
    "    startRow, endRow = 0, len(arr) - 1\n",
    "    startCol, endCol = 0, len(arr[0]) - 1\n",
    "    \n",
    "    while startRow <= endRow and startCol <= endCol:\n",
    "        for col in range(startCol, endCol + 1):\n",
    "            result.append(arr[startRow][col])\n",
    "        for row in range(startRow + 1, endRow + 1):\n",
    "            result.append(arr[row][endCol])\n",
    "        for col in reversed(range(startCol, endCol)):\n",
    "            if startRow == endRow:\n",
    "                break\n",
    "            result.append(arr[endRow][col])\n",
    "        for row in reversed(range(startRow + 1, endRow)):\n",
    "            if startCol == endCol:\n",
    "                break\n",
    "            result.append(arr[row][startCol])\n",
    "        \n",
    "        startRow += 1\n",
    "        endRow -= 1\n",
    "        startCol += 1\n",
    "        endCol -= 1\n",
    "    \n",
    "    return result  \n",
    "\n",
    "SpiralTraversal([\n",
    "    [1, 2, 3, 4],\n",
    "    [12, 13, 14, 5],\n",
    "    [11, 16, 15, 6],\n",
    "    [10, 9, 8, 7]\n",
    "  ])                   "
   ]
  },
  {
   "cell_type": "markdown",
   "id": "52c4cbd6",
   "metadata": {},
   "source": [
    "First Duplicate in Array"
   ]
  },
  {
   "cell_type": "code",
   "execution_count": null,
   "id": "a3f9507a",
   "metadata": {},
   "outputs": [
    {
     "name": "stdout",
     "output_type": "stream",
     "text": [
      "{1}\n",
      "{1, 2}\n",
      "{1, 2, 3}\n",
      "{1, 2, 3, 4}\n"
     ]
    },
    {
     "data": {
      "text/plain": [
       "3"
      ]
     },
     "execution_count": 121,
     "metadata": {},
     "output_type": "execute_result"
    }
   ],
   "source": [
    "def duplicate(arr):\n",
    "    seen = set()\n",
    "    for value in arr:\n",
    "        if value in seen:\n",
    "            return value\n",
    "        seen.add(value)\n",
    "        print(seen)\n",
    "    return -1\n",
    "\n",
    "duplicate([1,2,3,4,3,6])    "
   ]
  },
  {
   "cell_type": "markdown",
   "id": "4bb6958c",
   "metadata": {},
   "source": [
    "Product Of Array Elements Except it's Idx "
   ]
  },
  {
   "cell_type": "code",
   "execution_count": null,
   "id": "0a136bd5",
   "metadata": {},
   "outputs": [
    {
     "name": "stdout",
     "output_type": "stream",
     "text": [
      "8 : 1 x 4 x 2\n",
      "40 : 5 x 4 x 2\n",
      "10 : 5 x 1 x 2\n",
      "20 : 5 x 1 x 4\n"
     ]
    },
    {
     "data": {
      "text/plain": [
       "[8, 40, 10, 20]"
      ]
     },
     "execution_count": 18,
     "metadata": {},
     "output_type": "execute_result"
    }
   ],
   "source": [
    "def arrayOfProduct(arr):\n",
    "    products = [1 for _ in range(len(arr))]\n",
    "    \n",
    "    leftRunningProduct = 1\n",
    "    for i in range(len(arr)):\n",
    "        products[i] = leftRunningProduct\n",
    "        leftRunningProduct *= arr[i]\n",
    "    \n",
    "    rightRunningProduct = 1\n",
    "    for i in reversed(range(len(arr))):\n",
    "        products[i] *= rightRunningProduct  \n",
    "        rightRunningProduct *= arr[i]\n",
    "        \n",
    "    print(products[0], \": 1 x 4 x 2\")\n",
    "    print(products[1], \": 5 x 4 x 2\")\n",
    "    print(products[2], \": 5 x 1 x 2\")\n",
    "    print(products[3], \": 5 x 1 x 4\")\n",
    "    \n",
    "    \n",
    "    \n",
    "    return products\n",
    "        \n",
    "arrayOfProduct([5, 1, 4, 2])        "
   ]
  },
  {
   "cell_type": "code",
   "execution_count": 9,
   "id": "f647d48c",
   "metadata": {},
   "outputs": [
    {
     "name": "stdout",
     "output_type": "stream",
     "text": [
      "[1, 2, 3, 4]\n",
      "[1, 1, 3, 4]\n",
      "[1, 1, 1, 4]\n",
      "[1, 1, 1, 1]\n",
      "\n",
      " [1, 1, 1, 1]\n"
     ]
    }
   ],
   "source": [
    "a = [1,2,3,4]\n",
    "b = 1\n",
    "c = 1\n",
    "for i in range(len(a)):\n",
    "    a[i] = b \n",
    "    b *= a[i]\n",
    "    print(a)\n",
    "for i in reversed(range(len(a))):\n",
    "    a[i] *= c\n",
    "    c *= a[i]\n",
    "print(\"\\n\", a)\n",
    "    "
   ]
  },
  {
   "cell_type": "markdown",
   "id": "aa834d96",
   "metadata": {},
   "source": [
    "---"
   ]
  },
  {
   "cell_type": "markdown",
   "id": "c2e93189",
   "metadata": {},
   "source": [
    "## Trialogy Innovation Test \n",
    "Find Number of Prime Numbers in boxes, a = number of boxes, b = number to add i.e ( i'th position factorial + b)"
   ]
  },
  {
   "cell_type": "code",
   "execution_count": null,
   "id": "42f1ccc7",
   "metadata": {},
   "outputs": [
    {
     "name": "stdout",
     "output_type": "stream",
     "text": [
      "[13, 14, 18, 36, 132, 732, 5052, 40332, 362892, 3628812, 39916812]\n"
     ]
    },
    {
     "data": {
      "text/plain": [
       "1"
      ]
     },
     "execution_count": 3,
     "metadata": {},
     "output_type": "execute_result"
    }
   ],
   "source": [
    "# i! + B\n",
    "def solve(a, b):\n",
    "    pair = []\n",
    "    count = 0\n",
    "    fact = 1\n",
    "    for i in range(1, a + 1):\n",
    "        fact *= i\n",
    "        pair.append(fact + b)\n",
    "    print(pair)\n",
    "    \n",
    "    for j in pair:\n",
    "        for e in range(2, j):\n",
    "            if (j % e) == 0:\n",
    "                break\n",
    "        else:\n",
    "            count += 1\n",
    "    return count             \n",
    "    \n",
    "solve(11, 12)    "
   ]
  },
  {
   "cell_type": "code",
   "execution_count": null,
   "id": "555b09a7",
   "metadata": {},
   "outputs": [
    {
     "data": {
      "text/plain": [
       "1"
      ]
     },
     "execution_count": 147,
     "metadata": {},
     "output_type": "execute_result"
    }
   ],
   "source": [
    "# i! + B\n",
    "def solve(a, b):\n",
    "    count = 0\n",
    "    fact = 1\n",
    "    for i in range(1, a + 1):\n",
    "        fact *= i\n",
    "        check = fact + b\n",
    "        for j in range(2, check):\n",
    "            if (check % j) == 0:\n",
    "                break\n",
    "        else:\n",
    "            count += 1    \n",
    "            \n",
    "    return count             \n",
    "    \n",
    "solve(11, 12)    "
   ]
  },
  {
   "cell_type": "markdown",
   "id": "92726d62",
   "metadata": {},
   "source": [
    "---"
   ]
  },
  {
   "cell_type": "markdown",
   "id": "b091920b",
   "metadata": {},
   "source": [
    "### Longest Peak 🟡 "
   ]
  },
  {
   "cell_type": "code",
   "execution_count": null,
   "id": "62607a4d",
   "metadata": {},
   "outputs": [
    {
     "data": {
      "text/plain": [
       "4"
      ]
     },
     "execution_count": 8,
     "metadata": {},
     "output_type": "execute_result"
    }
   ],
   "source": [
    "def longestPeak(arr):\n",
    "    \n",
    "    longestPeakLength = 0\n",
    "    i = 1\n",
    "    \n",
    "    while i < len(arr) - 1:\n",
    "        isPeak = arr[i - 1] < arr[i] and arr[i] > arr[i + 1]\n",
    "        \n",
    "        if not isPeak:\n",
    "            i += 1\n",
    "            continue\n",
    "        \n",
    "        leftIdx = i - 2\n",
    "        while leftIdx >= 0 and arr[leftIdx] < arr[leftIdx + 1]:\n",
    "            leftIdx -= 1\n",
    "        \n",
    "        rightIdx = i + 2\n",
    "        while rightIdx < len(arr) and arr[rightIdx] < arr[rightIdx - 1]:\n",
    "            rightIdx += 1\n",
    "        \n",
    "        currentPeakLength = rightIdx - leftIdx - 1\n",
    "        longestPeakLength = max(longestPeakLength, currentPeakLength)\n",
    "        i = rightIdx\n",
    "    \n",
    "    return longestPeakLength\n",
    "\n",
    "longestPeak([1, 2, 3, -3, 6, 7, 8, 9])            \n",
    "        "
   ]
  },
  {
   "cell_type": "markdown",
   "id": "5102807c",
   "metadata": {},
   "source": [
    "Let's Try Water Jug Problem"
   ]
  },
  {
   "cell_type": "code",
   "execution_count": null,
   "id": "c5d58e92",
   "metadata": {},
   "outputs": [
    {
     "name": "stdout",
     "output_type": "stream",
     "text": [
      "\n",
      "Water Jug Solution to achive 2 Gallon of Water in 4 Gallon of Water Jug\n",
      "\n",
      "\t\tJug A    |   Jug B    |   Rule Applied\n",
      "\t\t--------------------------------------\n",
      "\t\t    0    |     0      |      None\n",
      "\t\t--------------------------------------\n",
      "\t\t    0    |     3      |      Fill Jug B\n",
      "\t\t--------------------------------------\n",
      "\t\t    3    |     0      |      Fill Jug A from Jug B\n",
      "\t\t--------------------------------------\n",
      "\t\t    3    |     3      |      Fill Jug B\n",
      "\t\t--------------------------------------\n",
      "\t\t    4    |     2      |      Fill Jug A from Jug B\n",
      "\t\t--------------------------------------\n",
      "\t\t    0    |     2      |      Empty Jug A\n",
      "\t\t--------------------------------------\n",
      "\t\t    2    |     0      |      Fill Jug A from Jug B\n"
     ]
    }
   ],
   "source": [
    "def waterJug(JugA, JugB):\n",
    "    \n",
    "    result = []\n",
    "    \n",
    "    rule_1 = result.clear()         # Empty all Jugs\n",
    "    rule_2 = result.append(JugA)    # Fill Jug A\n",
    "    rule_3 = result.append(JugB)    # Fill Jug B\n",
    "    rule_4 = result.pop(0)          # Empty Jug A\n",
    "    rule_5 = result.pop(1)          # Empty Jug B\n",
    "    \n",
    "    print(\"\\nWater Jug Solution to achive 2 Gallon of Water in 4 Gallon of Water Jug\\n\")\n",
    "    print(\"\\t\\tJug A    |   Jug B    |   Rule Applied\")\n",
    "    print(\"\\t\\t--------------------------------------\")\n",
    "    print(\"\\t\\t    {}    |     {}      |      {}\".format(0, 0, rule_1))\n",
    "    print(\"\\t\\t--------------------------------------\")\n",
    "    print(\"\\t\\t    {}    |     {}      |      {}\".format(0, JugB, \"Fill Jug B\"))\n",
    "    print(\"\\t\\t--------------------------------------\")\n",
    "    print(\"\\t\\t    {}    |     {}      |      {}\".format(3, 0, \"Fill Jug A from Jug B\"))\n",
    "    print(\"\\t\\t--------------------------------------\")\n",
    "    print(\"\\t\\t    {}    |     {}      |      {}\".format(3, JugB, \"Fill Jug B\"))\n",
    "    print(\"\\t\\t--------------------------------------\")\n",
    "    print(\"\\t\\t    {}    |     {}      |      {}\".format(JugA, 2, \"Fill Jug A from Jug B\"))\n",
    "    print(\"\\t\\t--------------------------------------\")\n",
    "    print(\"\\t\\t    {}    |     {}      |      {}\".format(0, 2, \"Empty Jug A\"))\n",
    "    print(\"\\t\\t--------------------------------------\")\n",
    "    print(\"\\t\\t    {}    |     {}      |      {}\".format(2, 0, \"Fill Jug A from Jug B\"))\n",
    "    \n",
    "\n",
    "    \n",
    "waterJug(4,3)    "
   ]
  },
  {
   "cell_type": "markdown",
   "id": "db27d1a9",
   "metadata": {},
   "source": [
    "### Merge Overlapping Intervals"
   ]
  },
  {
   "cell_type": "code",
   "execution_count": null,
   "id": "f2db2cf0",
   "metadata": {},
   "outputs": [
    {
     "data": {
      "text/plain": [
       "[[1, 2], [3, 8], [9, 10]]"
      ]
     },
     "execution_count": 44,
     "metadata": {},
     "output_type": "execute_result"
    }
   ],
   "source": [
    "def overlappingIntervals(intervals):\n",
    "    \n",
    "    sortedIntervals = sorted(intervals, key=lambda x:x[0])\n",
    "    \n",
    "    mergedIntervals = []\n",
    "    currentInterval = sortedIntervals[0]\n",
    "    mergedIntervals.append(currentInterval)\n",
    "    \n",
    "    for nextInterval in sortedIntervals:\n",
    "        _, currentIntervalEnd = currentInterval\n",
    "        nextIntervalStart, nextIntervalEnd = nextInterval\n",
    "        \n",
    "        if currentIntervalEnd >= nextIntervalStart:\n",
    "            currentInterval[1] = max(currentIntervalEnd, nextIntervalEnd)\n",
    "        \n",
    "        else:\n",
    "            currentInterval = nextInterval\n",
    "            mergedIntervals.append(currentInterval)\n",
    "    \n",
    "    return mergedIntervals\n",
    "\n",
    "overlappingIntervals([\n",
    "    [1, 2],\n",
    "    [3, 5],\n",
    "    [4, 7],\n",
    "    [6, 8],\n",
    "    [9, 10]\n",
    "  ])            \n",
    "        \n",
    "        "
   ]
  },
  {
   "cell_type": "markdown",
   "id": "f31d92cc",
   "metadata": {},
   "source": [
    "## Need to understand"
   ]
  },
  {
   "cell_type": "code",
   "execution_count": null,
   "id": "4f5a1d4a",
   "metadata": {},
   "outputs": [
    {
     "name": "stdout",
     "output_type": "stream",
     "text": [
      "3\n"
     ]
    }
   ],
   "source": [
    "from collections import Counter\n",
    "input1 = input()\n",
    "c = Counter(input1)\n",
    "ans = 0\n",
    "res = ''\n",
    "for x in c:\n",
    "    if c[x] > ans:\n",
    "        ans = c[x]\n",
    "        res = x\n",
    "print(res)"
   ]
  },
  {
   "cell_type": "markdown",
   "id": "3e09f58f",
   "metadata": {},
   "source": [
    "## Move target number to end of array"
   ]
  },
  {
   "cell_type": "code",
   "execution_count": 43,
   "id": "02dccc9d",
   "metadata": {},
   "outputs": [
    {
     "name": "stdout",
     "output_type": "stream",
     "text": [
      "[2, 2, 2, 2, 1, 1]\n"
     ]
    }
   ],
   "source": [
    "a = [2,2,1,1,2,2]\n",
    "\n",
    "start = 0\n",
    "end = len(a) - 1\n",
    "toMove = 1\n",
    "\n",
    "while start < end:\n",
    "    while start < end and a[end] == toMove:\n",
    "        end -= 1\n",
    "    if a[start] == toMove:\n",
    "        a[start], a[end] = a[end], a[start]\n",
    "    start += 1\n",
    "print(a)           "
   ]
  },
  {
   "cell_type": "markdown",
   "id": "4af42e74",
   "metadata": {},
   "source": [
    "## Maximum Frequency\n",
    "### Array of N integers, Select any int x, add to each element, return max frequency of y\n",
    "\n",
    "### Input :\n",
    "    N = 4, y = 2\n",
    "    A[] = {3,1,4,5}\n",
    "### Output :\n",
    "    1\n",
    "### Explanation :\n",
    "    Choose x = 1, now array becomes\n",
    "    A = {4,2,5,6} \n"
   ]
  },
  {
   "cell_type": "code",
   "execution_count": 1,
   "id": "edee80cd",
   "metadata": {},
   "outputs": [
    {
     "name": "stdout",
     "output_type": "stream",
     "text": [
      "3\n"
     ]
    }
   ],
   "source": [
    "a = [3, 1, 1, 1, 4, 5]\n",
    "l = []\n",
    "for i in a:\n",
    "    b = a.count(i)\n",
    "    l.append(b)\n",
    "print(max(l))    "
   ]
  },
  {
   "cell_type": "code",
   "execution_count": 3,
   "id": "0a1f664e",
   "metadata": {},
   "outputs": [
    {
     "name": "stdout",
     "output_type": "stream",
     "text": [
      "3\n",
      "Counter({2: 3, 1: 2, 3: 1, 4: 1, 5: 1})\n"
     ]
    }
   ],
   "source": [
    "a = [3, 1, 4, 5, 2, 2, 2, 1]\n",
    "\n",
    "import collections\n",
    "\n",
    "counter = collections.Counter(a)\n",
    "print(max(counter.values())) \n",
    "print(counter)   \n",
    "\n"
   ]
  },
  {
   "cell_type": "markdown",
   "id": "1fdab8ea",
   "metadata": {},
   "source": [
    "## Minimum Swaps\n",
    "#### Given 2 binary matrices A[][], B[][] of size N * N. \n",
    "#### Select p, q, r, sand swap elements at index (p, q) and (r, s) in A[][]. \n",
    "#### i.e swap(A[p][q], A[r][s]). Count Max no. of operations require to convert A to B. \n",
    "#### If not return -1\n",
    "### Input :\n",
    "    N = 2\n",
    "    A[][] = {{1, 0},\n",
    "             {0, 1 }},\n",
    "    B[][] = {{0, 1},\n",
    "             {1, 0 }},    \n",
    "### Output : \n",
    "    2                  \n",
    "\n"
   ]
  },
  {
   "cell_type": "code",
   "execution_count": 16,
   "id": "d888d7ea",
   "metadata": {},
   "outputs": [
    {
     "name": "stdout",
     "output_type": "stream",
     "text": [
      "2\n"
     ]
    }
   ],
   "source": [
    "A = [[1, 0],\n",
    "     [0, 1]]\n",
    "B = [[0, 1],\n",
    "     [1, 0]]\n",
    "c = 0\n",
    "for i in range(len(A)):\n",
    "    for j in range(len(A[0])):\n",
    "        if A[i][j] != B[i][j]:\n",
    "            c += 1\n",
    "if c % 2 == 0:\n",
    "    print(c // 2)\n",
    "else:\n",
    "    print(-1)              "
   ]
  },
  {
   "cell_type": "markdown",
   "id": "a1dbf709",
   "metadata": {},
   "source": [
    "## K-Periodic Circular String\n",
    "#### Circular string remains same when rotated by k units\n",
    "#### Circular String S, Find permutations of S exists\n",
    "### Input : \n",
    "    S = \"abba\"\n",
    "    K = 2\n",
    "### Output :\n",
    "    abab\n",
    "### Explanation :\n",
    "    \"abab\" rotated by 2 units remains same        \n"
   ]
  },
  {
   "cell_type": "markdown",
   "id": "68f4eb28",
   "metadata": {},
   "source": [
    "-----------------"
   ]
  },
  {
   "cell_type": "code",
   "execution_count": 36,
   "id": "ec2608db",
   "metadata": {},
   "outputs": [
    {
     "name": "stdout",
     "output_type": "stream",
     "text": [
      "['abc', 'acb', 'bac', 'bca', 'cab', 'cba']\n"
     ]
    }
   ],
   "source": [
    "from itertools import permutations\n",
    "a = \"abc\"\n",
    "per = [''.join(p) for p in permutations(a)]\n",
    "print(str(per))"
   ]
  },
  {
   "cell_type": "code",
   "execution_count": 39,
   "id": "1fa423af",
   "metadata": {},
   "outputs": [
    {
     "name": "stdout",
     "output_type": "stream",
     "text": [
      "['abc', 'acb', 'cab', 'cba', 'abc', 'acb']\n"
     ]
    }
   ],
   "source": [
    "a = \"abc\"\n",
    "result = []\n",
    "def per(data, i, length):\n",
    "    if i == length:\n",
    "        result.append(''.join(data))\n",
    "    else:\n",
    "        for j in range(i, length):\n",
    "            data[i], data[j] = data[j], data[i]\n",
    "            per(data, i + 1, length)\n",
    "per(list(a), 0, len(a))    \n",
    "print(result)"
   ]
  },
  {
   "cell_type": "code",
   "execution_count": 45,
   "id": "b944ae8e",
   "metadata": {},
   "outputs": [
    {
     "name": "stdout",
     "output_type": "stream",
     "text": [
      "[1, 8]\n",
      "[2, 7]\n",
      "[2, 7]\n"
     ]
    }
   ],
   "source": [
    "a = [2, 7, 11, 2, 4, 21, 6, 4, 1, 6, 7, 8, 15]\n",
    "t = 9\n",
    "a.sort()\n",
    "s = 0\n",
    "e = len(a) - 1\n",
    "while s < e:\n",
    "    if a[s] + a[e] == t:\n",
    "        print([a[s], a[e]])\n",
    "    if a[s] + a[e] < t:\n",
    "        s += 1\n",
    "    else:\n",
    "        a[s] + a[e] > t\n",
    "        e -= 1\n",
    "        "
   ]
  },
  {
   "cell_type": "markdown",
   "id": "45f6b1ee",
   "metadata": {},
   "source": [
    "### A program to check if a binary tree is BST or not\n"
   ]
  },
  {
   "cell_type": "code",
   "execution_count": 7,
   "id": "86293a91",
   "metadata": {},
   "outputs": [
    {
     "name": "stdout",
     "output_type": "stream",
     "text": [
      "Is BST\n"
     ]
    }
   ],
   "source": [
    "intMax = float(\"inf\")\n",
    "intMin = float(\"-inf\")\n",
    "\n",
    "class Node:\n",
    "  def __init__(self, data):\n",
    "    self.data = data\n",
    "    self.left = None\n",
    "    self.right = None\n",
    "        \n",
    "  def isBST(node):\n",
    "    return isBSTUtil(node, intMin, intMax)\n",
    "    \n",
    "  def isBSTUtil(node, mini, maxi):   \n",
    "    if node is None:\n",
    "      return True\n",
    "    if node.data < mini or node.data > maxi:\n",
    "      return False\n",
    "    return (isBSTUtil(node.left, mini, node.data - 1) and isBSTUtil(node.right, node.data + 1, maxi))          \n",
    "          \n",
    "root = Node(4)\n",
    "root.left = Node(2)\n",
    "root.right = Node(5)\n",
    "root.left.left = Node(1)\n",
    "root.left.right = Node(3)\n",
    "\n",
    "if (isBST(root)):\n",
    "  print (\"Is BST\")\n",
    "else:\n",
    "  print (\"Not a BST\")             "
   ]
  },
  {
   "cell_type": "code",
   "execution_count": 21,
   "id": "6238d3df",
   "metadata": {},
   "outputs": [
    {
     "name": "stdout",
     "output_type": "stream",
     "text": [
      "1) Jeewan : 140000\n",
      "2) Vaibhav : 100000\n",
      "3) Kartik : 80000\n",
      "4) Shubham : 65000\n"
     ]
    }
   ],
   "source": [
    "employees = {\"Jeewan\" : 140000,\n",
    "             \"Vaibhav\" : 100000,\n",
    "             \"Kartik\" : 80000,\n",
    "             \"Shubham\" : 65000,\n",
    "             \"Aalhad\" : 40000,\n",
    "             \"Nupur\" : 25000,\n",
    "             \"Samiksha\" : 35000}\n",
    "c = 1\n",
    "for k, v in employees.items():\n",
    "    if v > 40000:    \n",
    "        print(\"{}) {} : {}\".format(c, k, v))\n",
    "        c += 1"
   ]
  },
  {
   "cell_type": "code",
   "execution_count": 9,
   "id": "9f96052a",
   "metadata": {},
   "outputs": [
    {
     "name": "stdout",
     "output_type": "stream",
     "text": [
      "A\n",
      "speed : 70\n",
      "color : 2\n",
      "B\n",
      "speed : 60\n",
      "color : 3\n"
     ]
    }
   ],
   "source": [
    "cars = {'A':\n",
    "        {'speed':70,\n",
    "         'color':2 },\n",
    "        'B':\n",
    "        {'speed':60,\n",
    "         'color':3}}\n",
    "for x in cars:\n",
    "    print (x)\n",
    "    for y in cars[x]:\n",
    "        print (y,':',cars[x][y])"
   ]
  },
  {
   "cell_type": "code",
   "execution_count": 22,
   "id": "9518e907",
   "metadata": {},
   "outputs": [
    {
     "name": "stdout",
     "output_type": "stream",
     "text": [
      "{1, 2, 3, 4, 5, 6}\n",
      "[1, 2, 3, 4, 5, 6]\n",
      "1\n"
     ]
    }
   ],
   "source": [
    "a = [1,2,3,1,2,4,5,3,2,6]\n",
    "print(set(a))\n",
    "\n",
    "b = []\n",
    "for i in a:\n",
    "    if i not in b:\n",
    "        b.append(i)\n",
    "print(b)\n",
    "\n",
    "b = []\n",
    "for i in a:\n",
    "    if i in b:\n",
    "       print(i)\n",
    "       break\n",
    "    else:\n",
    "        b.append(i)             "
   ]
  },
  {
   "cell_type": "code",
   "execution_count": null,
   "id": "b898a83c",
   "metadata": {},
   "outputs": [],
   "source": []
  }
 ],
 "metadata": {
  "interpreter": {
   "hash": "31f2aee4e71d21fbe5cf8b01ff0e069b9275f58929596ceb00d14d90e3e16cd6"
  },
  "kernelspec": {
   "display_name": "Python 3.8.9 64-bit",
   "language": "python",
   "name": "python3"
  },
  "language_info": {
   "codemirror_mode": {
    "name": "ipython",
    "version": 3
   },
   "file_extension": ".py",
   "mimetype": "text/x-python",
   "name": "python",
   "nbconvert_exporter": "python",
   "pygments_lexer": "ipython3",
   "version": "3.8.9"
  }
 },
 "nbformat": 4,
 "nbformat_minor": 5
}
