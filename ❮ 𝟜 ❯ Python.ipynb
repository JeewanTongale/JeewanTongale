{
 "cells": [
  {
   "cell_type": "markdown",
   "metadata": {},
   "source": [
    "# 4 - Python Programming"
   ]
  },
  {
   "cell_type": "markdown",
   "metadata": {},
   "source": [
    "### 🏆 AlgoExpert - Greedy Algorithm 1"
   ]
  },
  {
   "cell_type": "code",
   "execution_count": 27,
   "metadata": {},
   "outputs": [
    {
     "name": "stdout",
     "output_type": "stream",
     "text": [
      "[[]]\n",
      "[[], [1]]\n",
      "[[], [1], [1, 2]]\n",
      "[[], [1], [1, 2], [1, 2, 2]]\n",
      "[[], [1], [1, 2], [1, 2, 2], [1, 2, 2, 3]]\n"
     ]
    },
    {
     "data": {
      "text/plain": [
       "17"
      ]
     },
     "execution_count": 27,
     "metadata": {},
     "output_type": "execute_result"
    }
   ],
   "source": [
    "def greedy1(queries1):\n",
    "    \n",
    "    queries1.sort()\n",
    "    result1 = 0\n",
    "    \n",
    "    helper1 = []\n",
    "    \n",
    "    for i1 in range(len(queries1)):\n",
    "        result1 += sum(queries1[:i1])\n",
    "        \n",
    "        helper1.append(queries1[:i1])\n",
    "        print(helper1)\n",
    "    \n",
    "    return result1\n",
    "\n",
    "greedy1(queries1 = [3, 2, 1, 2, 6])"
   ]
  },
  {
   "cell_type": "markdown",
   "metadata": {},
   "source": [
    "### 🏆 AlgoExpert - Greedy Algorithm 2"
   ]
  },
  {
   "cell_type": "code",
   "execution_count": 31,
   "metadata": {},
   "outputs": [
    {
     "data": {
      "text/plain": [
       "True"
      ]
     },
     "execution_count": 31,
     "metadata": {},
     "output_type": "execute_result"
    }
   ],
   "source": [
    "def greedy2(red2, blue2):\n",
    "    \n",
    "    red2.sort(reverse = True)\n",
    "    blue2.sort(reverse = True)\n",
    "    \n",
    "    firstRow = \"Red\" if red2[0] < blue2[0] else \"Blue\"\n",
    "    \n",
    "    for i2 in range(len(red2)):\n",
    "        redHeight = red2[i2]\n",
    "        blueHeight = blue2[i2]\n",
    "        \n",
    "        if firstRow == \"Red\":\n",
    "            if redHeight >= blueHeight:\n",
    "                return False\n",
    "        else:\n",
    "            if blueHeight >= redHeight:\n",
    "                return False\n",
    "    \n",
    "    return True            \n",
    "        \n",
    "\n",
    "red2 = [5, 8, 1, 3, 4]\n",
    "blue2 = [6, 9, 2, 4, 5]\n",
    "greedy2(red2, blue2)"
   ]
  },
  {
   "cell_type": "markdown",
   "metadata": {},
   "source": [
    "### 🏆 AlgoExpert - Greedy Algorithm 3"
   ]
  },
  {
   "cell_type": "code",
   "execution_count": 52,
   "metadata": {},
   "outputs": [
    {
     "name": "stdout",
     "output_type": "stream",
     "text": [
      "[2, 3, 5, 5, 9]\n",
      "[1, 2, 3, 6, 7]\n",
      "\n",
      "7 = 7 + 7\n",
      "13 = 13 + 6\n",
      "18 = 18 + 5\n",
      "23 = 23 + 5\n",
      "32 = 32 + 9\n"
     ]
    },
    {
     "data": {
      "text/plain": [
       "32"
      ]
     },
     "execution_count": 52,
     "metadata": {},
     "output_type": "execute_result"
    }
   ],
   "source": [
    "def greedy3(red3, blue3, fastest3):\n",
    "    \n",
    "    red3.sort()\n",
    "    blue3.sort()\n",
    "    print(red3)\n",
    "    print(blue3)\n",
    "    print()\n",
    "    \n",
    "    if not fastest3:\n",
    "        reverse3(red3)\n",
    "    \n",
    "    totalSpeed3 = 0\n",
    "    for i3 in range(len(red3)):\n",
    "        rider1 = red3[i3]\n",
    "        rider2 = blue3[len(blue3) - 1 - i3] \n",
    "        totalSpeed3 += max(rider1, rider2)\n",
    "        print(totalSpeed3, \"=\", totalSpeed3, \"+\", max(rider1, rider2))\n",
    "        \n",
    "    return totalSpeed3\n",
    "            \n",
    "\n",
    "def reverse3(array3):\n",
    "    start3 = 0\n",
    "    end3 = len(array3) - 1\n",
    "    while start3 < end3:\n",
    "        array3[start3], array3[end3] = array3[end3], array3[start3]\n",
    "        start3 += 1\n",
    "        end3 -= 1         \n",
    "\n",
    "red3 = [5, 5, 3, 9, 2]\n",
    "blue3 = [3, 6, 7, 2, 1]\n",
    "fastest3 = True\n",
    "\n",
    "greedy3(red3, blue3, fastest3)"
   ]
  },
  {
   "cell_type": "markdown",
   "metadata": {},
   "source": [
    "### 🏆 AlgoExpert - Greedy Algorithm 4"
   ]
  },
  {
   "cell_type": "code",
   "execution_count": 9,
   "metadata": {},
   "outputs": [
    {
     "data": {
      "text/plain": [
       "[[0, 5], [1, 4], [2, 3]]"
      ]
     },
     "execution_count": 9,
     "metadata": {},
     "output_type": "execute_result"
    }
   ],
   "source": [
    "def greedy4(k4, tasks4):\n",
    "    \n",
    "    tasks4.sort()\n",
    "    start4 = 0\n",
    "    end4 = len(tasks4) - 1\n",
    "    result4 = []\n",
    "    \n",
    "    while start4 < end4:\n",
    "        result4.append([start4, end4])\n",
    "        start4 += 1\n",
    "        end4 -= 1\n",
    "        \n",
    "    return result4    \n",
    "\n",
    "k4 = 3\n",
    "tasks4 = [1, 3, 5, 3, 1, 4]\n",
    "greedy4(k4, tasks4)"
   ]
  },
  {
   "cell_type": "code",
   "execution_count": 11,
   "metadata": {},
   "outputs": [
    {
     "name": "stdout",
     "output_type": "stream",
     "text": [
      "[1, 2, 2, 2, 4, 6]\n",
      "[0, 1, 2, 3, 4, 5]\n",
      "[[1, 6], [2, 4], [2, 2]]\n",
      "[[0, 5], [1, 4], [2, 3]]\n",
      "[[7], [6], [4]]\n",
      "[7]\n"
     ]
    }
   ],
   "source": [
    "a = [6, 2, 2, 4, 2, 1]\n",
    "a.sort()\n",
    "print(a)\n",
    "\n",
    "r = []\n",
    "h = []\n",
    "g = []\n",
    "s = 0\n",
    "e = len(a) - 1\n",
    "\n",
    "while s < e:\n",
    "    r.append([a[s], a[e]])\n",
    "    g.append([s, e])\n",
    "    h.append([a[s] + a[e]])\n",
    "    s += 1\n",
    "    e -= 1\n",
    "print([i for i in range(len(a))])    \n",
    "print(r)\n",
    "print(g)\n",
    "print(h)  \n",
    "print(max(h))  \n"
   ]
  },
  {
   "cell_type": "code",
   "execution_count": 13,
   "metadata": {},
   "outputs": [
    {
     "name": "stdout",
     "output_type": "stream",
     "text": [
      "Array :  [1, 3, 5, 3, 1, 4]\n",
      "Index :  [0, 1, 2, 3, 4, 5]\n",
      "Dict  :  {1: [0, 4], 3: [1, 3], 5: [2], 4: [5]}\n"
     ]
    }
   ],
   "source": [
    "a = [1, 3, 5, 3, 1, 4]\n",
    "t = {}\n",
    "\n",
    "for i, j in enumerate(a):\n",
    "    if j in t:\n",
    "        t[j].append(i)\n",
    "    else:\n",
    "        t[j] = [i]    \n",
    "print(\"Array : \",a)\n",
    "print(\"Index : \",[i for i in range(len(a))])\n",
    "print(\"Dict  : \",t)    \n",
    "        "
   ]
  },
  {
   "cell_type": "markdown",
   "metadata": {},
   "source": [
    "### 🏆 AlgoExpert - Greedy Algorithm 5 ⭐️⭐️⭐️"
   ]
  },
  {
   "cell_type": "code",
   "execution_count": 52,
   "metadata": {},
   "outputs": [
    {
     "name": "stdout",
     "output_type": "stream",
     "text": [
      "Distance : [5, 25, 15, 10, 15]\n",
      "Index    :  0   1   2   3   4 \n",
      "Fuel     : [1, 2, 1, 0, 3]\n",
      "mRemaining55       [5, 0, -5, -15]\n",
      "mRemaining_Start55 [-5, -15]\n",
      "idxStart55         [3, 4]\n"
     ]
    },
    {
     "data": {
      "text/plain": [
       "4"
      ]
     },
     "execution_count": 52,
     "metadata": {},
     "output_type": "execute_result"
    }
   ],
   "source": [
    "def greedy5(distance5, fuel5, mpg5):\n",
    "    \n",
    "    print(\"Distance :\",distance5)\n",
    "    print(\"Index    :  0   1   2   3   4 \")\n",
    "    print(\"Fuel     :\",fuel5)\n",
    "    mRemaining55 = []\n",
    "    mRemaining_Start55 = []\n",
    "    idxStart55 = []\n",
    "    \n",
    "    nCities5 = len(distance5)\n",
    "    mRemaining5 = 0\n",
    "    \n",
    "    idxStart5 = 0\n",
    "    mRemaining_Start5 = 0\n",
    "    \n",
    "    for cityIdx5 in range(1, nCities5):\n",
    "        distance_Previous5 = distance5[cityIdx5 - 1]\n",
    "        fuel_Previous5 = fuel5[cityIdx5 - 1]\n",
    "        mRemaining5 += fuel_Previous5 * mpg5 - distance_Previous5\n",
    "        mRemaining55.append(mRemaining5)\n",
    "        \n",
    "        if mRemaining5 < mRemaining_Start5:\n",
    "            mRemaining_Start5 = mRemaining5\n",
    "            mRemaining_Start55.append(mRemaining5)\n",
    "            idxStart5 = cityIdx5\n",
    "            idxStart55.append(idxStart5)\n",
    "            \n",
    "    print(\"mRemaining55      \",mRemaining55)\n",
    "    print(\"mRemaining_Start55\",mRemaining_Start55)        \n",
    "    print(\"idxStart55        \", idxStart55)            \n",
    "    \n",
    "    return idxStart5        \n",
    "    \n",
    "distance5 = [5, 25, 15, 10, 15]\n",
    "fuel5 = [1, 2, 1, 0, 3]\n",
    "mpg5 = 10\n",
    "greedy5(distance5, fuel5, mpg5)"
   ]
  },
  {
   "cell_type": "markdown",
   "metadata": {},
   "source": [
    "______"
   ]
  },
  {
   "cell_type": "markdown",
   "metadata": {},
   "source": [
    "### 1. Get Magic Number\n",
    "    Magic Number is concatenation of number 1, 14, 144 in any order any number of times\n",
    "\n",
    "    Input : 14144, 141414, 1411\n",
    "    Outupu : Yes\n",
    "\n",
    "\n",
    "    Input : 514, 414\n",
    "    Output : No"
   ]
  },
  {
   "cell_type": "code",
   "execution_count": 118,
   "metadata": {},
   "outputs": [
    {
     "data": {
      "text/plain": [
       "'Yes'"
      ]
     },
     "execution_count": 118,
     "metadata": {},
     "output_type": "execute_result"
    }
   ],
   "source": [
    "def magicNumber(num1):\n",
    "    \n",
    "    while num1:\n",
    "        if num1 % 1000 == 144:\n",
    "            num1 //= 1000\n",
    "        elif num1 % 100 == 14:\n",
    "            num1 //= 100\n",
    "        elif num1 % 10 == 1:\n",
    "            num1 //= 10\n",
    "        else:\n",
    "            return \"No\"\n",
    "    return \"Yes\"                \n",
    "\n",
    "magicNumber(14144)"
   ]
  },
  {
   "cell_type": "code",
   "execution_count": 2,
   "metadata": {},
   "outputs": [
    {
     "name": "stdout",
     "output_type": "stream",
     "text": [
      "[1, 4, 4, 3]\n"
     ]
    },
    {
     "data": {
      "text/plain": [
       "'No'"
      ]
     },
     "execution_count": 2,
     "metadata": {},
     "output_type": "execute_result"
    }
   ],
   "source": [
    "def magicNumber2(a2):\n",
    "    b2 = list(map(int, list(str(a2))))\n",
    "    print(b2)\n",
    "    while len(b2) != 0:\n",
    "        if a2 % 1000 == 144:\n",
    "            b2 = b2[ : len(b2) - 3]\n",
    "            # print(b2)\n",
    "            # a2 = int(\"\".join(str(i) for i in b2)) if len(b2) != 0 else 0\n",
    "            # print(a2)\n",
    "        elif a2 % 100 == 14:\n",
    "            b2 = b2[ : len(b2) - 2]\n",
    "            # print(b2)\n",
    "            # a2 = int(\"\".join(str(i) for i in b2)) if len(b2) != 0 else 0\n",
    "            # print(a2)\n",
    "        elif a2 % 10 == 1:\n",
    "            b2 = b2[ : len(b2) - 1]\n",
    "            # print(b2)\n",
    "            # a2 = int(\"\".join(str(i) for i in b2)) if len(b2) != 0 else 0\n",
    "            # print(a2)\n",
    "        else:\n",
    "            return \"No\"\n",
    "    return \"Yes\"\n",
    "\n",
    "magicNumber2(1443)               "
   ]
  },
  {
   "cell_type": "code",
   "execution_count": 1,
   "metadata": {},
   "outputs": [
    {
     "name": "stdout",
     "output_type": "stream",
     "text": [
      "111414\n",
      "11\n",
      " <\n",
      "0 Length Good\n"
     ]
    }
   ],
   "source": [
    "a = \"111414144144\"\n",
    "b = a.split(\"144\")\n",
    "c = \"\".join(b)\n",
    "print(c)\n",
    "i = c.split(\"14\")\n",
    "j = \"\".join(i)\n",
    "print(j)\n",
    "x = j.split(\"1\")\n",
    "y = \"\".join(x)\n",
    "print(y, \"<\")\n",
    "if len(y) == 0:\n",
    "    print(len(y), \"Length Good\")\n",
    "else:\n",
    "    print(len(y), \"Length Bad\")    \n"
   ]
  },
  {
   "cell_type": "markdown",
   "metadata": {},
   "source": [
    "------"
   ]
  },
  {
   "cell_type": "markdown",
   "metadata": {},
   "source": [
    "### 🏆 AlgoExpert - Dynamic Programming 1"
   ]
  },
  {
   "cell_type": "code",
   "execution_count": 12,
   "metadata": {},
   "outputs": [
    {
     "name": "stdout",
     "output_type": "stream",
     "text": [
      "[75, 105, 120, 75, 90, 135]\n",
      "[75]\n",
      "[75, 105]\n",
      "[75, 105, 195]\n",
      "[75, 105, 195, 180]\n"
     ]
    },
    {
     "data": {
      "text/plain": [
       "315"
      ]
     },
     "execution_count": 12,
     "metadata": {},
     "output_type": "execute_result"
    }
   ],
   "source": [
    "def dp1(arr1):\n",
    "    \n",
    "    print(arr1)\n",
    "    if not len(arr1):\n",
    "        return 0\n",
    "    elif len(arr1) == 1:\n",
    "        return arr1[0]\n",
    "    \n",
    "    second1 = arr1[0]\n",
    "    first1 = max(arr1[0], arr1[1])\n",
    "    \n",
    "    for i1 in range(2, len(arr1)):\n",
    "        current1 = max(arr1[1], second1 + arr1[i1])\n",
    "        second1 = first1\n",
    "        first1 = current1\n",
    "        \n",
    "    return first1    \n",
    "    \n",
    "    \n",
    "arr1 = [75, 105, 120, 75, 90, 135]\n",
    "dp1(arr1)"
   ]
  },
  {
   "cell_type": "markdown",
   "metadata": {},
   "source": [
    "### 🏆 AlgoExpert - Dynamic Programming 2 ⭐️⭐️⭐️"
   ]
  },
  {
   "cell_type": "code",
   "execution_count": 17,
   "metadata": {},
   "outputs": [
    {
     "name": "stdout",
     "output_type": "stream",
     "text": [
      "[0, 0, 0, 0, 0, 0, 0]\n",
      "[1, 1, 1, 1, 1, 2, 2]\n"
     ]
    },
    {
     "data": {
      "text/plain": [
       "2"
      ]
     },
     "execution_count": 17,
     "metadata": {},
     "output_type": "execute_result"
    }
   ],
   "source": [
    "def dp2(n2, denoms2):\n",
    "    \n",
    "    ways = [0 for amount in range(n2 + 1)]\n",
    "    print(ways)\n",
    "    \n",
    "    ways[0] = 1\n",
    "    \n",
    "    for denom in denoms2:\n",
    "        for amount in range(1, n2 + 1):\n",
    "            if denom <= amount:\n",
    "                ways[amount] += ways[amount - denom]\n",
    "    print(ways)\n",
    "    return ways[n2]            \n",
    "\n",
    "n2 = 6\n",
    "denoms2 = [1, 5]\n",
    "dp2(n2, denoms2)"
   ]
  },
  {
   "cell_type": "markdown",
   "metadata": {},
   "source": [
    "### 🏆 AlgoExpert - Dynamic Programming 3 ⭐️⭐️⭐️"
   ]
  },
  {
   "cell_type": "code",
   "execution_count": 25,
   "metadata": {},
   "outputs": [
    {
     "name": "stdout",
     "output_type": "stream",
     "text": [
      "[inf, inf, inf, inf, inf, inf, inf, inf]\n",
      "[0, 1, 2, 3, 4, 1, 2, 3]\n"
     ]
    },
    {
     "data": {
      "text/plain": [
       "3"
      ]
     },
     "execution_count": 25,
     "metadata": {},
     "output_type": "execute_result"
    }
   ],
   "source": [
    "def dp3(n3, denoms3):\n",
    "    \n",
    "    numCoins3 = [float(\"inf\") for amount in range(n3 + 1)]\n",
    "    print(numCoins3)\n",
    "    \n",
    "    numCoins3[0] = 0\n",
    "    \n",
    "    for denom in denoms3:\n",
    "        for amount in range(len(numCoins3)):\n",
    "            if denom <= amount:\n",
    "                numCoins3[amount] = min(numCoins3[amount], 1 + numCoins3[amount - denom])\n",
    "    print(numCoins3)\n",
    "    return numCoins3[n3] if numCoins3[n3] != float(\"inf\") else -1            \n",
    "                \n",
    "\n",
    "n3 = 7\n",
    "denoms3 = [1, 5, 10]\n",
    "dp3(n3, denoms3)"
   ]
  },
  {
   "cell_type": "markdown",
   "metadata": {},
   "source": [
    "### 🏆 AlgoExpert - Dynamic Programming 4"
   ]
  },
  {
   "cell_type": "code",
   "execution_count": 29,
   "metadata": {},
   "outputs": [
    {
     "data": {
      "text/plain": [
       "0"
      ]
     },
     "execution_count": 29,
     "metadata": {},
     "output_type": "execute_result"
    }
   ],
   "source": [
    "def dp4(str4, str44):\n",
    "    \n",
    "    \n",
    "    \n",
    "    return 0\n",
    "\n",
    "dp4(\"abc\", \"yabd\")"
   ]
  },
  {
   "cell_type": "code",
   "execution_count": 41,
   "metadata": {},
   "outputs": [
    {
     "name": "stdout",
     "output_type": "stream",
     "text": [
      "[[0, 1, 2, 3], [0, 1, 2, 3], [0, 1, 2, 3], [0, 1, 2, 3]]\n",
      "1\n"
     ]
    }
   ],
   "source": [
    "a = [[x for x in range(4)] for y in range(4)]\n",
    "\n",
    "print(a)\n",
    "print(a[3][1])"
   ]
  },
  {
   "cell_type": "markdown",
   "metadata": {},
   "source": [
    "### 🏆 AlgoExpert - Dynamic Programming 5"
   ]
  },
  {
   "cell_type": "code",
   "execution_count": 66,
   "metadata": {},
   "outputs": [
    {
     "name": "stdout",
     "output_type": "stream",
     "text": [
      "[[0, 0, 0, 0, 0], [0, 0, 0, 0, 0], [0, 0, 0, 0, 0], [0, 0, 0, 0, 0]]\n",
      "[[0, 0, 0, 0, 0], [0, 1, 1, 1, 1], [0, 1, 2, 3, 4], [0, 1, 3, 6, 10]]\n"
     ]
    },
    {
     "data": {
      "text/plain": [
       "10"
      ]
     },
     "execution_count": 66,
     "metadata": {},
     "output_type": "execute_result"
    }
   ],
   "source": [
    "def dp5(w5, h5):\n",
    "    numberOfWays = [[0 for _ in range(w5 + 1)] for _ in range(h5 + 1)]\n",
    "    print(numberOfWays)\n",
    "    \n",
    "    for wIdx in range(1, w5 + 1):\n",
    "        for hIdx in range(1, h5 + 1):\n",
    "            if wIdx == 1 or hIdx == 1:\n",
    "                numberOfWays[hIdx][wIdx] = 1\n",
    "            else:\n",
    "                waysLeft = numberOfWays[hIdx][wIdx - 1]\n",
    "                waysUp = numberOfWays[hIdx - 1][wIdx]\n",
    "                numberOfWays[hIdx][wIdx] = waysLeft + waysUp              \n",
    "    print(numberOfWays)\n",
    "    return numberOfWays[hIdx][wIdx]\n",
    "    \n",
    "dp5(4, 3)\n",
    "    "
   ]
  },
  {
   "cell_type": "markdown",
   "metadata": {},
   "source": [
    "### 🏆 AlgoExpert - Dynamic Programming 7"
   ]
  },
  {
   "cell_type": "code",
   "execution_count": 1,
   "metadata": {},
   "outputs": [
    {
     "name": "stdout",
     "output_type": "stream",
     "text": [
      "[[[], [], [], [], [], [], [], []], [[], [], [], [], [], ['X'], ['X'], ['X']], [[], ['K'], ['K'], ['K'], ['K'], ['X'], ['X'], ['X']], [[], ['K'], ['K'], ['K'], ['K'], ['X'], ['X'], ['X']], [[], ['K'], ['K'], ['K'], ['K'], ['X'], ['X'], ['X']], [[], ['K'], ['K'], ['K', 'Z'], ['K', 'Z'], ['K', 'Z'], ['K', 'Z'], ['K', 'Z']], [[], ['K'], ['K'], ['K', 'Z'], ['K', 'Z'], ['K', 'Z', 'P'], ['K', 'Z', 'P'], ['K', 'Z', 'P']], [[], ['K'], ['K'], ['K', 'Z'], ['K', 'Z'], ['K', 'Z', 'P'], ['K', 'Z', 'P'], ['K', 'Z', 'P', 'W']]] \n",
      "\n"
     ]
    },
    {
     "data": {
      "text/plain": [
       "['K', 'Z', 'P', 'W']"
      ]
     },
     "execution_count": 1,
     "metadata": {},
     "output_type": "execute_result"
    }
   ],
   "source": [
    "def dp6(str7, str77):\n",
    "\n",
    "    l = [[ [] for i in range(len(str7) + 1)] for j in range(len(str77) + 1)]\n",
    "\n",
    "    for i in range(1, len(str7) + 1):\n",
    "        for j in range(1, len(str77) + 1):\n",
    "            if str7[i - 1] == str77[j - 1]:\n",
    "                l[i][j] = l[i - 1][j - 1] + [str77[i - 1]]\n",
    "            else:\n",
    "                l[i][j] = max(l[i - 1][j], l[i][j - 1], key = len)\n",
    "    print(l, \"\\n\")\n",
    "    return l[-1][-1]\n",
    "\n",
    "str7 = \"ZXVVYZW\"\n",
    "str77 = \"XKYKZPW\"\n",
    "dp6(str7, str77)                "
   ]
  },
  {
   "cell_type": "markdown",
   "metadata": {},
   "source": [
    "### 🏆 AlgoExpert - Dynamic Programming 8"
   ]
  },
  {
   "cell_type": "code",
   "execution_count": 37,
   "metadata": {},
   "outputs": [
    {
     "name": "stdout",
     "output_type": "stream",
     "text": [
      "[0, 1, 1, 1, 2, 2, 3, 3, 3, 4, 4]\n"
     ]
    },
    {
     "data": {
      "text/plain": [
       "4"
      ]
     },
     "execution_count": 37,
     "metadata": {},
     "output_type": "execute_result"
    }
   ],
   "source": [
    "def dp8(arr8):\n",
    "    \n",
    "    jumps = [float(\"inf\") for x in arr8]\n",
    "    jumps[0] = 0\n",
    "    \n",
    "    for i8 in range(1, len(arr8)):\n",
    "        for j8 in range(0, i8):\n",
    "            if arr8[j8] >= i8 - j8:\n",
    "                jumps[i8] = min(jumps[j8] + 1, jumps[i8])\n",
    "    print(jumps)      \n",
    "    return jumps[-1]   \n",
    "\n",
    "\n",
    "arr8 = [3, 4, 2, 1, 2, 3, 7, 1, 1, 1, 3]\n",
    "dp8(arr8)\n"
   ]
  },
  {
   "cell_type": "code",
   "execution_count": 29,
   "metadata": {},
   "outputs": [
    {
     "name": "stdout",
     "output_type": "stream",
     "text": [
      "[3, 4, 2, 1, 2, 3, 7, 1, 1, 1, 3]\n",
      "jumps 0\n",
      "maxReach 3\n",
      "steps8 3\n",
      "5 5 5 6 8 13 13 13 13 "
     ]
    },
    {
     "data": {
      "text/plain": [
       "4"
      ]
     },
     "execution_count": 29,
     "metadata": {},
     "output_type": "execute_result"
    }
   ],
   "source": [
    "def dp8(arr8):\n",
    "    \n",
    "    print(arr8)\n",
    "    jumps = 0\n",
    "    print(\"jumps\", jumps)\n",
    "    maxReach = arr8[0]\n",
    "    print(\"maxReach\", maxReach)\n",
    "    steps8 = arr8[0]\n",
    "    print(\"steps8\", steps8)\n",
    "    \n",
    "    for i8 in range(1, len(arr8) - 1):\n",
    "        maxReach = max(maxReach, i8 + arr8[i8])\n",
    "        print(maxReach, end= \" \")\n",
    "        steps8 -= 1\n",
    "        if steps8 == 0:\n",
    "            jumps += 1\n",
    "            steps8 = maxReach - i8\n",
    "         \n",
    "    return jumps + 1        \n",
    "\n",
    "\n",
    "arr8 = [3, 4, 2, 1, 2, 3, 7, 1, 1, 1, 3]\n",
    "dp8(arr8)\n"
   ]
  },
  {
   "cell_type": "markdown",
   "metadata": {},
   "source": [
    "### 🏆 AlgoExpert - Dynamic Programming 15"
   ]
  },
  {
   "cell_type": "code",
   "execution_count": 5,
   "metadata": {},
   "outputs": [
    {
     "name": "stdout",
     "output_type": "stream",
     "text": [
      "[5, 11, 3, 50, 60, 90]\n",
      "[[0, 6, 6, 47, 57, 87], [0, 6, 6, 53, 63, 93], [0, 6, 6, 53, 63, 93]]\n"
     ]
    },
    {
     "data": {
      "text/plain": [
       "93"
      ]
     },
     "execution_count": 5,
     "metadata": {},
     "output_type": "execute_result"
    }
   ],
   "source": [
    "def dp15(prices, k):\n",
    "    \n",
    "    profits = [[0 for x in prices] for y in range(k + 1)]\n",
    "    \n",
    "    for t in range(k + 1):\n",
    "        maxThusFar = float(\"-inf\")\n",
    "        for d in range(1, len(prices)):\n",
    "            maxThusFar = max(maxThusFar, profits[t - 1][d - 1] - prices[d - 1])\n",
    "            profits[t][d] = max(profits[t][d - 1], maxThusFar + prices[d])\n",
    "    print(prices)\n",
    "    print(profits)\n",
    "    return profits[-1][-1]\n",
    "\n",
    "prices = [5, 11, 3, 50, 60, 90]\n",
    "k = 2\n",
    "dp15(prices, k)"
   ]
  },
  {
   "cell_type": "code",
   "execution_count": null,
   "metadata": {},
   "outputs": [],
   "source": []
  },
  {
   "cell_type": "markdown",
   "metadata": {},
   "source": [
    "--------"
   ]
  },
  {
   "cell_type": "markdown",
   "metadata": {},
   "source": [
    "------"
   ]
  },
  {
   "cell_type": "markdown",
   "metadata": {},
   "source": [
    "## Find minimum cost to reach the last cell of a matrix from its first cell\n",
    "    Given an M × N matrix of integers where each cell has a cost associated with it, \n",
    "    find the minimum cost to reach the last cell (M-1, N-1) of the matrix from its first cell (0, 0). \n",
    "    We can only move one unit right or one unit down from any cell, i.e., from cell (i, j), we can move to (i, j+1) or (i+1, j).\n",
    "\n",
    "### Cost to reach cell (m, n) = cost[m][n] + min (cost to reach cell (m, n-1), cost to reach cell (m, n-1))\n"
   ]
  },
  {
   "cell_type": "code",
   "execution_count": 1,
   "metadata": {},
   "outputs": [
    {
     "data": {
      "text/plain": [
       "36"
      ]
     },
     "execution_count": 1,
     "metadata": {},
     "output_type": "execute_result"
    }
   ],
   "source": [
    "import sys\n",
    "\n",
    "def minSum(arr, l, b):\n",
    "    \n",
    "    if l == 0 or b == 0:\n",
    "        return sys.maxsize\n",
    "    \n",
    "    if l == 1 and b == 1:\n",
    "        return arr[0][0]\n",
    "    \n",
    "    return arr[l - 1][b - 1] + min(minSum(arr, l - 1, b), minSum(arr, l, b - 1))\n",
    "\n",
    "c = [\n",
    "        [4, 7, 8, 6, 4],\n",
    "        [6, 7, 3, 9, 2],\n",
    "        [3, 8, 1, 2, 4],\n",
    "        [7, 1, 7, 3, 7],\n",
    "        [2, 9, 8, 9, 3]\n",
    "    ]\n",
    "minSum(c, len(c), len(c[0]))"
   ]
  },
  {
   "cell_type": "code",
   "execution_count": 39,
   "metadata": {},
   "outputs": [
    {
     "name": "stdout",
     "output_type": "stream",
     "text": [
      "[4, 11, 19, 25, 29]\n",
      "[10, 17, 20, 29, 31]\n",
      "[13, 21, 21, 23, 27]\n",
      "[20, 21, 28, 26, 33]\n",
      "[22, 30, 36, 35, 36]\n"
     ]
    },
    {
     "data": {
      "text/plain": [
       "36"
      ]
     },
     "execution_count": 39,
     "metadata": {},
     "output_type": "execute_result"
    }
   ],
   "source": [
    "def minSum2(arr2, l2, b2):\n",
    "    \n",
    "    T2 = [[0 for i in range(l2)] for j in range(b2)]\n",
    "    \n",
    "    for i in range(l2):\n",
    "        for j in range(b2):\n",
    "            \n",
    "            T2[i][j] = arr2[i][j]\n",
    "            \n",
    "            if i == 0 and j > 0:\n",
    "                T2[0][j] += T2[0][j - 1]\n",
    "            \n",
    "            elif i > 0 and j == 0:\n",
    "                T2[i][0] += T2[i - 1][0]  \n",
    "            \n",
    "            elif i > 0 and j > 0:\n",
    "                T2[i][j] += min(T2[i - 1][j], T2[i][j - 1])       \n",
    "    for i in T2:\n",
    "        print(i)\n",
    "    \n",
    "    return T2[l2 - 1][b2 - 1]\n",
    "\n",
    "c = [\n",
    "        [4, 7, 8, 6, 4],\n",
    "        [6, 7, 3, 9, 2],\n",
    "        [3, 8, 1, 2, 4],\n",
    "        [7, 1, 7, 3, 7],\n",
    "        [2, 9, 8, 9, 3]\n",
    "    ]\n",
    "minSum2(c, len(c), len(c[0]))"
   ]
  },
  {
   "cell_type": "markdown",
   "metadata": {},
   "source": [
    "## The time complexity of the proposed solution is O(M × N) for an M × N matrix. \n",
    "## The auxiliary space required by the program is O(M × N)."
   ]
  },
  {
   "cell_type": "markdown",
   "metadata": {},
   "source": [
    "------"
   ]
  },
  {
   "cell_type": "markdown",
   "metadata": {},
   "source": [
    "### Minimum number of primes required such that their sum is equal to N\n",
    "    Given a positive integer N greater than 1, the task is to find the minimum count of Prime Numbers whose sum is equal to given N.\n",
    "\n",
    "    Input : \n",
    "        N = 10\n",
    "        M = 1\n",
    "\n",
    "    Output :\n",
    "        5\n",
    "\n",
    "    Explanation :\n",
    "        Minimum we require 5 primes [2 + 2 + 2 + 2 + 2]       \n",
    "\n",
    "\n",
    "\n",
    "        Input : \n",
    "            N = 11\n",
    "            M = 3\n",
    "\n",
    "        Output :\n",
    "            3\n",
    "\n",
    "        Explanation :\n",
    "            Minimum we require 3 primes [3 + 3 + 5]  \n",
    "\n",
    "\n",
    "            nput: N = 100 \n",
    "            Output: 2 \n",
    "            Explanation: \n",
    "            100 can be written as sum of 2 prime numbers 97 and 3.\n",
    "            \n",
    "            \n",
    "            Input: N = 25 \n",
    "            Output: 2 \n",
    "            Explanation: \n",
    "            25 can be written as sum of 2 prime numbers  23 and 2.     \n",
    "\n"
   ]
  },
  {
   "cell_type": "markdown",
   "metadata": {},
   "source": [
    "https://www.geeksforgeeks.org/minimum-number-of-primes-required-such-that-their-sum-is-equal-to-n/#:~:text=Case%201%3A%20If%20the%20number,make%20sum%20N%20is%201"
   ]
  },
  {
   "cell_type": "code",
   "execution_count": 1,
   "metadata": {},
   "outputs": [
    {
     "name": "stdout",
     "output_type": "stream",
     "text": [
      "2\n"
     ]
    }
   ],
   "source": [
    "# Python3 program for the above approach\n",
    "\n",
    "# Function to check if n is prime\n",
    "def isPrime(n) :\n",
    "\n",
    "\tfor i in range(2, int(n ** (1/2)) + 1) :\n",
    "\t\tif (n % i == 0) :\n",
    "\t\t\treturn False;\n",
    "\t\n",
    "\treturn True;\n",
    "\n",
    "# Function to count the minimum\n",
    "# prime required for given sum N\n",
    "def printMinCountPrime(N) :\n",
    "\n",
    "\t# Case 1:\n",
    "\tif (isPrime(N)) :\n",
    "\t\tminCount = 1;\n",
    "\n",
    "\t# Case 2:\n",
    "\telif (N % 2 == 0) :\n",
    "\t\tminCount = 2;\n",
    "\n",
    "\t# Case 3:\n",
    "\telse :\n",
    "\n",
    "\t\t# Case 3a:\n",
    "\t\tif (isPrime(N - 2)) :\n",
    "\t\t\tminCount = 2;\n",
    "\n",
    "\t\t# Case 3b:\n",
    "\t\telse :\n",
    "\t\t\tminCount = 3;\n",
    "\n",
    "\tprint(minCount) ;\n",
    "\n",
    "# Driver Code\n",
    "if __name__ == \"__main__\" :\n",
    "\tN = 100;\n",
    "\n",
    "\t# Function Call\n",
    "\tprintMinCountPrime(N);\n",
    "\n",
    "# This code is contributed by AnkitRai01\n"
   ]
  },
  {
   "cell_type": "code",
   "execution_count": 8,
   "metadata": {},
   "outputs": [
    {
     "name": "stdout",
     "output_type": "stream",
     "text": [
      "Print prime number between 2 and 11\n",
      "2\n",
      "3\n",
      "5\n",
      "7\n",
      "11\n"
     ]
    }
   ],
   "source": [
    "start = 2\n",
    "end = 11\n",
    "print(\"Print prime number between\", start, \"and\", end)\n",
    "for i in range(start, end + 1):\n",
    "    if i > 1:\n",
    "        for j in range(2, i):\n",
    "            if(i % j) == 0:\n",
    "                break\n",
    "        else:\n",
    "            print(i)"
   ]
  },
  {
   "cell_type": "markdown",
   "metadata": {},
   "source": [
    "#### Python Program for Sieve of Eratosthenes\n",
    "    Given a number n, print all primes smaller than or equal to n. It is also given that n is a small number. For instance here if n is 10, the output should be “2, 3, 5, 7”. If n is 20, the output should be “2, 3, 5, 7, 11, 13, 17, 19”."
   ]
  },
  {
   "cell_type": "code",
   "execution_count": 10,
   "metadata": {},
   "outputs": [
    {
     "name": "stdout",
     "output_type": "stream",
     "text": [
      "Following are the prime numbers smaller\n",
      "than or equal to 50\n",
      "2\n",
      "3\n",
      "5\n",
      "7\n",
      "11\n",
      "13\n",
      "17\n",
      "19\n",
      "23\n",
      "29\n",
      "31\n",
      "37\n",
      "41\n",
      "43\n",
      "47\n"
     ]
    }
   ],
   "source": [
    "# Python program to print all Primes Smaller\n",
    "# than or equal to N using Sieve of Eratosthenes\n",
    "\n",
    "\n",
    "def SieveOfEratosthenes(num):\n",
    "\tprime = [True for i in range(num+1)]\n",
    "# boolean array\n",
    "\tp = 2\n",
    "\twhile (p * p <= num):\n",
    "\n",
    "\t\t# If prime[p] is not\n",
    "\t\t# changed, then it is a prime\n",
    "\t\tif (prime[p] == True):\n",
    "\n",
    "\t\t\t# Updating all multiples of p\n",
    "\t\t\tfor i in range(p * p, num+1, p):\n",
    "\t\t\t\tprime[i] = False\n",
    "\t\tp += 1\n",
    "\n",
    "\t# Print all prime numbers\n",
    "\tfor p in range(2, num+1):\n",
    "\t\tif prime[p]:\n",
    "\t\t\tprint(p)\n",
    "\n",
    "\n",
    "# Driver code\n",
    "if __name__ == '__main__':\n",
    "\tnum = 50\n",
    "\tprint(\"Following are the prime numbers smaller\"),\n",
    "\tprint(\"than or equal to\", num)\n",
    "\tSieveOfEratosthenes(num)\n",
    " \n",
    "\n",
    "\n",
    "# Time Complexity: O(n*log(log(n)))\n",
    "\n",
    "# Auxiliary Space: O(n) \n"
   ]
  },
  {
   "cell_type": "markdown",
   "metadata": {},
   "source": [
    "## Job - A - Thon 12 Contest Questions (Amazon)\n",
    "### 1. Make Sum Even - Split array in such each element exactly in one pair & sum is Even. Find is possible or not\n",
    "    Input :\n",
    "        N = 2\n",
    "        array = [2, 4]\n",
    "    Output :\n",
    "        1\n",
    "    Explanation :\n",
    "        pair up (2, 4). Sum is 6 EVEN\n",
    "\n",
    "    Input :\n",
    "        N = 4\n",
    "        array = [1, 1, 2, 3]\n",
    "    Output :\n",
    "        0\n",
    "    Explanation :\n",
    "        pair up sum will never be EVEN            "
   ]
  },
  {
   "cell_type": "code",
   "execution_count": 10,
   "metadata": {},
   "outputs": [
    {
     "data": {
      "text/plain": [
       "0"
      ]
     },
     "execution_count": 10,
     "metadata": {},
     "output_type": "execute_result"
    }
   ],
   "source": [
    "def makeSumEven(n1, array1):\n",
    "    \n",
    "    oddCount = 0\n",
    "    \n",
    "    for value1 in array1:\n",
    "        if value1 % 2 != 0:\n",
    "            oddCount += 1\n",
    "\n",
    "    if oddCount % 2 == 0:\n",
    "        return n1 // 2\n",
    "    else:\n",
    "        return 0\n",
    "\n",
    "n1 = 6\n",
    "array1 = [2, 4, 2, 3]\n",
    "makeSumEven(n1, array1)"
   ]
  },
  {
   "cell_type": "markdown",
   "metadata": {},
   "source": [
    "## 2. Subarray Counting - Count good subarray \n",
    "### Good > all prefix gcd are distinct [ prefix is pref(i) = gcd(subarray[0], ..., subarray[n]) ]\n",
    "    Example : {15, 6, 19} \n",
    "        Greatest Common Divisior ( GCD ) of : {index[0], index[0][1], index[0][1][2]} \n",
    "                                              {   15   ,        3   ,         1     } => Good \n",
    "    Example : {18, 6, 24}                                           \n",
    "        Greatest Common Divisior ( GCD ) of : {index[0], index[0][1], index[0][1][2]} \n",
    "                                              {   18   ,        6   ,         6     } => Bad                                       \n",
    "\n",
    "    Input :\n",
    "        N = 4\n",
    "        array = [18, 6, 24, 1]\n",
    "    Output :\n",
    "        6\n",
    "    Explanation :\n",
    "        Good subarray are : {18}, {6}, {24}, {1}, {18, 6}, {24, 1}\n",
    "          "
   ]
  },
  {
   "cell_type": "code",
   "execution_count": 46,
   "metadata": {},
   "outputs": [
    {
     "name": "stdout",
     "output_type": "stream",
     "text": [
      "[1, 3, 5, 15]\n",
      "[1, 2, 3, 6]\n",
      "[1, 19]\n",
      "[15, 3, 1]\n"
     ]
    }
   ],
   "source": [
    "a = 15\n",
    "b = 6\n",
    "c = 19\n",
    "x = []\n",
    "y = []\n",
    "z = []\n",
    "\n",
    "for i in range(1, a + 1):\n",
    "    if a % i == 0:\n",
    "        x.append(i)\n",
    "        \n",
    "for j in range(1, b + 1):\n",
    "    if b % j == 0:\n",
    "        y.append(j)\n",
    "\n",
    "for k in range(1, c + 1):\n",
    "    if c % k == 0:\n",
    "        z.append(k)\n",
    "                \n",
    "print(x)                \n",
    "print(y)\n",
    "print(z)   \n",
    "\n",
    "result = [x[-1]]\n",
    "\n",
    "for m in reversed(x):\n",
    "    if m in y:\n",
    "        result.append(m)\n",
    "        continue\n",
    "    if m in y and m in z:\n",
    "        result.append(m)\n",
    "        break\n",
    "print(result)"
   ]
  },
  {
   "cell_type": "code",
   "execution_count": 73,
   "metadata": {},
   "outputs": [
    {
     "name": "stdout",
     "output_type": "stream",
     "text": [
      "{18}\n",
      "{18, 6}\n",
      "{6}\n",
      "{24}\n",
      "{24, 1}\n",
      "{1}\n"
     ]
    },
    {
     "data": {
      "text/plain": [
       "6"
      ]
     },
     "execution_count": 73,
     "metadata": {},
     "output_type": "execute_result"
    }
   ],
   "source": [
    "def gcdSubArray(n2, array2):\n",
    "    \n",
    "    count2 = 0\n",
    "    \n",
    "    for i2 in range(n2):\n",
    "        st = set()\n",
    "        gcd = 0\n",
    "        for j2 in range(i2, n2):\n",
    "            gcd = getGCD(array2[j2], gcd)\n",
    "            if gcd in st:\n",
    "                break\n",
    "            st.add(gcd)\n",
    "            count2 += 1\n",
    "            print(st)\n",
    "            \n",
    "    return count2\n",
    "\n",
    "def getGCD(a, b):\n",
    "    return a if b == 0 else getGCD(b, a % b)\n",
    "\n",
    "n2 = 4\n",
    "array2 = [18, 6, 24, 1]\n",
    "gcdSubArray(n2, array2)\n",
    "    "
   ]
  },
  {
   "cell_type": "markdown",
   "metadata": {},
   "source": [
    "## Height of a Binary Tree \n",
    "### Height With Recursion (Depth First search approach) :\n",
    "                            \n",
    "                            \n",
    "                            \n",
    "                                1\n",
    "                               / \\  ..... (1)     \n",
    "                              /   \\\n",
    "                             2     3\n",
    "                            / \\     ..... (2)\n",
    "                           /   \\\n",
    "                          4     5"
   ]
  },
  {
   "cell_type": "code",
   "execution_count": 77,
   "metadata": {},
   "outputs": [
    {
     "name": "stdout",
     "output_type": "stream",
     "text": [
      "Height of the binary tree is: 2\n"
     ]
    }
   ],
   "source": [
    "# define a Class Tree, to intiate the binary tree\n",
    "class TreeNode:\n",
    "    def __init__(self, val):\n",
    "        self.val = val\n",
    "        self.left = None\n",
    "        self.right = None\n",
    " \n",
    "def height(root):\n",
    " \n",
    "    # Check if the binary tree is empty\n",
    "    if root is None:\n",
    "        # If TRUE return -1\n",
    "        return -1\n",
    "    # Recursively call height of each node\n",
    "    leftAns = height(root.left)\n",
    "    rightAns = height(root.right)\n",
    " \n",
    "    # Return max(leftHeight, rightHeight) at each iteration\n",
    "    return max(leftAns, rightAns) + 1\n",
    " \n",
    "# Test the algorithm\n",
    "root = TreeNode(1)\n",
    "root.left = TreeNode(2)\n",
    "root.right = TreeNode(3)\n",
    "root.left.left = TreeNode(4)\n",
    " \n",
    "print(\"Height of the binary tree is: \" + str(height(root)))"
   ]
  }
 ],
 "metadata": {
  "kernelspec": {
   "display_name": "Python 3.8.9 64-bit",
   "language": "python",
   "name": "python3"
  },
  "language_info": {
   "codemirror_mode": {
    "name": "ipython",
    "version": 3
   },
   "file_extension": ".py",
   "mimetype": "text/x-python",
   "name": "python",
   "nbconvert_exporter": "python",
   "pygments_lexer": "ipython3",
   "version": "3.8.9"
  },
  "orig_nbformat": 4,
  "vscode": {
   "interpreter": {
    "hash": "31f2aee4e71d21fbe5cf8b01ff0e069b9275f58929596ceb00d14d90e3e16cd6"
   }
  }
 },
 "nbformat": 4,
 "nbformat_minor": 2
}
