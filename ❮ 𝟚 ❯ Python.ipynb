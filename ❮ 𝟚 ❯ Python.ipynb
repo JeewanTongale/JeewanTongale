{
 "cells": [
  {
   "cell_type": "markdown",
   "metadata": {},
   "source": [
    "## Two nodes of a BST are swapped, correct the BST"
   ]
  },
  {
   "cell_type": "code",
   "execution_count": 21,
   "metadata": {},
   "outputs": [
    {
     "name": "stdout",
     "output_type": "stream",
     "text": [
      "1 7\n",
      "[3, 5, 7, 8, 10, 15, 20, 25]\n"
     ]
    }
   ],
   "source": [
    "a = [3, 25, 7, 8, 10, 15, 20, 5]\n",
    "s1 = 0\n",
    "s2 = 0\n",
    "for i in range(1, len(a) - 1):\n",
    "    if a[i] < a[i - 1]:\n",
    "        s1 = i - 1\n",
    "        break\n",
    "for i in reversed(range(len(a))):\n",
    "    if a[i] < a[i - 1]:\n",
    "        s2 = i\n",
    "        break\n",
    "print(s1, s2)    \n",
    "a[s1], a[s2] = a[s2], a[s1]\n",
    "print(a)"
   ]
  },
  {
   "cell_type": "markdown",
   "metadata": {},
   "source": [
    "### Minimum Number of Platforms Required for a Railway/Bus Station"
   ]
  },
  {
   "cell_type": "code",
   "execution_count": 11,
   "metadata": {},
   "outputs": [
    {
     "name": "stdout",
     "output_type": "stream",
     "text": [
      "3\n"
     ]
    }
   ],
   "source": [
    "arr = [900, 940, 950, 1100, 1500, 1800]\n",
    "dep = [910, 1200, 1120, 1130, 1900, 2000]\n",
    "n = len(arr)\n",
    "result = 1\n",
    "\n",
    "for i in range(n):\n",
    "    platform_Needed = 1\n",
    "    for j in range(i + 1, n):\n",
    "        if max(arr[i], arr[j]) <= min(dep[i], dep[j]):\n",
    "            platform_Needed += 1\n",
    "    result = max(result, platform_Needed)\n",
    "\n",
    "print(result)            \n",
    "\n",
    "\n",
    "# Time Complexity: O(n2), Two nested loops traverse the array.\n",
    "# Auxiliary space: O(1), As no extra space is required.   "
   ]
  },
  {
   "cell_type": "code",
   "execution_count": 66,
   "metadata": {},
   "outputs": [
    {
     "name": "stdout",
     "output_type": "stream",
     "text": [
      "[900, 940, 950, 1100, 1500, 1800]\n",
      "[950, 950, 1120, 1130, 1900, 2000]\n",
      "3\n"
     ]
    }
   ],
   "source": [
    "arr = [900, 940, 950, 1100, 1500, 1800]\n",
    "dep = [950, 950, 1120, 1130, 1900, 2000]\n",
    "\n",
    "arr.sort()\n",
    "dep.sort()\n",
    "\n",
    "plat = 1\n",
    "res = 1\n",
    "i = 1\n",
    "j = 0\n",
    "\n",
    "print(arr)\n",
    "print(dep)\n",
    "\n",
    "while i < n and j < n:\n",
    "    if arr[i] <= dep[j]:\n",
    "        plat += 1\n",
    "        i += 1\n",
    "    elif arr[i] > dep[j]:\n",
    "        plat -= 1\n",
    "        j += 1\n",
    "    \n",
    "    if plat > res:\n",
    "        res = plat\n",
    "print(res)                \n",
    "       \n",
    "            \n",
    "# Time Complexity: O(N * log N), One traversal O(n) of both the array is needed after sorting O(N * log N).\n",
    "# Auxiliary space: O(1), As no extra space is required.\n"
   ]
  },
  {
   "cell_type": "code",
   "execution_count": 70,
   "metadata": {},
   "outputs": [
    {
     "name": "stdout",
     "output_type": "stream",
     "text": [
      "3\n"
     ]
    }
   ],
   "source": [
    "arr = [900, 940, 950, 1100, 1500, 1800]\n",
    "dep = [950, 950, 1120, 1130, 1900, 2000]\n",
    "\n",
    "plat = [0] * 2361\n",
    "req = 1\n",
    "\n",
    "for i in range(len(arr)):\n",
    "    plat[arr[i]] += 1\n",
    "    plat[dep[i] + 1] -= 1\n",
    "for i in range(1, 2361):\n",
    "    plat[i] = plat[i] + plat[i - 1]\n",
    "    req = max(req, plat[i])\n",
    "print(req)        \n",
    "\n",
    "\n",
    "# Time Complexity: O(N).\n",
    "# Space Complexity: O(1).  "
   ]
  },
  {
   "cell_type": "markdown",
   "metadata": {},
   "source": [
    "### Max Frequency"
   ]
  },
  {
   "cell_type": "code",
   "execution_count": 1,
   "metadata": {},
   "outputs": [
    {
     "name": "stdout",
     "output_type": "stream",
     "text": [
      "{1: 1, 2: 1, 3: 4, 4: 1, 5: 1}\n",
      "3 Has Occured 4 Times\n"
     ]
    }
   ],
   "source": [
    "a = [1,2,3,3,3,3,4,5]\n",
    "c = {}\n",
    "for i in a:\n",
    "    b = a.count(i)\n",
    "    c[i] = b\n",
    "print(c)\n",
    "m = max(c, key=c.get())\n",
    "print(m, \"Has Occured\", c[m], \"Times\")\n",
    "\n",
    "# Worst Time Complexity [ Don't Use ]"
   ]
  },
  {
   "cell_type": "code",
   "execution_count": 3,
   "metadata": {},
   "outputs": [
    {
     "name": "stdout",
     "output_type": "stream",
     "text": [
      "{1: 1, 2: 1, 3: 4, 4: 1, 5: 1}\n",
      "3\n"
     ]
    }
   ],
   "source": [
    "a = [1,2,3,3,3,3,4,5]\n",
    "c = {}\n",
    "for i in a:\n",
    "    if i in c:\n",
    "        c[i] += 1\n",
    "    else:\n",
    "        c[i] = 1\n",
    "print(c)       \n",
    "print(max(c, key=c.get))     "
   ]
  },
  {
   "cell_type": "markdown",
   "metadata": {},
   "source": [
    "### Kth Largest Element In An Array\n",
    "    Examples:\n",
    "\n",
    "    Input: A[] = {1, 2, 6, 4, 5}, K = 3\n",
    "    Output: 4\n",
    "    Explanation: Provided in image above\n",
    "\n",
    "    Input:  A[] = {3, 2, 1, 5, 6, 4}, K = 2\n",
    "    Output: 5"
   ]
  },
  {
   "cell_type": "code",
   "execution_count": 14,
   "metadata": {},
   "outputs": [
    {
     "name": "stdout",
     "output_type": "stream",
     "text": [
      "7\n",
      "7\n"
     ]
    }
   ],
   "source": [
    "a = [12, 3, 5, 5, 7, 19]\n",
    "k = 3\n",
    "a = sorted(a, reverse=True)\n",
    "print(a[k - 1])\n",
    "b = set(a)\n",
    "c = list(b)[::-1]\n",
    "print(c[k - 1])\n",
    "\n",
    "# Time Complexity: O(NlogN), where N is the size of the array.\n",
    "# Space Complexity: O(1), since no additional space is used."
   ]
  },
  {
   "cell_type": "markdown",
   "metadata": {},
   "source": [
    "### Largest Subarray of 0’s and 1’s\n",
    "\n",
    "    Given a binary array A[] consisting of 0’s and 1’s. The task is to return the length of the largest subarray which contains an equal number of 0’s and 1’s.\n",
    "\n",
    "    Examples:\n",
    "\n",
    "    Input: A[] =[0, 1]\n",
    "    Output: 2\n",
    "    Explanation: [0, 1] is the longest subarray with equal number of 0 and 1.\n",
    "\n",
    "    Input:  A[] = [1, 0, 1, 1, 1, 0, 0]\n",
    "\n",
    "    Output: 6\n",
    "\n",
    "    Explanation: [0, 1, 1, 1, 0, 0] is the longest subarray with equal number of 0s and 1s."
   ]
  },
  {
   "cell_type": "code",
   "execution_count": 8,
   "metadata": {},
   "outputs": [
    {
     "data": {
      "text/plain": [
       "6"
      ]
     },
     "execution_count": 8,
     "metadata": {},
     "output_type": "execute_result"
    }
   ],
   "source": [
    "def findMaxLength(list1):\n",
    "    count = 0\n",
    "    map = {0: -1}\n",
    "    max_length = 0\n",
    "    for i, number in enumerate(list1):\n",
    "        if number:\n",
    "            count += 1\n",
    "        else:\n",
    "            count -= 1\n",
    "                \n",
    "            \n",
    "        if count in map:\n",
    "            max_length = max( max_length, ( i - map[count] ) )\n",
    "                \n",
    "        else:\n",
    "            map[ count ] = i\n",
    "                \n",
    "    return max_length\n",
    "    \n",
    "findMaxLength([1, 0, 1, 1, 1, 0, 0])\n",
    "\n",
    "# Time Complexity: O(N), where N is the size of the array A[] \n",
    "# Space Complexity: O(N), as a map is used    "
   ]
  },
  {
   "cell_type": "code",
   "execution_count": 21,
   "metadata": {},
   "outputs": [
    {
     "name": "stdout",
     "output_type": "stream",
     "text": [
      "1\n",
      "0\n",
      "0\n",
      "1\n",
      "_ 0\n"
     ]
    }
   ],
   "source": [
    "a = [1, 0, 0, 1]\n",
    "c = 0\n",
    "for i in a:\n",
    "    if i:\n",
    "        print(i)\n",
    "        c += 1\n",
    "    else:\n",
    "        print(i) \n",
    "        c -= 1 \n",
    "print(\"_\",c)  "
   ]
  },
  {
   "cell_type": "markdown",
   "metadata": {},
   "source": [
    "### Python program to reverse a linked list\n",
    "    Iterative Method \n",
    "\n",
    "    Initialize three pointers \n",
    "    prev as NULL, \n",
    "    curr as head and \n",
    "    next as NULL.\n",
    "    \n",
    "    Iterate through the linked list. In loop, do following. \n",
    "    \n",
    "    // Before changing next of current, \n",
    "    // store next node \n",
    "    next = curr->next\n",
    "    // Now change next of current \n",
    "    // This is where actual reversing happens \n",
    "    curr->next = prev \n",
    "    // Move prev and curr one step forward \n",
    "    prev = curr \n",
    "    curr = next\n"
   ]
  },
  {
   "cell_type": "code",
   "execution_count": 22,
   "metadata": {},
   "outputs": [
    {
     "name": "stdout",
     "output_type": "stream",
     "text": [
      "Given Linked List\n",
      "85\n",
      "15\n",
      "4\n",
      "20\n",
      "\n",
      "Reversed Linked List\n",
      "20\n",
      "4\n",
      "15\n",
      "85\n"
     ]
    }
   ],
   "source": [
    "class Node:\n",
    "\n",
    "\t# Constructor to initialize the node object\n",
    "\tdef __init__(self, data):\n",
    "\t\tself.data = data\n",
    "\t\tself.next = None\n",
    "\n",
    "\n",
    "class LinkedList:\n",
    "\n",
    "\t# Function to initialize head\n",
    "\tdef __init__(self):\n",
    "\t\tself.head = None\n",
    "\n",
    "\t# Function to reverse the linked list\n",
    "\tdef reverse(self):\n",
    "\t\tprev = None\n",
    "\t\tcurrent = self.head\n",
    "\t\twhile(current is not None):\n",
    "\t\t\tnext = current.next\n",
    "\t\t\tcurrent.next = prev\n",
    "\t\t\tprev = current\n",
    "\t\t\tcurrent = next\n",
    "\t\tself.head = prev\n",
    "\n",
    "\t# Function to insert a new node at the beginning\n",
    "\tdef push(self, new_data):\n",
    "\t\tnew_node = Node(new_data)\n",
    "\t\tnew_node.next = self.head\n",
    "\t\tself.head = new_node\n",
    "\n",
    "\t# Utility function to print the linked LinkedList\n",
    "\tdef printList(self):\n",
    "\t\ttemp = self.head\n",
    "\t\twhile(temp):\n",
    "\t\t\tprint( temp.data)\n",
    "\t\t\ttemp = temp.next\n",
    "\n",
    "\n",
    "# Driver code\n",
    "llist = LinkedList()\n",
    "llist.push(20)\n",
    "llist.push(4)\n",
    "llist.push(15)\n",
    "llist.push(85)\n",
    "\n",
    "print( \"Given Linked List\")\n",
    "llist.printList()\n",
    "llist.reverse()\n",
    "print( \"\\nReversed Linked List\")\n",
    "llist.printList()\n",
    "\n",
    "# Time Complexity : O(n)\n",
    "# Space Complexity : O(1)"
   ]
  },
  {
   "cell_type": "code",
   "execution_count": 23,
   "metadata": {},
   "outputs": [
    {
     "name": "stdout",
     "output_type": "stream",
     "text": [
      "4536062992\n"
     ]
    }
   ],
   "source": [
    "a = 200\n",
    "print(id(a))"
   ]
  },
  {
   "cell_type": "markdown",
   "metadata": {},
   "source": [
    "### Largest Continuos 3 Elements Sum"
   ]
  },
  {
   "cell_type": "code",
   "execution_count": 37,
   "metadata": {},
   "outputs": [
    {
     "name": "stdout",
     "output_type": "stream",
     "text": [
      "1 4 5\n",
      "10\n"
     ]
    }
   ],
   "source": [
    "a = [1,4,5,1,2,3,-8,5]\n",
    "result = 0\n",
    "prev = 0\n",
    "curr = 1\n",
    "next = 2\n",
    "while next < len(a):\n",
    "    currSum = a[prev] + a[curr] + a[next]\n",
    "    if currSum > result:\n",
    "        result = currSum\n",
    "        print(a[prev], a[curr], a[next])\n",
    "    prev += 1\n",
    "    curr += 1\n",
    "    next += 1\n",
    "print(result)        "
   ]
  },
  {
   "cell_type": "markdown",
   "metadata": {},
   "source": [
    "### Largest Sum Contiguous Subarray\n"
   ]
  },
  {
   "cell_type": "code",
   "execution_count": 33,
   "metadata": {},
   "outputs": [
    {
     "name": "stdout",
     "output_type": "stream",
     "text": [
      "6\n",
      "-1\n"
     ]
    }
   ],
   "source": [
    "a = [-2, -3, 4, -1, -2, 1, 5, -3]\n",
    "max_so_far = a[0]\n",
    "max_ending_here = 0\n",
    "for i in a:\n",
    "    max_ending_here += a[i]\n",
    "    if max_so_far < max_ending_here:\n",
    "        max_so_far = max_ending_here\n",
    "    if max_ending_here < 0:\n",
    "        max_ending_here = 0\n",
    "print(max_so_far)\n",
    "print(sum(a))          \n",
    "\n",
    "# Time Complexity: O(n)\n",
    "# Auxiliary Space: O(1)"
   ]
  },
  {
   "cell_type": "code",
   "execution_count": 36,
   "metadata": {},
   "outputs": [
    {
     "name": "stdout",
     "output_type": "stream",
     "text": [
      "6\n"
     ]
    }
   ],
   "source": [
    "a = [-2, -3, 4, -1, -2, 1, 5, -3]\n",
    "maxS = 0\n",
    "currS = 0\n",
    "for i in a:\n",
    "    maxS += a[i]\n",
    "    if currS < maxS:\n",
    "        currS = maxS\n",
    "    if maxS < 0:\n",
    "        maxS = 0\n",
    "print(currS)            "
   ]
  },
  {
   "cell_type": "code",
   "execution_count": 31,
   "metadata": {},
   "outputs": [
    {
     "name": "stdout",
     "output_type": "stream",
     "text": [
      "Current Max :  -3\n",
      "Max So Far :  -2\n",
      "Current Max :  4\n",
      "Max So Far :  4\n",
      "Current Max :  3\n",
      "Max So Far :  4\n",
      "Current Max :  1\n",
      "Max So Far :  4\n",
      "Current Max :  2\n",
      "Max So Far :  4\n",
      "Current Max :  11\n",
      "Max So Far :  11\n",
      "Current Max :  8\n",
      "Max So Far :  11\n",
      "11\n"
     ]
    }
   ],
   "source": [
    "a = [-2, -3, 4, -1, -2, 1, 9, -3]\n",
    "\n",
    "max_so_far = a[0]\n",
    "current_max = a[0]\n",
    "\n",
    "for i in range(1, len(a)):\n",
    "    current_max = max(a[i], current_max + a[i])\n",
    "    print(\"Current Max : \",current_max)\n",
    "    max_so_far = max(max_so_far, current_max)\n",
    "    print(\"Max So Far : \",max_so_far)\n",
    "\n",
    "print(max_so_far)    "
   ]
  },
  {
   "cell_type": "markdown",
   "metadata": {},
   "source": [
    "## Longest Substring Without Repeating Characters\n",
    "    Problem Statement\n",
    "    \n",
    "    Given a string S. The task is to find the length of the longest substring without repeating characters.\n",
    "    A substring is a contiguous sequence of characters within a string. For example – “view” is a substring of the string “Interviewbit”.\n",
    "\n",
    "Examples:\n",
    "\n",
    "Input: S = “abcabcbb”\n",
    "Output: 3\n",
    "\n",
    "Explanation:\n",
    "\n",
    "“abc” is the longest substring without repeating characters among all the substrings.\n",
    "\n",
    "Input:  S = “pwwkew”\n",
    "Output: 3\n",
    "\n",
    "Explanation:\n",
    "\n",
    "“wke” is the longest substring without repeating characters among all the substrings.\n"
   ]
  },
  {
   "cell_type": "code",
   "execution_count": 53,
   "metadata": {},
   "outputs": [
    {
     "data": {
      "text/plain": [
       "3"
      ]
     },
     "execution_count": 53,
     "metadata": {},
     "output_type": "execute_result"
    }
   ],
   "source": [
    "def lengthOfLongestSubstring(a):\n",
    "    charSet = set()\n",
    "    l = 0\n",
    "    result = 0\n",
    "    \n",
    "    for r in range(len(a)):\n",
    "        while a[r] in charSet:\n",
    "            charSet.remove(a[l])\n",
    "            l += 1\n",
    "        charSet.add(a[r])\n",
    "        result = max(result, r - l + 1)\n",
    "    return result\n",
    "lengthOfLongestSubstring(a=\"hello\")    "
   ]
  },
  {
   "cell_type": "markdown",
   "metadata": {},
   "source": [
    "### 🏆 AlgoExpert String - 1"
   ]
  },
  {
   "cell_type": "code",
   "execution_count": 36,
   "metadata": {},
   "outputs": [
    {
     "data": {
      "text/plain": [
       "'bcd'"
      ]
     },
     "execution_count": 36,
     "metadata": {},
     "output_type": "execute_result"
    }
   ],
   "source": [
    "def stringNew(string, key):\n",
    "    newLetter = []\n",
    "    newKey = key % 26\n",
    "    alphabets = list(\"abcdefghijklmnopqrstuvwxyz\")\n",
    "    \n",
    "    for letter in string:\n",
    "        newLetter.append(getNewLetter(letter, newKey, alphabets))\n",
    "    return \"\".join(newLetter)\n",
    "\n",
    "def getNewLetter(letter, key, alphabets):\n",
    "    getNewCode = alphabets.index(letter) + key\n",
    "    return alphabets[getNewCode % 26] \n",
    "\n",
    "stringNew(\"abc\", 1)"
   ]
  },
  {
   "cell_type": "markdown",
   "metadata": {},
   "source": [
    "### 🏆 AlgoExpert String - 2"
   ]
  },
  {
   "cell_type": "code",
   "execution_count": 59,
   "metadata": {},
   "outputs": [
    {
     "data": {
      "text/plain": [
       "'7A2B1C4D'"
      ]
     },
     "execution_count": 59,
     "metadata": {},
     "output_type": "execute_result"
    }
   ],
   "source": [
    "def runLE(string):\n",
    "    newS = []\n",
    "    runL = 1\n",
    "    \n",
    "    for i in range(1, len(string)):\n",
    "        curr = string[i]\n",
    "        prev = string[i - 1]\n",
    "        \n",
    "        if curr != prev or runL == 9:\n",
    "            newS.append(str(runL))\n",
    "            newS.append(prev)\n",
    "            runL = 0\n",
    "        \n",
    "        runL += 1\n",
    "    \n",
    "    newS.append(str(runL))\n",
    "    newS.append(prev)\n",
    "    # newS.append(string[len(string) - 1])\n",
    "        \n",
    "    return \"\".join(newS)   \n",
    "\n",
    "runLE(\"AAAAAAABBCDDDD\")     \n",
    "            "
   ]
  },
  {
   "cell_type": "markdown",
   "metadata": {},
   "source": [
    "### 🏆 AlgoExpert String - 3"
   ]
  },
  {
   "cell_type": "code",
   "execution_count": 72,
   "metadata": {},
   "outputs": [
    {
     "name": "stdout",
     "output_type": "stream",
     "text": [
      "{'a': 1}\n",
      "{'a': 1, 'b': 1}\n",
      "{'a': 1, 'b': 1, 'c': 1}\n",
      "{'a': 1, 'b': 1, 'c': 1, 'd': 1}\n",
      "{'a': 1, 'b': 1, 'c': 1, 'd': 1, 'e': 1}\n",
      "True\n"
     ]
    }
   ],
   "source": [
    "characters = \"abcde\"\n",
    "document = \"abde\"\n",
    "\n",
    "charCount = {}\n",
    "\n",
    "for char in characters:\n",
    "    if char not in charCount:\n",
    "        charCount[char] = 0\n",
    "    charCount[char] += 1   \n",
    "    print(charCount)\n",
    "for char in document:\n",
    "    if char not in charCount or charCount[char] == 0:\n",
    "        print(False)\n",
    "    charCount[char] -= 1         \n",
    "\n",
    "print(True)        "
   ]
  },
  {
   "cell_type": "markdown",
   "metadata": {},
   "source": [
    "### Fibbonaci Number Using Recursion"
   ]
  },
  {
   "cell_type": "code",
   "execution_count": 5,
   "metadata": {},
   "outputs": [
    {
     "data": {
      "text/plain": [
       "55"
      ]
     },
     "execution_count": 5,
     "metadata": {},
     "output_type": "execute_result"
    }
   ],
   "source": [
    "def fib(n):\n",
    "    if n <= 1:\n",
    "        return n\n",
    "    return fib(n - 1) + fib(n - 2)\n",
    "\n",
    "fib(10)"
   ]
  },
  {
   "cell_type": "markdown",
   "metadata": {},
   "source": [
    "### 🏆 AlgoExpert String - 4"
   ]
  },
  {
   "cell_type": "code",
   "execution_count": 75,
   "metadata": {},
   "outputs": [
    {
     "name": "stdout",
     "output_type": "stream",
     "text": [
      "The First Non-Repeating Character Is \"a\" And Found At Index 0\n"
     ]
    }
   ],
   "source": [
    "a = \"abc\"\n",
    "for i in a:\n",
    "    if a.count(i) == 1:\n",
    "        print('The First Non-Repeating Character Is \"{}\" And Found At Index {}'.format(i, a.index(i)))\n",
    "        break\n",
    "else:\n",
    "    print(-1)"
   ]
  },
  {
   "cell_type": "code",
   "execution_count": 76,
   "metadata": {},
   "outputs": [
    {
     "name": "stdout",
     "output_type": "stream",
     "text": [
      "{'a': 1}\n",
      "{'a': 1, 'b': 1}\n",
      "{'a': 1, 'b': 1, 'c': 1}\n"
     ]
    },
    {
     "data": {
      "text/plain": [
       "0"
      ]
     },
     "execution_count": 76,
     "metadata": {},
     "output_type": "execute_result"
    }
   ],
   "source": [
    "def firstNonRepe(abc):\n",
    "    cchaFreq = {}\n",
    "    for i in a:\n",
    "        cchaFreq[i] = cchaFreq.get(i, 0) + 1\n",
    "        print(cchaFreq)\n",
    "    for idx in range(len(a)):\n",
    "        char = a[idx]\n",
    "        if cchaFreq[char] == 1:\n",
    "            return idx\n",
    "    return - 1\n",
    "\n",
    "firstNonRepe(\"abc\")"
   ]
  },
  {
   "cell_type": "code",
   "execution_count": 65,
   "metadata": {},
   "outputs": [
    {
     "name": "stdout",
     "output_type": "stream",
     "text": [
      "['Jeewan', 'Is', 'My', 'Name']\n",
      "['Name', 'My', 'Is', 'Jeewan']\n",
      "Name My Is Jeewan\n"
     ]
    }
   ],
   "source": [
    "a = \"Jeewan Is My Name\"\n",
    "\n",
    "b = a.split()\n",
    "print(b)\n",
    "c = b[::-1]\n",
    "print(c)\n",
    "d = \" \".join(c)\n",
    "print(d)"
   ]
  },
  {
   "cell_type": "markdown",
   "metadata": {},
   "source": [
    "### Map() Function takes map(function, iterable list etc..)"
   ]
  },
  {
   "cell_type": "code",
   "execution_count": 19,
   "metadata": {},
   "outputs": [
    {
     "name": "stdout",
     "output_type": "stream",
     "text": [
      "[1, 4, 9, 16, 25, 36]\n"
     ]
    }
   ],
   "source": [
    "n = [1,2,3,4,5,6]\n",
    "\n",
    "d = lambda x: x * x\n",
    "\n",
    "c = map(d, n)\n",
    "\n",
    "print(list(c))"
   ]
  },
  {
   "cell_type": "markdown",
   "metadata": {},
   "source": [
    "### 🏆 AlgoExpert String - 6"
   ]
  },
  {
   "cell_type": "code",
   "execution_count": 78,
   "metadata": {},
   "outputs": [
    {
     "name": "stdout",
     "output_type": "stream",
     "text": [
      "[['yo', 'oy'], ['act', 'tac', 'cat'], ['flop', 'olfp'], ['foo']]\n"
     ]
    }
   ],
   "source": [
    "words = [\"yo\", \"act\", \"flop\", \"tac\", \"foo\", \"cat\", \"oy\", \"olfp\"]\n",
    "\n",
    "anagram = {}\n",
    "\n",
    "for word in words:\n",
    "    sortedWords = \"\".join(sorted(word))\n",
    "    if sortedWords in anagram:\n",
    "        anagram[sortedWords].append(word)\n",
    "    else:\n",
    "        anagram[sortedWords] = [word]    \n",
    "print(list(anagram.values()))    "
   ]
  },
  {
   "cell_type": "markdown",
   "metadata": {},
   "source": [
    "### 🏆 AlgoExpert String - 10"
   ]
  },
  {
   "cell_type": "code",
   "execution_count": 27,
   "metadata": {},
   "outputs": [
    {
     "name": "stdout",
     "output_type": "stream",
     "text": [
      "bacdef\n"
     ]
    }
   ],
   "source": [
    "string = \"abacdefabc\"\n",
    "\n",
    "lastSeen = {}\n",
    "longest = [0, 1]\n",
    "startIdx = 0\n",
    "\n",
    "for i, char in enumerate(string):\n",
    "    if char in lastSeen:\n",
    "        startIdx = max(startIdx, lastSeen[char] + 1)\n",
    "    if longest[1] - longest[0] < i + 1 - startIdx:\n",
    "        longest = [startIdx, i + 1]\n",
    "    lastSeen[char] = i\n",
    "print(string[longest[0] : longest[1]])    \n",
    "        "
   ]
  },
  {
   "cell_type": "code",
   "execution_count": 1,
   "metadata": {},
   "outputs": [
    {
     "name": "stdout",
     "output_type": "stream",
     "text": [
      "{'j': 6, 'e': 8, 'w': 9, 'a': 10, 'n': 11}\n",
      "ewanj\n"
     ]
    }
   ],
   "source": [
    "a = \"jeewanjeewan\"\n",
    "\n",
    "lastS = {}\n",
    "lon = [0, 1]\n",
    "sIdx = 0\n",
    "\n",
    "for i, char in enumerate(a):\n",
    "    if char in lastS:\n",
    "        sIdx = max(sIdx, lastS[char] + 1)\n",
    "    if lon[1] - lon[0] < i + 1 - sIdx:\n",
    "        lon = [sIdx, i + 1]\n",
    "    lastS[char] = i \n",
    "print(lastS)    \n",
    "print(a[lon[0] : lon[1]])           "
   ]
  },
  {
   "cell_type": "markdown",
   "metadata": {},
   "source": [
    "### Reverse a String"
   ]
  },
  {
   "cell_type": "code",
   "execution_count": 10,
   "metadata": {},
   "outputs": [
    {
     "name": "stdout",
     "output_type": "stream",
     "text": [
      "fedcba\n"
     ]
    }
   ],
   "source": [
    "b = \"abcdef\"\n",
    "s = 0\n",
    "e = len(a) - 1\n",
    "a = list(b)\n",
    "while s <= e:\n",
    "    a[s], a[e] = a[e], a[s]\n",
    "    s += 1\n",
    "    e -= 1\n",
    "c = \"\".join(a)\n",
    "print(c)"
   ]
  },
  {
   "cell_type": "markdown",
   "metadata": {},
   "source": [
    "### 🏆 AlgoExpert Searching - 1"
   ]
  },
  {
   "cell_type": "code",
   "execution_count": 7,
   "metadata": {},
   "outputs": [
    {
     "name": "stdout",
     "output_type": "stream",
     "text": [
      "28 Value found at index 5\n"
     ]
    }
   ],
   "source": [
    "a = [0, 4, 5, 12, 15, 28, 34, 35]\n",
    "t = 28\n",
    "left = 0\n",
    "right = len(a) - 1\n",
    "while left <= right:\n",
    "    mid = (left + right) // 2\n",
    "    pMatch = a[mid]\n",
    "    if pMatch == t:\n",
    "        print(t, \"Value found at index\", mid)\n",
    "        break\n",
    "    elif pMatch < t:\n",
    "        left = mid + 1\n",
    "    else:\n",
    "        right = mid - 1        \n",
    "else:\n",
    "    print(-1)        "
   ]
  },
  {
   "cell_type": "markdown",
   "metadata": {},
   "source": [
    "### 🏆 AlgoExpert Searching - 2"
   ]
  },
  {
   "cell_type": "code",
   "execution_count": 15,
   "metadata": {},
   "outputs": [
    {
     "data": {
      "text/plain": [
       "[11, 22, 61]"
      ]
     },
     "execution_count": 15,
     "metadata": {},
     "output_type": "execute_result"
    }
   ],
   "source": [
    "def findThreeLargestNumbers(arr):\n",
    "    largestThree = [None, None, None]\n",
    "    for num in arr:\n",
    "        updateL(largestThree, num)\n",
    "    return largestThree\n",
    "\n",
    "def updateL(largestThree, num):\n",
    "    if largestThree[2] is None or num > largestThree[2]:\n",
    "        helper(largestThree, num, 2)\n",
    "    elif largestThree[1] is None or num > largestThree[1]:\n",
    "        helper(largestThree, num, 1) \n",
    "    elif largestThree[0] is None or num > largestThree[0]:\n",
    "        helper(largestThree, num, 0)   \n",
    "\n",
    "def helper(array, num, idx):\n",
    "    for i in range(idx + 1):\n",
    "        if i == idx:\n",
    "            array[i] = num\n",
    "        else:\n",
    "            array[i] = array[i + 1]                \n",
    "        \n",
    "findThreeLargestNumbers([2,3,1,2,4,6,7,4,3,1,2,22,11,61])             \n",
    "    "
   ]
  },
  {
   "cell_type": "markdown",
   "metadata": {},
   "source": [
    "### 🏆 AlgoExpert Searching - 3"
   ]
  },
  {
   "cell_type": "code",
   "execution_count": 25,
   "metadata": {},
   "outputs": [
    {
     "name": "stdout",
     "output_type": "stream",
     "text": [
      "[2, 3]\n"
     ]
    }
   ],
   "source": [
    "matrix = [[1,2,3,4],\n",
    "          [2,3,4,5],\n",
    "          [4,5,6,7],\n",
    "          [5,6,7,8]]\n",
    "target = 7\n",
    "\n",
    "row = 0\n",
    "col = len(matrix[0]) - 1\n",
    "\n",
    "while row < len(matrix) and col >= 0:\n",
    "    if matrix[row][col] > target:\n",
    "        col -= 1\n",
    "    elif matrix[row][col] < target:\n",
    "        row += 1\n",
    "    else:\n",
    "        print([row, col])\n",
    "        break\n",
    "else:\n",
    "    print([-1, -1])                "
   ]
  },
  {
   "cell_type": "markdown",
   "metadata": {},
   "source": [
    "### 🏆 AlgoExpert Searching - 4"
   ]
  },
  {
   "cell_type": "code",
   "execution_count": null,
   "metadata": {},
   "outputs": [],
   "source": []
  },
  {
   "cell_type": "markdown",
   "metadata": {},
   "source": [
    "### 🏆 AlgoExpert Searching - 5"
   ]
  },
  {
   "cell_type": "code",
   "execution_count": 29,
   "metadata": {},
   "outputs": [
    {
     "name": "stdout",
     "output_type": "stream",
     "text": [
      "5\n"
     ]
    }
   ],
   "source": [
    "array = [-5, -3, 0, 1, 2, 5, 7]\n",
    "\n",
    "for i in range(len(array)):\n",
    "    value = array[i]\n",
    "    if i == value:\n",
    "        print(i)\n",
    "        break\n",
    "else:\n",
    "    print(-1)        "
   ]
  },
  {
   "cell_type": "markdown",
   "metadata": {},
   "source": [
    "### 🏆 AlgoExpert Sorting - 1\n",
    "    Bubble Sort"
   ]
  },
  {
   "cell_type": "code",
   "execution_count": 10,
   "metadata": {},
   "outputs": [
    {
     "name": "stdout",
     "output_type": "stream",
     "text": [
      "[1, 2, 4, 5, 6, 12, 14, 21]\n"
     ]
    }
   ],
   "source": [
    "a = [2, 14, 21, 5, 6, 12, 1, 4]\n",
    "\n",
    "isSorted = False\n",
    "count = 0\n",
    "\n",
    "while not isSorted:\n",
    "    isSorted = True\n",
    "    for i in range(len(a) - 1 - count):\n",
    "        if a[i] > a[i + 1]:\n",
    "            a[i], a[i + 1] = a[i + 1], a[i]\n",
    "            isSorted = False\n",
    "    count += 1\n",
    "\n",
    "print(a)    \n",
    "                "
   ]
  },
  {
   "cell_type": "markdown",
   "metadata": {},
   "source": [
    "### 🏆 AlgoExpert Sorting - 2\n",
    "    Insertion Sort"
   ]
  },
  {
   "cell_type": "code",
   "execution_count": 27,
   "metadata": {},
   "outputs": [
    {
     "name": "stdout",
     "output_type": "stream",
     "text": [
      "[1, 2, 4, 5, 6, 12, 14, 21]\n"
     ]
    }
   ],
   "source": [
    "a = [2, 14, 21, 5, 6, 12, 1, 4]\n",
    "\n",
    "for i in range(1, len(a)):\n",
    "    j = i\n",
    "    while j > 0 and a[j] < a[j - 1]:\n",
    "        a[j], a[j - 1] = a[j - 1], a[j]\n",
    "        j -= 1\n",
    "print(a)            "
   ]
  },
  {
   "cell_type": "markdown",
   "metadata": {},
   "source": [
    "### 🏆 AlgoExpert Sorting - 4\n",
    "    Three Number Sort"
   ]
  },
  {
   "cell_type": "code",
   "execution_count": 31,
   "metadata": {},
   "outputs": [
    {
     "name": "stdout",
     "output_type": "stream",
     "text": [
      "[0, 0, 0, 1, 1, 1, 1, 2, 2, 2, 2]\n"
     ]
    }
   ],
   "source": [
    "arr = [2, 1, 0, 1, 2, 1, 0, 1, 0, 2, 2]\n",
    "order = [0, 1, 2]\n",
    "\n",
    "firstValue = order[0]\n",
    "thirdValue = order[2]\n",
    "\n",
    "firstIdx = 0\n",
    "for i in range(len(arr)):\n",
    "    if arr[i] == firstValue:\n",
    "        arr[i], arr[firstIdx] = arr[firstIdx], arr[i]\n",
    "        firstIdx += 1\n",
    "        \n",
    "thirdIdx = len(arr) - 1\n",
    "for j in range(len(arr) - 1, - 1, - 1):\n",
    "    if arr[j] == thirdValue:\n",
    "        arr[j], arr[thirdIdx] = arr[firstIdx], arr[j]\n",
    "        thirdIdx -= 1\n",
    "\n",
    "print(arr)        "
   ]
  },
  {
   "cell_type": "markdown",
   "metadata": {},
   "source": [
    "### Telegram Company Test - 1\n",
    "    Input : 14AB6D7E     [ String ]\n",
    "    Output : 0146        [ Index of Integers in String ]"
   ]
  },
  {
   "cell_type": "code",
   "execution_count": 22,
   "metadata": {},
   "outputs": [
    {
     "name": "stdout",
     "output_type": "stream",
     "text": [
      "0146\n"
     ]
    }
   ],
   "source": [
    "s = \"14AB6D7E\"\n",
    "l = ['0','1','2','3','4','5','6','7','8','9']\n",
    "b = []\n",
    "for idx, char in enumerate(s):\n",
    "    if char in l:\n",
    "        b.append(idx)\n",
    "g = \"\".join(str(p) for p in b)  \n",
    "print(g)    \n"
   ]
  },
  {
   "cell_type": "markdown",
   "metadata": {},
   "source": [
    "### Telegram Company Test - 2\n",
    "    Input : 30       [ Integer ]\n",
    "    Output : 27      [ Factor of 30 plus it's Sum is 1 + 2 + 3 + 5 + 6 + 10 + 15 + 30 = 72, Reverse = 27 ]   "
   ]
  },
  {
   "cell_type": "code",
   "execution_count": 39,
   "metadata": {},
   "outputs": [
    {
     "name": "stdout",
     "output_type": "stream",
     "text": [
      "27\n"
     ]
    }
   ],
   "source": [
    "a = []\n",
    "for i in range(1, 31):\n",
    "    if 30 % i == 0:\n",
    "        a.append(i)\n",
    "    else:\n",
    "        continue   \n",
    "b = sum(a)\n",
    "c = str(b)[::-1]\n",
    "print(int(c))\n"
   ]
  },
  {
   "cell_type": "code",
   "execution_count": 33,
   "metadata": {},
   "outputs": [
    {
     "name": "stdout",
     "output_type": "stream",
     "text": [
      "Reversed Number: 4321\n"
     ]
    }
   ],
   "source": [
    "num = 1234\n",
    "reversed_num = 0\n",
    "\n",
    "while num != 0:\n",
    "    digit = num % 10\n",
    "    reversed_num = reversed_num * 10 + digit\n",
    "    num //= 10\n",
    "\n",
    "print(\"Reversed Number: \" + str(reversed_num))"
   ]
  },
  {
   "cell_type": "markdown",
   "metadata": {},
   "source": [
    "### 🏆 AlgoExpert Stack - 2\n"
   ]
  },
  {
   "cell_type": "code",
   "execution_count": 48,
   "metadata": {},
   "outputs": [
    {
     "name": "stdout",
     "output_type": "stream",
     "text": [
      "['('] --- 1\n",
      "['(', '['] --- 1\n",
      "['('] --- 3\n",
      "[] --- 3\n",
      "True\n"
     ]
    }
   ],
   "source": [
    "string = \"([])\"\n",
    "openingBrackets = \"([{\"\n",
    "closingBrackets = \")]}\"\n",
    "stack = []\n",
    "matchingBrackets = {')': '(', '}': '{', ']': '['}\n",
    "\n",
    "for char in string:\n",
    "    if char in openingBrackets:\n",
    "        stack.append(char)\n",
    "        print(stack, \"--- 1\")\n",
    "    elif char in closingBrackets:\n",
    "        if len(stack) == 0:\n",
    "            print(False)\n",
    "            print(stack, \"--- 2\")\n",
    "            break\n",
    "        if stack[-1] == matchingBrackets[char]:\n",
    "            stack.pop()\n",
    "            print(stack, \"--- 3\")\n",
    "        else:\n",
    "            print(False)\n",
    "            print(stack, \"--- 4\")\n",
    "            break\n",
    "print(len(stack) == 0)  "
   ]
  },
  {
   "cell_type": "markdown",
   "metadata": {},
   "source": [
    "### 🏆 AlgoExpert Stack - 3"
   ]
  },
  {
   "cell_type": "code",
   "execution_count": 68,
   "metadata": {},
   "outputs": [
    {
     "name": "stdout",
     "output_type": "stream",
     "text": [
      "[1, 3, 6, 7]\n"
     ]
    }
   ],
   "source": [
    "buildings = [3, 5, 4, 4, 3, 1, 3, 2]\n",
    "direction = \"EAST\"\n",
    "\n",
    "# OUTPUT = [1, 3, 6, 7]\n",
    "\n",
    "buildingsWithView = []\n",
    "startIdx = 0 if direction == \"WEST\" else len(buildings) - 1\n",
    "step = 1 if direction == \"WEST\" else - 1\n",
    "\n",
    "idx = startIdx\n",
    "runningMaxHeight = 0\n",
    "\n",
    "while idx >= 0 and idx < len(buildings):\n",
    "    buildingHeight = buildings[idx]\n",
    "    if buildingHeight > runningMaxHeight:\n",
    "        buildingsWithView.append(idx)\n",
    "    \n",
    "    runningMaxHeight = max(runningMaxHeight, buildingHeight)\n",
    "    \n",
    "    idx += step\n",
    "\n",
    "if direction == \"EAST\":\n",
    "    print(buildingsWithView[::-1])    \n",
    "else:\n",
    "    print(buildingsWithView)        "
   ]
  },
  {
   "cell_type": "markdown",
   "metadata": {},
   "source": [
    "### Map Function - map()"
   ]
  },
  {
   "cell_type": "code",
   "execution_count": 11,
   "metadata": {},
   "outputs": [
    {
     "name": "stdout",
     "output_type": "stream",
     "text": [
      "[0, 2, 4, 6, 8, 10, 12, 14, 16, 18, 20, 22, 24, 26, 28, 30, 32, 34, 36, 38, 40, 42, 44, 46, 48, 50]\n"
     ]
    }
   ],
   "source": [
    "def square(x):\n",
    "    return x * 2\n",
    "l = [ i for i in range(26)]\n",
    "a = map(square, l)\n",
    "print(list(a))"
   ]
  },
  {
   "cell_type": "code",
   "execution_count": 26,
   "metadata": {},
   "outputs": [
    {
     "name": "stdout",
     "output_type": "stream",
     "text": [
      "{1: 1, 2: 4, 3: 9, 4: 16, 5: 25}\n"
     ]
    }
   ],
   "source": [
    "list = [1,2,3,4,5]\n",
    "d = {x: x * x for x in list}\n",
    "print(d)"
   ]
  },
  {
   "cell_type": "code",
   "execution_count": 36,
   "metadata": {},
   "outputs": [
    {
     "name": "stdout",
     "output_type": "stream",
     "text": [
      "[(1, 1), (1, 2), (1, 3), (2, 1), (2, 2), (2, 3), (3, 1), (3, 2), (3, 3)]\n",
      "[2, 4, 6]\n"
     ]
    }
   ],
   "source": [
    "a = [1,2,3]\n",
    "b = [1,2,3]\n",
    "c = zip(a, b)\n",
    "print([(x, y) for x in a for y in b])\n",
    "print([(x + y) for x, y in zip(a, b)])"
   ]
  },
  {
   "cell_type": "markdown",
   "metadata": {},
   "source": [
    "### How does inheritance work in python ? Explain it withan example.\n",
    "    Single Inheritance"
   ]
  },
  {
   "cell_type": "code",
   "execution_count": 1,
   "metadata": {},
   "outputs": [
    {
     "name": "stdout",
     "output_type": "stream",
     "text": [
      "Parent\n",
      "Child\n"
     ]
    }
   ],
   "source": [
    "class Parant:\n",
    "    def par(self):\n",
    "        print(\"Parent\")\n",
    "class Child(Parant):\n",
    "    def chi(self):\n",
    "        print(\"Child\")\n",
    "obj1 = Child()\n",
    "obj1.par()\n",
    "obj1.chi()                "
   ]
  },
  {
   "cell_type": "markdown",
   "metadata": {},
   "source": [
    "### Python function which takes variable number of arguments\n",
    "    The * in the function argument represents variable arguments in the function."
   ]
  },
  {
   "cell_type": "code",
   "execution_count": 15,
   "metadata": {},
   "outputs": [
    {
     "name": "stdout",
     "output_type": "stream",
     "text": [
      "23\n",
      "1\n",
      "2\n",
      "3\n"
     ]
    }
   ],
   "source": [
    "def fun(*var):\n",
    "    for i in var:\n",
    "        print(i)\n",
    "fun(23)        \n",
    "fun(1,2,3)"
   ]
  },
  {
   "cell_type": "code",
   "execution_count": 21,
   "metadata": {},
   "outputs": [
    {
     "name": "stdout",
     "output_type": "stream",
     "text": [
      "{'j': 1, 'e': 3, 'w': 1, 'a': 2, 'n': 2, ' ': 1, 't': 1, 'o': 1, 'g': 1, 'l': 1}\n"
     ]
    }
   ],
   "source": [
    "a = \"jeewan tongale\"\n",
    "d = {}\n",
    "for i in a:\n",
    "    d.update({i: a.count(i)})\n",
    "print(d)    "
   ]
  },
  {
   "cell_type": "markdown",
   "metadata": {},
   "source": [
    "### Dictionary Comprehension\n",
    "    squares = {}\n",
    "        for x in range(6):  \n",
    "        squares[x] = x*x\n",
    "    print(squares)"
   ]
  },
  {
   "cell_type": "code",
   "execution_count": 22,
   "metadata": {},
   "outputs": [
    {
     "name": "stdout",
     "output_type": "stream",
     "text": [
      "{0: 0, 1: 1, 2: 4, 3: 9, 4: 16, 5: 25}\n"
     ]
    }
   ],
   "source": [
    "squares = {x: x*x for x in range(6)}\n",
    "\n",
    "print(squares)"
   ]
  },
  {
   "cell_type": "markdown",
   "metadata": {},
   "source": [
    "### Addition Without + Operator"
   ]
  },
  {
   "cell_type": "code",
   "execution_count": 37,
   "metadata": {},
   "outputs": [
    {
     "name": "stdout",
     "output_type": "stream",
     "text": [
      "35\n"
     ]
    }
   ],
   "source": [
    "n1 = 12\n",
    "n2 = 23\n",
    "\n",
    "while n2 != 0:\n",
    "    data = n1 & n2\n",
    "    n1 = n1 ^ n2\n",
    "    n2 = data << 1\n",
    "print(n1)    \n",
    "    "
   ]
  },
  {
   "cell_type": "code",
   "execution_count": 44,
   "metadata": {},
   "outputs": [
    {
     "name": "stdout",
     "output_type": "stream",
     "text": [
      "Yes\n"
     ]
    }
   ],
   "source": [
    "import re\n",
    "a = \"abbbb\"\n",
    "pattern = \"ab{1,2}\"\n",
    "if re.search(pattern, a):\n",
    "    print(\"Yes\")"
   ]
  },
  {
   "cell_type": "code",
   "execution_count": 52,
   "metadata": {},
   "outputs": [
    {
     "name": "stdout",
     "output_type": "stream",
     "text": [
      "Counter({'key4': 300, 'key1': 250, 'key2': 200, 'key3': 200})\n"
     ]
    }
   ],
   "source": [
    "from collections import Counter\n",
    "d1 = {'key1': 50, 'key2': 100, 'key3':200} \n",
    "d2 = {'key1': 200, 'key2': 100, 'key4':300} \n",
    "new_dict = Counter(d1) + Counter(d2) \n",
    "print(new_dict)\n"
   ]
  },
  {
   "cell_type": "code",
   "execution_count": 21,
   "metadata": {},
   "outputs": [
    {
     "name": "stdout",
     "output_type": "stream",
     "text": [
      "gobrototime\n",
      "dict_values([1, 3, 1, 1, 2, 1, 1, 1])\n"
     ]
    }
   ],
   "source": [
    "a = [\"go\", \"bro\", \"to\", \"time\"]\n",
    "d = {}\n",
    "b = \"\".join(a)\n",
    "print(b)\n",
    "for i in b:\n",
    "    d.update({i: b.count(i)})\n",
    "print(d.values())"
   ]
  },
  {
   "cell_type": "markdown",
   "metadata": {},
   "source": [
    "## Word Wrap Problem\n",
    "    Given a sequence of words, and a limit on the number of characters that can be put in one line (line width). Put line breaks in the given sequence such that the lines are printed neatly. Assume that the length of each word is smaller than the line width.\n",
    "    The word processors like MS Word do task of placing line breaks. The idea is to have balanced lines. In other words, not have few lines with lots of extra spaces and some lines with small amount of extra spaces. \n",
    "\n",
    "The extra spaces includes spaces put at the end of every line except the last one.  \n",
    "The problem is to minimize the following total cost.\n",
    " Cost of a line = (Number of extra spaces in the line)^3\n",
    " Total Cost = Sum of costs for all lines\n",
    "\n",
    "For example, consider the following string and line width M = 15\n",
    " \"Geeks for Geeks presents word wrap problem\" \n",
    "     \n",
    "Following is the optimized arrangement of words in 3 lines\n",
    "Geeks for Geeks\n",
    "presents word\n",
    "wrap problem \n",
    "\n",
    "The total extra spaces in line 1, line 2 and line 3 are 0, 2 and 3 respectively. \n",
    "So optimal value of total cost is 0 + 2*2*2 + 3*3*3 = 35\n",
    "\n",
    "    Please note that the total cost function is not sum of extra spaces, but sum of cubes (or square is also used) of extra spaces. The idea behind this cost function is to balance the spaces among lines. For example, consider the following two arrangement of same set of words:\n",
    "    1) There are 3 lines. One line has 3 extra spaces and all other lines have 0 extra spaces. Total extra spaces = 3 + 0 + 0 = 3. Total cost = 3*3*3 + 0*0*0 + 0*0*0 = 27.\n",
    "    2) There are 3 lines. Each of the 3 lines has one extra space. Total extra spaces = 1 + 1 + 1 = 3. Total cost = 1*1*1 + 1*1*1 + 1*1*1 = 3.\n",
    "    Total extra spaces are 3 in both scenarios, but second arrangement should be preferred because extra spaces are balanced in all three lines. The cost function with cubic sum serves the purpose because the value of total cost in second scenario is less."
   ]
  },
  {
   "cell_type": "code",
   "execution_count": 55,
   "metadata": {},
   "outputs": [
    {
     "name": "stdout",
     "output_type": "stream",
     "text": [
      "Line number  1 : From word no.  1 to  1\n",
      "Line number  2 : From word no.  2 to  3\n",
      "Line number  3 : From word no.  4 to  4\n"
     ]
    }
   ],
   "source": [
    "# A Dynamic programming solution for Word Wrap Problem\n",
    "# A utility function to print the solution\n",
    "# l[] represents lengths of different words in input sequence. For example,\n",
    "# l[] = {3, 2, 2, 5} is for a sentence like \"aaa bb cc ddddd\". n is size of l[] and M is line width (maximum no. of characters that can fit in a line)\n",
    "\n",
    "INF = float(\"INF\")\n",
    "def printSolution(p, n):\n",
    "\tk = 0\n",
    "\tif p[n] == 1:\n",
    "\t\tk = 1\n",
    "\telse:\n",
    "\t\tk = printSolution(p, p[n] - 1) + 1\n",
    "\tprint('Line number ', k, ': From word no. ', p[n], 'to ', n)\n",
    "\treturn k\n",
    "\n",
    "def solveWordWrap (l, n, M):\n",
    "\t\n",
    "\t# l = [], n = len of l, M = line width\n",
    "\t# For simplicity, 1 extra space is used in all below arrays\n",
    "\t# extras[i][j] will have number of extra spaces if words from i to j are put in a single line\n",
    " \n",
    "\textras = [[0 for i in range(n + 1)] for i in range(n + 1)]\n",
    "\t\t\t\t\n",
    "\t# lc[i][j] will have cost of a line which has words from i to j\n",
    " \n",
    "\tlc = [[0 for i in range(n + 1)] for i in range(n + 1)]\n",
    "\t\t\t\n",
    "\t# c[i] will have total cost of optimal arrangement of words from 1 to i\n",
    " \n",
    "\tc = [0 for i in range(n + 1)]\n",
    "\t\n",
    "\t# p[] is used to print the solution.\n",
    " \n",
    "\tp = [0 for i in range(n + 1)]\n",
    "\t\n",
    "\t# calculate extra spaces in a single line. The value extra[i][j] indicates extra spaces if words from word number i to j are placed in a single line\n",
    " \n",
    "\tfor i in range(n + 1):\n",
    "\t\textras[i][i] = M - l[i - 1]\n",
    "\t\tfor j in range(i + 1, n + 1):\n",
    "\t\t\textras[i][j] = (extras[i][j - 1] - l[j - 1] - 1)\n",
    "\t\t\t\t\t\t\t\t\t\n",
    "\t# Calculate line cost corresponding to the above calculated extra spaces. The value lc[i][j] indicates cost of putting words from word number i to j in a single line\n",
    " \n",
    "\tfor i in range(n + 1):\n",
    "\t\tfor j in range(i, n + 1):\n",
    "\t\t\tif extras[i][j] < 0:\n",
    "\t\t\t\tlc[i][j] = INF;\n",
    "\t\t\telif j == n and extras[i][j] >= 0:\n",
    "\t\t\t\tlc[i][j] = 0\n",
    "\t\t\telse:\n",
    "\t\t\t\tlc[i][j] = (extras[i][j] * extras[i][j])\n",
    "\n",
    "\t# Calculate minimum cost and find minimum cost arrangement. The value c[j] indicates optimized cost to arrange words from word number 1 to j.\n",
    " \n",
    "\tc[0] = 0\n",
    "\tfor j in range(1, n + 1):\n",
    "\t\tc[j] = INF\n",
    "\t\tfor i in range(1, j + 1):\n",
    "\t\t\tif (c[i - 1] != INF and lc[i][j] != INF and ((c[i - 1] + lc[i][j]) < c[j])):\n",
    "\t\t\t\tc[j] = c[i-1] + lc[i][j]\n",
    "\t\t\t\tp[j] = i\n",
    "\tprintSolution(p, n)\n",
    "\t\n",
    "# Driver Code\n",
    "\n",
    "l = [3, 2, 2, 5]\n",
    "n = len(l)\n",
    "M = 6\n",
    "solveWordWrap(l, n, M)"
   ]
  },
  {
   "cell_type": "markdown",
   "metadata": {},
   "source": [
    "### Shortest Unique Prefix\n",
    "    Find shortest unique prefix to represent each word in the list.\n",
    "\n",
    "    Example:\n",
    "\n",
    "Input: [zebra, dog, duck, dove]\n",
    "\n",
    "Output: {z, dog, du, dov}\n",
    "\n",
    "where we can see that\n",
    "\n",
    "zebra = z\n",
    "\n",
    "dog = dog\n",
    "\n",
    "duck = du\n",
    "\n",
    "dove = dov\n",
    "\n",
    "NOTE : Assume that no word is prefix of another. In other words, the representation is always possible."
   ]
  },
  {
   "cell_type": "code",
   "execution_count": 7,
   "metadata": {},
   "outputs": [
    {
     "ename": "NameError",
     "evalue": "name 'zebra' is not defined",
     "output_type": "error",
     "traceback": [
      "\u001b[0;31m---------------------------------------------------------------------------\u001b[0m",
      "\u001b[0;31mNameError\u001b[0m                                 Traceback (most recent call last)",
      "\u001b[0;32m<ipython-input-7-448aa490d10f>\u001b[0m in \u001b[0;36m<module>\u001b[0;34m\u001b[0m\n\u001b[1;32m     23\u001b[0m             \u001b[0mres\u001b[0m\u001b[0;34m.\u001b[0m\u001b[0mappend\u001b[0m\u001b[0;34m(\u001b[0m\u001b[0mprefix\u001b[0m\u001b[0;34m)\u001b[0m\u001b[0;34m\u001b[0m\u001b[0;34m\u001b[0m\u001b[0m\n\u001b[1;32m     24\u001b[0m         \u001b[0;32mreturn\u001b[0m \u001b[0mres\u001b[0m\u001b[0;34m\u001b[0m\u001b[0;34m\u001b[0m\u001b[0m\n\u001b[0;32m---> 25\u001b[0;31m \u001b[0mprefix\u001b[0m\u001b[0;34m(\u001b[0m\u001b[0;34m[\u001b[0m\u001b[0mzebra\u001b[0m\u001b[0;34m,\u001b[0m \u001b[0mdog\u001b[0m\u001b[0;34m,\u001b[0m \u001b[0mduck\u001b[0m\u001b[0;34m,\u001b[0m \u001b[0mdove\u001b[0m\u001b[0;34m]\u001b[0m\u001b[0;34m)\u001b[0m\u001b[0;34m\u001b[0m\u001b[0;34m\u001b[0m\u001b[0m\n\u001b[0m",
      "\u001b[0;31mNameError\u001b[0m: name 'zebra' is not defined"
     ]
    }
   ],
   "source": [
    "from sys import prefix\n",
    "\n",
    "\n",
    "class Solution:\n",
    "    # @param A : list of strings\n",
    "    # @return a list of strings\n",
    "    def prefix(A):\n",
    "        prefix_dict = {}\n",
    "        for word in A:\n",
    "            for i in range(len(word)):\n",
    "                if word[:i] not in prefix_dict:\n",
    "                    prefix_dict[word[:i]] = 1\n",
    "                else:\n",
    "                    prefix_dict[word[:i]] += 1\n",
    "        res = []\n",
    "        for word in A:\n",
    "            prefix = word\n",
    "            for i in range(len(word)):\n",
    "                curr_pref = word[:i]\n",
    "                if prefix_dict[curr_pref]==1:\n",
    "                    prefix = curr_pref\n",
    "                    break\n",
    "            res.append(prefix)               \n",
    "        return res\n",
    "prefix([zebra, dog, duck, dove])  \n"
   ]
  },
  {
   "cell_type": "code",
   "execution_count": 70,
   "metadata": {},
   "outputs": [
    {
     "name": "stdout",
     "output_type": "stream",
     "text": [
      "A\n",
      "BON\n",
      "BOO\n",
      "CAS\n",
      "CAT\n",
      "CH\n"
     ]
    }
   ],
   "source": [
    "# A class to store a Trie node\n",
    "class TrieNode:\n",
    "    def __init__(self):\n",
    "        # each node stores a dictionary to its child nodes\n",
    "        self.child = {}\n",
    " \n",
    "        # keep track of the total number of times the current node is visited\n",
    "        # while inserting data in Trie\n",
    "        self.freq = 0\n",
    " \n",
    " \n",
    "# Function to insert a given string into a Trie\n",
    "def insert(root, word):\n",
    " \n",
    "    # start from the root node\n",
    "    curr = root\n",
    "    for c in word:\n",
    "        # create a new node if the path doesn't exist\n",
    "        curr.child.setdefault(c, TrieNode())\n",
    " \n",
    "        # increment frequency\n",
    "        curr.child[c].freq += 1\n",
    " \n",
    "        # go to the next node\n",
    "        curr = curr.child[c]\n",
    " \n",
    " \n",
    "# Function to recursively traverse the Trie in a preorder fashion and\n",
    "# print the shortest unique prefix for each word in the Trie\n",
    "def printShortestPrefix(root, word_so_far):\n",
    "    if root is None:\n",
    "        return\n",
    " \n",
    "    # print `word_so_far` if the current Trie node is visited only once\n",
    "    if root.freq == 1:\n",
    "        print(word_so_far)\n",
    "        return\n",
    " \n",
    "    # recur for all child nodes\n",
    "    for k, v in root.child.items():\n",
    "        printShortestPrefix(v, word_so_far + k)\n",
    " \n",
    " \n",
    "# Find the shortest unique prefix for every word in a given array\n",
    "def findShortestPrefix(words):\n",
    " \n",
    "    # construct a Trie from the given items\n",
    "    root = TrieNode()\n",
    "    for s in words:\n",
    "        insert(root, s)\n",
    " \n",
    "    # Recursively traverse the Trie in a preorder fashion to list all prefixes\n",
    "    printShortestPrefix(root, '')\n",
    " \n",
    " \n",
    "if __name__ == '__main__':\n",
    " \n",
    "    words = ['AND', 'BONFIRE', 'BOOL', 'CASE', 'CATCH', 'CHAR']\n",
    "    findShortestPrefix(words)"
   ]
  },
  {
   "cell_type": "markdown",
   "metadata": {},
   "source": [
    "### Fibonacci"
   ]
  },
  {
   "cell_type": "code",
   "execution_count": 19,
   "metadata": {},
   "outputs": [
    {
     "name": "stdout",
     "output_type": "stream",
     "text": [
      "0\n",
      "1\n",
      "1\n",
      "2\n",
      "3\n",
      "5\n",
      "8\n",
      "13\n",
      "21\n",
      "34\n",
      "55\n"
     ]
    }
   ],
   "source": [
    "a, b = 0, 1\n",
    "n = 11\n",
    "for i in range(n):\n",
    "    print(a)\n",
    "    a, b = b, a + b\n",
    "    \n",
    "    "
   ]
  },
  {
   "cell_type": "code",
   "execution_count": 1,
   "metadata": {},
   "outputs": [
    {
     "name": "stdout",
     "output_type": "stream",
     "text": [
      "0\n",
      "1\n",
      "1\n",
      "2\n",
      "3\n",
      "5\n",
      "8\n",
      "13\n",
      "21\n",
      "34\n",
      "55\n"
     ]
    }
   ],
   "source": [
    "def fibo(w):\n",
    "    if w <= 1:\n",
    "        return w\n",
    "    else:\n",
    "        return (fibo(w - 1) + fibo(w - 2))\n",
    "fibo(5)    \n",
    "in_range = 11\n",
    "for i in range(in_range):\n",
    "    print(fibo(i))"
   ]
  },
  {
   "cell_type": "markdown",
   "metadata": {},
   "source": [
    "### First non repeating character"
   ]
  },
  {
   "cell_type": "code",
   "execution_count": 7,
   "metadata": {},
   "outputs": [
    {
     "name": "stdout",
     "output_type": "stream",
     "text": [
      "d\n",
      "{'a': 2, 'b': 3, 'c': 3, 'd': 1}\n"
     ]
    }
   ],
   "source": [
    "a = \"aabbbcccdeeeefffggghiij\"\n",
    "d = {}\n",
    "for i in a:\n",
    "    d.update({i: a.count(i)})\n",
    "    if a.count(i) == 1:\n",
    "        print(i)\n",
    "        break    \n",
    "print(d)\n",
    "\n",
    "# Don't Use This... [ Worst O(n) Time Complexicity ]"
   ]
  },
  {
   "cell_type": "code",
   "execution_count": 70,
   "metadata": {},
   "outputs": [
    {
     "name": "stdout",
     "output_type": "stream",
     "text": [
      "{'a': 2, 'b': 3, 'c': 3, 'd': 1, 'e': 4, 'f': 3, 'g': 3, 'h': 1, 'i': 2, 'j': 1}\n",
      "d\n"
     ]
    }
   ],
   "source": [
    "a = \"aabbbcccdeeeefffggghiij\"\n",
    "hash_map = {}\n",
    "for c in a:\n",
    "    if hash_map.get(c):\n",
    "        hash_map[c] += 1\n",
    "    else:\n",
    "        hash_map[c] = 1\n",
    "print(hash_map) \n",
    "for i in hash_map:\n",
    "    if hash_map[i] == 1:\n",
    "        print(i)  \n",
    "        break         \n",
    "    \n",
    "\n",
    "# Use This... [ Best Time Complexicity ]    \n",
    "    "
   ]
  },
  {
   "cell_type": "code",
   "execution_count": 72,
   "metadata": {},
   "outputs": [
    {
     "name": "stdout",
     "output_type": "stream",
     "text": [
      "d\n"
     ]
    }
   ],
   "source": [
    "a = \"aabbbcccdeeeefffggghiij\"\n",
    "\n",
    "for i in a:\n",
    "    if a.index(i) == a.rindex(i):\n",
    "        print(i)\n",
    "        break"
   ]
  },
  {
   "cell_type": "markdown",
   "metadata": {},
   "source": [
    "### Return century\n",
    "    if year 1 - 100 => century 1\n",
    "    if year 101 - 200 => century 2\n",
    "                .\n",
    "                .\n",
    "                .\n",
    "               etc\n"
   ]
  },
  {
   "cell_type": "code",
   "execution_count": 2,
   "metadata": {},
   "outputs": [
    {
     "data": {
      "text/plain": [
       "21"
      ]
     },
     "execution_count": 2,
     "metadata": {},
     "output_type": "execute_result"
    }
   ],
   "source": [
    "import math\n",
    "def solution(year):\n",
    "    return math.ceil(year / 100)\n",
    "solution(2022)"
   ]
  },
  {
   "cell_type": "code",
   "execution_count": null,
   "metadata": {},
   "outputs": [],
   "source": []
  }
 ],
 "metadata": {
  "kernelspec": {
   "display_name": "Python 3.8.9 64-bit",
   "language": "python",
   "name": "python3"
  },
  "language_info": {
   "codemirror_mode": {
    "name": "ipython",
    "version": 3
   },
   "file_extension": ".py",
   "mimetype": "text/x-python",
   "name": "python",
   "nbconvert_exporter": "python",
   "pygments_lexer": "ipython3",
   "version": "3.8.9"
  },
  "orig_nbformat": 4,
  "vscode": {
   "interpreter": {
    "hash": "31f2aee4e71d21fbe5cf8b01ff0e069b9275f58929596ceb00d14d90e3e16cd6"
   }
  }
 },
 "nbformat": 4,
 "nbformat_minor": 2
}
