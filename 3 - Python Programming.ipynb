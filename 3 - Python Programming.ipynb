{
 "cells": [
  {
   "cell_type": "markdown",
   "metadata": {},
   "source": [
    "### 1. Swap any 2 digits of input N to obtain heighest odd number\n",
    "    1. N > 9\n",
    "    2. N has 1 odd digit\n",
    "    3. swap compulsory\n",
    "\n",
    "    Input : 935\n",
    "    Output : 953"
   ]
  },
  {
   "cell_type": "code",
   "execution_count": 2,
   "metadata": {},
   "outputs": [
    {
     "data": {
      "text/plain": [
       "'3'"
      ]
     },
     "execution_count": 2,
     "metadata": {},
     "output_type": "execute_result"
    }
   ],
   "source": [
    "# def solution1(num):\n",
    "#     num = list(map(int, list(str(num))))\n",
    "#     b = \"\"\n",
    "#     if len(num) > 2:\n",
    "#         if num[len(num) - 1] % 2 == 0:\n",
    "#             if num[0] > num[1]:\n",
    "#                 num[len(num) - 1], num[1] = num[1], num[len(num) - 1]\n",
    "#             else:\n",
    "#                 num[len(num) - 1], num[0] = num[0], num[len(num) - 1]\n",
    "#     for i in num:\n",
    "#         b = \"\".join(str(i))            \n",
    "#     return b\n",
    "\n",
    "# solution(932)"
   ]
  },
  {
   "cell_type": "markdown",
   "metadata": {},
   "source": [
    "### 2. Number of elements in array which are greater than or equal to average of array\n",
    "    Input :\n",
    "        Array = [10, 20, 30, 40, 50]\n",
    "        Length = 5\n",
    "    Output :\n",
    "        3   \n",
    "    Analysis :\n",
    "        Average = 30\n",
    "        Elements = 30, 40, 50     "
   ]
  },
  {
   "cell_type": "code",
   "execution_count": 7,
   "metadata": {},
   "outputs": [
    {
     "data": {
      "text/plain": [
       "1"
      ]
     },
     "execution_count": 7,
     "metadata": {},
     "output_type": "execute_result"
    }
   ],
   "source": [
    "def solution2(array2, len2):\n",
    "    elementCount2 = 0\n",
    "    average2 = sum(array2) // len2\n",
    "    \n",
    "    for i2 in array2:\n",
    "        if i2 >= average2:\n",
    "            elementCount2 += 1\n",
    "    return elementCount2\n",
    "\n",
    "\n",
    "array2 = [100, 200, 400, 140]\n",
    "len2 = 4\n",
    "\n",
    "solution2(array2, len2)    "
   ]
  },
  {
   "cell_type": "markdown",
   "metadata": {},
   "source": [
    "### 3. Perfect number if SUM of it's factors ( excluding itself ) equal to same number. Return 1 is YES, 0 if NOT a perfect number\n",
    "    Input :\n",
    "        Number = 6\n",
    "    Output :\n",
    "        1   \n",
    "    Analysis :\n",
    "        1 + 2 + 3 = 6\n",
    "\n",
    "    Input :\n",
    "        Number = 35\n",
    "    Output :\n",
    "        0  \n",
    "    Analysis :\n",
    "        1 + 5 + 7 != 35   "
   ]
  },
  {
   "cell_type": "code",
   "execution_count": 21,
   "metadata": {},
   "outputs": [
    {
     "name": "stdout",
     "output_type": "stream",
     "text": [
      "[1, 2, 4, 7, 14]\n"
     ]
    },
    {
     "data": {
      "text/plain": [
       "1"
      ]
     },
     "execution_count": 21,
     "metadata": {},
     "output_type": "execute_result"
    }
   ],
   "source": [
    "def solution3(number3):\n",
    "    sum3 = 0\n",
    "    help3 = []\n",
    "    for i3 in range(1, number3):\n",
    "        if number3 % i3 == 0:\n",
    "            sum3 += i3\n",
    "            help3.append(i3)\n",
    "        if sum3 == number3:\n",
    "            print(help3)\n",
    "            return 1\n",
    "    print(help3)    \n",
    "    return 0\n",
    "\n",
    "solution3(28)"
   ]
  },
  {
   "cell_type": "markdown",
   "metadata": {},
   "source": [
    "### 4. Missing number in a unsorted array in acending order\n",
    "    Input :\n",
    "        N = 6\n",
    "        array = [2, 4, 6, 1, 3, 1]\n",
    "    Output :\n",
    "        5    "
   ]
  },
  {
   "cell_type": "code",
   "execution_count": 6,
   "metadata": {},
   "outputs": [
    {
     "data": {
      "text/plain": [
       "5"
      ]
     },
     "execution_count": 6,
     "metadata": {},
     "output_type": "execute_result"
    }
   ],
   "source": [
    "def solution4(array4, len4):\n",
    "    array4.sort()\n",
    "    for i4 in range(1, len4):\n",
    "        if i4 not in array4:\n",
    "            return i4\n",
    "    \n",
    "    return -1\n",
    "\n",
    "array4 = [2, 4, 6, 1, 3, 1]\n",
    "len4 = 6\n",
    "\n",
    "solution4(array4, len4)"
   ]
  },
  {
   "cell_type": "markdown",
   "metadata": {},
   "source": [
    "### 5. Check if string is isogram. [ isogram is when there's NO repeating character in a string ]\n",
    "    Input : \n",
    "        string = \"table\"\n",
    "    Output :\n",
    "        5\n",
    "    Analysis :\n",
    "        NO repeated letters, Length of string is returned        \n",
    "\n",
    "    Input : \n",
    "        string = \"sensor\"\n",
    "    Output :\n",
    "        0\n",
    "    Analysis :\n",
    "        \"s\" is repeated letter, return 0"
   ]
  },
  {
   "cell_type": "code",
   "execution_count": 14,
   "metadata": {},
   "outputs": [
    {
     "data": {
      "text/plain": [
       "{'t': 1, 'a': 1, 'b': 1, 'l': 1, 'e': 1}"
      ]
     },
     "execution_count": 14,
     "metadata": {},
     "output_type": "execute_result"
    }
   ],
   "source": [
    "def solution5(string5):\n",
    "    hash_map5 = {}\n",
    "    for char5 in string5:\n",
    "        if char5 in hash_map5:\n",
    "            hash_map5[char5] += 1\n",
    "        hash_map5[char5] = 1    \n",
    "    return hash_map5\n",
    "\n",
    "string5 = \"tablee\"\n",
    "solution5(string5)\n",
    "    "
   ]
  },
  {
   "cell_type": "code",
   "execution_count": 8,
   "metadata": {},
   "outputs": [
    {
     "data": {
      "text/plain": [
       "0"
      ]
     },
     "execution_count": 8,
     "metadata": {},
     "output_type": "execute_result"
    }
   ],
   "source": [
    "def solution_( _ ):\n",
    "    return 0\n",
    "\n",
    "\n",
    "solution_( _ )\n",
    "    "
   ]
  },
  {
   "cell_type": "code",
   "execution_count": 9,
   "metadata": {},
   "outputs": [
    {
     "data": {
      "text/plain": [
       "0"
      ]
     },
     "execution_count": 9,
     "metadata": {},
     "output_type": "execute_result"
    }
   ],
   "source": [
    "def solution_( _ ):\n",
    "    return 0\n",
    "\n",
    "\n",
    "solution_( _ )\n",
    "    "
   ]
  },
  {
   "cell_type": "code",
   "execution_count": null,
   "metadata": {},
   "outputs": [],
   "source": []
  }
 ],
 "metadata": {
  "kernelspec": {
   "display_name": "Python 3.8.9 64-bit",
   "language": "python",
   "name": "python3"
  },
  "language_info": {
   "codemirror_mode": {
    "name": "ipython",
    "version": 3
   },
   "file_extension": ".py",
   "mimetype": "text/x-python",
   "name": "python",
   "nbconvert_exporter": "python",
   "pygments_lexer": "ipython3",
   "version": "3.8.9"
  },
  "orig_nbformat": 4,
  "vscode": {
   "interpreter": {
    "hash": "31f2aee4e71d21fbe5cf8b01ff0e069b9275f58929596ceb00d14d90e3e16cd6"
   }
  }
 },
 "nbformat": 4,
 "nbformat_minor": 2
}
