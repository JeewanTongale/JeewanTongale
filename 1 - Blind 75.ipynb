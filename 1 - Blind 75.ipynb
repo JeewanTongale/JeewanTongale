{
 "cells": [
  {
   "cell_type": "markdown",
   "metadata": {},
   "source": [
    "# ______________________________ . 1 ) 👀 Blind 150 . _______________________________"
   ]
  },
  {
   "cell_type": "markdown",
   "metadata": {},
   "source": [
    "# ⭐️ - - - - - - - - - - - - - - - - - - - - - 🌈 Arrays & Hashing - - - - - - - - - - - - - - - - - - - - - - - 🔥"
   ]
  },
  {
   "cell_type": "markdown",
   "metadata": {},
   "source": [
    "## 217. Contains Duplicate\n",
    "\n",
    "Given an integer array nums, return true if any value appears at least twice in the array, and return false if every element is distinct.\n",
    "\n",
    "Example 1:\n",
    "\n",
    "Input: nums = [1,2,3,1]\n",
    "\n",
    "Output: true\n",
    "\n",
    "Example 2:\n",
    "\n",
    "Input: nums = [1,2,3,4]\n",
    "\n",
    "Output: false\n",
    "\n",
    "Example 3:\n",
    "\n",
    "Input: nums = [1,1,1,3,3,4,3,2,4,2]\n",
    "\n",
    "Output: true\n",
    " \n",
    "\n",
    "Constraints:\n",
    "\n",
    "1 <= nums.length <= 105\n",
    "-109 <= nums[i] <= 109"
   ]
  },
  {
   "cell_type": "code",
   "execution_count": 1,
   "metadata": {},
   "outputs": [
    {
     "data": {
      "text/plain": [
       "True"
      ]
     },
     "execution_count": 1,
     "metadata": {},
     "output_type": "execute_result"
    }
   ],
   "source": [
    "def arr1(nums):\n",
    "    seen = set()\n",
    "    for i in nums:\n",
    "        if i in seen:\n",
    "            return True\n",
    "        seen.add(i)\n",
    "    return False\n",
    "\n",
    "arr1([1,2,3,4,5,5,6])    "
   ]
  },
  {
   "cell_type": "markdown",
   "metadata": {},
   "source": [
    "## 242. Valid Anagram\n",
    "\n",
    "\n",
    "Given two strings s and t, return true if t is an anagram of s, and false otherwise.\n",
    "\n",
    "An Anagram is a word or phrase formed by rearranging the letters of a different word or phrase, typically using all the original letters exactly once.\n",
    "\n",
    " \n",
    "\n",
    "Example 1:\n",
    "\n",
    "Input: s = \"anagram\", t = \"nagaram\"\n",
    "Output: true\n",
    "Example 2:\n",
    "\n",
    "Input: s = \"rat\", t = \"car\"\n",
    "Output: false\n",
    " \n",
    "\n",
    "Constraints:\n",
    "\n",
    "1 <= s.length, t.length <= 5 * 104\n",
    "s and t consist of lowercase English letters."
   ]
  },
  {
   "cell_type": "code",
   "execution_count": 16,
   "metadata": {},
   "outputs": [
    {
     "name": "stdout",
     "output_type": "stream",
     "text": [
      "True\n"
     ]
    }
   ],
   "source": [
    "class Solution:\n",
    "    def isAnagram(s, t):\n",
    "        shash = {}\n",
    "        thash = {}\n",
    "        for i in s:\n",
    "            if i in shash:\n",
    "                shash[i] += 1\n",
    "            else:\n",
    "                shash[i] = 1\n",
    "        for j in t:\n",
    "            if j in thash:\n",
    "                thash[j] += 1\n",
    "            else:\n",
    "                thash[j] = 1\n",
    "        print(True if shash == thash else False)\n",
    "\n",
    "    isAnagram(s = \"anagram\", t = \"nagaram\")           "
   ]
  },
  {
   "cell_type": "code",
   "execution_count": 17,
   "metadata": {},
   "outputs": [
    {
     "data": {
      "text/plain": [
       "False"
      ]
     },
     "execution_count": 17,
     "metadata": {},
     "output_type": "execute_result"
    }
   ],
   "source": [
    "def isAnagram(s, t):\n",
    "    return sorted(s) == sorted(t)\n",
    "isAnagram(\"cat\", \"rat\")"
   ]
  },
  {
   "cell_type": "markdown",
   "metadata": {},
   "source": [
    "## 1. Two Sum\n",
    "\n",
    "Given an array of integers nums and an integer target, return indices of the two numbers such that they add up to target.\n",
    "\n",
    "You may assume that each input would have exactly one solution, and you may not use the same element twice.\n",
    "\n",
    "You can return the answer in any order.\n",
    "\n",
    " \n",
    "\n",
    "Example 1:\n",
    "\n",
    "Input: nums = [2,7,11,15], target = 9\n",
    "Output: [0,1]\n",
    "Explanation: Because nums[0] + nums[1] == 9, we return [0, 1].\n",
    "Example 2:\n",
    "\n",
    "Input: nums = [3,2,4], target = 6\n",
    "Output: [1,2]\n",
    "Example 3:\n",
    "\n",
    "Input: nums = [3,3], target = 6\n",
    "Output: [0,1]\n",
    " \n",
    "\n",
    "Constraints:\n",
    "\n",
    "2 <= nums.length <= 104\n",
    "-109 <= nums[i] <= 109\n",
    "-109 <= target <= 109\n",
    "Only one valid answer exists."
   ]
  },
  {
   "cell_type": "code",
   "execution_count": 24,
   "metadata": {},
   "outputs": [
    {
     "data": {
      "text/plain": [
       "[1, 2]"
      ]
     },
     "execution_count": 24,
     "metadata": {},
     "output_type": "execute_result"
    }
   ],
   "source": [
    "def twoSum(nums, t):\n",
    "    prevMap = {}\n",
    "    \n",
    "    for i, value in enumerate(nums):\n",
    "        diff = t - value\n",
    "        if diff in prevMap:\n",
    "            return [prevMap[diff], i]\n",
    "        prevMap[value] = i\n",
    "        \n",
    "twoSum([3, 2, 4], 6)            "
   ]
  },
  {
   "cell_type": "markdown",
   "metadata": {},
   "source": [
    "## 49. Group Anagrams\n",
    "\n",
    "Given an array of strings strs, group the anagrams together. You can return the answer in any order.\n",
    "\n",
    "An Anagram is a word or phrase formed by rearranging the letters of a different word or phrase, typically using all the original letters exactly once.\n",
    "\n",
    " \n",
    "\n",
    "Example 1:\n",
    "\n",
    "Input: strs = [\"eat\",\"tea\",\"tan\",\"ate\",\"nat\",\"bat\"]\n",
    "Output: [[\"bat\"],[\"nat\",\"tan\"],[\"ate\",\"eat\",\"tea\"]]\n",
    "Example 2:\n",
    "\n",
    "Input: strs = [\"\"]\n",
    "Output: [[\"\"]]\n",
    "Example 3:\n",
    "\n",
    "Input: strs = [\"a\"]\n",
    "Output: [[\"a\"]]\n"
   ]
  },
  {
   "cell_type": "code",
   "execution_count": 26,
   "metadata": {},
   "outputs": [
    {
     "data": {
      "text/plain": [
       "dict_values([['eat', 'tea', 'ate'], ['tan', 'nat'], ['bat']])"
      ]
     },
     "execution_count": 26,
     "metadata": {},
     "output_type": "execute_result"
    }
   ],
   "source": [
    "def groupA(string):\n",
    "    group = {}\n",
    "    for i in string:\n",
    "        sortedV = \"\".join(sorted(i))\n",
    "        if sortedV in group:\n",
    "            group[sortedV].append(i)\n",
    "        else:\n",
    "            group[sortedV] = [i]\n",
    "    return group.values()\n",
    "\n",
    "groupA([\"eat\",\"tea\",\"tan\",\"ate\",\"nat\",\"bat\"])            "
   ]
  },
  {
   "cell_type": "markdown",
   "metadata": {},
   "source": [
    "## 347. Top K Frequent Elements\n",
    "\n",
    "Given an integer array nums and an integer k, return the k most frequent elements. You may return the answer in any order.\n",
    "\n",
    "Example 1:\n",
    "\n",
    "Input: nums = [1,1,1,2,2,3], k = 2\n",
    "Output: [1,2]\n",
    "Example 2:\n",
    "\n",
    "Input: nums = [1], k = 1\n",
    "Output: [1]"
   ]
  },
  {
   "cell_type": "code",
   "execution_count": 40,
   "metadata": {},
   "outputs": [
    {
     "name": "stdout",
     "output_type": "stream",
     "text": [
      "{1: 3, 2: 2, 3: 1}\n",
      "[[], [3], [2], [1], [], [], []]\n",
      "[1, 2]\n"
     ]
    }
   ],
   "source": [
    "def kfrequent(a, k):\n",
    "    countA = {}\n",
    "    freq = [[] for i in range(len(a) + 1)]\n",
    "    for i in a:\n",
    "        countA[i] = 1 + countA.get(i, 0)\n",
    "    print(countA)    \n",
    "    for n, c in countA.items():\n",
    "        freq[c].append(n)\n",
    "    print(freq)    \n",
    "    res = []\n",
    "    for i in range(len(freq) - 1, 0, -1):\n",
    "        for j in freq[i]:\n",
    "            res.append(j)\n",
    "            if len(res) == k:\n",
    "                print(res)\n",
    "                break\n",
    "\n",
    "kfrequent([1,1,1,2,2,3], 2)\n",
    "\n",
    "\n",
    "# Time Complexity O(n)\n",
    "        \n"
   ]
  },
  {
   "cell_type": "markdown",
   "metadata": {},
   "source": [
    "## 238. Product of Array Except Self\n",
    "\n",
    "Given an integer array nums, return an array answer such that answer[i] is equal to the product of all the elements of nums except nums[i].\n",
    "\n",
    "The product of any prefix or suffix of nums is guaranteed to fit in a 32-bit integer.\n",
    "\n",
    "You must write an algorithm that runs in O(n) time and without using the division operation.\n",
    "\n",
    " \n",
    "\n",
    "Example 1:\n",
    "\n",
    "Input: nums = [1,2,3,4]\n",
    "Output: [24,12,8,6]\n",
    "Example 2:\n",
    "\n",
    "Input: nums = [-1,1,0,-3,3]\n",
    "Output: [0,0,9,0,0]"
   ]
  },
  {
   "cell_type": "code",
   "execution_count": 8,
   "metadata": {},
   "outputs": [
    {
     "name": "stdout",
     "output_type": "stream",
     "text": [
      "[24, 12, 8, 6]\n"
     ]
    }
   ],
   "source": [
    "from math import prod\n",
    "\n",
    "class Solution:\n",
    "    def productExceptSelf(nums):\n",
    "        ans = []\n",
    "        sz = len(nums)\n",
    "        t = prod(nums)\n",
    "        for i in range(sz):\n",
    "            if nums[i]:\n",
    "                ans.append(t//nums[i])\n",
    "            else:\n",
    "                z = nums[:i]+nums[i+1:]\n",
    "                ans.append(prod(z))\n",
    "        print(ans)        \n",
    "        return ans\n",
    "    \n",
    "    productExceptSelf([1,2,3,4])"
   ]
  },
  {
   "cell_type": "code",
   "execution_count": 33,
   "metadata": {},
   "outputs": [
    {
     "data": {
      "text/plain": [
       "[24, 12, 8, 6]"
      ]
     },
     "execution_count": 33,
     "metadata": {},
     "output_type": "execute_result"
    }
   ],
   "source": [
    "def solution(nums):\n",
    "    result = []\n",
    "    for i in range(len(nums)):\n",
    "        if nums[i]:\n",
    "            result.append(pr(nums) // nums[i])\n",
    "        else:\n",
    "            ze = nums[:i] + nums[i + 1:]\n",
    "            result.append(pr(ze))\n",
    "    return result            \n",
    "def pr(x):\n",
    "    r = 1\n",
    "    for i in x:\n",
    "        r *= i\n",
    "    return r\n",
    "\n",
    "solution([1,2,3,4])"
   ]
  },
  {
   "cell_type": "code",
   "execution_count": 15,
   "metadata": {},
   "outputs": [
    {
     "name": "stdout",
     "output_type": "stream",
     "text": [
      "[24, 12, 8, 6]\n"
     ]
    }
   ],
   "source": [
    "a = [1,2,3,4]\n",
    "r = [0 for i in range(len(a))]\n",
    "for i in range(len(a)):\n",
    "    p = 1\n",
    "    for j in range(len(a)):\n",
    "        if j == i:\n",
    "            continue\n",
    "        else:\n",
    "            p *= a[j]\n",
    "            r[i] = p\n",
    "print(r)        "
   ]
  },
  {
   "cell_type": "markdown",
   "metadata": {},
   "source": [
    "## 128. Longest Consecutive Sequence\n",
    "\n",
    "Given an unsorted array of integers nums, return the length of the longest consecutive elements sequence.\n",
    "\n",
    "You must write an algorithm that runs in O(n) time.\n",
    "\n",
    " \n",
    "\n",
    "Example 1:\n",
    "\n",
    "Input: nums = [100,4,200,1,3,2]\n",
    "Output: 4\n",
    "Explanation: The longest consecutive elements sequence is [1, 2, 3, 4]. Therefore its length is 4.\n",
    "Example 2:\n",
    "\n",
    "Input: nums = [0,3,7,2,5,8,4,6,0,1]\n",
    "Output: 9"
   ]
  },
  {
   "cell_type": "code",
   "execution_count": 35,
   "metadata": {},
   "outputs": [
    {
     "data": {
      "text/plain": [
       "4"
      ]
     },
     "execution_count": 35,
     "metadata": {},
     "output_type": "execute_result"
    }
   ],
   "source": [
    "def longestConsecutive(nums):\n",
    "        numSet = set(nums)\n",
    "        longest = 0\n",
    "\n",
    "        for n in nums:\n",
    "            # check if its the start of a sequence\n",
    "            if (n - 1) not in numSet:\n",
    "                length = 1\n",
    "                while (n + length) in numSet:\n",
    "                    length += 1\n",
    "                longest = max(length, longest)\n",
    "        return longest\n",
    "\n",
    "longestConsecutive([100,4,200,1,3,2])    "
   ]
  },
  {
   "cell_type": "markdown",
   "metadata": {},
   "source": [
    "## 36. Valid Sudoku\n",
    "Determine if a 9 x 9 Sudoku board is valid. Only the filled cells need to be validated according to the following rules:\n",
    "\n",
    "Each row must contain the digits 1-9 without repetition.\n",
    "Each column must contain the digits 1-9 without repetition.\n",
    "Each of the nine 3 x 3 sub-boxes of the grid must contain the digits 1-9 without repetition.\n",
    "Note:\n",
    "\n",
    "A Sudoku board (partially filled) could be valid but is not necessarily solvable.\n",
    "Only the filled cells need to be validated according to the mentioned rules.\n",
    " \n",
    "\n",
    "Example 1:\n",
    "\n",
    "\n",
    "Input: board = \n",
    "[[\"5\",\"3\",\".\",\".\",\"7\",\".\",\".\",\".\",\".\"]\n",
    ",[\"6\",\".\",\".\",\"1\",\"9\",\"5\",\".\",\".\",\".\"]\n",
    ",[\".\",\"9\",\"8\",\".\",\".\",\".\",\".\",\"6\",\".\"]\n",
    ",[\"8\",\".\",\".\",\".\",\"6\",\".\",\".\",\".\",\"3\"]\n",
    ",[\"4\",\".\",\".\",\"8\",\".\",\"3\",\".\",\".\",\"1\"]\n",
    ",[\"7\",\".\",\".\",\".\",\"2\",\".\",\".\",\".\",\"6\"]\n",
    ",[\".\",\"6\",\".\",\".\",\".\",\".\",\"2\",\"8\",\".\"]\n",
    ",[\".\",\".\",\".\",\"4\",\"1\",\"9\",\".\",\".\",\"5\"]\n",
    ",[\".\",\".\",\".\",\".\",\"8\",\".\",\".\",\"7\",\"9\"]]\n",
    "Output: true\n",
    "Example 2:\n",
    "\n",
    "Input: board = \n",
    "[[\"8\",\"3\",\".\",\".\",\"7\",\".\",\".\",\".\",\".\"]\n",
    ",[\"6\",\".\",\".\",\"1\",\"9\",\"5\",\".\",\".\",\".\"]\n",
    ",[\".\",\"9\",\"8\",\".\",\".\",\".\",\".\",\"6\",\".\"]\n",
    ",[\"8\",\".\",\".\",\".\",\"6\",\".\",\".\",\".\",\"3\"]\n",
    ",[\"4\",\".\",\".\",\"8\",\".\",\"3\",\".\",\".\",\"1\"]\n",
    ",[\"7\",\".\",\".\",\".\",\"2\",\".\",\".\",\".\",\"6\"]\n",
    ",[\".\",\"6\",\".\",\".\",\".\",\".\",\"2\",\"8\",\".\"]\n",
    ",[\".\",\".\",\".\",\"4\",\"1\",\"9\",\".\",\".\",\"5\"]\n",
    ",[\".\",\".\",\".\",\".\",\"8\",\".\",\".\",\"7\",\"9\"]]\n",
    "Output: false\n",
    "Explanation: Same as Example 1, except with the 5 in the top left corner being modified to 8. Since there are two 8's in the top left 3x3 sub-box, it is invalid."
   ]
  },
  {
   "cell_type": "code",
   "execution_count": null,
   "metadata": {},
   "outputs": [],
   "source": [
    "import collections\n",
    "\n",
    "\n",
    "class Solution:\n",
    "    def isValidSudoku(board):\n",
    "        cols = collections.defaultdict(set)\n",
    "        rows = collections.defaultdict(set)\n",
    "        squares = collections.defaultdict(set)  # key = (r /3, c /3)\n",
    "\n",
    "        for r in range(9):\n",
    "            for c in range(9):\n",
    "                if board[r][c] == \".\":\n",
    "                    continue\n",
    "                if (\n",
    "                    board[r][c] in rows[r]\n",
    "                    or board[r][c] in cols[c]\n",
    "                    or board[r][c] in squares[(r // 3, c // 3)]\n",
    "                ):\n",
    "                    return False\n",
    "                cols[c].add(board[r][c])\n",
    "                rows[r].add(board[r][c])\n",
    "                squares[(r // 3, c // 3)].add(board[r][c])\n",
    "\n",
    "        return True"
   ]
  },
  {
   "cell_type": "markdown",
   "metadata": {},
   "source": [
    "## 659 · Encode and Decode Strings\n",
    "Description\n",
    "Design an algorithm to encode a list of strings to a string. The encoded string is then sent over the network and is decoded back to the original list of strings.\n",
    "\n",
    "Please implement encode and decode\n",
    "\n",
    "Input: [\"lint\",\"code\",\"love\",\"you\"]\n",
    "Output: [\"lint\",\"code\",\"love\",\"you\"]\n",
    "Explanation:\n",
    "One possible encode method is: \"lint:;code:;love:;you\"\n",
    "\n",
    "Input: [\"we\", \"say\", \":\", \"yes\"]\n",
    "Output: [\"we\", \"say\", \":\", \"yes\"]\n",
    "Explanation:\n",
    "One possible encode method is: \"we:;say:;:::;yes\""
   ]
  },
  {
   "cell_type": "code",
   "execution_count": 24,
   "metadata": {},
   "outputs": [
    {
     "data": {
      "text/plain": [
       "['my', 'name', 'jeewan']"
      ]
     },
     "execution_count": 24,
     "metadata": {},
     "output_type": "execute_result"
    }
   ],
   "source": [
    "def encode(strs):\n",
    "        res = \"\"\n",
    "        for s in strs:\n",
    "            res += str(len(s)) + \"#\" + s\n",
    "        return res\n",
    "\n",
    "def decode(str):\n",
    "    res, i = [], 0\n",
    "\n",
    "    while i < len(str):\n",
    "        j = i\n",
    "        while str[j] != \"#\":\n",
    "            j += 1\n",
    "        length = int(str[i:j])\n",
    "        res.append(str[j + 1 : j + 1 + length])\n",
    "        i = j + 1 + length\n",
    "    return res\n",
    "\n",
    "encode([\"my\", \"name\", \"jeewan\"])\n",
    "decode('2#my4#name6#jeewan')"
   ]
  },
  {
   "cell_type": "markdown",
   "metadata": {},
   "source": [
    "# ⭐️ - - - - - - - - - - - - - - - - - - - - - - - 🌈 Two Pointers - - - - - - - - - - - - - - - - - - - - - - - - 🔥"
   ]
  },
  {
   "cell_type": "markdown",
   "metadata": {},
   "source": [
    "## 125. Valid Palindrome\n",
    "\n",
    "A phrase is a palindrome if, after converting all uppercase letters into lowercase letters and removing all non-alphanumeric characters, it reads the same forward and backward. Alphanumeric characters include letters and numbers.\n",
    "\n",
    "Given a string s, return true if it is a palindrome, or false otherwise.\n",
    "\n",
    " \n",
    "\n",
    "Example 1:\n",
    "\n",
    "Input: s = \"A man, a plan, a canal: Panama\"\n",
    "Output: true\n",
    "Explanation: \"amanaplanacanalpanama\" is a palindrome.\n",
    "Example 2:\n",
    "\n",
    "Input: s = \"race a car\"\n",
    "Output: false\n",
    "Explanation: \"raceacar\" is not a palindrome.\n",
    "Example 3:\n",
    "\n",
    "Input: s = \" \"\n",
    "Output: true\n",
    "Explanation: s is an empty string \"\" after removing non-alphanumeric characters.\n",
    "Since an empty string reads the same forward and backward, it is a palindrome."
   ]
  },
  {
   "cell_type": "code",
   "execution_count": 11,
   "metadata": {},
   "outputs": [
    {
     "data": {
      "text/plain": [
       "True"
      ]
     },
     "execution_count": 11,
     "metadata": {},
     "output_type": "execute_result"
    }
   ],
   "source": [
    "def isPlandrom(str):\n",
    "    l = 0\n",
    "    r = len(str) - 1\n",
    "    \n",
    "    while l <= r:\n",
    "        while l < r and not alphnum(str[l]):\n",
    "            l += 1\n",
    "        while r > l and not alphnum(str[r]):\n",
    "            r -= 1\n",
    "        if str[l].lower() != str[r].lower():\n",
    "            return False\n",
    "        l += 1\n",
    "        r -= 1             \n",
    "    return True\n",
    "\n",
    "def alphnum(alphabet):\n",
    "    return ord(\"A\") <= ord(alphabet) <= ord(\"Z\") or ord(\"a\") <= ord(alphabet) <= ord(\"z\") or ord(\"0\") <= ord(alphabet) <= ord(\"9\")\n",
    "           \n",
    "\n",
    "isPlandrom(\"A man, a plan, a canal: Panama\")"
   ]
  },
  {
   "cell_type": "markdown",
   "metadata": {},
   "source": [
    "## 167. Two Sum II - Input Array Is Sorted\n",
    "Given a 1-indexed array of integers numbers that is already sorted in non-decreasing order, find two numbers such that they add up to a specific target number. Let these two numbers be numbers[index1] and numbers[index2] where 1 <= index1 < index2 <= numbers.length.\n",
    "\n",
    "Return the indices of the two numbers, index1 and index2, added by one as an integer array [index1, index2] of length 2.\n",
    "\n",
    "The tests are generated such that there is exactly one solution. You may not use the same element twice.\n",
    "\n",
    "Your solution must use only constant extra space.\n",
    "\n",
    " \n",
    "\n",
    "Example 1:\n",
    "\n",
    "Input: numbers = [2,7,11,15], target = 9\n",
    "Output: [1,2]\n",
    "Explanation: The sum of 2 and 7 is 9. Therefore, index1 = 1, index2 = 2. We return [1, 2].\n",
    "Example 2:\n",
    "\n",
    "Input: numbers = [2,3,4], target = 6\n",
    "Output: [1,3]\n",
    "Explanation: The sum of 2 and 4 is 6. Therefore index1 = 1, index2 = 3. We return [1, 3].\n",
    "Example 3:\n",
    "\n",
    "Input: numbers = [-1,0], target = -1\n",
    "Output: [1,2]\n",
    "Explanation: The sum of -1 and 0 is -1. Therefore index1 = 1, index2 = 2. We return [1, 2]."
   ]
  },
  {
   "cell_type": "code",
   "execution_count": 14,
   "metadata": {},
   "outputs": [
    {
     "data": {
      "text/plain": [
       "[1, 2]"
      ]
     },
     "execution_count": 14,
     "metadata": {},
     "output_type": "execute_result"
    }
   ],
   "source": [
    "def twoSum(nums, target):\n",
    "    s = 0\n",
    "    e = len(nums) - 1\n",
    "    \n",
    "    while s <= e:\n",
    "        if nums[s] + nums[e] == target:\n",
    "            return [s + 1, e + 1]\n",
    "        elif nums[s] + nums[e] < target:\n",
    "            s += 1\n",
    "        elif nums[s] + nums[e] > target:\n",
    "            e -= 1\n",
    "\n",
    "twoSum([2,7,11,15], 9)"
   ]
  },
  {
   "cell_type": "markdown",
   "metadata": {},
   "source": [
    "## 15. 3Sum\n",
    "Given an integer array nums, return all the triplets [nums[i], nums[j], nums[k]] such that i != j, i != k, and j != k, and nums[i] + nums[j] + nums[k] == 0.\n",
    "\n",
    "Notice that the solution set must not contain duplicate triplets.\n",
    "\n",
    " \n",
    "\n",
    "Example 1:\n",
    "\n",
    "Input: nums = [-1,0,1,2,-1,-4]\n",
    "Output: [[-1,-1,2],[-1,0,1]]\n",
    "Explanation: \n",
    "nums[0] + nums[1] + nums[2] = (-1) + 0 + 1 = 0.\n",
    "nums[1] + nums[2] + nums[4] = 0 + 1 + (-1) = 0.\n",
    "nums[0] + nums[3] + nums[4] = (-1) + 2 + (-1) = 0.\n",
    "The distinct triplets are [-1,0,1] and [-1,-1,2].\n",
    "Notice that the order of the output and the order of the triplets does not matter.\n",
    "Example 2:\n",
    "\n",
    "Input: nums = [0,1,1]\n",
    "Output: []\n",
    "Explanation: The only possible triplet does not sum up to 0.\n",
    "Example 3:\n",
    "\n",
    "Input: nums = [0,0,0]\n",
    "Output: [[0,0,0]]\n",
    "Explanation: The only possible triplet sums up to 0."
   ]
  },
  {
   "cell_type": "code",
   "execution_count": 21,
   "metadata": {},
   "outputs": [
    {
     "name": "stdout",
     "output_type": "stream",
     "text": [
      "[-4, -1, -1, 0, 1, 2]\n"
     ]
    },
    {
     "data": {
      "text/plain": [
       "[[-1, -1, 2], [-1, 0, 1]]"
      ]
     },
     "execution_count": 21,
     "metadata": {},
     "output_type": "execute_result"
    }
   ],
   "source": [
    "def threeSum(nums):\n",
    "    nums.sort()\n",
    "    print(nums)\n",
    "    result = []\n",
    "    for i, value in enumerate(nums):\n",
    "        if i > 0 and value == nums[i - 1]:\n",
    "            continue\n",
    "        l = i + 1\n",
    "        r = len(nums) - 1\n",
    "        while l < r:\n",
    "            threeS = value + nums[l] + nums[r]\n",
    "            if threeS > 0:\n",
    "                r -= 1\n",
    "            elif threeS < 0:\n",
    "                l += 1\n",
    "            else:\n",
    "                result.append([value, nums[l], nums[r]])\n",
    "                l += 1   \n",
    "                while l < r and nums[l] == nums[l - 1]:\n",
    "                    l += 1      \n",
    "    \n",
    "    return result\n",
    "\n",
    "\n",
    "threeSum([-1,0,1,2,-1,-4])"
   ]
  },
  {
   "cell_type": "markdown",
   "metadata": {},
   "source": [
    "## 11. Container With Most Water\n",
    "You are given an integer array height of length n. There are n vertical lines drawn such that the two endpoints of the ith line are (i, 0) and (i, height[i]).\n",
    "\n",
    "Find two lines that together with the x-axis form a container, such that the container contains the most water.\n",
    "\n",
    "Return the maximum amount of water a container can store.\n",
    "\n",
    "Notice that you may not slant the container.\n",
    "\n",
    " \n",
    "\n",
    "Example 1:\n",
    "\n",
    "\n",
    "Input: height = [1,8,6,2,5,4,8,3,7]\n",
    "Output: 49\n",
    "Explanation: The above vertical lines are represented by array [1,8,6,2,5,4,8,3,7]. In this case, the max area of water (blue section) the container can contain is 49.\n",
    "Example 2:\n",
    "\n",
    "Input: height = [1,1]\n",
    "Output: 1"
   ]
  },
  {
   "cell_type": "code",
   "execution_count": 23,
   "metadata": {},
   "outputs": [
    {
     "data": {
      "text/plain": [
       "49"
      ]
     },
     "execution_count": 23,
     "metadata": {},
     "output_type": "execute_result"
    }
   ],
   "source": [
    "def maxArea(heights):\n",
    "    result = 0\n",
    "    l = 0\n",
    "    r = len(heights) - 1\n",
    "    while l < r:\n",
    "        area = (r - l) * min(heights[l], heights[r])\n",
    "        result = max(result, area)\n",
    "        \n",
    "        if heights[l] < heights[r]:\n",
    "            l += 1\n",
    "        else:\n",
    "            r -= 1    \n",
    "    \n",
    "    return result\n",
    "\n",
    "maxArea([1,8,6,2,5,4,8,3,7])"
   ]
  },
  {
   "cell_type": "markdown",
   "metadata": {},
   "source": [
    "## 42. Trapping Rain Water\n",
    "Given n non-negative integers representing an elevation map where the width of each bar is 1, compute how much water it can trap after raining.\n",
    "\n",
    " \n",
    "\n",
    "Example 1:\n",
    "\n",
    "\n",
    "Input: height = [0,1,0,2,1,0,1,3,2,1,2,1]\n",
    "Output: 6\n",
    "Explanation: The above elevation map (black section) is represented by array [0,1,0,2,1,0,1,3,2,1,2,1]. In this case, 6 units of rain water (blue section) are being trapped.\n",
    "Example 2:\n",
    "\n",
    "Input: height = [4,2,0,3,2,5]\n",
    "Output: 9"
   ]
  },
  {
   "cell_type": "code",
   "execution_count": 31,
   "metadata": {},
   "outputs": [
    {
     "data": {
      "text/plain": [
       "6"
      ]
     },
     "execution_count": 31,
     "metadata": {},
     "output_type": "execute_result"
    }
   ],
   "source": [
    "def trap(height):\n",
    "    n = len(height)\n",
    "    ans = 0\n",
    "    l = [0] * n  # l[i] := max(height[0..i])\n",
    "    r = [0] * n  # r[i] := max(height[i..n))\n",
    "\n",
    "    for i in range(n):\n",
    "      l[i] = height[i] if i == 0 else max(height[i], l[i - 1])\n",
    "\n",
    "    for i in range(n - 1, -1, -1):\n",
    "      r[i] = height[i] if i == n - 1 else max(height[i], r[i + 1])\n",
    "\n",
    "    for i in range(n):\n",
    "      ans += min(l[i], r[i]) - height[i]\n",
    "\n",
    "    return ans\n",
    "\n",
    "trap([0,1,0,2,1,0,1,3,2,1,2,1])"
   ]
  },
  {
   "cell_type": "code",
   "execution_count": 39,
   "metadata": {},
   "outputs": [
    {
     "name": "stdout",
     "output_type": "stream",
     "text": [
      "[0, 0, 1, 1, 2, 2, 2, 2, 3, 3, 3, 3]\n",
      "[3, 3, 3, 3, 3, 3, 3, 2, 2, 2, 1, 0]\n",
      "[0, 0, 1, 1, 2, 2, 2, 2, 2, 2, 1, 0]\n",
      "[0, 1, 0, 2, 1, 0, 1, 3, 2, 1, 2, 1]\n",
      "6\n"
     ]
    }
   ],
   "source": [
    "a = [0,1,0,2,1,0,1,3,2,1,2,1]\n",
    "maxL = [0 for i in range(len(a))]\n",
    "maxR = [0 for i in range(len(a))]\n",
    "minLR = [0 for i in range(len(a))]\n",
    "cMaxL = 0\n",
    "cMaxR = 0\n",
    "res = 0\n",
    "for i in range(1, len(a)):\n",
    "    cMaxL = max(cMaxL, a[i - 1])\n",
    "    maxL[i] = cMaxL\n",
    "for j in range(len(a) - 2, -1, -1):\n",
    "    cMaxR = max(cMaxR, a[j + 1])  \n",
    "    maxR[j] = cMaxR  \n",
    "for k in range(len(a)):\n",
    "    minLR[k] = min(maxL[k], maxR[k])  \n",
    "for z in range(len(a)):\n",
    "    if minLR[z] - a[z] < 0:\n",
    "        continue\n",
    "    else:\n",
    "        res += minLR[z] - a[z]      \n",
    "print(maxL) \n",
    "print(maxR)   \n",
    "print(minLR)\n",
    "print(a)\n",
    "print(res)\n",
    "\n",
    "\n",
    "# Formula Used : min(L, R) - h[i]"
   ]
  },
  {
   "cell_type": "code",
   "execution_count": 33,
   "metadata": {},
   "outputs": [
    {
     "data": {
      "text/plain": [
       "6"
      ]
     },
     "execution_count": 33,
     "metadata": {},
     "output_type": "execute_result"
    }
   ],
   "source": [
    "def rainWater(height):\n",
    "    result = 0\n",
    "    l = 0\n",
    "    r = len(height) - 1\n",
    "    maxL = height[l]\n",
    "    maxR = height[r]\n",
    "    while l < r:\n",
    "        if height[l] < height[r]:\n",
    "            l += 1\n",
    "            maxL = max(maxL, height[l])\n",
    "            result += maxL - height[l]\n",
    "        else:\n",
    "            r -= 1    \n",
    "            maxR = max(maxR, height[r])\n",
    "            result += maxR - height[r]\n",
    "    \n",
    "    return result\n",
    "\n",
    "rainWater([0,1,0,2,1,0,1,3,2,1,2,1])\n",
    "    "
   ]
  },
  {
   "cell_type": "markdown",
   "metadata": {},
   "source": [
    "# ⭐️ - - - - - - - - - - - - - - - - - - - - - - 🌈 Sliding Window - - - - - - - - - - - - - - - - - - - - - - - 🔥"
   ]
  },
  {
   "cell_type": "markdown",
   "metadata": {},
   "source": [
    "## 121. Best Time to Buy and Sell Stock\n",
    "You are given an array prices where prices[i] is the price of a given stock on the ith day.\n",
    "\n",
    "You want to maximize your profit by choosing a single day to buy one stock and choosing a different day in the future to sell that stock.\n",
    "\n",
    "Return the maximum profit you can achieve from this transaction. If you cannot achieve any profit, return 0.\n",
    "\n",
    " \n",
    "\n",
    "Example 1:\n",
    "\n",
    "Input: prices = [7,1,5,3,6,4]\n",
    "\n",
    "Output: 5\n",
    "Explanation: Buy on day 2 (price = 1) and sell on day 5 (price = 6), profit = 6-1 = 5.\n",
    "Note that buying on day 2 and selling on day 1 is not allowed because you must buy before you sell.\n",
    "Example 2:\n",
    "\n",
    "Input: prices = [7,6,4,3,1]\n",
    "\n",
    "Output: 0\n",
    "Explanation: In this case, no transactions are done and the max profit = 0.\n",
    "\n",
    "# Google"
   ]
  },
  {
   "cell_type": "code",
   "execution_count": 19,
   "metadata": {},
   "outputs": [
    {
     "data": {
      "text/plain": [
       "5"
      ]
     },
     "execution_count": 19,
     "metadata": {},
     "output_type": "execute_result"
    }
   ],
   "source": [
    "def maxProfit(prices):\n",
    "    l = 0\n",
    "    r = 1\n",
    "    maxP = 0\n",
    "    \n",
    "    while r < len(prices):\n",
    "        if prices[l] < prices[r]:\n",
    "            profit = prices[r] - prices[l]\n",
    "            maxP = max(maxP, profit)\n",
    "        else:\n",
    "            l = r\n",
    "        r += 1        \n",
    "    \n",
    "    return maxP\n",
    "\n",
    "maxProfit([7,1,5,3,6,4])"
   ]
  },
  {
   "cell_type": "markdown",
   "metadata": {},
   "source": [
    "## 3. Longest Substring Without Repeating Characters\n",
    "Given a string s, find the length of the longest substring without repeating characters.\n",
    "\n",
    " \n",
    "\n",
    "Example 1:\n",
    "\n",
    "Input: s = \"abcabcbb\"\n",
    "Output: 3\n",
    "Explanation: The answer is \"abc\", with the length of 3.\n",
    "Example 2:\n",
    "\n",
    "Input: s = \"bbbbb\"\n",
    "Output: 1\n",
    "Explanation: The answer is \"b\", with the length of 1.\n",
    "Example 3:\n",
    "\n",
    "Input: s = \"pwwkew\"\n",
    "Output: 3\n",
    "Explanation: The answer is \"wke\", with the length of 3.\n",
    "Notice that the answer must be a substring, \"pwke\" is a subsequence and not a substring.\n",
    "\n",
    "# Facebook"
   ]
  },
  {
   "cell_type": "code",
   "execution_count": 20,
   "metadata": {},
   "outputs": [
    {
     "data": {
      "text/plain": [
       "3"
      ]
     },
     "execution_count": 20,
     "metadata": {},
     "output_type": "execute_result"
    }
   ],
   "source": [
    "def lSubstring(str):\n",
    "    charSet = set()\n",
    "    l = 0\n",
    "    result = 0\n",
    "    for r in range(len(str)):\n",
    "        while str[r] in charSet:\n",
    "            charSet.remove(str[l])\n",
    "            l += 1\n",
    "        charSet.add(str[r])\n",
    "        result = max(result, r - l + 1)\n",
    "    return result\n",
    "\n",
    "lSubstring(\"abcabcbb\")            "
   ]
  },
  {
   "cell_type": "markdown",
   "metadata": {},
   "source": [
    "## 424. Longest Repeating Character Replacement\n",
    "You are given a string s and an integer k. You can choose any character of the string and change it to any other uppercase English character. You can perform this operation at most k times.\n",
    "\n",
    "Return the length of the longest substring containing the same letter you can get after performing the above operations.\n",
    "\n",
    " \n",
    "\n",
    "Example 1:\n",
    "\n",
    "Input: s = \"ABAB\", k = 2\n",
    "Output: 4\n",
    "Explanation: Replace the two 'A's with two 'B's or vice versa.\n",
    "Example 2:\n",
    "\n",
    "Input: s = \"AABABBA\", k = 1\n",
    "Output: 4\n",
    "Explanation: Replace the one 'A' in the middle with 'B' and form \"AABBBBA\".\n",
    "The substring \"BBBB\" has the longest repeating letters, which is 4.\n",
    "\n",
    "# Google"
   ]
  },
  {
   "cell_type": "code",
   "execution_count": 8,
   "metadata": {},
   "outputs": [
    {
     "data": {
      "text/plain": [
       "4"
      ]
     },
     "execution_count": 8,
     "metadata": {},
     "output_type": "execute_result"
    }
   ],
   "source": [
    "def lRepeating(str, k):\n",
    "    countC = {}\n",
    "    result = 0\n",
    "    l = 0\n",
    "    maxf = 0\n",
    "    for r in range(len(str)):\n",
    "        countC[str[r]] = 1 + countC.get(str[r], 0)\n",
    "        maxf = max(maxf, countC[str[r]])\n",
    "        while (r - l + 1) - maxf > k:\n",
    "            countC[str[r]] -= 1\n",
    "            l += 1\n",
    "        result = max(result, (r - l + 1))    \n",
    "    \n",
    "    \n",
    "    return result\n",
    "\n",
    "lRepeating(\"ABAB\", 2)\n",
    "    "
   ]
  },
  {
   "cell_type": "markdown",
   "metadata": {},
   "source": [
    "## 567. Permutation in String\n",
    "Given two strings s1 and s2, return true if s2 contains a permutation of s1, or false otherwise.\n",
    "\n",
    "In other words, return true if one of s1's permutations is the substring of s2.\n",
    "\n",
    " \n",
    "\n",
    "Example 1:\n",
    "\n",
    "Input: s1 = \"ab\", s2 = \"eidbaooo\"\n",
    "Output: true\n",
    "Explanation: s2 contains one permutation of s1 (\"ba\").\n",
    "Example 2:\n",
    "\n",
    "Input: s1 = \"ab\", s2 = \"eidboaoo\"\n",
    "Output: false\n",
    "\n",
    "# Microsoft"
   ]
  },
  {
   "cell_type": "code",
   "execution_count": 8,
   "metadata": {},
   "outputs": [
    {
     "data": {
      "text/plain": [
       "True"
      ]
     },
     "execution_count": 8,
     "metadata": {},
     "output_type": "execute_result"
    }
   ],
   "source": [
    "from typing import Counter\n",
    "\n",
    "\n",
    "def check(s1, s2):\n",
    "    counter = Counter(s1)\n",
    "    w = len(s1)\n",
    "    for i in range(len(s2)):\n",
    "        if s2[i] in counter:\n",
    "            counter[s2[i]] -= 1\n",
    "        if i >= w and s2[i - w] in counter:\n",
    "            counter[s2[i - w]] += 1\n",
    "        if all([counter[i] == 0 for i in counter]):\n",
    "            return True\n",
    "    return False            \n",
    "\n",
    "check('ab', \"bap\")            "
   ]
  },
  {
   "cell_type": "code",
   "execution_count": 11,
   "metadata": {},
   "outputs": [
    {
     "data": {
      "text/plain": [
       "True"
      ]
     },
     "execution_count": 11,
     "metadata": {},
     "output_type": "execute_result"
    }
   ],
   "source": [
    "def checkInclusion(s1, s2):\n",
    "    cntr, w, match = Counter(s1), len(s1), 0     \n",
    "    for i in range(len(s2)):\n",
    "        if s2[i] in cntr:\n",
    "            if not cntr[s2[i]]: match -= 1\n",
    "            cntr[s2[i]] -= 1\n",
    "            if not cntr[s2[i]]: match += 1\n",
    "        \n",
    "        if i >= w and s2[i-w] in cntr:\n",
    "            if not cntr[s2[i-w]]: match -= 1\n",
    "            cntr[s2[i-w]] += 1\n",
    "            if not cntr[s2[i-w]]: match += 1\n",
    "            \n",
    "        if match == len(cntr):\n",
    "            return True\n",
    "    return False\n",
    "\n",
    "checkInclusion(\"ab\", \"shaiaoba\")"
   ]
  },
  {
   "cell_type": "code",
   "execution_count": 12,
   "metadata": {},
   "outputs": [],
   "source": [
    "class Solution:\n",
    "    def checkInclusion(self, s1: str, s2: str) -> bool:\n",
    "        cntr, w, matched = Counter(s1), len(s1), 0   \n",
    "\n",
    "        for i in range(len(s2)):\n",
    "            if s2[i] in cntr: \n",
    "                cntr[s2[i]] -= 1\n",
    "                if cntr[s2[i]] == 0:\n",
    "                    matched += 1\n",
    "            if i >= w and s2[i-w] in cntr: \n",
    "                if cntr[s2[i-w]] == 0:\n",
    "                    matched -= 1\n",
    "                cntr[s2[i-w]] += 1\n",
    "\n",
    "            if matched == len(cntr):\n",
    "                return True\n",
    "\n",
    "        return False"
   ]
  },
  {
   "cell_type": "markdown",
   "metadata": {},
   "source": [
    "## 76. Minimum Window Substring\n",
    "Given two strings s and t of lengths m and n respectively, return the minimum window substring of s such that every character in t (including duplicates) is included in the window. If there is no such substring, return the empty string \"\".\n",
    "\n",
    "The testcases will be generated such that the answer is unique.\n",
    "\n",
    "A substring is a contiguous sequence of characters within the string.\n",
    "\n",
    " \n",
    "\n",
    "Example 1:\n",
    "\n",
    "Input: s = \"ADOBECODEBANC\", t = \"ABC\"\n",
    "Output: \"BANC\"\n",
    "Explanation: The minimum window substring \"BANC\" includes 'A', 'B', and 'C' from string t.\n",
    "Example 2:\n",
    "\n",
    "Input: s = \"a\", t = \"a\"\n",
    "Output: \"a\"\n",
    "Explanation: The entire string s is the minimum window.\n",
    "Example 3:\n",
    "\n",
    "Input: s = \"a\", t = \"aa\"\n",
    "Output: \"\"\n",
    "Explanation: Both 'a's from t must be included in the window.\n",
    "Since the largest window of s only has one 'a', return empty string.\n",
    "\n",
    "# Airbnb"
   ]
  },
  {
   "cell_type": "code",
   "execution_count": 20,
   "metadata": {},
   "outputs": [
    {
     "name": "stdout",
     "output_type": "stream",
     "text": [
      "{'A': 1, 'B': 1, 'C': 1}\n",
      "{'A': 1, 'D': 0, 'O': 0, 'B': 0, 'E': 0, 'C': 1, 'N': 1}\n"
     ]
    },
    {
     "data": {
      "text/plain": [
       "'BANC'"
      ]
     },
     "execution_count": 20,
     "metadata": {},
     "output_type": "execute_result"
    }
   ],
   "source": [
    "def minWindow(s, t):\n",
    "    \n",
    "    countT = {}\n",
    "    window = {}\n",
    "    \n",
    "    for i in t:\n",
    "        countT[i] = 1 + countT.get(i, 0)\n",
    "    print(countT)\n",
    "        \n",
    "    result = [-1, -1]\n",
    "    resLen = float(\"inf\")\n",
    "    \n",
    "    have = 0\n",
    "    need = len(countT)\n",
    "    \n",
    "    l = 0\n",
    "\n",
    "    for r in range(len(s)):\n",
    "        c = s[r]\n",
    "        window[c] = 1 + window.get(c, 0)\n",
    "        \n",
    "        if c in countT and window[c] == countT[c]:\n",
    "            have += 1\n",
    "            \n",
    "        while have == need:\n",
    "            if (r - l + 1) < resLen:\n",
    "                result = [l, r]\n",
    "                resLen = r - l + 1\n",
    "                \n",
    "            window[s[l]] -= 1\n",
    "            \n",
    "            if s[l] in countT and window[s[l]] < countT[s[l]]:\n",
    "                have -= 1\n",
    "            l += 1\n",
    "    l, r = result\n",
    "    print(window)\n",
    "    \n",
    "    return s[l : r + 1] if resLen != float(\"inf\") else \"\"\n",
    "\n",
    "minWindow(\"ADOBECODEBANC\", \"ABC\")"
   ]
  },
  {
   "cell_type": "markdown",
   "metadata": {},
   "source": [
    "## 239. Sliding Window Maximum\n",
    "You are given an array of integers nums, there is a sliding window of size k which is moving from the very left of the array to the very right. You can only see the k numbers in the window. Each time the sliding window moves right by one position.\n",
    "\n",
    "Return the max sliding window.\n",
    "\n",
    " \n",
    "\n",
    "Example 1:\n",
    "\n",
    "Input: nums = [1,3,-1,-3,5,3,6,7], k = 3\n",
    "Output: [3,3,5,5,6,7]\n",
    "Explanation: \n",
    "\n",
    "Window position       -         Max\n",
    "\n",
    "[1  3  -1] -3  5  3  6  7    -   3\n",
    "\n",
    " 1 [3  -1  -3] 5  3  6  7    -   3\n",
    "\n",
    " 1  3 [-1  -3  5] 3  6  7    -   5\n",
    " \n",
    " 1  3  -1 [-3  5  3] 6  7    -   5\n",
    "\n",
    " 1  3  -1  -3 [5  3  6] 7    -   6\n",
    "\n",
    " 1  3  -1  -3  5 [3  6  7]   -   7\n",
    " \n",
    "Example 2:\n",
    "\n",
    "Input: nums = [1], k = 1\n",
    "Output: [1]\n",
    "\n",
    "# Google"
   ]
  },
  {
   "cell_type": "code",
   "execution_count": 42,
   "metadata": {},
   "outputs": [
    {
     "data": {
      "text/plain": [
       "[3, 3, 5, 5, 6, 7]"
      ]
     },
     "execution_count": 42,
     "metadata": {},
     "output_type": "execute_result"
    }
   ],
   "source": [
    "import collections\n",
    "\n",
    "def slidingWindowMax(nums, k):\n",
    "    \n",
    "    result = []\n",
    "    q = collections.deque()  # Index\n",
    "    l = 0\n",
    "    r = 0\n",
    "    #  O(n) O(n)\n",
    "    while r < len(nums):\n",
    "        # pop smaller values from q\n",
    "        while q and nums[q[-1]] < nums[r]:\n",
    "            q.pop()\n",
    "        q.append(r)\n",
    "        # remove left value from window\n",
    "        if l > q[0]:\n",
    "            q.popleft()\n",
    "        \n",
    "        if (r + 1) >= k:\n",
    "            result.append(nums[q[0]])\n",
    "            l += 1\n",
    "        r += 1        \n",
    "    \n",
    "    \n",
    "    return result\n",
    "\n",
    "slidingWindowMax([1,3,-1,-3,5,3,6,7], 3)"
   ]
  },
  {
   "cell_type": "markdown",
   "metadata": {},
   "source": [
    "# ⭐️ - - - - - - - - - - - - - - - - - - - - - - - - - 🌈 Stack - - - - - - - - - - - - - - - - - - - - - - - - - - - 🔥"
   ]
  },
  {
   "cell_type": "markdown",
   "metadata": {},
   "source": [
    "## 20. Valid Parentheses\n",
    "\n",
    "Given a string s containing just the characters '(', ')', '{', '}', '[' and ']', determine if the input string is valid.\n",
    "\n",
    "An input string is valid if:\n",
    "\n",
    "Open brackets must be closed by the same type of brackets.\n",
    "Open brackets must be closed in the correct order.\n",
    "Every close bracket has a corresponding open bracket of the same type.\n",
    " \n",
    "\n",
    "Example 1:\n",
    "\n",
    "Input: s = \"()\"\n",
    "Output: true\n",
    "Example 2:\n",
    "\n",
    "Input: s = \"()[]{}\"\n",
    "Output: true\n",
    "Example 3:\n",
    "\n",
    "Input: s = \"(]\"\n",
    "Output: false\n",
    "\n",
    "# Facebook"
   ]
  },
  {
   "cell_type": "code",
   "execution_count": 20,
   "metadata": {},
   "outputs": [
    {
     "data": {
      "text/plain": [
       "False"
      ]
     },
     "execution_count": 20,
     "metadata": {},
     "output_type": "execute_result"
    }
   ],
   "source": [
    "def validP(strP):\n",
    "    map = {\")\":\"(\", \"}\":\"{\", \"]\":\"[\"}\n",
    "    openingP = \"({[\"\n",
    "    closingP = \")}]\"\n",
    "    stack = []\n",
    "    \n",
    "    for i in strP:\n",
    "        if i in openingP:\n",
    "            stack.append(i)\n",
    "        elif i in closingP and len(stack) == 0:\n",
    "            return False\n",
    "        elif stack[-1] == map.get(i):\n",
    "            stack.pop()\n",
    "\n",
    "    return len(stack) == 0\n",
    "validP(\"({[]})){}[]\")"
   ]
  },
  {
   "cell_type": "code",
   "execution_count": 21,
   "metadata": {},
   "outputs": [],
   "source": [
    "class Solution:\n",
    "    def isValid(s):\n",
    "        leftSymbols = []\n",
    "        for c in s:\n",
    "            if c in ['(', '{', '[']:\n",
    "                leftSymbols.append(c)\n",
    "            elif c == ')' and len(leftSymbols) != 0 and leftSymbols[-1] == '(':\n",
    "                leftSymbols.pop()\n",
    "            elif c == '}' and len(leftSymbols) != 0 and leftSymbols[-1] == '{':\n",
    "                leftSymbols.pop()\n",
    "            elif c == ']' and len(leftSymbols) != 0 and leftSymbols[-1] == '[':\n",
    "                leftSymbols.pop()\n",
    "            else:\n",
    "                return False\n",
    "        return leftSymbols == []\n",
    "        "
   ]
  },
  {
   "cell_type": "markdown",
   "metadata": {},
   "source": [
    "## 155. Min Stack\n",
    "Design a stack that supports push, pop, top, and retrieving the minimum element in constant time.\n",
    "\n",
    "Implement the MinStack class:\n",
    "\n",
    "MinStack() initializes the stack object.\n",
    "void push(int val) pushes the element val onto the stack.\n",
    "void pop() removes the element on the top of the stack.\n",
    "int top() gets the top element of the stack.\n",
    "int getMin() retrieves the minimum element in the stack.\n",
    "You must implement a solution with O(1) time complexity for each function.\n",
    "\n",
    " \n",
    "\n",
    "Example 1:\n",
    "\n",
    "Input\n",
    "[\"MinStack\",\"push\",\"push\",\"push\",\"getMin\",\"pop\",\"top\",\"getMin\"]\n",
    "[[],[-2],[0],[-3],[],[],[],[]]\n",
    "\n",
    "Output\n",
    "[null,null,null,null,-3,null,0,-2]\n",
    "\n",
    "Explanation\n",
    "MinStack minStack = new MinStack();\n",
    "minStack.push(-2);\n",
    "minStack.push(0);\n",
    "minStack.push(-3);\n",
    "minStack.getMin(); // return -3\n",
    "minStack.pop();\n",
    "minStack.top();    // return 0\n",
    "minStack.getMin(); // return -2\n",
    "\n",
    "# Amazon"
   ]
  },
  {
   "cell_type": "code",
   "execution_count": 23,
   "metadata": {},
   "outputs": [],
   "source": [
    "class MinStack:\n",
    "    \n",
    "    def __init__(self):\n",
    "        \"\"\"\n",
    "        initialize your data structure here.\n",
    "        \"\"\"\n",
    "        self.stack = []\n",
    "        \n",
    "\n",
    "    def push(self, x: int):\n",
    "        self.stack.append(x)\n",
    "\n",
    "    def pop(self):\n",
    "        self.stack.pop()    \n",
    "    \n",
    "    def top(self):\n",
    "        return self.stack[-1]\n",
    "\n",
    "    def getMin(self):\n",
    "        return min(self.stack)\n",
    "\n",
    "\n",
    "# Your MinStack object will be instantiated and called as such:\n",
    "# obj = MinStack()\n",
    "# obj.push(val)\n",
    "# obj.pop()\n",
    "# param_3 = obj.top()\n",
    "# param_4 = obj.getMin()"
   ]
  },
  {
   "cell_type": "code",
   "execution_count": 24,
   "metadata": {},
   "outputs": [],
   "source": [
    "class MinStack:\n",
    "    def __init__(self):\n",
    "        self.stack = []\n",
    "        self.minStack = []\n",
    "\n",
    "    def push(self, val: int) -> None:\n",
    "        self.stack.append(val)\n",
    "        val = min(val, self.minStack[-1] if self.minStack else val)\n",
    "        self.minStack.append(val)\n",
    "\n",
    "    def pop(self) -> None:\n",
    "        self.stack.pop()\n",
    "        self.minStack.pop()\n",
    "\n",
    "    def top(self) -> int:\n",
    "        return self.stack[-1]\n",
    "\n",
    "    def getMin(self) -> int:\n",
    "        return self.minStack[-1]"
   ]
  },
  {
   "cell_type": "markdown",
   "metadata": {},
   "source": [
    "## 150. Evaluate Reverse Polish Notation\n",
    "Evaluate the value of an arithmetic expression in Reverse Polish Notation.\n",
    "\n",
    "Valid operators are +, -, *, and /. Each operand may be an integer or another expression.\n",
    "\n",
    "Note that division between two integers should truncate toward zero.\n",
    "\n",
    "It is guaranteed that the given RPN expression is always valid. That means the expression would always evaluate to a result, and there will not be any division by zero operation.\n",
    "\n",
    " \n",
    "\n",
    "Example 1:\n",
    "\n",
    "Input: tokens = [\"2\",\"1\",\"+\",\"3\",\"*\"]\n",
    "Output: 9\n",
    "Explanation: ((2 + 1) * 3) = 9\n",
    "Example 2:\n",
    "\n",
    "Input: tokens = [\"4\",\"13\",\"5\",\"/\",\"+\"]\n",
    "Output: 6\n",
    "Explanation: (4 + (13 / 5)) = 6\n",
    "Example 3:\n",
    "\n",
    "Input: tokens = [\"10\",\"6\",\"9\",\"3\",\"+\",\"-11\",\"*\",\"/\",\"*\",\"17\",\"+\",\"5\",\"+\"]\n",
    "Output: 22\n",
    "Explanation: ((10 * (6 / ((9 + 3) * -11))) + 17) + 5\n",
    "= ((10 * (6 / (12 * -11))) + 17) + 5\n",
    "= ((10 * (6 / -132)) + 17) + 5\n",
    "= ((10 * 0) + 17) + 5\n",
    "= (0 + 17) + 5\n",
    "= 17 + 5\n",
    "= 22\n",
    "\n",
    "# Amazon"
   ]
  },
  {
   "cell_type": "code",
   "execution_count": 28,
   "metadata": {},
   "outputs": [
    {
     "data": {
      "text/plain": [
       "9"
      ]
     },
     "execution_count": 28,
     "metadata": {},
     "output_type": "execute_result"
    }
   ],
   "source": [
    "def reversePN(tokens):\n",
    "    stack = []\n",
    "    \n",
    "    for i in tokens:\n",
    "        if i == \"+\":\n",
    "            stack.append(stack.pop() + stack.pop())\n",
    "        elif i ==\"-\":\n",
    "            a, b = stack.pop(), stack.pop()\n",
    "            stack.append(b - a)\n",
    "        elif i ==\"*\":\n",
    "            stack.append(stack.pop() * stack.pop())\n",
    "        elif i == \"/\":\n",
    "            a, b = stack.pop(), stack.pop()\n",
    "            stack.append(int(b / a))\n",
    "        else:\n",
    "            stack.append(int(i))                \n",
    "    \n",
    "    return stack[0]\n",
    "\n",
    "reversePN([\"2\",\"1\",\"+\",\"3\",\"*\"])"
   ]
  },
  {
   "cell_type": "markdown",
   "metadata": {},
   "source": [
    "## 22. Generate Parentheses\n",
    "Given n pairs of parentheses, write a function to generate all combinations of well-formed parentheses.\n",
    "\n",
    " \n",
    "\n",
    "Example 1:\n",
    "\n",
    "Input: n = 3\n",
    "Output: [\"((()))\",\"(()())\",\"(())()\",\"()(())\",\"()()()\"]\n",
    "Example 2:\n",
    "\n",
    "Input: n = 1\n",
    "Output: [\"()\"]\n",
    "\n",
    "# Amazon"
   ]
  },
  {
   "cell_type": "code",
   "execution_count": 29,
   "metadata": {},
   "outputs": [
    {
     "data": {
      "text/plain": [
       "['((()))', '(()())', '(())()', '()(())', '()()()']"
      ]
     },
     "execution_count": 29,
     "metadata": {},
     "output_type": "execute_result"
    }
   ],
   "source": [
    "def generateP(p):\n",
    "    stack = []\n",
    "    result = []\n",
    "    def backtracking(openN, closeN):\n",
    "        if openN == closeN == p:\n",
    "            result.append(\"\".join(stack))\n",
    "            return\n",
    "        if openN < p:\n",
    "            stack.append(\"(\")\n",
    "            backtracking(openN + 1, closeN)\n",
    "            stack.pop()\n",
    "        if closeN < openN:\n",
    "            stack.append(\")\")\n",
    "            backtracking(openN, closeN + 1)\n",
    "            stack.pop()\n",
    "    backtracking(0, 0)            \n",
    "            \n",
    "    return result\n",
    "\n",
    "generateP(3)"
   ]
  },
  {
   "cell_type": "markdown",
   "metadata": {},
   "source": [
    "## 739. Daily Temperatures\n",
    "\n",
    "Given an array of integers temperatures represents the daily temperatures, return an array answer such that answer[i] is the number of days you have to wait after the ith day to get a warmer temperature. If there is no future day for which this is possible, keep answer[i] == 0 instead.\n",
    "\n",
    " \n",
    "\n",
    "Example 1:\n",
    "\n",
    "Input: temperatures = [73,74,75,71,69,72,76,73]\n",
    "Output: [1,1,4,2,1,1,0,0]\n",
    "Example 2:\n",
    "\n",
    "Input: temperatures = [30,40,50,60]\n",
    "Output: [1,1,1,0]\n",
    "Example 3:\n",
    "\n",
    "Input: temperatures = [30,60,90]\n",
    "Output: [1,1,0]\n",
    "\n",
    "# Facebook"
   ]
  },
  {
   "cell_type": "code",
   "execution_count": 51,
   "metadata": {},
   "outputs": [
    {
     "data": {
      "text/plain": [
       "[1, 1, 4, 2, 1, 1, 0, 0]"
      ]
     },
     "execution_count": 51,
     "metadata": {},
     "output_type": "execute_result"
    }
   ],
   "source": [
    "def dailyT(temp):\n",
    "    \n",
    "    result = [0] * len(temp)\n",
    "    stack = [] # pair: [temp, index]\n",
    "    \n",
    "    for idx, value in enumerate(temp):\n",
    "        while stack and value > stack[-1][0]:\n",
    "            stackT, stackIdx = stack.pop()\n",
    "            result[stackIdx] = idx - stackIdx\n",
    "        stack.append((value, idx))    \n",
    "    \n",
    "    return result\n",
    "\n",
    "dailyT([73,74,75,71,69,72,76,73])"
   ]
  },
  {
   "cell_type": "markdown",
   "metadata": {},
   "source": [
    "## 853. Car Fleet\n",
    "There are n cars going to the same destination along a one-lane road. The destination is target miles away.\n",
    "\n",
    "You are given two integer array position and speed, both of length n, where position[i] is the position of the ith car and speed[i] is the speed of the ith car (in miles per hour).\n",
    "\n",
    "A car can never pass another car ahead of it, but it can catch up to it and drive bumper to bumper at the same speed. The faster car will slow down to match the slower car's speed. The distance between these two cars is ignored (i.e., they are assumed to have the same position).\n",
    "\n",
    "A car fleet is some non-empty set of cars driving at the same position and same speed. Note that a single car is also a car fleet.\n",
    "\n",
    "If a car catches up to a car fleet right at the destination point, it will still be considered as one car fleet.\n",
    "\n",
    "Return the number of car fleets that will arrive at the destination.\n",
    "\n",
    " \n",
    "\n",
    "Example 1:\n",
    "\n",
    "Input: target = 12, position = [10,8,0,5,3], speed = [2,4,1,1,3]\n",
    "Output: 3\n",
    "Explanation:\n",
    "The cars starting at 10 (speed 2) and 8 (speed 4) become a fleet, meeting each other at 12.\n",
    "The car starting at 0 does not catch up to any other car, so it is a fleet by itself.\n",
    "The cars starting at 5 (speed 1) and 3 (speed 3) become a fleet, meeting each other at 6. The fleet moves at speed 1 until it reaches target.\n",
    "Note that no other cars meet these fleets before the destination, so the answer is 3.\n",
    "Example 2:\n",
    "\n",
    "Input: target = 10, position = [3], speed = [3]\n",
    "Output: 1\n",
    "Explanation: There is only one car, hence there is only one fleet.\n",
    "Example 3:\n",
    "\n",
    "Input: target = 100, position = [0,2,4], speed = [4,2,1]\n",
    "Output: 1\n",
    "Explanation:\n",
    "The cars starting at 0 (speed 4) and 2 (speed 2) become a fleet, meeting each other at 4. The fleet moves at speed 2.\n",
    "Then, the fleet (speed 2) and the car starting at 4 (speed 1) become one fleet, meeting each other at 6. The fleet moves at speed 1 until it reaches target.\n",
    "\n",
    "# Google"
   ]
  },
  {
   "cell_type": "code",
   "execution_count": 54,
   "metadata": {},
   "outputs": [
    {
     "data": {
      "text/plain": [
       "3"
      ]
     },
     "execution_count": 54,
     "metadata": {},
     "output_type": "execute_result"
    }
   ],
   "source": [
    "def carFleet(target, position, speed):\n",
    "    pairs = [[p, s] for p, s in zip(position, speed)]\n",
    "    pairs.sort(reverse = True)\n",
    "    stack = []\n",
    "    \n",
    "    for p, s in pairs: # Reverse Sorted Order\n",
    "        stack.append((target - p) / s)\n",
    "        if len(stack) >= 2 and stack[-1] <= stack[-2]:\n",
    "            stack.pop()\n",
    "            \n",
    "    return len(stack)\n",
    "\n",
    "carFleet(12, [10,8,0,5,3], [2,4,1,1,3])"
   ]
  },
  {
   "cell_type": "markdown",
   "metadata": {},
   "source": [
    "## 84. Largest Rectangle in Histogram\n",
    "\n",
    "Given an array of integers heights representing the histogram's bar height where the width of each bar is 1, return the area of the largest rectangle in the histogram.\n",
    "\n",
    " \n",
    "\n",
    "Example 1:\n",
    "\n",
    "\n",
    "Input: heights = [2,1,5,6,2,3]\n",
    "Output: 10\n",
    "Explanation: The above is a histogram where width of each bar is 1.\n",
    "The largest rectangle is shown in the red area, which has an area = 10 units.\n",
    "Example 2:\n",
    "\n",
    "\n",
    "Input: heights = [2,4]\n",
    "Output: 4\n",
    "\n",
    "# Google"
   ]
  },
  {
   "cell_type": "code",
   "execution_count": 56,
   "metadata": {},
   "outputs": [
    {
     "data": {
      "text/plain": [
       "10"
      ]
     },
     "execution_count": 56,
     "metadata": {},
     "output_type": "execute_result"
    }
   ],
   "source": [
    "def largestArea(heights):\n",
    "    \n",
    "    maxArea = 0\n",
    "    stack = [] # pairs: (index, heights)\n",
    "    \n",
    "    for idx, height in enumerate(heights):\n",
    "        start = idx\n",
    "        while stack and stack[-1][1] > idx:\n",
    "            index, height = stack.pop()\n",
    "            maxArea = max(maxArea, height * (idx - index))\n",
    "            start = index\n",
    "        stack.append((start, height))\n",
    "    \n",
    "    for i, h in stack:\n",
    "        maxArea = max(maxArea, h + (len(heights) - i))        \n",
    "    \n",
    "    return maxArea\n",
    "\n",
    "largestArea([2,1,5,6,2,3])"
   ]
  },
  {
   "cell_type": "code",
   "execution_count": null,
   "metadata": {},
   "outputs": [],
   "source": []
  }
 ],
 "metadata": {
  "kernelspec": {
   "display_name": "Python 3.8.9 64-bit",
   "language": "python",
   "name": "python3"
  },
  "language_info": {
   "codemirror_mode": {
    "name": "ipython",
    "version": 3
   },
   "file_extension": ".py",
   "mimetype": "text/x-python",
   "name": "python",
   "nbconvert_exporter": "python",
   "pygments_lexer": "ipython3",
   "version": "3.8.9"
  },
  "orig_nbformat": 4,
  "vscode": {
   "interpreter": {
    "hash": "31f2aee4e71d21fbe5cf8b01ff0e069b9275f58929596ceb00d14d90e3e16cd6"
   }
  }
 },
 "nbformat": 4,
 "nbformat_minor": 2
}
