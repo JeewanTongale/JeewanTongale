{
 "cells": [
  {
   "cell_type": "markdown",
   "metadata": {},
   "source": [
    "# ______________________________ . 6 ) 👀 Blind 150 . _______________________________"
   ]
  },
  {
   "cell_type": "markdown",
   "metadata": {},
   "source": [
    "# ⭐️ - - - - - - - - - - - - - - - - - - - - - - - - - 🛝 Greedy - - - - - - - - - - - - - - - - - - - - - - - - - - 🔥"
   ]
  },
  {
   "cell_type": "markdown",
   "metadata": {},
   "source": [
    "## 53. Maximum Subarray\n",
    "\n",
    "Given an integer array nums, find the contiguous subarray (containing at least one number) which has the largest sum and return its sum.\n",
    "\n",
    "A subarray is a contiguous part of an array.\n",
    "\n",
    " \n",
    "\n",
    "Example 1:\n",
    "\n",
    "Input: nums = [-2,1,-3,4,-1,2,1,-5,4]\n",
    "Output: 6\n",
    "Explanation: [4,-1,2,1] has the largest sum = 6.\n",
    "Example 2:\n",
    "\n",
    "Input: nums = [1]\n",
    "Output: 1\n",
    "Example 3:\n",
    "\n",
    "Input: nums = [5,4,-1,7,8]\n",
    "Output: 23\n",
    "\n",
    "# Amazon"
   ]
  },
  {
   "cell_type": "code",
   "execution_count": 2,
   "metadata": {},
   "outputs": [
    {
     "data": {
      "text/plain": [
       "6"
      ]
     },
     "execution_count": 2,
     "metadata": {},
     "output_type": "execute_result"
    }
   ],
   "source": [
    "def maxSub(nums):\n",
    "    maxSubA = nums[0]\n",
    "    currSum = 0\n",
    "    \n",
    "    for n in nums:\n",
    "        if currSum < 0:\n",
    "            currSum = 0\n",
    "        currSum += n\n",
    "        maxSubA = max(maxSubA, currSum)\n",
    "    \n",
    "    return maxSubA\n",
    "\n",
    "maxSub([-2,1,-3,4,-1,2,1,-5,4])"
   ]
  },
  {
   "cell_type": "markdown",
   "metadata": {},
   "source": [
    "## 55. Jump Game\n",
    "\n",
    "You are given an integer array nums. You are initially positioned at the array's first index, and each element in the array represents your maximum jump length at that position.\n",
    "\n",
    "Return true if you can reach the last index, or false otherwise.\n",
    "\n",
    " \n",
    "\n",
    "Example 1:\n",
    "\n",
    "Input: nums = [2,3,1,1,4]\n",
    "Output: true\n",
    "Explanation: Jump 1 step from index 0 to 1, then 3 steps to the last index.\n",
    "Example 2:\n",
    "\n",
    "Input: nums = [3,2,1,0,4]\n",
    "Output: false\n",
    "Explanation: You will always arrive at index 3 no matter what. Its maximum jump length is 0, which makes it impossible to reach the last index.\n",
    "\n",
    "# Amazon\n"
   ]
  },
  {
   "cell_type": "code",
   "execution_count": 23,
   "metadata": {},
   "outputs": [
    {
     "data": {
      "text/plain": [
       "True"
      ]
     },
     "execution_count": 23,
     "metadata": {},
     "output_type": "execute_result"
    }
   ],
   "source": [
    "def jumpGame(nums):\n",
    "    goal = len(nums) - 1\n",
    "    for i in reversed(range(len(nums))):    # range(len(nums) - 1, -1, -1)\n",
    "        if i + nums[i] >= goal:\n",
    "            goal = i\n",
    "            \n",
    "    return True if goal == 0 else False\n",
    "\n",
    "jumpGame([2,3,2,0,4])"
   ]
  },
  {
   "cell_type": "markdown",
   "metadata": {},
   "source": [
    "## 45. Jump Game II\n",
    "\n",
    "You are given a 0-indexed array of integers nums of length n. You are initially positioned at nums[0].\n",
    "\n",
    "Each element nums[i] represents the maximum length of a forward jump from index i. In other words, if you are at nums[i], you can jump to any nums[i + j] where:\n",
    "\n",
    "0 <= j <= nums[i] and\n",
    "i + j < n\n",
    "Return the minimum number of jumps to reach nums[n - 1]. The test cases are generated such that you can reach nums[n - 1].\n",
    "\n",
    " \n",
    "\n",
    "Example 1:\n",
    "\n",
    "Input: nums = [2,3,1,1,4]\n",
    "Output: 2\n",
    "Explanation: The minimum number of jumps to reach the last index is 2. Jump 1 step from index 0 to 1, then 3 steps to the last index.\n",
    "Example 2:\n",
    "\n",
    "Input: nums = [2,3,0,1,4]\n",
    "Output: 2\n",
    "\n",
    "# Google"
   ]
  },
  {
   "cell_type": "code",
   "execution_count": 24,
   "metadata": {},
   "outputs": [
    {
     "data": {
      "text/plain": [
       "2"
      ]
     },
     "execution_count": 24,
     "metadata": {},
     "output_type": "execute_result"
    }
   ],
   "source": [
    "def jumpGame2(nums):\n",
    "    res = 0\n",
    "    l = r = 0\n",
    "    \n",
    "    while r < len(nums) - 1:\n",
    "        farthest = 0\n",
    "        for i in range(l, r + 1):\n",
    "            farthest = max(farthest, i + nums[i])\n",
    "        l = r + 1\n",
    "        r = farthest\n",
    "        res += 1\n",
    "    \n",
    "    return res\n",
    "\n",
    "jumpGame2([2,3,1,1,4])"
   ]
  },
  {
   "cell_type": "markdown",
   "metadata": {},
   "source": [
    "## 134. Gas Station\n",
    "\n",
    "There are n gas stations along a circular route, where the amount of gas at the ith station is gas[i].\n",
    "\n",
    "You have a car with an unlimited gas tank and it costs cost[i] of gas to travel from the ith station to its next (i + 1)th station. You begin the journey with an empty tank at one of the gas stations.\n",
    "\n",
    "Given two integer arrays gas and cost, return the starting gas station's index if you can travel around the circuit once in the clockwise direction, otherwise return -1. If there exists a solution, it is guaranteed to be unique\n",
    "\n",
    " \n",
    "\n",
    "Example 1:\n",
    "\n",
    "Input: gas = [1,2,3,4,5], cost = [3,4,5,1,2]\n",
    "Output: 3\n",
    "Explanation:\n",
    "Start at station 3 (index 3) and fill up with 4 unit of gas. Your tank = 0 + 4 = 4\n",
    "Travel to station 4. Your tank = 4 - 1 + 5 = 8\n",
    "Travel to station 0. Your tank = 8 - 2 + 1 = 7\n",
    "Travel to station 1. Your tank = 7 - 3 + 2 = 6\n",
    "Travel to station 2. Your tank = 6 - 4 + 3 = 5\n",
    "Travel to station 3. The cost is 5. Your gas is just enough to travel back to station 3.\n",
    "Therefore, return 3 as the starting index.\n",
    "Example 2:\n",
    "\n",
    "Input: gas = [2,3,4], cost = [3,4,3]\n",
    "Output: -1\n",
    "Explanation:\n",
    "You can't start at station 0 or 1, as there is not enough gas to travel to the next station.\n",
    "Let's start at station 2 and fill up with 4 unit of gas. Your tank = 0 + 4 = 4\n",
    "Travel to station 0. Your tank = 4 - 3 + 2 = 3\n",
    "Travel to station 1. Your tank = 3 - 3 + 3 = 3\n",
    "You cannot travel back to station 2, as it requires 4 unit of gas but you only have 3.\n",
    "Therefore, you can't travel around the circuit once no matter where you start.\n",
    "\n",
    "# Facebook"
   ]
  },
  {
   "cell_type": "code",
   "execution_count": 27,
   "metadata": {},
   "outputs": [
    {
     "data": {
      "text/plain": [
       "3"
      ]
     },
     "execution_count": 27,
     "metadata": {},
     "output_type": "execute_result"
    }
   ],
   "source": [
    "def gasStation(gas, cost):\n",
    "    \n",
    "    if sum(gas) < sum(cost):\n",
    "        return -1\n",
    "    \n",
    "    total = 0\n",
    "    res = 0\n",
    "    for i in range(len(gas)):\n",
    "        total += (gas[i] - cost[i])\n",
    "        if total < 0:\n",
    "            total = 0\n",
    "            res = i + 1\n",
    "    \n",
    "    return res\n",
    "\n",
    "gasStation([1,2,3,4,5], [3,4,5,1,2])\n",
    "        "
   ]
  },
  {
   "cell_type": "markdown",
   "metadata": {},
   "source": [
    "## 846. Hand of Straights\n",
    "\n",
    "Alice has some number of cards and she wants to rearrange the cards into groups so that each group is of size groupSize, and consists of groupSize consecutive cards.\n",
    "\n",
    "Given an integer array hand where hand[i] is the value written on the ith card and an integer groupSize, return true if she can rearrange the cards, or false otherwise.\n",
    "\n",
    " \n",
    "\n",
    "Example 1:\n",
    "\n",
    "Input: hand = [1,2,3,6,2,3,4,7,8], groupSize = 3\n",
    "Output: true\n",
    "Explanation: Alice's hand can be rearranged as [1,2,3],[2,3,4],[6,7,8]\n",
    "Example 2:\n",
    "\n",
    "Input: hand = [1,2,3,4,5], groupSize = 4\n",
    "Output: false\n",
    "Explanation: Alice's hand can not be rearranged into groups of 4.\n",
    "\n",
    "# Google"
   ]
  },
  {
   "cell_type": "code",
   "execution_count": 10,
   "metadata": {},
   "outputs": [
    {
     "data": {
      "text/plain": [
       "True"
      ]
     },
     "execution_count": 10,
     "metadata": {},
     "output_type": "execute_result"
    }
   ],
   "source": [
    "import heapq\n",
    "\n",
    "\n",
    "def isNStraightHand(hand, groupSize):\n",
    "    if len(hand) % groupSize:\n",
    "        return False\n",
    "\n",
    "    count = {}\n",
    "    for n in hand:\n",
    "        count[n] = 1 + count.get(n, 0)\n",
    "\n",
    "    minH = list(count.keys())\n",
    "    heapq.heapify(minH)\n",
    "    while minH:\n",
    "        first = minH[0]\n",
    "        for i in range(first, first + groupSize):\n",
    "            if i not in count:\n",
    "                return False\n",
    "            count[i] -= 1\n",
    "            if count[i] == 0:\n",
    "                if i != minH[0]:\n",
    "                    return False\n",
    "                heapq.heappop(minH)\n",
    "    return True\n",
    "\n",
    "isNStraightHand([1,2,3,6,2,3,4,7,8], 3)"
   ]
  },
  {
   "cell_type": "code",
   "execution_count": 12,
   "metadata": {},
   "outputs": [
    {
     "data": {
      "text/plain": [
       "True"
      ]
     },
     "execution_count": 12,
     "metadata": {},
     "output_type": "execute_result"
    }
   ],
   "source": [
    "from collections import Counter\n",
    "\n",
    "\n",
    "def isNStraightHand(hand, groupSize):\n",
    "    if len(hand) % groupSize > 0:\n",
    "        return False\n",
    "    hand.sort()\n",
    "    cnt = Counter(hand)\n",
    "    for x in hand:\n",
    "        if cnt[x] == 0:\n",
    "            continue\n",
    "        for num in range(x, x + groupSize):\n",
    "            if cnt[num] == 0:\n",
    "                return False\n",
    "            cnt[num] -= 1\n",
    "    return True\n",
    "\n",
    "isNStraightHand([1,2,3,6,2,3,4,7,8], 3)"
   ]
  },
  {
   "cell_type": "markdown",
   "metadata": {},
   "source": [
    "## 1899. Merge Triplets to Form Target Triplet\n",
    "\n",
    "A triplet is an array of three integers. You are given a 2D integer array triplets, where triplets[i] = [ai, bi, ci] describes the ith triplet. You are also given an integer array target = [x, y, z] that describes the triplet you want to obtain.\n",
    "\n",
    "To obtain target, you may apply the following operation on triplets any number of times (possibly zero):\n",
    "\n",
    "Choose two indices (0-indexed) i and j (i != j) and update triplets[j] to become [max(ai, aj), max(bi, bj), max(ci, cj)].\n",
    "For example, if triplets[i] = [2, 5, 3] and triplets[j] = [1, 7, 5], triplets[j] will be updated to [max(2, 1), max(5, 7), max(3, 5)] = [2, 7, 5].\n",
    "Return true if it is possible to obtain the target triplet [x, y, z] as an element of triplets, or false otherwise.\n",
    "\n",
    " \n",
    "\n",
    "Example 1:\n",
    "\n",
    "Input: triplets = [[2,5,3],[1,8,4],[1,7,5]], target = [2,7,5]\n",
    "Output: true\n",
    "Explanation: Perform the following operations:\n",
    "- Choose the first and last triplets [[2,5,3],[1,8,4],[1,7,5]]. Update the last triplet to be [max(2,1), max(5,7), max(3,5)] = [2,7,5]. triplets = [[2,5,3],[1,8,4],[2,7,5]]\n",
    "The target triplet [2,7,5] is now an element of triplets.\n",
    "Example 2:\n",
    "\n",
    "Input: triplets = [[3,4,5],[4,5,6]], target = [3,2,5]\n",
    "Output: false\n",
    "Explanation: It is impossible to have [3,2,5] as an element because there is no 2 in any of the triplets.\n",
    "Example 3:\n",
    "\n",
    "Input: triplets = [[2,5,3],[2,3,4],[1,2,5],[5,2,3]], target = [5,5,5]\n",
    "Output: true\n",
    "Explanation: Perform the following operations:\n",
    "- Choose the first and third triplets [[2,5,3],[2,3,4],[1,2,5],[5,2,3]]. Update the third triplet to be [max(2,1), max(5,2), max(3,5)] = [2,5,5]. triplets = [[2,5,3],[2,3,4],[2,5,5],[5,2,3]].\n",
    "- Choose the third and fourth triplets [[2,5,3],[2,3,4],[2,5,5],[5,2,3]]. Update the fourth triplet to be [max(2,5), max(5,2), max(5,3)] = [5,5,5]. triplets = [[2,5,3],[2,3,4],[2,5,5],[5,5,5]].\n",
    "The target triplet [5,5,5] is now an element of triplets.\n",
    "\n",
    "# Facebook, Google, Amazon"
   ]
  },
  {
   "cell_type": "code",
   "execution_count": 1,
   "metadata": {},
   "outputs": [],
   "source": [
    "def mergeTriplets(triplets, target):\n",
    "    good = set()\n",
    "    for t in triplets:\n",
    "        if t[0] > target[0] or t[1] > target[1] or t[2] > target[2]:\n",
    "            continue\n",
    "        for idx, value in enumerate(t):\n",
    "            if value == target[idx]:\n",
    "                good.add(idx)\n",
    "    return len(good) == 3"
   ]
  },
  {
   "cell_type": "markdown",
   "metadata": {},
   "source": [
    "## 763. Partition Labels\n",
    "\n",
    "You are given a string s. We want to partition the string into as many parts as possible so that each letter appears in at most one part.\n",
    "\n",
    "Note that the partition is done so that after concatenating all the parts in order, the resultant string should be s.\n",
    "\n",
    "Return a list of integers representing the size of these parts.\n",
    "\n",
    " \n",
    "\n",
    "Example 1:\n",
    "\n",
    "Input: s = \"ababcbacadefegdehijhklij\"\n",
    "Output: [9,7,8]\n",
    "Explanation:\n",
    "The partition is \"ababcbaca\", \"defegde\", \"hijhklij\".\n",
    "This is a partition so that each letter appears in at most one part.\n",
    "A partition like \"ababcbacadefegde\", \"hijhklij\" is incorrect, because it splits s into less parts.\n",
    "Example 2:\n",
    "\n",
    "Input: s = \"eccbbbbdec\"\n",
    "Output: [10]\n",
    "\n",
    "# Facebook"
   ]
  },
  {
   "cell_type": "code",
   "execution_count": 4,
   "metadata": {},
   "outputs": [
    {
     "data": {
      "text/plain": [
       "[9, 7, 8]"
      ]
     },
     "execution_count": 4,
     "metadata": {},
     "output_type": "execute_result"
    }
   ],
   "source": [
    "def partitionLabels(s):\n",
    "\n",
    "    lastIdx = {} # char -> Last Index in S\n",
    "    for idx, value in enumerate(s):\n",
    "        lastIdx[value] = idx\n",
    "    \n",
    "    result = []\n",
    "    size, end = 0, 0\n",
    "    for idx, value in enumerate(s):\n",
    "        size += 1\n",
    "        end = max(end, lastIdx[value])\n",
    "\n",
    "        if idx == end:\n",
    "            result.append(size)\n",
    "            size = 0\n",
    "    return result\n",
    "\n",
    "partitionLabels(\"ababcbacadefegdehijhklij\")"
   ]
  },
  {
   "cell_type": "markdown",
   "metadata": {},
   "source": [
    "## 678. Valid Parenthesis String\n",
    "\n",
    "Given a string s containing only three types of characters: '(', ')' and '*', return true if s is valid.\n",
    "\n",
    "The following rules define a valid string:\n",
    "\n",
    "Any left parenthesis '(' must have a corresponding right parenthesis ')'.\n",
    "Any right parenthesis ')' must have a corresponding left parenthesis '('.\n",
    "Left parenthesis '(' must go before the corresponding right parenthesis ')'.\n",
    "'*' could be treated as a single right parenthesis ')' or a single left parenthesis '(' or an empty string \"\".\n",
    " \n",
    "\n",
    "Example 1:\n",
    "\n",
    "Input: s = \"()\"\n",
    "Output: true\n",
    "Example 2:\n",
    "\n",
    "Input: s = \"(*)\"\n",
    "Output: true\n",
    "Example 3:\n",
    "\n",
    "Input: s = \"(*))\"\n",
    "Output: true\n",
    "\n",
    "# Facebook"
   ]
  },
  {
   "cell_type": "code",
   "execution_count": 5,
   "metadata": {},
   "outputs": [],
   "source": [
    "# Dynamic Programming: O(n^2)\n",
    "\n",
    "def checkValidString(s):\n",
    "    dp = {(len(s), 0): True}  # key=(i, leftCount) -> isValid\n",
    "\n",
    "    def dfs(i, left):\n",
    "        if i == len(s) or left < 0:\n",
    "            return left == 0\n",
    "        if (i, left) in dp:\n",
    "            return dp[(i, left)]\n",
    "\n",
    "        if s[i] == \"(\":\n",
    "            dp[(i, left)] = dfs(i + 1, left + 1)\n",
    "        elif s[i] == \")\":\n",
    "            dp[(i, left)] = dfs(i + 1, left - 1)\n",
    "        else:\n",
    "            dp[(i, left)] = (\n",
    "                dfs(i + 1, left + 1) or dfs(i + 1, left - 1) or dfs(i + 1, left)\n",
    "            )\n",
    "        return dp[(i, left)]\n",
    "\n",
    "    return dfs(0, 0)\n"
   ]
  },
  {
   "cell_type": "code",
   "execution_count": 6,
   "metadata": {},
   "outputs": [],
   "source": [
    "# Greedy: O(n)\n",
    "def checkValidString(s):\n",
    "    leftMin, leftMax = 0, 0\n",
    "\n",
    "    for c in s:\n",
    "        if c == \"(\":\n",
    "            leftMin, leftMax = leftMin + 1, leftMax + 1\n",
    "        elif c == \")\":\n",
    "            leftMin, leftMax = leftMin - 1, leftMax - 1\n",
    "        else:\n",
    "            leftMin, leftMax = leftMin - 1, leftMax + 1\n",
    "        if leftMax < 0:\n",
    "            return False\n",
    "        if leftMin < 0:  # required because -> s = ( * ) (\n",
    "            leftMin = 0\n",
    "    return leftMin == 0"
   ]
  },
  {
   "cell_type": "markdown",
   "metadata": {},
   "source": [
    "# ⭐️ - - - - - - - - - - - - - - - - - - - - - - - - - 🎬 Intervals - - - - - - - - - - - - - - - - - - - - - - - - - 🔥"
   ]
  },
  {
   "cell_type": "markdown",
   "metadata": {},
   "source": [
    "## 57. Insert Interval\n",
    "\n",
    "You are given an array of non-overlapping intervals intervals where intervals[i] = [starti, endi] represent the start and the end of the ith interval and intervals is sorted in ascending order by starti. You are also given an interval newInterval = [start, end] that represents the start and end of another interval.\n",
    "\n",
    "Insert newInterval into intervals such that intervals is still sorted in ascending order by starti and intervals still does not have any overlapping intervals (merge overlapping intervals if necessary).\n",
    "\n",
    "Return intervals after the insertion.\n",
    "\n",
    " \n",
    "\n",
    "Example 1:\n",
    "\n",
    "Input: intervals = [[1,3],[6,9]], newInterval = [2,5]\n",
    "Output: [[1,5],[6,9]]\n",
    "Example 2:\n",
    "\n",
    "Input: intervals = [[1,2],[3,5],[6,7],[8,10],[12,16]], newInterval = [4,8]\n",
    "Output: [[1,2],[3,10],[12,16]]\n",
    "Explanation: Because the new interval [4,8] overlaps with [3,5],[6,7],[8,10].\n",
    "\n",
    "# Microsoft"
   ]
  },
  {
   "cell_type": "code",
   "execution_count": 9,
   "metadata": {},
   "outputs": [
    {
     "data": {
      "text/plain": [
       "[[1, 2], [3, 10], [12, 16]]"
      ]
     },
     "execution_count": 9,
     "metadata": {},
     "output_type": "execute_result"
    }
   ],
   "source": [
    "def insertInterval(intervals, newInterval):\n",
    "    result = []\n",
    "    \n",
    "    for i in range(len(intervals)):\n",
    "        if newInterval[1] < intervals[i][0]:\n",
    "            result.append(newInterval)\n",
    "            return result + intervals[i : ]\n",
    "        elif newInterval[0] > intervals[i][1]:\n",
    "            result.append(intervals[i])\n",
    "        else:\n",
    "            newInterval = [\n",
    "                min(newInterval[0], intervals[i][0]),\n",
    "                max(newInterval[1], intervals[i][1])\n",
    "            ]\n",
    "        \n",
    "    result.append(newInterval)\n",
    "    \n",
    "    return result\n",
    "\n",
    "insertInterval([[1,2],[3,5],[6,7],[8,10],[12,16]], [4, 8])"
   ]
  },
  {
   "cell_type": "markdown",
   "metadata": {},
   "source": [
    "## 56. Merge Intervals\n",
    "\n",
    "Given an array of intervals where intervals[i] = [starti, endi], merge all overlapping intervals, and return an array of the non-overlapping intervals that cover all the intervals in the input.\n",
    "\n",
    " \n",
    "\n",
    "Example 1:\n",
    "\n",
    "Input: intervals = [[1,3],[2,6],[8,10],[15,18]]\n",
    "Output: [[1,6],[8,10],[15,18]]\n",
    "Explanation: Since intervals [1,3] and [2,6] overlap, merge them into [1,6].\n",
    "Example 2:\n",
    "\n",
    "Input: intervals = [[1,4],[4,5]]\n",
    "Output: [[1,5]]\n",
    "Explanation: Intervals [1,4] and [4,5] are considered overlapping.\n",
    "\n",
    "# Microsoft"
   ]
  },
  {
   "cell_type": "code",
   "execution_count": 11,
   "metadata": {},
   "outputs": [
    {
     "data": {
      "text/plain": [
       "[[1, 6], [8, 10], [15, 18]]"
      ]
     },
     "execution_count": 11,
     "metadata": {},
     "output_type": "execute_result"
    }
   ],
   "source": [
    "def mergeIntervals(intervals):\n",
    "    \n",
    "    intervals.sort(key = lambda i : i[0])\n",
    "    output = [intervals[0]]\n",
    "    \n",
    "    for start, end in intervals[1 : ]:\n",
    "        lastIdx = output[-1][1]\n",
    "        if start <= lastIdx:\n",
    "            output[-1][1] = max(lastIdx, end)\n",
    "        else:\n",
    "            output.append([start, end])\n",
    "    \n",
    "    return output\n",
    "\n",
    "mergeIntervals([[1,3],[2,6],[8,10],[15,18]])"
   ]
  },
  {
   "cell_type": "markdown",
   "metadata": {},
   "source": [
    "## 435. Non-overlapping Intervals\n",
    "\n",
    "Given an array of intervals intervals where intervals[i] = [starti, endi], return the minimum number of intervals you need to remove to make the rest of the intervals non-overlapping.\n",
    "\n",
    " \n",
    "\n",
    "Example 1:\n",
    "\n",
    "Input: intervals = [[1,2],[2,3],[3,4],[1,3]]\n",
    "Output: 1\n",
    "Explanation: [1,3] can be removed and the rest of the intervals are non-overlapping.\n",
    "Example 2:\n",
    "\n",
    "Input: intervals = [[1,2],[1,2],[1,2]]\n",
    "Output: 2\n",
    "Explanation: You need to remove two [1,2] to make the rest of the intervals non-overlapping.\n",
    "Example 3:\n",
    "\n",
    "Input: intervals = [[1,2],[2,3]]\n",
    "Output: 0\n",
    "Explanation: You don't need to remove any of the intervals since they're already non-overlapping.\n",
    "\n",
    "# Microsoft"
   ]
  },
  {
   "cell_type": "code",
   "execution_count": 13,
   "metadata": {},
   "outputs": [
    {
     "data": {
      "text/plain": [
       "1"
      ]
     },
     "execution_count": 13,
     "metadata": {},
     "output_type": "execute_result"
    }
   ],
   "source": [
    "def nonOverlapping(intervals):\n",
    "    \n",
    "    intervals.sort()\n",
    "    res = 0\n",
    "    prevEnd = intervals[0][1]\n",
    "    \n",
    "    for start, end in intervals[1 : ]:\n",
    "        if start >= prevEnd:\n",
    "            prevEnd = end\n",
    "        else:\n",
    "            res += 1\n",
    "            prevEnd = min(prevEnd, end)\n",
    "    \n",
    "    return res\n",
    "\n",
    "nonOverlapping([[1,2],[2,3],[3,4],[1,3]])"
   ]
  },
  {
   "cell_type": "markdown",
   "metadata": {},
   "source": [
    "## Meeting Rooms\n",
    "\n",
    "Given an array of meeting time intervals consisting of start and end times[[s1,e1],[s2,e2],...](si< ei), determine if a person could attend all meetings.\n",
    "\n",
    "Example 1:\n",
    "\n",
    "Input:\n",
    "[[0,30],[5,10],[15,20]]\n",
    "\n",
    "Output:\n",
    " false\n",
    " \n",
    "Example 2:\n",
    "\n",
    "Input:\n",
    " [[7,10],[2,4]]\n",
    "\n",
    "Output:\n",
    " true\n",
    "\n",
    "# Facebook"
   ]
  },
  {
   "cell_type": "code",
   "execution_count": 18,
   "metadata": {},
   "outputs": [
    {
     "data": {
      "text/plain": [
       "False"
      ]
     },
     "execution_count": 18,
     "metadata": {},
     "output_type": "execute_result"
    }
   ],
   "source": [
    "def meetingRoom(intervals):\n",
    "    \n",
    "    intervals.sort(key = lambda i : i[0])\n",
    "    \n",
    "    for i in range(1, len(intervals)):\n",
    "        i1 = intervals[i - 1]\n",
    "        i2 = intervals[i]\n",
    "        \n",
    "        if i1[1] > i2[0]:\n",
    "            return False\n",
    "    \n",
    "    return True\n",
    "\n",
    "meetingRoom([[0,30],[5,10],[15,20]])"
   ]
  },
  {
   "cell_type": "markdown",
   "metadata": {},
   "source": [
    "## 253. Meeting Rooms II\n",
    "\n",
    "Given an array of meeting time intervals consisting of start and end times [[s1,e1],[s2,e2],...] (si < ei), find the minimum number of conference rooms required.\n",
    "\n",
    "Example 1:\n",
    "\n",
    "Input: [[0, 30],[5, 10],[15, 20]]\n",
    "Output: 2\n",
    "Example 2:\n",
    "\n",
    "Input: [[7,10],[2,4]]\n",
    "Output: 1\n",
    "\n",
    "# Facebook "
   ]
  },
  {
   "cell_type": "code",
   "execution_count": 25,
   "metadata": {},
   "outputs": [
    {
     "data": {
      "text/plain": [
       "2"
      ]
     },
     "execution_count": 25,
     "metadata": {},
     "output_type": "execute_result"
    }
   ],
   "source": [
    "def meetingRoom2(intervals):\n",
    "    \n",
    "    start = sorted([i[0] for i in intervals])\n",
    "    end = sorted([i[1] for i in intervals])\n",
    "    \n",
    "    res, count = 0, 0\n",
    "    s, e = 0, 0\n",
    "    \n",
    "    while s < len(intervals):\n",
    "        if start[s] < end[e]:\n",
    "            s += 1\n",
    "            count += 1\n",
    "        else:\n",
    "            e += 1\n",
    "            count -= 1\n",
    "        res = max(res, count)\n",
    "    \n",
    "    return res\n",
    "            \n",
    "\n",
    "meetingRoom2([[0, 30],[5, 10],[15, 20]])"
   ]
  },
  {
   "cell_type": "markdown",
   "metadata": {},
   "source": [
    "__________"
   ]
  }
 ],
 "metadata": {
  "kernelspec": {
   "display_name": "Python 3.8.9 64-bit",
   "language": "python",
   "name": "python3"
  },
  "language_info": {
   "codemirror_mode": {
    "name": "ipython",
    "version": 3
   },
   "file_extension": ".py",
   "mimetype": "text/x-python",
   "name": "python",
   "nbconvert_exporter": "python",
   "pygments_lexer": "ipython3",
   "version": "3.8.9"
  },
  "orig_nbformat": 4,
  "vscode": {
   "interpreter": {
    "hash": "31f2aee4e71d21fbe5cf8b01ff0e069b9275f58929596ceb00d14d90e3e16cd6"
   }
  }
 },
 "nbformat": 4,
 "nbformat_minor": 2
}
