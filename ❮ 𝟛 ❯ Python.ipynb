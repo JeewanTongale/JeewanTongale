{
 "cells": [
  {
   "cell_type": "markdown",
   "metadata": {},
   "source": [
    "### 1. Swap any 2 digits of input N to obtain heighest odd number\n",
    "    1. N > 9\n",
    "    2. N has 1 odd digit\n",
    "    3. swap compulsory\n",
    "\n",
    "    Input : 935\n",
    "    Output : 953\n",
    "\n",
    "    Input : 9541\n",
    "    Output : 9451"
   ]
  },
  {
   "cell_type": "code",
   "execution_count": 3,
   "metadata": {},
   "outputs": [
    {
     "name": "stdout",
     "output_type": "stream",
     "text": [
      "9541 original\n"
     ]
    },
    {
     "data": {
      "text/plain": [
       "9451"
      ]
     },
     "execution_count": 3,
     "metadata": {},
     "output_type": "execute_result"
    }
   ],
   "source": [
    "def solution1(num1): \n",
    "    \n",
    "    newList1 = list(map(int, list(str(num1))))\n",
    "    print(num1, \"original\") \n",
    "    IdxToSwap1 = len(newList1) - 1\n",
    "    \n",
    "    for i1 in range(1, 10, 2):\n",
    "        if i1 in newList1:\n",
    "            idx1 = newList1.index(i1)\n",
    "            if idx1 == IdxToSwap1:\n",
    "                newList1[IdxToSwap1 - 1], newList1[IdxToSwap1 - 2] = newList1[IdxToSwap1 - 2], newList1[IdxToSwap1 - 1]\n",
    "                break\n",
    "            else:\n",
    "                newList1[idx1], newList1[IdxToSwap1] = newList1[IdxToSwap1], newList1[idx1]\n",
    "                break\n",
    "    \n",
    "    result1 = int(\"\".join(str(x1) for x1 in newList1))\n",
    "            \n",
    "    return result1\n",
    "    \n",
    "#num1 = 935\n",
    "num1 = 9541\n",
    "solution1(num1)"
   ]
  },
  {
   "cell_type": "markdown",
   "metadata": {},
   "source": [
    "### 2. Number of elements in array which are greater than or equal to average of array\n",
    "    Input :\n",
    "        Array = [10, 20, 30, 40, 50]\n",
    "        Length = 5\n",
    "    Output :\n",
    "        3   \n",
    "    Analysis :\n",
    "        Average = 30\n",
    "        Elements = 30, 40, 50     "
   ]
  },
  {
   "cell_type": "code",
   "execution_count": 82,
   "metadata": {},
   "outputs": [
    {
     "name": "stdout",
     "output_type": "stream",
     "text": [
      "210\n"
     ]
    },
    {
     "data": {
      "text/plain": [
       "1"
      ]
     },
     "execution_count": 82,
     "metadata": {},
     "output_type": "execute_result"
    }
   ],
   "source": [
    "def solution2(array2, len2):\n",
    "    elementCount2 = 0\n",
    "    average2 = sum(array2) // len2\n",
    "    print(average2)\n",
    "    \n",
    "    for i2 in array2:\n",
    "        if i2 >= average2:\n",
    "            elementCount2 += 1\n",
    "    return elementCount2\n",
    "\n",
    "\n",
    "array2 = [100, 200, 400, 140]\n",
    "len2 = 4\n",
    "\n",
    "solution2(array2, len2)    "
   ]
  },
  {
   "cell_type": "markdown",
   "metadata": {},
   "source": [
    "### 3. Perfect number if SUM of it's factors ( excluding itself ) equal to same number. Return 1 is YES, 0 if NOT a perfect number\n",
    "    Input :\n",
    "        Number = 6\n",
    "    Output :\n",
    "        1   \n",
    "    Analysis :\n",
    "        1 + 2 + 3 = 6\n",
    "\n",
    "    Input :\n",
    "        Number = 35\n",
    "    Output :\n",
    "        0  \n",
    "    Analysis :\n",
    "        1 + 5 + 7 != 35   "
   ]
  },
  {
   "cell_type": "code",
   "execution_count": 21,
   "metadata": {},
   "outputs": [
    {
     "name": "stdout",
     "output_type": "stream",
     "text": [
      "[1, 2, 4, 7, 14]\n"
     ]
    },
    {
     "data": {
      "text/plain": [
       "1"
      ]
     },
     "execution_count": 21,
     "metadata": {},
     "output_type": "execute_result"
    }
   ],
   "source": [
    "def solution3(number3):\n",
    "    sum3 = 0\n",
    "    help3 = []\n",
    "    for i3 in range(1, number3):\n",
    "        if number3 % i3 == 0:\n",
    "            sum3 += i3\n",
    "            help3.append(i3)\n",
    "        if sum3 == number3:\n",
    "            print(help3)\n",
    "            return 1\n",
    "    print(help3)    \n",
    "    return 0\n",
    "\n",
    "solution3(28)"
   ]
  },
  {
   "cell_type": "markdown",
   "metadata": {},
   "source": [
    "### 4. Missing number in a unsorted array in acending order\n",
    "    Input :\n",
    "        N = 6\n",
    "        array = [2, 4, 6, 1, 3, 1]\n",
    "    Output :\n",
    "        5    "
   ]
  },
  {
   "cell_type": "code",
   "execution_count": 6,
   "metadata": {},
   "outputs": [
    {
     "data": {
      "text/plain": [
       "5"
      ]
     },
     "execution_count": 6,
     "metadata": {},
     "output_type": "execute_result"
    }
   ],
   "source": [
    "def solution4(array4, len4):\n",
    "    array4.sort()\n",
    "    for i4 in range(1, len4):\n",
    "        if i4 not in array4:\n",
    "            return i4\n",
    "    \n",
    "    return -1\n",
    "\n",
    "array4 = [2, 4, 6, 1, 3, 1]\n",
    "len4 = 6\n",
    "\n",
    "solution4(array4, len4)"
   ]
  },
  {
   "cell_type": "markdown",
   "metadata": {},
   "source": [
    "### 5. Check if string is isogram. [ isogram is when there's NO repeating character in a string ]\n",
    "    Input : \n",
    "        string = \"table\"\n",
    "    Output :\n",
    "        5\n",
    "    Analysis :\n",
    "        NO repeated letters, Length of string is returned        \n",
    "\n",
    "    Input : \n",
    "        string = \"sensor\"\n",
    "    Output :\n",
    "        0\n",
    "    Analysis :\n",
    "        \"s\" is repeated letter, return 0"
   ]
  },
  {
   "cell_type": "code",
   "execution_count": 1,
   "metadata": {},
   "outputs": [
    {
     "name": "stdout",
     "output_type": "stream",
     "text": [
      "{'c': 1, 'o': 1, 'm': 1, 'p': 1, 'u': 1, 't': 1, 'e': 1, 'r': 1}\n"
     ]
    },
    {
     "data": {
      "text/plain": [
       "8"
      ]
     },
     "execution_count": 1,
     "metadata": {},
     "output_type": "execute_result"
    }
   ],
   "source": [
    "def solution5(string5):\n",
    "    hash_map5 = {}\n",
    "    for char5 in string5:\n",
    "        if hash_map5.get(char5):\n",
    "            hash_map5[char5] += 1\n",
    "        else:\n",
    "            hash_map5[char5] = 1  \n",
    "    for i5 in hash_map5:\n",
    "        if hash_map5[i5] >= 2:\n",
    "            print(hash_map5)\n",
    "            return 0\n",
    "    print(hash_map5)              \n",
    "    return len(string5)\n",
    "\n",
    "string5 = \"computer\"\n",
    "solution5(string5)\n",
    "    "
   ]
  },
  {
   "cell_type": "markdown",
   "metadata": {},
   "source": [
    "### 6. Count number of vowels in a string\n",
    "    Input : \n",
    "        string = \"computer\"\n",
    "    Output :\n",
    "        3\n",
    "    Analysis :\n",
    "        o, u, e"
   ]
  },
  {
   "cell_type": "code",
   "execution_count": 35,
   "metadata": {},
   "outputs": [
    {
     "name": "stdout",
     "output_type": "stream",
     "text": [
      "['e', 'e', 'a']\n"
     ]
    },
    {
     "data": {
      "text/plain": [
       "3"
      ]
     },
     "execution_count": 35,
     "metadata": {},
     "output_type": "execute_result"
    }
   ],
   "source": [
    "def solution6(string6):\n",
    "    counter6 = 0\n",
    "    helper6 = []\n",
    "    string6.lower()\n",
    "    for char6 in string6:\n",
    "        if char6 == \"a\" or char6 == \"e\" or char6 == \"i\" or char6 == \"o\" or char6 == \"u\":\n",
    "            counter6 += 1\n",
    "            helper6.append(char6)\n",
    "    print(helper6)\n",
    "    if counter6 == 0:\n",
    "        return 0\n",
    "    else:\n",
    "        return counter6\n",
    "\n",
    "string6 = \"Jeewan\"\n",
    "solution6(string6)\n",
    "    "
   ]
  },
  {
   "cell_type": "markdown",
   "metadata": {},
   "source": [
    "### 7. Minimum number can be appended to sum of array be equal to closest Prime Number\n",
    "    Input : \n",
    "        array = [12, 28, 15, 14]\n",
    "        Length = 4\n",
    "    Output :\n",
    "        2\n",
    "    Analysis :\n",
    "        Sum = 69\n",
    "        Nearest Prime Number = 71\n",
    "        Appended = 2\n",
    "\n",
    "    Input : \n",
    "        array = [21, 22, 23, 17]\n",
    "        Length = 4\n",
    "    Output :\n",
    "        0\n",
    "    Analysis :\n",
    "        Sum = 83\n",
    "        Nearest Prime Number = 83\n",
    "        Appended = 0"
   ]
  },
  {
   "cell_type": "code",
   "execution_count": 11,
   "metadata": {},
   "outputs": [
    {
     "name": "stdout",
     "output_type": "stream",
     "text": [
      "69\n",
      "70\n",
      "71\n"
     ]
    },
    {
     "data": {
      "text/plain": [
       "2"
      ]
     },
     "execution_count": 11,
     "metadata": {},
     "output_type": "execute_result"
    }
   ],
   "source": [
    "def solution7(array7, length7):\n",
    "    sum7 = sum(array7)\n",
    "    print(sum7)\n",
    "    append7 = 0\n",
    "    for i7 in range(2, sum7):\n",
    "        if sum7 % i7 == 0:\n",
    "            sum7 += 1\n",
    "            print(sum7)\n",
    "            append7 += 1\n",
    "    return append7       \n",
    "          \n",
    "array7 = [12, 28, 15, 14]\n",
    "length7 = 4\n",
    "solution7(array7, length7)\n",
    "    "
   ]
  },
  {
   "cell_type": "markdown",
   "metadata": {},
   "source": [
    "### 8. Check if string \"dd/mm/yy\" is valid or not\n",
    "    Input : \n",
    "        \"10/12/2018\"\n",
    "    Output :\n",
    "        0\n",
    "    Analysis : \n",
    "        Valid dd, mm, yy        \n",
    "\n",
    "    Input : \n",
    "        \"09/15/2018\"\n",
    "    Output :\n",
    "        15\n",
    "    Analysis : \n",
    "        Invalid month value - 15          "
   ]
  },
  {
   "cell_type": "code",
   "execution_count": 21,
   "metadata": {},
   "outputs": [
    {
     "data": {
      "text/plain": [
       "40"
      ]
     },
     "execution_count": 21,
     "metadata": {},
     "output_type": "execute_result"
    }
   ],
   "source": [
    "import datetime\n",
    "\n",
    "def solution8(string8):\n",
    "    \n",
    "    day, month, year = string8.split(\"/\")\n",
    "    \n",
    "    isValid8 = True\n",
    "    \n",
    "    try:\n",
    "        datetime.datetime(int(year), int(month), int(day))\n",
    "    except ValueError:\n",
    "        isValid8 = False\n",
    "    \n",
    "    if isValid8:\n",
    "        return 0\n",
    "    elif int(month) > 12:\n",
    "        return int(month)\n",
    "    else:\n",
    "        return int(day)        \n",
    "\n",
    "string8 = \"40/11/2018\"\n",
    "solution8(string8)"
   ]
  },
  {
   "cell_type": "markdown",
   "metadata": {},
   "source": [
    "### 9. Find difference between smallest and biggest prime number in given range\n",
    "    Input : \n",
    "        Start = 10\n",
    "        End = 20 (inclusive)\n",
    "    Output :\n",
    "        8\n",
    "    Analysis : \n",
    "        List = [11, 13, 17, 19]\n",
    "        Difference = 19 - 11 = 8"
   ]
  },
  {
   "cell_type": "code",
   "execution_count": 39,
   "metadata": {},
   "outputs": [
    {
     "data": {
      "text/plain": [
       "8"
      ]
     },
     "execution_count": 39,
     "metadata": {},
     "output_type": "execute_result"
    }
   ],
   "source": [
    "def solution9(start9, end9):\n",
    "    list9 = []\n",
    "    for i9 in range(start9, end9 + 1):\n",
    "        for j9 in range(2, i9):\n",
    "            if i9 % j9 == 0:\n",
    "                break\n",
    "            else:\n",
    "                list9.append(i9)\n",
    "                break\n",
    "    return list9[-1] - list9[0]            \n",
    "\n",
    "start9 = 10\n",
    "end9 = 20\n",
    "solution9(start9, end9)"
   ]
  },
  {
   "cell_type": "markdown",
   "metadata": {},
   "source": [
    "### 10. Count no. of vowels. \n",
    "### If string contains {a, e, i, o, u} all vowels only once return string without all vowels \n",
    "### else return REVERSED string : ERROR in Uppercase\n",
    "    Input : \n",
    "        String : cauliflower\n",
    "    Output :\n",
    "        CLFLWR : 6\n",
    "    Analysis : \n",
    "        String has all vowels {a, e, i, o, u} and occurs only once\n",
    "\n",
    "    Input : \n",
    "        String : caesiious\n",
    "    Output :\n",
    "        SUOIISEAC : ERROR\n",
    "    Analysis : \n",
    "        String has i vowel which occurs twice    "
   ]
  },
  {
   "cell_type": "code",
   "execution_count": 79,
   "metadata": {},
   "outputs": [
    {
     "name": "stdout",
     "output_type": "stream",
     "text": [
      "CLFLWR : 6\n"
     ]
    }
   ],
   "source": [
    "def solution10(string10):\n",
    "    counter10 = 0\n",
    "    newList10 = []\n",
    "    for i10 in string10:\n",
    "        if i10 == \"a\" or i10 == \"e\" or i10 == \"i\" or i10 == \"o\" or i10 == \"u\":\n",
    "            counter10 += 1\n",
    "    if counter10 == 5:\n",
    "        for j10 in string10:\n",
    "            if j10 == \"a\" or j10 == \"e\" or j10 == \"i\" or j10 == \"o\" or j10 == \"u\":\n",
    "                continue\n",
    "            else:\n",
    "                newList10.append(j10)\n",
    "                  \n",
    "        newString10 = \"\".join(newList10) \n",
    "        result10 = newString10.upper()   \n",
    "        return print(result10, \":\", len(result10))\n",
    "    else:\n",
    "        return print(string10[::-1].upper(), \": ERROR\")    \n",
    "\n",
    "string10 = \"cauliflower\"\n",
    "solution10(string10)"
   ]
  },
  {
   "cell_type": "markdown",
   "metadata": {},
   "source": [
    "### 11. Return array element which is closest to array elements average\n",
    "    Input : \n",
    "        Array : [1, 2, 3, 4, 5]\n",
    "        Length : 5\n",
    "    Output :\n",
    "        3\n",
    "    Analysis : \n",
    "        Average = 3\n",
    "        Closest element = 3\n",
    "\n",
    "    Input : \n",
    "        Array : [7, 12, 4, 18, 27, 37]\n",
    "        Length : 6\n",
    "    Output :\n",
    "        18\n",
    "    Analysis : \n",
    "        Average = 17\n",
    "        Closest element = 18"
   ]
  },
  {
   "cell_type": "code",
   "execution_count": 2,
   "metadata": {},
   "outputs": [
    {
     "name": "stdout",
     "output_type": "stream",
     "text": [
      "[22, 45, 59, 67, 78, 99]\n",
      "Average is  61\n"
     ]
    },
    {
     "data": {
      "text/plain": [
       "59"
      ]
     },
     "execution_count": 2,
     "metadata": {},
     "output_type": "execute_result"
    }
   ],
   "source": [
    "def solution11(array11, length11):\n",
    "    array11.sort()\n",
    "    average11 = sum(array11) // length11\n",
    "    if average11 in array11:\n",
    "        print(array11)\n",
    "        print(\"Average is \",average11)\n",
    "        return average11\n",
    "    else:\n",
    "        for idx11, value in enumerate(array11):\n",
    "            if value > average11:\n",
    "                closestU11 = array11[idx11] - average11\n",
    "                closestL11 = average11 - array11[idx11 - 1]\n",
    "                if closestU11 < closestL11:\n",
    "                    print(array11)\n",
    "                    print(\"Average is \",average11)\n",
    "                    return array11[idx11]\n",
    "                else:\n",
    "                    print(array11)\n",
    "                    print(\"Average is \",average11)\n",
    "                    return array11[idx11 - 1]\n",
    "\n",
    "import random\n",
    "def generateRandomInteger11(n11):\n",
    "    n11 = random.randint(1, 100)\n",
    "    return n11\n",
    "list11 = [1, 2, 3, 4, 5, 6]\n",
    "\n",
    "array11 = list(map(generateRandomInteger11, list11))\n",
    "length11 = 6\n",
    "solution11(array11, length11)\n",
    "    "
   ]
  },
  {
   "cell_type": "markdown",
   "metadata": {},
   "source": [
    "## 12. Kth Mex\n",
    "### It is kth smallest non -ve integer which is not present in Array\n",
    "    Input : \n",
    "        Array = [7, 5, 7, 1]\n",
    "        Length = 4\n",
    "        K = 3\n",
    "    Output :\n",
    "        3\n",
    "    Analysis : \n",
    "        Values not present in Array are = 0, 2, 3, 4, 7...\n",
    "        3rd Smallest Value is 3\n",
    "\n",
    "    Input : \n",
    "        Array : [2]\n",
    "        Length : 1\n",
    "        K = 1\n",
    "    Output :\n",
    "        1\n",
    "    Analysis : \n",
    "        Values not present in Array are = 0, 1, 3, 4, 7...\n",
    "        1st Smallest Value is 0"
   ]
  },
  {
   "cell_type": "code",
   "execution_count": 99,
   "metadata": {},
   "outputs": [
    {
     "name": "stdout",
     "output_type": "stream",
     "text": [
      "[0, 2, 3]\n"
     ]
    },
    {
     "data": {
      "text/plain": [
       "3"
      ]
     },
     "execution_count": 99,
     "metadata": {},
     "output_type": "execute_result"
    }
   ],
   "source": [
    "def solution12(array12, length12, k12):\n",
    "    \n",
    "    newList12 = []\n",
    "    for i12 in range(k12 + 1):\n",
    "        if i12 not in array12:\n",
    "            newList12.append(i12)\n",
    "    print(newList12)\n",
    "    return newList12[k12 - 1]           \n",
    "\n",
    "array12 = [5, 7, 1, 7]\n",
    "length12 = 4\n",
    "k12 = 3\n",
    "solution12(array12, length12, k12)"
   ]
  },
  {
   "cell_type": "markdown",
   "metadata": {},
   "source": [
    "### 13. Left Rotate on String by N Positions\n",
    "    Input : \n",
    "        String = abcdxyz\n",
    "        Rotate = 1\n",
    "    Output :\n",
    "        bcdxyza\n",
    "\n",
    "    Input : \n",
    "        String = table123\n",
    "        Rotate = 10\n",
    "    Output :\n",
    "        table123\n",
    "    Analysis :\n",
    "        Rotate Exceeds String Length    "
   ]
  },
  {
   "cell_type": "code",
   "execution_count": 119,
   "metadata": {},
   "outputs": [
    {
     "data": {
      "text/plain": [
       "'bcdxyza'"
      ]
     },
     "execution_count": 119,
     "metadata": {},
     "output_type": "execute_result"
    }
   ],
   "source": [
    "def solution13(string13, rotate13):\n",
    "    if rotate13 > len(string13):\n",
    "        print(\"Rotate Exceed Length of String\")\n",
    "        return string13\n",
    "    else:\n",
    "        return string13[rotate13 % len(string13) : ] + string13[ : rotate13 % len(string13)]\n",
    "\n",
    "string13 = \"abcdxyz\"\n",
    "rotate13 = 1\n",
    "solution13(string13, rotate13)    "
   ]
  },
  {
   "cell_type": "markdown",
   "metadata": {},
   "source": [
    "### 14. Find Max number by deleting single digit form 4 digit number, without changing sequence of digits\n",
    "    Input : \n",
    "        Integer = 5789\n",
    "    Output :\n",
    "        789\n",
    "    Analysis :\n",
    "        578, 579, 589, 789    \n",
    "\n",
    "    Input : \n",
    "        Integer = 9853\n",
    "    Output :\n",
    "        985\n",
    "    Analysis :\n",
    "        985, 983, 953, 756    "
   ]
  },
  {
   "cell_type": "code",
   "execution_count": 234,
   "metadata": {},
   "outputs": [
    {
     "data": {
      "text/plain": [
       "789"
      ]
     },
     "execution_count": 234,
     "metadata": {},
     "output_type": "execute_result"
    }
   ],
   "source": [
    "def solution14(number14):\n",
    "    newList14 = list(map(int, list(str(number14))))\n",
    "    \n",
    "    if newList14[1] > newList14[0]:\n",
    "        newList14 = newList14[1 : ]\n",
    "    else:\n",
    "        newList14.remove(min(newList14))\n",
    "    \n",
    "    result14 = int(\"\".join(str(x14) for x14 in newList14))    \n",
    "    return result14\n",
    "\n",
    "number14 = 5789\n",
    "solution14(number14)"
   ]
  },
  {
   "cell_type": "markdown",
   "metadata": {},
   "source": [
    "## 15. Recursion, the Fibonacci Sequence and Memoization"
   ]
  },
  {
   "cell_type": "code",
   "execution_count": 6,
   "metadata": {},
   "outputs": [
    {
     "name": "stdout",
     "output_type": "stream",
     "text": [
      "1 ; 1\n",
      "2 ; 2\n",
      "3 ; 3\n",
      "4 ; 5\n",
      "5 ; 8\n",
      "6 ; 13\n",
      "7 ; 21\n",
      "8 ; 34\n",
      "9 ; 55\n",
      "10 ; 89\n"
     ]
    }
   ],
   "source": [
    "fibonacci_cache = {}\n",
    "\n",
    "def fibonacci15(n15):\n",
    "    \n",
    "    if n15 in fibonacci_cache:\n",
    "        return fibonacci_cache[n15]\n",
    "    \n",
    "    if n15 == 1:\n",
    "        value15 = 1\n",
    "    elif n15 == 2:\n",
    "        value15 = 2\n",
    "    else:\n",
    "        value15 = fibonacci15(n15 - 1) + fibonacci15(n15 - 2)\n",
    "    \n",
    "    fibonacci_cache[n15] = value15\n",
    "    return value15    \n",
    "    \n",
    "for i15 in range(1, 11):\n",
    "    print(i15, \";\", fibonacci15(i15))            \n",
    "    "
   ]
  },
  {
   "cell_type": "markdown",
   "metadata": {},
   "source": [
    "## 16. C to F degree Temperature\n",
    "    Formula :\n",
    "    F = 9 / 5 * C + 32"
   ]
  },
  {
   "cell_type": "code",
   "execution_count": 11,
   "metadata": {},
   "outputs": [
    {
     "name": "stdout",
     "output_type": "stream",
     "text": [
      "[('India', 95.0), ('Canada', 53.6), ('USA', 57.2), ('UK', 59.0)]\n"
     ]
    }
   ],
   "source": [
    "temp16 = [(\"India\", 35), (\"Canada\", 12), (\"USA\", 14), (\"UK\", 15)]\n",
    "c_to_f = lambda data16 : (data16[0], (9/5) * data16[1] + 32)\n",
    "print(list(map(c_to_f, temp16)))"
   ]
  },
  {
   "cell_type": "markdown",
   "metadata": {},
   "source": [
    "## 17. Permutations of a String using Recursion\n"
   ]
  },
  {
   "cell_type": "code",
   "execution_count": 29,
   "metadata": {},
   "outputs": [
    {
     "name": "stdout",
     "output_type": "stream",
     "text": [
      "OTP\n",
      "OPT\n",
      "TOP\n",
      "TPO\n",
      "PTO\n",
      "POT\n"
     ]
    }
   ],
   "source": [
    "def permutations17(string17, i17 = 0):\n",
    "    \n",
    "    if i17 == len(string17):\n",
    "        print(\"\".join(string17))\n",
    "    \n",
    "    for j17 in range(i17, len(string17)):\n",
    "        words17 = [c17 for c17 in string17]\n",
    "        words17[i17], words17[j17] = words17[j17], words17[i17]\n",
    "        permutations17(words17, i17 + 1)    \n",
    "\n",
    "permutations17(\"OTP\")        "
   ]
  },
  {
   "cell_type": "code",
   "execution_count": 31,
   "metadata": {},
   "outputs": [
    {
     "name": "stdout",
     "output_type": "stream",
     "text": [
      "OTP\n",
      "OPT\n",
      "TOP\n",
      "TPO\n",
      "POT\n",
      "PTO\n"
     ]
    }
   ],
   "source": [
    "from itertools import permutations\n",
    "\n",
    "perm177 = permutations('OTP')\n",
    "for p17 in perm177:\n",
    "    print(''.join(p17))\n"
   ]
  },
  {
   "cell_type": "markdown",
   "metadata": {},
   "source": [
    "### 18. Given String of words, Return Length of Middle Word. If Two Middle Words Return Max Length of Word\n",
    "    Input : \n",
    "        String = Jeewan is coding\n",
    "    Output :\n",
    "        2\n",
    "    Analysis :\n",
    "        String has 3 words, Middle word length = 2\n",
    "\n",
    "    Input : \n",
    "        String = MacBook is the Best\n",
    "    Output :\n",
    "        3\n",
    "    Analysis :\n",
    "        String has 4 words, Middle word of Max length = 3"
   ]
  },
  {
   "cell_type": "code",
   "execution_count": 80,
   "metadata": {},
   "outputs": [
    {
     "name": "stdout",
     "output_type": "stream",
     "text": [
      "['Jeewan', 'is', 'coding', 'Yes']\n"
     ]
    },
    {
     "data": {
      "text/plain": [
       "6"
      ]
     },
     "execution_count": 80,
     "metadata": {},
     "output_type": "execute_result"
    }
   ],
   "source": [
    "def solution18(string18):\n",
    "    \n",
    "    newList18 = string18.split()\n",
    "    print(newList18)\n",
    "    result18 = len(newList18) // 2\n",
    "    if len(newList18) % 2 != 0:\n",
    "        return len(newList18[result18])\n",
    "    elif len(newList18[result18]) > len(newList18[result18 - 1]):\n",
    "        return len(newList18[result18])\n",
    "    else:\n",
    "        return len(newList18[result18 - 1])\n",
    "string18 = \"Jeewan is coding Yes\"\n",
    "solution18(string18)"
   ]
  },
  {
   "cell_type": "markdown",
   "metadata": {},
   "source": [
    "## 🏆 AlgoExpert - Recursion 1"
   ]
  },
  {
   "cell_type": "code",
   "execution_count": 6,
   "metadata": {},
   "outputs": [
    {
     "data": {
      "text/plain": [
       "5"
      ]
     },
     "execution_count": 6,
     "metadata": {},
     "output_type": "execute_result"
    }
   ],
   "source": [
    "def recursion1(r1):\n",
    "    lastTwo = [0, 1]\n",
    "    counterr1 = 3\n",
    "    while counterr1 <= r1:\n",
    "        nextFibb1 = lastTwo[0] + lastTwo[1]\n",
    "        lastTwo[0] = lastTwo[1]\n",
    "        lastTwo[1] = nextFibb1\n",
    "        counterr1 += 1\n",
    "    return lastTwo[1] if r1 > 1 else lastTwo[0]\n",
    "\n",
    "recursion1(6)"
   ]
  },
  {
   "cell_type": "markdown",
   "metadata": {},
   "source": [
    "## 🏆 AlgoExpert - Recursion 2"
   ]
  },
  {
   "cell_type": "code",
   "execution_count": 22,
   "metadata": {},
   "outputs": [
    {
     "data": {
      "text/plain": [
       "12"
      ]
     },
     "execution_count": 22,
     "metadata": {},
     "output_type": "execute_result"
    }
   ],
   "source": [
    "def recursion2(arrayr2, multiplierr2 = 1):\n",
    "    sumr2 = 0\n",
    "    for r2 in arrayr2:\n",
    "        if type(r2) is list:\n",
    "            sumr2 += recursion2(r2, multiplierr2 + 1)\n",
    "        else:\n",
    "            sumr2 += r2\n",
    "    return sumr2 * multiplierr2            \n",
    "\n",
    "\n",
    "arrayr2 = [5, 2, [7, -1], 3, [6, [-13, 8], 4]]\n",
    "recursion2(arrayr2)"
   ]
  },
  {
   "cell_type": "code",
   "execution_count": 17,
   "metadata": {},
   "outputs": [
    {
     "name": "stdout",
     "output_type": "stream",
     "text": [
      "<class 'list'>\n",
      "1 <class 'int'>\n",
      "[3, 4] <class 'list'>\n",
      "9 <class 'int'>\n",
      "[2, 4, 6, [9, 4]] <class 'list'>\n"
     ]
    }
   ],
   "source": [
    "a = [1, [3, 4], 9, [2, 4, 6, [9, 4]]]"
   ]
  },
  {
   "cell_type": "markdown",
   "metadata": {},
   "source": [
    "## 🏆 AlgoExpert - Recursion 3"
   ]
  },
  {
   "cell_type": "code",
   "execution_count": 27,
   "metadata": {},
   "outputs": [
    {
     "data": {
      "text/plain": [
       "[[1, 2, 3], [1, 3, 2], [2, 1, 3], [2, 3, 1], [3, 2, 1], [3, 1, 2]]"
      ]
     },
     "execution_count": 27,
     "metadata": {},
     "output_type": "execute_result"
    }
   ],
   "source": [
    "def permutation(arrayr3):\n",
    "    newPermutation = []\n",
    "    helperr3(0, arrayr3, newPermutation)\n",
    "    return newPermutation\n",
    "\n",
    "def helperr3(i, arrayr3, newPermutation):\n",
    "    if i == len(arrayr3) - 1:\n",
    "        newPermutation.append(arrayr3[:])\n",
    "    else:\n",
    "        for j in range(i, len(arrayr3)):\n",
    "            arrayr3[i], arrayr3[j] = arrayr3[j], arrayr3[i]\n",
    "            helperr3(i + 1, arrayr3, newPermutation) \n",
    "            arrayr3[i], arrayr3[j] = arrayr3[j], arrayr3[i]   \n",
    "\n",
    "arrayr3 = [1, 2, 3]\n",
    "permutation(arrayr3)"
   ]
  },
  {
   "cell_type": "markdown",
   "metadata": {},
   "source": [
    "## 🏆 AlgoExpert - Recursion 4"
   ]
  },
  {
   "cell_type": "code",
   "execution_count": 3,
   "metadata": {},
   "outputs": [
    {
     "name": "stdout",
     "output_type": "stream",
     "text": [
      "[1, 2, 3]\n"
     ]
    },
    {
     "data": {
      "text/plain": [
       "[[], [1], [2], [1, 2], [3], [1, 3], [2, 3], [1, 2, 3]]"
      ]
     },
     "execution_count": 3,
     "metadata": {},
     "output_type": "execute_result"
    }
   ],
   "source": [
    "def subset(ar4):\n",
    "    subsets = [[]]\n",
    "    for ir4 in ar4:\n",
    "        for jr4 in range(len(subsets)):\n",
    "                curr4 = subsets[jr4]\n",
    "                subsets.append(curr4 + [ir4])\n",
    "    print(ar4)\n",
    "    return subsets            \n",
    "\n",
    "\n",
    "subset([1, 2, 3])"
   ]
  },
  {
   "cell_type": "markdown",
   "metadata": {},
   "source": [
    "## 🏆 AlgoExpert - Recursion 6"
   ]
  },
  {
   "cell_type": "code",
   "execution_count": 17,
   "metadata": {},
   "outputs": [
    {
     "name": "stdout",
     "output_type": "stream",
     "text": [
      "-2 \tstartOfWindow\n",
      "0 \tendOfWindow\n",
      "1 \tcurrentNumberOfWays\n",
      "[1, 1] \twaysToTop\n",
      "-1 \tstartOfWindow\n",
      "1 \tendOfWindow\n",
      "2 \tcurrentNumberOfWays\n",
      "[1, 1, 2] \twaysToTop\n",
      "0 \tstartOfWindow\n",
      "2 \tendOfWindow\n",
      "1 \tcurrentNumberOfWays\n",
      "3 \tcurrentNumberOfWays\n",
      "[1, 1, 2, 3] \twaysToTop\n",
      "1 \tstartOfWindow\n",
      "3 \tendOfWindow\n",
      "2 \tcurrentNumberOfWays\n",
      "5 \tcurrentNumberOfWays\n",
      "[1, 1, 2, 3, 5] \twaysToTop\n"
     ]
    },
    {
     "data": {
      "text/plain": [
       "5"
      ]
     },
     "execution_count": 17,
     "metadata": {},
     "output_type": "execute_result"
    }
   ],
   "source": [
    "def steps(heightt, maxStep):\n",
    "    currentNumberOfWays = 0\n",
    "    waysToTop = [1]\n",
    "    \n",
    "    for currentHeight in range(1, heightt + 1):\n",
    "            startOfWindow = currentHeight - maxStep - 1\n",
    "            print(startOfWindow, \"\\tstartOfWindow\")\n",
    "            endOfWindow = currentHeight - 1\n",
    "            print(endOfWindow, \"\\tendOfWindow\")\n",
    "            \n",
    "            if startOfWindow >= 0:\n",
    "                currentNumberOfWays -= waysToTop[startOfWindow]\n",
    "                print(currentNumberOfWays, \"\\tcurrentNumberOfWays\")\n",
    "                \n",
    "            currentNumberOfWays += waysToTop[endOfWindow]\n",
    "            print(currentNumberOfWays, \"\\tcurrentNumberOfWays\")\n",
    "            waysToTop.append(currentNumberOfWays) \n",
    "            print(waysToTop, \"\\twaysToTop\") \n",
    "            \n",
    "    return waysToTop[heightt]          \n",
    "\n",
    "\n",
    "heightt = 4\n",
    "maxStep = 2\n",
    "steps(heightt, maxStep)"
   ]
  },
  {
   "cell_type": "code",
   "execution_count": null,
   "metadata": {},
   "outputs": [],
   "source": []
  }
 ],
 "metadata": {
  "kernelspec": {
   "display_name": "Python 3.8.9 64-bit",
   "language": "python",
   "name": "python3"
  },
  "language_info": {
   "codemirror_mode": {
    "name": "ipython",
    "version": 3
   },
   "file_extension": ".py",
   "mimetype": "text/x-python",
   "name": "python",
   "nbconvert_exporter": "python",
   "pygments_lexer": "ipython3",
   "version": "3.8.9"
  },
  "orig_nbformat": 4,
  "vscode": {
   "interpreter": {
    "hash": "31f2aee4e71d21fbe5cf8b01ff0e069b9275f58929596ceb00d14d90e3e16cd6"
   }
  }
 },
 "nbformat": 4,
 "nbformat_minor": 2
}
