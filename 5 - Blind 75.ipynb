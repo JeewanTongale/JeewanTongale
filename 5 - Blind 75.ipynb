{
 "cells": [
  {
   "cell_type": "markdown",
   "metadata": {},
   "source": [
    "# ______________________________ . 5 ) 👀 Blind 150 . _______________________________"
   ]
  },
  {
   "cell_type": "markdown",
   "metadata": {},
   "source": [
    "# ⭐️ - - - - - - - - - - - - - - - - - - - 🏝 1D Dynamic Programming - - - - - - - - - - - - - - - - - - - 🔥"
   ]
  },
  {
   "cell_type": "markdown",
   "metadata": {},
   "source": [
    "## 70. Climbing Stairs\n",
    "\n",
    "You are climbing a staircase. It takes n steps to reach the top.\n",
    "\n",
    "Each time you can either climb 1 or 2 steps. In how many distinct ways can you climb to the top?\n",
    "\n",
    " \n",
    "\n",
    "Example 1:\n",
    "\n",
    "Input: n = 2\n",
    "Output: 2\n",
    "Explanation: There are two ways to climb to the top.\n",
    "1. 1 step + 1 step\n",
    "2. 2 steps\n",
    "Example 2:\n",
    "\n",
    "Input: n = 3\n",
    "Output: 3\n",
    "Explanation: There are three ways to climb to the top.\n",
    "1. 1 step + 1 step + 1 step\n",
    "2. 1 step + 2 steps\n",
    "3. 2 steps + 1 step\n",
    "\n",
    "# Amazon"
   ]
  },
  {
   "cell_type": "code",
   "execution_count": 2,
   "metadata": {},
   "outputs": [
    {
     "data": {
      "text/plain": [
       "3"
      ]
     },
     "execution_count": 2,
     "metadata": {},
     "output_type": "execute_result"
    }
   ],
   "source": [
    "def climbingStairs(n):\n",
    "    one = 1\n",
    "    two = 1\n",
    "    for i in range(n -1):\n",
    "        temp = one\n",
    "        one = one + two\n",
    "        two = temp\n",
    "    return one    \n",
    "\n",
    "climbingStairs(3)"
   ]
  },
  {
   "cell_type": "markdown",
   "metadata": {},
   "source": [
    "## 746. Min Cost Climbing Stairs\n",
    "\n",
    "You are given an integer array cost where cost[i] is the cost of ith step on a staircase. Once you pay the cost, you can either climb one or two steps.\n",
    "\n",
    "You can either start from the step with index 0, or the step with index 1.\n",
    "\n",
    "Return the minimum cost to reach the top of the floor.\n",
    "\n",
    " \n",
    "\n",
    "Example 1:\n",
    "\n",
    "Input: cost = [10,15,20]\n",
    "Output: 15\n",
    "Explanation: You will start at index 1.\n",
    "- Pay 15 and climb two steps to reach the top.\n",
    "The total cost is 15.\n",
    "Example 2:\n",
    "\n",
    "Input: cost = [1,100,1,1,1,100,1,1,100,1]\n",
    "Output: 6\n",
    "Explanation: You will start at index 0.\n",
    "- Pay 1 and climb two steps to reach index 2.\n",
    "- Pay 1 and climb two steps to reach index 4.\n",
    "- Pay 1 and climb two steps to reach index 6.\n",
    "- Pay 1 and climb one step to reach index 7.\n",
    "- Pay 1 and climb two steps to reach index 9.\n",
    "- Pay 1 and climb one step to reach the top.\n",
    "The total cost is 6.\n",
    "\n",
    "# Google"
   ]
  },
  {
   "cell_type": "code",
   "execution_count": 4,
   "metadata": {},
   "outputs": [
    {
     "data": {
      "text/plain": [
       "15"
      ]
     },
     "execution_count": 4,
     "metadata": {},
     "output_type": "execute_result"
    }
   ],
   "source": [
    "def minCostClimbingStairs(cost: list):\n",
    "    \n",
    "    cost.append(0)\n",
    "    \n",
    "    for i in range(len(cost) - 3, -1, -1):\n",
    "        cost[i] += min(cost[i + 1], cost[i + 2])\n",
    "    \n",
    "    return min(cost[0], cost[1])\n",
    "\n",
    "minCostClimbingStairs([10,15,20])\n",
    "    "
   ]
  },
  {
   "cell_type": "markdown",
   "metadata": {},
   "source": [
    "## 198. House Robber\n",
    "\n",
    "You are a professional robber planning to rob houses along a street. Each house has a certain amount of money stashed, the only constraint stopping you from robbing each of them is that adjacent houses have security systems connected and it will automatically contact the police if two adjacent houses were broken into on the same night.\n",
    "\n",
    "Given an integer array nums representing the amount of money of each house, return the maximum amount of money you can rob tonight without alerting the police.\n",
    "\n",
    " \n",
    "\n",
    "Example 1:\n",
    "\n",
    "Input: nums = [1,2,3,1]\n",
    "Output: 4\n",
    "Explanation: Rob house 1 (money = 1) and then rob house 3 (money = 3).\n",
    "Total amount you can rob = 1 + 3 = 4.\n",
    "Example 2:\n",
    "\n",
    "Input: nums = [2,7,9,3,1]\n",
    "Output: 12\n",
    "Explanation: Rob house 1 (money = 2), rob house 3 (money = 9) and rob house 5 (money = 1).\n",
    "Total amount you can rob = 2 + 9 + 1 = 12.\n",
    "\n",
    "# Google"
   ]
  },
  {
   "cell_type": "code",
   "execution_count": 6,
   "metadata": {},
   "outputs": [
    {
     "data": {
      "text/plain": [
       "4"
      ]
     },
     "execution_count": 6,
     "metadata": {},
     "output_type": "execute_result"
    }
   ],
   "source": [
    "def robHouses(nums: list):\n",
    "    \n",
    "    rob1 = 0\n",
    "    rob2 = 0\n",
    "    \n",
    "# [ rob1, rob2, n, n + 1, n + 2... ]\n",
    "    for i in nums:\n",
    "        temp = max(i + rob1, rob2)\n",
    "        rob1 = rob2\n",
    "        rob2 = temp\n",
    "    \n",
    "    return rob2  \n",
    "\n",
    "robHouses([1,2,3,1])  "
   ]
  },
  {
   "cell_type": "markdown",
   "metadata": {},
   "source": [
    "## 213. House Robber II\n",
    "\n",
    "You are a professional robber planning to rob houses along a street. Each house has a certain amount of money stashed. All houses at this place are arranged in a circle. That means the first house is the neighbor of the last one. Meanwhile, adjacent houses have a security system connected, and it will automatically contact the police if two adjacent houses were broken into on the same night.\n",
    "\n",
    "Given an integer array nums representing the amount of money of each house, return the maximum amount of money you can rob tonight without alerting the police.\n",
    "\n",
    " \n",
    "\n",
    "Example 1:\n",
    "\n",
    "Input: nums = [2,3,2]\n",
    "Output: 3\n",
    "Explanation: You cannot rob house 1 (money = 2) and then rob house 3 (money = 2), because they are adjacent houses.\n",
    "Example 2:\n",
    "\n",
    "Input: nums = [1,2,3,1]\n",
    "Output: 4\n",
    "Explanation: Rob house 1 (money = 1) and then rob house 3 (money = 3).\n",
    "Total amount you can rob = 1 + 3 = 4.\n",
    "Example 3:\n",
    "\n",
    "Input: nums = [1,2,3]\n",
    "Output: 3\n",
    "\n",
    "# Google"
   ]
  },
  {
   "cell_type": "code",
   "execution_count": 10,
   "metadata": {},
   "outputs": [
    {
     "data": {
      "text/plain": [
       "3"
      ]
     },
     "execution_count": 10,
     "metadata": {},
     "output_type": "execute_result"
    }
   ],
   "source": [
    "def robHpuses2(nums):\n",
    "    \n",
    "    def helper(nums):\n",
    "        rob1 = 0\n",
    "        rob2 = 0\n",
    "        for i in nums:\n",
    "            newRob = max(rob1 + i, rob2)\n",
    "            rob1 = rob2\n",
    "            rob2 = newRob\n",
    "        return rob2    \n",
    "    \n",
    "    return max(nums[0], helper(nums[ 1 : ]), helper(nums[ : -1 ]))\n",
    "\n",
    "\n",
    "robHpuses2([1,2,3])\n",
    "    "
   ]
  },
  {
   "cell_type": "markdown",
   "metadata": {},
   "source": [
    "## 5. Longest Palindromic Substring\n",
    "\n",
    "Given a string s, return the longest palindromic substring in s.\n",
    "\n",
    "A string is called a palindrome string if the reverse of that string is the same as the original string.\n",
    "\n",
    " \n",
    "\n",
    "Example 1:\n",
    "\n",
    "Input: s = \"babad\"\n",
    "Output: \"bab\"\n",
    "Explanation: \"aba\" is also a valid answer.\n",
    "Example 2:\n",
    "\n",
    "Input: s = \"cbbd\"\n",
    "Output: \"bb\"\n",
    "\n",
    "# Google"
   ]
  },
  {
   "cell_type": "code",
   "execution_count": 3,
   "metadata": {},
   "outputs": [
    {
     "data": {
      "text/plain": [
       "'bb'"
      ]
     },
     "execution_count": 3,
     "metadata": {},
     "output_type": "execute_result"
    }
   ],
   "source": [
    "def longestPalindrome(s):\n",
    "    result = \"\"\n",
    "    resultLength = 0\n",
    "    sLen = len(s)\n",
    "    \n",
    "    \n",
    "    for i in range(sLen):\n",
    "        # Odd Length String\n",
    "        l, r = i, i\n",
    "        while l >= 0 and r < sLen and s[l] == s[r]:\n",
    "            if (r - l + 1) > resultLength:\n",
    "                result = s[l : r + 1]\n",
    "                resultLength = r - l + 1\n",
    "            l -= 1\n",
    "            r += 1\n",
    "        # Even Length String\n",
    "        l, r = i, i + 1\n",
    "        while l >= 0 and r < sLen and s[l] == s[r]:\n",
    "            if (r - l + 1) > resultLength:\n",
    "                result = s[l : r + 1]\n",
    "                resultLength = r - l + 1\n",
    "            l -= 1\n",
    "            r += 1\n",
    "    \n",
    "    return result\n",
    "\n",
    "longestPalindrome(\"cbbd\")\n",
    "                   "
   ]
  },
  {
   "cell_type": "markdown",
   "metadata": {},
   "source": [
    "## 647. Palindromic Substrings\n",
    "\n",
    "Given a string s, return the number of palindromic substrings in it.\n",
    "\n",
    "A string is a palindrome when it reads the same backward as forward.\n",
    "\n",
    "A substring is a contiguous sequence of characters within the string.\n",
    "\n",
    " \n",
    "\n",
    "Example 1:\n",
    "\n",
    "Input: s = \"abc\"\n",
    "Output: 3\n",
    "Explanation: Three palindromic strings: \"a\", \"b\", \"c\".\n",
    "Example 2:\n",
    "\n",
    "Input: s = \"aaa\"\n",
    "Output: 6\n",
    "Explanation: Six palindromic strings: \"a\", \"a\", \"a\", \"aa\", \"aa\", \"aaa\".\n",
    "\n",
    "# Google"
   ]
  },
  {
   "cell_type": "code",
   "execution_count": 7,
   "metadata": {},
   "outputs": [
    {
     "data": {
      "text/plain": [
       "3"
      ]
     },
     "execution_count": 7,
     "metadata": {},
     "output_type": "execute_result"
    }
   ],
   "source": [
    "def longestPalindrome2(s):\n",
    "    result = 0\n",
    "\n",
    "    for i in range(len(s)):\n",
    "        # Odd Length String\n",
    "        result += countPalindrome(s, i, i)\n",
    "        # Even Length String\n",
    "        result += countPalindrome(s, i, i + 1)\n",
    "    \n",
    "    return result\n",
    "\n",
    "def countPalindrome(s, l, r):\n",
    "    result = 0\n",
    "    while l >= 0 and r < len(s) and s[l] == s[r]:\n",
    "        result += 1\n",
    "        l -= 1\n",
    "        r += 1\n",
    "    return result\n",
    "        \n",
    "\n",
    "longestPalindrome2(\"abc\")\n",
    "                   "
   ]
  },
  {
   "cell_type": "markdown",
   "metadata": {},
   "source": [
    "## 91. Decode Ways\n",
    "\n",
    "A message containing letters from A-Z can be encoded into numbers using the following mapping:\n",
    "\n",
    "'A' -> \"1\"\n",
    "'B' -> \"2\"\n",
    "...\n",
    "'Z' -> \"26\"\n",
    "To decode an encoded message, all the digits must be grouped then mapped back into letters using the reverse of the mapping above (there may be multiple ways). For example, \"11106\" can be mapped into:\n",
    "\n",
    "\"AAJF\" with the grouping (1 1 10 6)\n",
    "\"KJF\" with the grouping (11 10 6)\n",
    "Note that the grouping (1 11 06) is invalid because \"06\" cannot be mapped into 'F' since \"6\" is different from \"06\".\n",
    "\n",
    "Given a string s containing only digits, return the number of ways to decode it.\n",
    "\n",
    "The test cases are generated so that the answer fits in a 32-bit integer.\n",
    "\n",
    " \n",
    "\n",
    "Example 1:\n",
    "\n",
    "Input: s = \"12\"\n",
    "Output: 2\n",
    "Explanation: \"12\" could be decoded as \"AB\" (1 2) or \"L\" (12).\n",
    "Example 2:\n",
    "\n",
    "Input: s = \"226\"\n",
    "Output: 3\n",
    "Explanation: \"226\" could be decoded as \"BZ\" (2 26), \"VF\" (22 6), or \"BBF\" (2 2 6).\n",
    "Example 3:\n",
    "\n",
    "Input: s = \"06\"\n",
    "Output: 0\n",
    "Explanation: \"06\" cannot be mapped to \"F\" because of the leading zero (\"6\" is different from \"06\").\n",
    "\n",
    "# Google"
   ]
  },
  {
   "cell_type": "code",
   "execution_count": 14,
   "metadata": {},
   "outputs": [
    {
     "data": {
      "text/plain": [
       "3"
      ]
     },
     "execution_count": 14,
     "metadata": {},
     "output_type": "execute_result"
    }
   ],
   "source": [
    "# Dynamic Approach\n",
    "\n",
    "def decodeWays(s):\n",
    "    dp = { len(s) : 1 }\n",
    "    \n",
    "    for i in range(len(s) - 1, -1, -1):\n",
    "        if s[i] == \"0\":\n",
    "            dp[i] = 0\n",
    "        else:\n",
    "            dp[i] = dp[i + 1]\n",
    "        \n",
    "        if i + 1 < len(s) and s[i] == \"1\" or s[i] == \"2\" and s[i + 1] in \"0123456\":\n",
    "            dp[i] += dp[i + 2]\n",
    "    \n",
    "    return dp[0]\n",
    "\n",
    "decodeWays(\"226\")"
   ]
  },
  {
   "cell_type": "code",
   "execution_count": 13,
   "metadata": {},
   "outputs": [
    {
     "data": {
      "text/plain": [
       "3"
      ]
     },
     "execution_count": 13,
     "metadata": {},
     "output_type": "execute_result"
    }
   ],
   "source": [
    "# Recursive Approach\n",
    "\n",
    "def decodeWays(s):\n",
    "    dp = { len(s) : 1 } \n",
    "    \n",
    "    def dfs(i):\n",
    "        if i in dp:\n",
    "            return dp[i]\n",
    "        if s[0] == \"0\":\n",
    "            return 0\n",
    "        \n",
    "        res = dfs(i + 1)\n",
    "        if i + 1 < len(s) and s[i] == \"1\" or s[i] == \"2\" and s[i + 1] in \"0123456\":\n",
    "            res += dfs(i + 2)\n",
    "        dp[i] = res\n",
    "        return res\n",
    "    return dfs(0)\n",
    "\n",
    "decodeWays(\"226\")"
   ]
  },
  {
   "cell_type": "markdown",
   "metadata": {},
   "source": [
    "## 322. Coin Change\n",
    "\n",
    "You are given an integer array coins representing coins of different denominations and an integer amount representing a total amount of money.\n",
    "\n",
    "Return the fewest number of coins that you need to make up that amount. If that amount of money cannot be made up by any combination of the coins, return -1.\n",
    "\n",
    "You may assume that you have an infinite number of each kind of coin.\n",
    "\n",
    " \n",
    "\n",
    "Example 1:\n",
    "\n",
    "Input: coins = [1,2,5], amount = 11\n",
    "Output: 3\n",
    "Explanation: 11 = 5 + 5 + 1\n",
    "Example 2:\n",
    "\n",
    "Input: coins = [2], amount = 3\n",
    "Output: -1\n",
    "Example 3:\n",
    "\n",
    "Input: coins = [1], amount = 0\n",
    "Output: 0\n",
    "\n",
    "# Facebook"
   ]
  },
  {
   "cell_type": "code",
   "execution_count": 21,
   "metadata": {},
   "outputs": [
    {
     "data": {
      "text/plain": [
       "3"
      ]
     },
     "execution_count": 21,
     "metadata": {},
     "output_type": "execute_result"
    }
   ],
   "source": [
    "def coinChange(coins, amount):\n",
    "    dp = [amount + 1] * (amount + 1)\n",
    "    dp[0] = 0\n",
    "    \n",
    "    for i in range(1, amount + 1):\n",
    "        for c in coins:\n",
    "            if i - c >= 0:\n",
    "                dp[i] = min(dp[i], 1 + dp[i - c])\n",
    "    \n",
    "    return dp[amount] if dp[amount] != amount + 1 else -1\n",
    "\n",
    "coinChange([1,2,5], 11)"
   ]
  },
  {
   "cell_type": "markdown",
   "metadata": {},
   "source": [
    "## 152. Maximum Product Subarray\n",
    "\n",
    "Given an integer array nums, find a contiguous non-empty subarray within the array that has the largest product, and return the product.\n",
    "\n",
    "The test cases are generated so that the answer will fit in a 32-bit integer.\n",
    "\n",
    "A subarray is a contiguous subsequence of the array.\n",
    "\n",
    " \n",
    "\n",
    "Example 1:\n",
    "\n",
    "Input: nums = [2,3,-2,4]\n",
    "Output: 6\n",
    "Explanation: [2,3] has the largest product 6.\n",
    "Example 2:\n",
    "\n",
    "Input: nums = [-2,0,-1]\n",
    "Output: 0\n",
    "Explanation: The result cannot be 2, because [-2,-1] is not a subarray.\n",
    "\n",
    "# Amazon"
   ]
  },
  {
   "cell_type": "code",
   "execution_count": 24,
   "metadata": {},
   "outputs": [
    {
     "data": {
      "text/plain": [
       "6"
      ]
     },
     "execution_count": 24,
     "metadata": {},
     "output_type": "execute_result"
    }
   ],
   "source": [
    "def maxProduct(nums):\n",
    "    result = max(nums)\n",
    "    currMax = 1\n",
    "    currMin = 1\n",
    "    \n",
    "    for i in nums:\n",
    "        if i == 0:\n",
    "            currMax, currMin = 1, 1\n",
    "        temp = currMax * i\n",
    "        currMax = max(currMax * i, currMin * i, i)\n",
    "        currmMin = min(temp, currMin * i, i)\n",
    "        result = max(result, currMax)\n",
    "        \n",
    "    return result\n",
    "\n",
    "maxProduct([2,3,-2,4])"
   ]
  },
  {
   "cell_type": "markdown",
   "metadata": {},
   "source": [
    "## 139. Word Break\n",
    "\n",
    "Given a string s and a dictionary of strings wordDict, return true if s can be segmented into a space-separated sequence of one or more dictionary words.\n",
    "\n",
    "Note that the same word in the dictionary may be reused multiple times in the segmentation.\n",
    "\n",
    " \n",
    "\n",
    "Example 1:\n",
    "\n",
    "Input: s = \"leetcode\", wordDict = [\"leet\",\"code\"]\n",
    "Output: true\n",
    "Explanation: Return true because \"leetcode\" can be segmented as \"leet code\".\n",
    "Example 2:\n",
    "\n",
    "Input: s = \"applepenapple\", wordDict = [\"apple\",\"pen\"]\n",
    "Output: true\n",
    "Explanation: Return true because \"applepenapple\" can be segmented as \"apple pen apple\".\n",
    "Note that you are allowed to reuse a dictionary word.\n",
    "Example 3:\n",
    "\n",
    "Input: s = \"catsandog\", wordDict = [\"cats\",\"dog\",\"sand\",\"and\",\"cat\"]\n",
    "Output: false\n",
    "\n",
    "# Google"
   ]
  },
  {
   "cell_type": "code",
   "execution_count": 29,
   "metadata": {},
   "outputs": [
    {
     "data": {
      "text/plain": [
       "True"
      ]
     },
     "execution_count": 29,
     "metadata": {},
     "output_type": "execute_result"
    }
   ],
   "source": [
    "def wordBreak(s, wordDict):\n",
    "    dp = [False] * (len(s) + 1)\n",
    "    dp[len(s)] = True\n",
    "    \n",
    "    for i in range(len(s) - 1, -1, -1):\n",
    "        for w in wordDict:\n",
    "            if i + len(w) <= len(s) and s[i : i + len(w)] == w:\n",
    "                dp[i] = dp[i + len(w)]\n",
    "            if dp[i]:\n",
    "                break\n",
    "    \n",
    "    return dp[0]\n",
    "    \n",
    "wordBreak(\"leetcode\", [\"leet\",\"code\"])"
   ]
  },
  {
   "cell_type": "markdown",
   "metadata": {},
   "source": [
    "## 300. Longest Increasing Subsequence\n",
    "\n",
    "Given an integer array nums, return the length of the longest strictly increasing subsequence.\n",
    "\n",
    "A subsequence is a sequence that can be derived from an array by deleting some or no elements without changing the order of the remaining elements. For example, [3,6,2,7] is a subsequence of the array [0,3,1,6,2,2,7].\n",
    "\n",
    " \n",
    "\n",
    "Example 1:\n",
    "\n",
    "Input: nums = [10,9,2,5,3,7,101,18]\n",
    "Output: 4\n",
    "Explanation: The longest increasing subsequence is [2,3,7,101], therefore the length is 4.\n",
    "Example 2:\n",
    "\n",
    "Input: nums = [0,1,0,3,2,3]\n",
    "Output: 4\n",
    "Example 3:\n",
    "\n",
    "Input: nums = [7,7,7,7,7,7,7]\n",
    "Output: 1\n",
    "\n",
    "# Google"
   ]
  },
  {
   "cell_type": "code",
   "execution_count": 31,
   "metadata": {},
   "outputs": [
    {
     "data": {
      "text/plain": [
       "4"
      ]
     },
     "execution_count": 31,
     "metadata": {},
     "output_type": "execute_result"
    }
   ],
   "source": [
    "def longestSub(nums):\n",
    "    lis = [1] * len(nums)\n",
    "    \n",
    "    for i in range(len(nums) -1, -1, -1):\n",
    "        for j in range(i + 1, len(nums)):\n",
    "            if nums[i] < nums[j]:\n",
    "                lis[i] = max(lis[i], 1 + lis[j])\n",
    "    return max(lis)\n",
    "\n",
    "longestSub([10,9,2,5,3,7,101,18])"
   ]
  },
  {
   "cell_type": "markdown",
   "metadata": {},
   "source": [
    "## 416. Partition Equal Subset Sum\n",
    "\n",
    "Given a non-empty array nums containing only positive integers, find if the array can be partitioned into two subsets such that the sum of elements in both subsets is equal.\n",
    "\n",
    " \n",
    "\n",
    "Example 1:\n",
    "\n",
    "Input: nums = [1,5,11,5]\n",
    "Output: true\n",
    "Explanation: The array can be partitioned as [1, 5, 5] and [11].\n",
    "Example 2:\n",
    "\n",
    "Input: nums = [1,2,3,5]\n",
    "Output: false\n",
    "Explanation: The array cannot be partitioned into equal sum subsets.\n",
    "\n",
    "# Facebook"
   ]
  },
  {
   "cell_type": "code",
   "execution_count": 34,
   "metadata": {},
   "outputs": [
    {
     "data": {
      "text/plain": [
       "True"
      ]
     },
     "execution_count": 34,
     "metadata": {},
     "output_type": "execute_result"
    }
   ],
   "source": [
    "def partitionSum(nums):\n",
    "    if sum(nums) % 2:\n",
    "        return False\n",
    "    dp = set()\n",
    "    dp.add(0)\n",
    "    target = sum(nums) // 2\n",
    "    \n",
    "    for i in range(len(nums) - 1, -1, -1):\n",
    "        nextDP = set()\n",
    "        for t in dp:\n",
    "            if t + nums[i] == target:\n",
    "                return True\n",
    "            nextDP.add(t + nums[i])\n",
    "            nextDP.add(t)\n",
    "        dp = nextDP\n",
    "    \n",
    "    return True if target in dp else False\n",
    "\n",
    "partitionSum([1,5,11,5])"
   ]
  },
  {
   "cell_type": "markdown",
   "metadata": {},
   "source": [
    "----------"
   ]
  },
  {
   "cell_type": "markdown",
   "metadata": {},
   "source": [
    "# ⭐️ - - - - - - - - - - - - - - - - - - - 🏝 2D Dynamic Programming - - - - - - - - - - - - - - - - - - - 🔥"
   ]
  },
  {
   "cell_type": "markdown",
   "metadata": {},
   "source": [
    "## 62. Unique Paths\n",
    "\n",
    "There is a robot on an m x n grid. The robot is initially located at the top-left corner (i.e., grid[0][0]). The robot tries to move to the bottom-right corner (i.e., grid[m - 1][n - 1]). The robot can only move either down or right at any point in time.\n",
    "\n",
    "Given the two integers m and n, return the number of possible unique paths that the robot can take to reach the bottom-right corner.\n",
    "\n",
    "The test cases are generated so that the answer will be less than or equal to 2 * 109.\n",
    "\n",
    " \n",
    "\n",
    "Example 1:\n",
    "\n",
    "\n",
    "Input: m = 3, n = 7\n",
    "Output: 28\n",
    "Example 2:\n",
    "\n",
    "Input: m = 3, n = 2\n",
    "Output: 3\n",
    "Explanation: From the top-left corner, there are a total of 3 ways to reach the bottom-right corner:\n",
    "1. Right -> Down -> Down\n",
    "2. Down -> Down -> Right\n",
    "3. Down -> Right -> Down\n",
    "\n",
    "# Google"
   ]
  },
  {
   "cell_type": "code",
   "execution_count": 12,
   "metadata": {},
   "outputs": [
    {
     "name": "stdout",
     "output_type": "stream",
     "text": [
      "[1, 1, 1, 1, 1, 1, 1]\n",
      "[1, 1, 1, 1, 1, 1, 1]\n",
      "[1, 1, 1, 1, 1, 1, 1]\n",
      "\n",
      "[1, 1, 1, 1, 1, 1, 1]\n",
      "[1, 2, 3, 4, 5, 6, 7]\n",
      "[1, 3, 6, 10, 15, 21, 28]\n"
     ]
    },
    {
     "data": {
      "text/plain": [
       "28"
      ]
     },
     "execution_count": 12,
     "metadata": {},
     "output_type": "execute_result"
    }
   ],
   "source": [
    "def uniquePaths(m: int, n: int):\n",
    "    \n",
    "# dp[i][j] := unique paths from (0, 0) to (i, j)\n",
    "\n",
    "    dp = [[1] * n for _ in range(m)]\n",
    "    \n",
    "    for i in dp:\n",
    "        print(i)\n",
    "        \n",
    "    for i in range(1, m):\n",
    "        for j in range(1, n):\n",
    "            dp[i][j] = dp[i - 1][j] + dp[i][j - 1]\n",
    "            \n",
    "    print()\n",
    "    for i in dp:\n",
    "        print(i)\n",
    "    return dp[-1][-1]\n",
    "\n",
    "uniquePaths(3, 7)\n"
   ]
  },
  {
   "cell_type": "markdown",
   "metadata": {},
   "source": [
    "## 1143. Longest Common Subsequence\n",
    "\n",
    "Given two strings text1 and text2, return the length of their longest common subsequence. If there is no common subsequence, return 0.\n",
    "\n",
    "A subsequence of a string is a new string generated from the original string with some characters (can be none) deleted without changing the relative order of the remaining characters.\n",
    "\n",
    "For example, \"ace\" is a subsequence of \"abcde\".\n",
    "A common subsequence of two strings is a subsequence that is common to both strings.\n",
    "\n",
    " \n",
    "\n",
    "Example 1:\n",
    "\n",
    "Input: text1 = \"abcde\", text2 = \"ace\" \n",
    "Output: 3  \n",
    "Explanation: The longest common subsequence is \"ace\" and its length is 3.\n",
    "Example 2:\n",
    "\n",
    "Input: text1 = \"abc\", text2 = \"abc\"\n",
    "Output: 3\n",
    "Explanation: The longest common subsequence is \"abc\" and its length is 3.\n",
    "Example 3:\n",
    "\n",
    "Input: text1 = \"abc\", text2 = \"def\"\n",
    "Output: 0\n",
    "Explanation: There is no such common subsequence, so the result is 0.\n",
    "\n",
    "# Google"
   ]
  },
  {
   "cell_type": "code",
   "execution_count": 16,
   "metadata": {},
   "outputs": [
    {
     "data": {
      "text/plain": [
       "3"
      ]
     },
     "execution_count": 16,
     "metadata": {},
     "output_type": "execute_result"
    }
   ],
   "source": [
    "def longestCommonSubsequence(text1: str, text2: str):\n",
    "    dp = [[0 for i in range(len(text2) + 1)] for j in range(len(text1) + 1)]\n",
    "\n",
    "    for i in range(len(text1) - 1, -1, -1):\n",
    "        for j in range(len(text2) - 1, -1, -1):\n",
    "            if text1[i] == text2[j]:\n",
    "                dp[i][j] = 1 + dp[i + 1][j + 1]\n",
    "            else:\n",
    "                dp[i][j] = max(dp[i + 1][j], dp[i][j + 1])\n",
    "\n",
    "    return dp[0][0]\n",
    "\n",
    "longestCommonSubsequence(\"abcde\",\"ace\")"
   ]
  },
  {
   "cell_type": "markdown",
   "metadata": {},
   "source": [
    "## 309. Best Time to Buy and Sell Stock with Cooldown\n",
    "\n",
    "You are given an array prices where prices[i] is the price of a given stock on the ith day.\n",
    "\n",
    "Find the maximum profit you can achieve. You may complete as many transactions as you like (i.e., buy one and sell one share of the stock multiple times) with the following restrictions:\n",
    "\n",
    "After you sell your stock, you cannot buy stock on the next day (i.e., cooldown one day).\n",
    "Note: You may not engage in multiple transactions simultaneously (i.e., you must sell the stock before you buy again).\n",
    "\n",
    " \n",
    "\n",
    "Example 1:\n",
    "\n",
    "Input: prices = [1,2,3,0,2]\n",
    "Output: 3\n",
    "Explanation: transactions = [buy, sell, cooldown, buy, sell]\n",
    "Example 2:\n",
    "\n",
    "Input: prices = [1]\n",
    "Output: 0\n",
    "\n",
    "# Google"
   ]
  },
  {
   "cell_type": "code",
   "execution_count": 21,
   "metadata": {},
   "outputs": [
    {
     "data": {
      "text/plain": [
       "3"
      ]
     },
     "execution_count": 21,
     "metadata": {},
     "output_type": "execute_result"
    }
   ],
   "source": [
    "def buySell(prices):\n",
    "    \n",
    "    # State: Buying or Selling?\n",
    "    # If Buy -> i + 1\n",
    "    # If Sell -> i + 2\n",
    "\n",
    "    dp = {}     # key=(i, buying) val=max_profit\n",
    "    \n",
    "    def dfs(i, buying):\n",
    "        if i >= len(prices):\n",
    "            return 0\n",
    "        if (i, buying) in dp:\n",
    "            return dp[(i, buying)]\n",
    "        \n",
    "        coolDown = dfs(i + 1, buying)\n",
    "        \n",
    "        if buying:\n",
    "            buy = dfs(i + 1, not buying) - prices[i]\n",
    "            dp[(i, buying)] = max(buy, coolDown)    \n",
    "        else:\n",
    "            sell = dfs(i + 2, not buying) + prices[i]\n",
    "            dp[(i, buying)] = max(sell, coolDown)   \n",
    "            \n",
    "        return dp[(i, buying)]\n",
    "        \n",
    "    return dfs(0, True)\n",
    "\n",
    "buySell([1,2,3,0,2]) \n",
    "    "
   ]
  },
  {
   "cell_type": "code",
   "execution_count": 22,
   "metadata": {},
   "outputs": [],
   "source": [
    "def maxProfit(prices):\n",
    "    sell = 0\n",
    "    hold = float(\"-inf\")\n",
    "    prev = 0\n",
    "\n",
    "    for price in prices:\n",
    "        cache = sell\n",
    "        sell = max(sell, hold + price)\n",
    "        hold = max(hold, prev - price)\n",
    "        prev = cache\n",
    "\n",
    "    return sell\n"
   ]
  },
  {
   "cell_type": "markdown",
   "metadata": {},
   "source": [
    "## 518. Coin Change II\n",
    "\n",
    "You are given an integer array coins representing coins of different denominations and an integer amount representing a total amount of money.\n",
    "\n",
    "Return the number of combinations that make up that amount. If that amount of money cannot be made up by any combination of the coins, return 0.\n",
    "\n",
    "You may assume that you have an infinite number of each kind of coin.\n",
    "\n",
    "The answer is guaranteed to fit into a signed 32-bit integer.\n",
    "\n",
    " \n",
    "\n",
    "Example 1:\n",
    "\n",
    "Input: amount = 5, coins = [1,2,5]\n",
    "Output: 4\n",
    "Explanation: there are four ways to make up the amount:\n",
    "5=5\n",
    "5=2+2+1\n",
    "5=2+1+1+1\n",
    "5=1+1+1+1+1\n",
    "Example 2:\n",
    "\n",
    "Input: amount = 3, coins = [2]\n",
    "Output: 0\n",
    "Explanation: the amount of 3 cannot be made up just with coins of 2.\n",
    "Example 3:\n",
    "\n",
    "Input: amount = 10, coins = [10]\n",
    "Output: 1\n",
    "\n",
    "# Facebook"
   ]
  },
  {
   "cell_type": "code",
   "execution_count": 27,
   "metadata": {},
   "outputs": [],
   "source": [
    "def change(self, amount: int, coins):\n",
    "    dp = [0]*(amount+1)\n",
    "    dp[0] = 1\n",
    "    \n",
    "    for c in coins:\n",
    "        for i in range(amount + 1 - c):\n",
    "            if dp[i]:\n",
    "                dp[c+i] += dp[i]\n",
    "    return dp[amount]\n",
    "\n",
    "# LeetCode Solution"
   ]
  },
  {
   "cell_type": "code",
   "execution_count": 23,
   "metadata": {},
   "outputs": [],
   "source": [
    "def change(amount: int, coins):\n",
    "    \n",
    "    # MEMOIZATION\n",
    "    # Time: O(n*m)\n",
    "    # Memory: O(n*m)\n",
    "    \n",
    "    cache = {}\n",
    "\n",
    "    def dfs(i, a):\n",
    "        if a == amount:\n",
    "            return 1\n",
    "        if a > amount:\n",
    "            return 0\n",
    "        if i == len(coins):\n",
    "            return 0\n",
    "        if (i, a) in cache:\n",
    "            return cache[(i, a)]\n",
    "\n",
    "        cache[(i, a)] = dfs(i, a + coins[i]) + dfs(i + 1, a)\n",
    "        return cache[(i, a)]\n",
    "\n",
    "    return dfs(0, 0)"
   ]
  },
  {
   "cell_type": "code",
   "execution_count": 24,
   "metadata": {},
   "outputs": [],
   "source": [
    "def change(amount: int, coins):\n",
    "    \n",
    "    # DYNAMIC PROGRAMMING\n",
    "    # Time: O(n*m)\n",
    "    # Memory: O(n*m)\n",
    "\n",
    "    dp = [[0] * (len(coins) + 1) for i in range(amount + 1)]\n",
    "    dp[0] = [1] * (len(coins) + 1)\n",
    "    for a in range(1, amount + 1):\n",
    "        for i in range(len(coins) - 1, -1, -1):\n",
    "            dp[a][i] = dp[a][i + 1]\n",
    "            if a - coins[i] >= 0:\n",
    "                dp[a][i] += dp[a - coins[i]][i]\n",
    "    return dp[amount][0]"
   ]
  },
  {
   "cell_type": "code",
   "execution_count": 25,
   "metadata": {},
   "outputs": [],
   "source": [
    "def change(amount: int, coins):\n",
    "    \n",
    "    # DYNAMIC PROGRAMMING\n",
    "    # Time: O(n*m)\n",
    "    # Memory: O(n) where n = amount\n",
    "    \n",
    "    dp = [0] * (amount + 1)\n",
    "    dp[0] = 1\n",
    "    for i in range(len(coins) - 1, -1, -1):\n",
    "        nextDP = [0] * (amount + 1)\n",
    "        nextDP[0] = 1\n",
    "\n",
    "        for a in range(1, amount + 1):\n",
    "            nextDP[a] = dp[a]\n",
    "            if a - coins[i] >= 0:\n",
    "                nextDP[a] += nextDP[a - coins[i]]\n",
    "        dp = nextDP\n",
    "    return dp[amount]"
   ]
  },
  {
   "cell_type": "markdown",
   "metadata": {},
   "source": [
    "## 494. Target Sum - II\n",
    "\n",
    "\n",
    "You are given an integer array nums and an integer target.\n",
    "\n",
    "You want to build an expression out of nums by adding one of the symbols '+' and '-' before each integer in nums and then concatenate all the integers.\n",
    "\n",
    "For example, if nums = [2, 1], you can add a '+' before 2 and a '-' before 1 and concatenate them to build the expression \"+2-1\".\n",
    "Return the number of different expressions that you can build, which evaluates to target.\n",
    "\n",
    " \n",
    "\n",
    "Example 1:\n",
    "\n",
    "Input: nums = [1,1,1,1,1], target = 3\n",
    "Output: 5\n",
    "Explanation: There are 5 ways to assign symbols to make the sum of nums be target 3.\n",
    "-1 + 1 + 1 + 1 + 1 = 3\n",
    "+1 - 1 + 1 + 1 + 1 = 3\n",
    "+1 + 1 - 1 + 1 + 1 = 3\n",
    "+1 + 1 + 1 - 1 + 1 = 3\n",
    "+1 + 1 + 1 + 1 - 1 = 3\n",
    "Example 2:\n",
    "\n",
    "Input: nums = [1], target = 1\n",
    "Output: 1\n",
    "\n",
    "# Facebook"
   ]
  },
  {
   "cell_type": "code",
   "execution_count": 29,
   "metadata": {},
   "outputs": [
    {
     "data": {
      "text/plain": [
       "5"
      ]
     },
     "execution_count": 29,
     "metadata": {},
     "output_type": "execute_result"
    }
   ],
   "source": [
    "def targetSum2(nums, target):\n",
    "    dp = {}     # ( index, total ) No. of ways    \n",
    "    \n",
    "    def backtrack(i, total):\n",
    "        if i == len(nums):\n",
    "            return 1 if total == target else 0\n",
    "        \n",
    "        if (i, total) in dp:\n",
    "            return dp[(i, total)]\n",
    "        \n",
    "        dp[(i, total)] = backtrack(i + 1, total + nums[i]) + backtrack(i + 1, total - nums[i])\n",
    "        \n",
    "        return dp[(i, total)]\n",
    "    \n",
    "    return backtrack(0, 0)\n",
    "\n",
    "targetSum2([1,1,1,1,1], 3)        \n",
    "    "
   ]
  },
  {
   "cell_type": "markdown",
   "metadata": {},
   "source": [
    "## 97. Interleaving String\n",
    "\n",
    "Given strings s1, s2, and s3, find whether s3 is formed by an interleaving of s1 and s2.\n",
    "\n",
    "An interleaving of two strings s and t is a configuration where s and t are divided into n and m non-empty substrings respectively, such that:\n",
    "\n",
    "s = s1 + s2 + ... + sn\n",
    "t = t1 + t2 + ... + tm\n",
    "|n - m| <= 1\n",
    "The interleaving is s1 + t1 + s2 + t2 + s3 + t3 + ... or t1 + s1 + t2 + s2 + t3 + s3 + ...\n",
    "Note: a + b is the concatenation of strings a and b.\n",
    "\n",
    " \n",
    "\n",
    "Example 1:\n",
    "\n",
    "\n",
    "Input: s1 = \"aabcc\", s2 = \"dbbca\", s3 = \"aadbbcbcac\"\n",
    "Output: true\n",
    "Explanation: One way to obtain s3 is:\n",
    "Split s1 into s1 = \"aa\" + \"bc\" + \"c\", and s2 into s2 = \"dbbc\" + \"a\".\n",
    "Interleaving the two splits, we get \"aa\" + \"dbbc\" + \"bc\" + \"a\" + \"c\" = \"aadbbcbcac\".\n",
    "Since s3 can be obtained by interleaving s1 and s2, we return true.\n",
    "Example 2:\n",
    "\n",
    "Input: s1 = \"aabcc\", s2 = \"dbbca\", s3 = \"aadbbbaccc\"\n",
    "Output: false\n",
    "Explanation: Notice how it is impossible to interleave s2 with any other string to obtain s3.\n",
    "Example 3:\n",
    "\n",
    "Input: s1 = \"\", s2 = \"\", s3 = \"\"\n",
    "Output: true\n",
    "\n",
    "# Google"
   ]
  },
  {
   "cell_type": "code",
   "execution_count": 2,
   "metadata": {},
   "outputs": [
    {
     "data": {
      "text/plain": [
       "True"
      ]
     },
     "execution_count": 2,
     "metadata": {},
     "output_type": "execute_result"
    }
   ],
   "source": [
    "# Reccusive \n",
    "\n",
    "def isInterLeave(s1, s2, s3):\n",
    "    \n",
    "    dp = {}     # k = i + j\n",
    "    \n",
    "    def dfs(i, j):\n",
    "        \n",
    "        if i == len(s1) and j == len(s2):\n",
    "            return True\n",
    "        \n",
    "        if (i, j) in dp:\n",
    "            return dp[(i, j)]\n",
    "        \n",
    "        if i < len(s1) and s1[i] == s3[i + j] and dfs(i + 1, j):\n",
    "            return True\n",
    "        \n",
    "        if j < len(s2) and s2[j] == s3[i + j] and dfs(i, j + 1):\n",
    "            return True\n",
    "        \n",
    "        dp[(i, j)] = False\n",
    "        \n",
    "        return False\n",
    "    \n",
    "    return dfs(0,0)\n",
    "\n",
    "isInterLeave(\"aabcc\", \"dbbca\", \"aadbbcbcac\")\n",
    "        \n",
    "        "
   ]
  },
  {
   "cell_type": "code",
   "execution_count": 10,
   "metadata": {},
   "outputs": [
    {
     "data": {
      "text/plain": [
       "True"
      ]
     },
     "execution_count": 10,
     "metadata": {},
     "output_type": "execute_result"
    }
   ],
   "source": [
    "# Dynamic Approach\n",
    "\n",
    "def isInterLeave(s1, s2, s3):\n",
    "    \n",
    "    if len(s1) + len(s2) != len(s3):\n",
    "        return False\n",
    "    \n",
    "    dp = [[False] * (len(s2) + 1) for i in range(len(s1) + 1)]\n",
    "    \n",
    "    dp[len(s1)][len(s2)] = True\n",
    "    \n",
    "    for i in range(len(s1), -1, -1):\n",
    "        for j in range(len(s2), -1 , -1):\n",
    "            if i < len(s1) and s1[i] == s3[i + j] and dp[i + 1][j]:\n",
    "                dp[i][j] = True\n",
    "            if j < len(s2) and s2[j] == s3[i + j] and dp[i][j + 1]:\n",
    "                dp[i][j] = True\n",
    "    \n",
    "    return dp[0][0]\n",
    "    \n",
    "    \n",
    "isInterLeave(\"aabcc\", \"dbbca\", \"aadbbcbcac\")\n"
   ]
  },
  {
   "cell_type": "markdown",
   "metadata": {},
   "source": [
    "## 329. Longest Increasing Path in a Matrix\n",
    "\n",
    "Given an m x n integers matrix, return the length of the longest increasing path in matrix.\n",
    "\n",
    "From each cell, you can either move in four directions: left, right, up, or down. You may not move diagonally or move outside the boundary (i.e., wrap-around is not allowed).\n",
    "\n",
    " \n",
    "\n",
    "Example 1:\n",
    "\n",
    "\n",
    "Input: matrix = [[9,9,4],[6,6,8],[2,1,1]]\n",
    "Output: 4\n",
    "Explanation: The longest increasing path is [1, 2, 6, 9].\n",
    "Example 2:\n",
    "\n",
    "\n",
    "Input: matrix = [[3,4,5],[3,2,6],[2,2,1]]\n",
    "Output: 4\n",
    "Explanation: The longest increasing path is [3, 4, 5, 6]. Moving diagonally is not allowed.\n",
    "Example 3:\n",
    "\n",
    "Input: matrix = [[1]]\n",
    "Output: 1\n",
    "\n",
    "# Google"
   ]
  },
  {
   "cell_type": "code",
   "execution_count": 5,
   "metadata": {},
   "outputs": [
    {
     "data": {
      "text/plain": [
       "4"
      ]
     },
     "execution_count": 5,
     "metadata": {},
     "output_type": "execute_result"
    }
   ],
   "source": [
    "def longestIncreasingPath(matrix):\n",
    "    \n",
    "    rows = len(matrix)\n",
    "    cols = len(matrix[0])\n",
    "    dp = {}     # (row, column) -> Longest increasing matrix \n",
    "    \n",
    "    def dfs(r, c, prevMatrix):\n",
    "        \n",
    "        if r < 0 or r == rows or c < 0 or c == cols or matrix[r][c] <= prevMatrix:\n",
    "            return 0\n",
    "        \n",
    "        if (r, c) in dp:\n",
    "            return dp[(r, c)]\n",
    "        \n",
    "        res = 1\n",
    "        res = max(res, 1 + dfs(r + 1, c, matrix[r][c]))\n",
    "        res = max(res, 1 + dfs(r - 1, c, matrix[r][c]))\n",
    "        res = max(res, 1 + dfs(r, c + 1, matrix[r][c]))\n",
    "        res = max(res, 1 + dfs(r, c - 1, matrix[r][c]))\n",
    "        dp[(r, c)] = res\n",
    "        return res\n",
    "    \n",
    "    for i in range(rows):\n",
    "        for j in range(cols):\n",
    "            dfs(i, j, -1)\n",
    "    \n",
    "    return max(dp.values())\n",
    "        \n",
    "\n",
    "longestIncreasingPath([[9,9,4],[6,6,8],[2,1,1]])\n",
    "    "
   ]
  },
  {
   "cell_type": "markdown",
   "metadata": {},
   "source": [
    "## 115. Distinct Subsequences\n",
    "\n",
    "Given two strings s and t, return the number of distinct subsequences of s which equals t.\n",
    "\n",
    "A string's subsequence is a new string formed from the original string by deleting some (can be none) of the characters without disturbing the remaining characters' relative positions. (i.e., \"ACE\" is a subsequence of \"ABCDE\" while \"AEC\" is not).\n",
    "\n",
    "The test cases are generated so that the answer fits on a 32-bit signed integer.\n",
    "\n",
    " \n",
    "\n",
    "Example 1:\n",
    "\n",
    "Input: s = \"rabbbit\", t = \"rabbit\"\n",
    "Output: 3\n",
    "Explanation:\n",
    "As shown below, there are 3 ways you can generate \"rabbit\" from s.\n",
    "rabbbit\n",
    "rabbbit\n",
    "rabbbit\n",
    "Example 2:\n",
    "\n",
    "Input: s = \"babgbag\", t = \"bag\"\n",
    "Output: 5\n",
    "Explanation:\n",
    "As shown below, there are 5 ways you can generate \"bag\" from s.\n",
    "babgbag\n",
    "babgbag\n",
    "babgbag\n",
    "babgbag\n",
    "babgbag\n",
    "\n",
    "# Twitter"
   ]
  },
  {
   "cell_type": "code",
   "execution_count": 3,
   "metadata": {},
   "outputs": [
    {
     "data": {
      "text/plain": [
       "3"
      ]
     },
     "execution_count": 3,
     "metadata": {},
     "output_type": "execute_result"
    }
   ],
   "source": [
    "def distSub(s, t):\n",
    "    cache = {}\n",
    "    \n",
    "    def dfs(i, j):\n",
    "        if j == len(t):\n",
    "            return 1\n",
    "        \n",
    "        if i == len(s):\n",
    "            return 0\n",
    "        \n",
    "        if (i, j) in cache:\n",
    "            return cache[(i, j)]\n",
    "        \n",
    "        if s[i] == t[j]:\n",
    "            cache[(i, j)] = dfs(i + 1, j + 1) + dfs(i + 1, j)\n",
    "            \n",
    "        else:\n",
    "            cache[(i, j)] = dfs(i + 1, j)\n",
    "            \n",
    "        return cache[(i, j)]\n",
    "    \n",
    "    return dfs(0, 0)\n",
    "            \n",
    "distSub(\"rabbbit\",\"rabbit\")"
   ]
  },
  {
   "cell_type": "markdown",
   "metadata": {},
   "source": [
    "## 72. Edit Distance\n",
    "\n",
    "Given two strings word1 and word2, return the minimum number of operations required to convert word1 to word2.\n",
    "\n",
    "You have the following three operations permitted on a word:\n",
    "\n",
    "Insert a character\n",
    "Delete a character\n",
    "Replace a character\n",
    " \n",
    "\n",
    "Example 1:\n",
    "\n",
    "Input: word1 = \"horse\", word2 = \"ros\"\n",
    "Output: 3\n",
    "Explanation: \n",
    "horse -> rorse (replace 'h' with 'r')\n",
    "rorse -> rose (remove 'r')\n",
    "rose -> ros (remove 'e')\n",
    "Example 2:\n",
    "\n",
    "Input: word1 = \"intention\", word2 = \"execution\"\n",
    "Output: 5\n",
    "Explanation: \n",
    "intention -> inention (remove 't')\n",
    "inention -> enention (replace 'i' with 'e')\n",
    "enention -> exention (replace 'n' with 'x')\n",
    "exention -> exection (replace 'n' with 'c')\n",
    "exection -> execution (insert 'u')\n",
    "\n",
    "# Google"
   ]
  },
  {
   "cell_type": "code",
   "execution_count": 8,
   "metadata": {},
   "outputs": [
    {
     "data": {
      "text/plain": [
       "3"
      ]
     },
     "execution_count": 8,
     "metadata": {},
     "output_type": "execute_result"
    }
   ],
   "source": [
    "def minDistance(word1: str, word2: str):\n",
    "    dp = [[float(\"inf\")] * (len(word2) + 1) for i in range(len(word1) + 1)]\n",
    "\n",
    "    for j in range(len(word2) + 1):\n",
    "        dp[len(word1)][j] = len(word2) - j\n",
    "    for i in range(len(word1) + 1):\n",
    "        dp[i][len(word2)] = len(word1) - i\n",
    "\n",
    "    for i in range(len(word1) - 1, -1, -1):\n",
    "        for j in range(len(word2) - 1, -1, -1):\n",
    "            if word1[i] == word2[j]:\n",
    "                dp[i][j] = dp[i + 1][j + 1]\n",
    "            else:\n",
    "                dp[i][j] = 1 + min(dp[i + 1][j], dp[i][j + 1], dp[i + 1][j + 1])\n",
    "    return dp[0][0]\n",
    "\n",
    "minDistance(\"horse\", \"ros\")"
   ]
  },
  {
   "cell_type": "markdown",
   "metadata": {},
   "source": [
    "## 312. Burst Balloons 🟡\n",
    "\n",
    "You are given n balloons, indexed from 0 to n - 1. Each balloon is painted with a number on it represented by an array nums. You are asked to burst all the balloons.\n",
    "\n",
    "If you burst the ith balloon, you will get nums[i - 1] * nums[i] * nums[i + 1] coins. If i - 1 or i + 1 goes out of bounds of the array, then treat it as if there is a balloon with a 1 painted on it.\n",
    "\n",
    "Return the maximum coins you can collect by bursting the balloons wisely.\n",
    "\n",
    " \n",
    "\n",
    "Example 1:\n",
    "\n",
    "Input: nums = [3,1,5,8]\n",
    "Output: 167\n",
    "Explanation:\n",
    "nums = [3,1,5,8] --> [3,5,8] --> [3,8] --> [8] --> []\n",
    "coins =  3*1*5    +   3*5*8   +  1*3*8  + 1*8*1 = 167\n",
    "Example 2:\n",
    "\n",
    "Input: nums = [1,5]\n",
    "Output: 10\n",
    "\n",
    "# Google"
   ]
  },
  {
   "cell_type": "code",
   "execution_count": 3,
   "metadata": {},
   "outputs": [],
   "source": [
    "def maxCoins(self, nums):\n",
    "    cache = {}\n",
    "    nums = [1] + nums + [1]\n",
    "\n",
    "    for offset in range(2, len(nums)):\n",
    "        for left in range(len(nums) - offset):\n",
    "            right = left + offset\n",
    "            for pivot in range(left + 1, right):\n",
    "                coins = nums[left] * nums[pivot] * nums[right]\n",
    "                coins += cache.get((left, pivot), 0) + cache.get((pivot, right), 0)\n",
    "                cache[(left, right)] = max(coins, cache.get((left, right), 0))\n",
    "    return cache.get((0, len(nums) - 1), 0)"
   ]
  },
  {
   "cell_type": "markdown",
   "metadata": {},
   "source": [
    "## 10. Regular Expression Matching\n",
    "\n",
    "Given an input string s and a pattern p, implement regular expression matching with support for '.' and '*' where:\n",
    "\n",
    "'.' Matches any single character.​​​​\n",
    "'*' Matches zero or more of the preceding element.\n",
    "The matching should cover the entire input string (not partial).\n",
    "\n",
    " \n",
    "\n",
    "Example 1:\n",
    "\n",
    "Input: s = \"aa\", p = \"a\"\n",
    "Output: false\n",
    "Explanation: \"a\" does not match the entire string \"aa\".\n",
    "Example 2:\n",
    "\n",
    "Input: s = \"aa\", p = \"a*\"\n",
    "Output: true\n",
    "Explanation: '*' means zero or more of the preceding element, 'a'. Therefore, by repeating 'a' once, it becomes \"aa\".\n",
    "Example 3:\n",
    "\n",
    "Input: s = \"ab\", p = \".*\"\n",
    "Output: true\n",
    "Explanation: \".*\" means \"zero or more (*) of any character (.)\".\n",
    "\n",
    "# Google"
   ]
  },
  {
   "cell_type": "code",
   "execution_count": 7,
   "metadata": {},
   "outputs": [],
   "source": [
    "# BOTTOM-UP Dynamic Programming\n",
    "def isMatch(self, s: str, p: str) -> bool:\n",
    "    cache = [[False] * (len(p) + 1) for i in range(len(s) + 1)]\n",
    "    cache[len(s)][len(p)] = True\n",
    "\n",
    "    for i in range(len(s), -1, -1):\n",
    "        for j in range(len(p) - 1, -1, -1):\n",
    "            match = i < len(s) and (s[i] == p[j] or p[j] == \".\")\n",
    "\n",
    "            if (j + 1) < len(p) and p[j + 1] == \"*\":\n",
    "                cache[i][j] = cache[i][j + 2]\n",
    "                if match:\n",
    "                    cache[i][j] = cache[i + 1][j] or cache[i][j]\n",
    "            elif match:\n",
    "                cache[i][j] = cache[i + 1][j + 1]\n",
    "\n",
    "    return cache[0][0]"
   ]
  },
  {
   "cell_type": "code",
   "execution_count": 6,
   "metadata": {},
   "outputs": [],
   "source": [
    "# TOP DOWN MEMOIZATION\n",
    "def isMatch(self, s: str, p: str) -> bool:\n",
    "    cache = {}\n",
    "\n",
    "    def dfs(i, j):\n",
    "        if (i, j) in cache:\n",
    "            return cache[(i, j)]\n",
    "        if i >= len(s) and j >= len(p):\n",
    "            return True\n",
    "        if j >= len(p):\n",
    "            return False\n",
    "\n",
    "        match = i < len(s) and (s[i] == p[j] or p[j] == \".\")\n",
    "        if (j + 1) < len(p) and p[j + 1] == \"*\":\n",
    "            cache[(i, j)] = dfs(i, j + 2) or (  # dont use *\n",
    "                match and dfs(i + 1, j)\n",
    "            )  # use *\n",
    "            return cache[(i, j)]\n",
    "        if match:\n",
    "            cache[(i, j)] = dfs(i + 1, j + 1)\n",
    "            return cache[(i, j)]\n",
    "        cache[(i, j)] = False\n",
    "        return False\n",
    "\n",
    "    return dfs(0, 0)"
   ]
  },
  {
   "cell_type": "code",
   "execution_count": null,
   "metadata": {},
   "outputs": [],
   "source": []
  },
  {
   "cell_type": "code",
   "execution_count": null,
   "metadata": {},
   "outputs": [],
   "source": []
  }
 ],
 "metadata": {
  "kernelspec": {
   "display_name": "Python 3.8.9 64-bit",
   "language": "python",
   "name": "python3"
  },
  "language_info": {
   "codemirror_mode": {
    "name": "ipython",
    "version": 3
   },
   "file_extension": ".py",
   "mimetype": "text/x-python",
   "name": "python",
   "nbconvert_exporter": "python",
   "pygments_lexer": "ipython3",
   "version": "3.8.9"
  },
  "orig_nbformat": 4,
  "vscode": {
   "interpreter": {
    "hash": "31f2aee4e71d21fbe5cf8b01ff0e069b9275f58929596ceb00d14d90e3e16cd6"
   }
  }
 },
 "nbformat": 4,
 "nbformat_minor": 2
}
