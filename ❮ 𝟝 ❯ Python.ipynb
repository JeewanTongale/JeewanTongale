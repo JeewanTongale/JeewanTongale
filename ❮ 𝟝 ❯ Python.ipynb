{
 "cells": [
  {
   "cell_type": "markdown",
   "metadata": {},
   "source": [
    "## 10 Common Coding Interview Problems"
   ]
  },
  {
   "cell_type": "markdown",
   "metadata": {},
   "source": [
    "### 1. Valid Anagram - Check if String1, String2 are anagrams. If they are made of same characters & frequencies\n",
    "    Input : \n",
    "        s1 = \"danger\"\n",
    "        s2 = \"garden\"\n",
    "    Output :\n",
    "        True\n",
    "    Explanation :\n",
    "        ---        "
   ]
  },
  {
   "cell_type": "code",
   "execution_count": 24,
   "metadata": {},
   "outputs": [
    {
     "name": "stdout",
     "output_type": "stream",
     "text": [
      "{'d': 1, 'a': 1, 'n': 1, 'g': 1, 'e': 1, 'r': 1} \n",
      " {'g': 1, 'a': 1, 'r': 1, 'd': 1, 'e': 1, 'n': 1}\n"
     ]
    },
    {
     "data": {
      "text/plain": [
       "True"
      ]
     },
     "execution_count": 24,
     "metadata": {},
     "output_type": "execute_result"
    }
   ],
   "source": [
    "def anagram1(str1, str2):\n",
    "    \n",
    "    if len(str1) != len(str2):\n",
    "        return False\n",
    "    \n",
    "    charFreq1 = {}\n",
    "    charFreq2 = {}\n",
    "    \n",
    "    for char1 in str1:\n",
    "        if char1 in charFreq1:\n",
    "            charFreq1[char1] += 1\n",
    "        else:\n",
    "            charFreq1[char1] = 1\n",
    "    \n",
    "    for char2 in str2:\n",
    "        if char2 in charFreq2:\n",
    "            charFreq2[char2] += 1\n",
    "        else:\n",
    "            charFreq2[char2] = 1        \n",
    "    \n",
    "    print(charFreq1, \"\\n\", charFreq2)\n",
    "    \n",
    "    return charFreq1 == charFreq2 \n",
    "\n",
    "str1 = \"danger\"\n",
    "str2 = \"garden\"\n",
    "anagram1(str1, str2)        \n",
    "    \n",
    "# Time Complexity O(n)   "
   ]
  },
  {
   "cell_type": "code",
   "execution_count": 25,
   "metadata": {},
   "outputs": [
    {
     "data": {
      "text/plain": [
       "True"
      ]
     },
     "execution_count": 25,
     "metadata": {},
     "output_type": "execute_result"
    }
   ],
   "source": [
    "from collections import Counter\n",
    "\n",
    "def anagram1(str1, str2):\n",
    "    \n",
    "    if len(str1) != len(str2):\n",
    "        return False\n",
    "    \n",
    "    return Counter(str1) == Counter(str2)\n",
    "    \n",
    "str1 = \"danger\"\n",
    "str2 = \"garden\"\n",
    "anagram1(str1, str2)      \n",
    "\n",
    "# Time Complexity O(n)"
   ]
  },
  {
   "cell_type": "code",
   "execution_count": 30,
   "metadata": {},
   "outputs": [
    {
     "data": {
      "text/plain": [
       "True"
      ]
     },
     "execution_count": 30,
     "metadata": {},
     "output_type": "execute_result"
    }
   ],
   "source": [
    "def anagram1(str1, str2):\n",
    "    \n",
    "    if len(str1) != len(str2):\n",
    "        return False\n",
    "    \n",
    "    return sorted(str1) == sorted(str2)\n",
    "    \n",
    "str1 = \"danger\"\n",
    "str2 = \"garden\"\n",
    "anagram1(str1, str2)  \n",
    "\n",
    "# Time Complexity O(nlogn)\n",
    "# Space Complexity O(n)"
   ]
  },
  {
   "cell_type": "markdown",
   "metadata": {},
   "source": [
    "## 2. First & Last Position - \n",
    "### Given sorted array & target, Find 1st & last position of target in array. If not return [-1, -1]\n",
    "    Input : \n",
    "        array = [2, 4, 5, 5, 5, 5, 5, 7, 9, 9]\n",
    "        target = 5\n",
    "    Output :\n",
    "        [2, 6]\n",
    "    Explanation :\n",
    "        array = [2, 4, 5, 5, 5, 5, 5, 7, 9, 9] \n",
    "                       |-----------|\n",
    "        Index = [0, 1, 2, 3, 4, 5, 6, 7, 8, 9]   \n",
    "                       |-----------|    "
   ]
  },
  {
   "cell_type": "code",
   "execution_count": 35,
   "metadata": {},
   "outputs": [
    {
     "data": {
      "text/plain": [
       "[2, 6]"
      ]
     },
     "execution_count": 35,
     "metadata": {},
     "output_type": "execute_result"
    }
   ],
   "source": [
    "def firstLastPosition2(array2, target2):\n",
    "    \n",
    "    firstIdx2 = 0\n",
    "    lastIdx2 = 0\n",
    "    \n",
    "    for i2 in range(len(array2)):\n",
    "        if array2[i2] == target2:\n",
    "            firstIdx2 = i2\n",
    "            break\n",
    "    \n",
    "    for j2 in reversed(range(len(array2))):\n",
    "        if array2[j2] == target2:\n",
    "            lastIdx2 = j2\n",
    "            break\n",
    "    \n",
    "    return [firstIdx2, lastIdx2]\n",
    "\n",
    "array2 = [2, 4, 5, 5, 5, 5, 5, 7, 9, 9]\n",
    "target2 = 5\n",
    "firstLastPosition2(array2, target2)"
   ]
  },
  {
   "cell_type": "code",
   "execution_count": 39,
   "metadata": {},
   "outputs": [
    {
     "data": {
      "text/plain": [
       "[2, 6]"
      ]
     },
     "execution_count": 39,
     "metadata": {},
     "output_type": "execute_result"
    }
   ],
   "source": [
    "def firstLastPosition2(array2, target2):\n",
    "    \n",
    "    for i2 in range(len(array2)):\n",
    "        if array2[i2] == target2:\n",
    "            start2 = i2\n",
    "            while i2 + 1 < len(array2) and array2[i2 + 1] == target2:\n",
    "                i2 += 1\n",
    "            return [start2, i2]    \n",
    "    \n",
    "    return [-1, -1]\n",
    "\n",
    "array2 = [2, 4, 5, 5, 5, 5, 5, 7, 9, 9]\n",
    "target2 = 5\n",
    "firstLastPosition2(array2, target2)\n",
    "\n",
    "# Time Complexity O(n)\n",
    "# Space Complexity O(1)"
   ]
  },
  {
   "cell_type": "markdown",
   "metadata": {},
   "source": [
    "## 3. Kth Largest Element - Given array & k, Find Kth Largest Element \n",
    "    Input : \n",
    "        array = [4, 2, 9, 7, 5, 6, 7, 1, 3]\n",
    "        target = 4\n",
    "    Output :\n",
    "        6\n",
    "    Explanation :\n",
    "        1st Largest Element is 9\n",
    "        2nd Largest Element is 7\n",
    "        3rd Largest Element is 7\n",
    "        4th Largest Element is 6\n"
   ]
  },
  {
   "cell_type": "code",
   "execution_count": 52,
   "metadata": {},
   "outputs": [
    {
     "data": {
      "text/plain": [
       "6"
      ]
     },
     "execution_count": 52,
     "metadata": {},
     "output_type": "execute_result"
    }
   ],
   "source": [
    "def kthLargest(array3, kth3):\n",
    "\n",
    "    for i3 in range(kth3 - 1):\n",
    "        array3.remove(max(array3))\n",
    "    \n",
    "    return max(array3)   \n",
    "\n",
    "array3 = [4, 2, 9, 7, 5, 6, 7, 1, 3]\n",
    "kth3 = 4\n",
    "kthLargest(array3, kth3)\n",
    "    \n",
    "# Time Complexity T(n, k) = (k - 1) * 2n + n\n",
    "#                 T(n, k) = 2kn - n = O(kn)\n",
    "# Space Complexity T(n, k) = O(1)"
   ]
  },
  {
   "cell_type": "code",
   "execution_count": 55,
   "metadata": {},
   "outputs": [
    {
     "data": {
      "text/plain": [
       "6"
      ]
     },
     "execution_count": 55,
     "metadata": {},
     "output_type": "execute_result"
    }
   ],
   "source": [
    "def kthLargest(array3, kth3):\n",
    "    \n",
    "    array3.sort()                   # Time Complexity O(nlogn)\n",
    "    len3 = len(array3)\n",
    "    \n",
    "    return array3[len3 - kth3]      # Time Complexity O(1)\n",
    "\n",
    "array3 = [4, 2, 9, 7, 5, 6, 7, 1, 3]\n",
    "kth3 = 4\n",
    "kthLargest(array3, kth3)\n",
    "    \n",
    "# Time Complexity O(nlogn)\n",
    "# Space Complexity O(1)"
   ]
  },
  {
   "cell_type": "markdown",
   "metadata": {},
   "source": [
    "## 4. Symmetric Tree - Given binary tree root, Check if symmertic (mirror of itself)\n",
    "    Input : \n",
    "        Root =                      (4)\n",
    "                                  /  |  \\\n",
    "                                 /   |   \\\n",
    "                              (5)    |    (5)\n",
    "                             /   \\   |   /   \\\n",
    "                            /     \\  |  /     \\\n",
    "                         (2)     (8) | (8)     (2)\n",
    "                                  /  |   \\\n",
    "                                 /   |    \\\n",
    "                               (1)   |    (1)\n",
    "                                     |\n",
    "                                     |\n",
    "                                     |\n",
    "                                   Mirror   \n",
    "\n",
    "    Output :\n",
    "        True\n",
    "    Explanation :\n",
    "        ---\n"
   ]
  },
  {
   "cell_type": "code",
   "execution_count": 57,
   "metadata": {},
   "outputs": [],
   "source": [
    "def areSymmetric(root4, root44):\n",
    "    if root4 is None and root44 is None:\n",
    "        return True\n",
    "    elif ((root4 is None) != (root44 is None)) or root4.value != root44.value:\n",
    "        return False\n",
    "    else:\n",
    "        return areSymmetric(root4.left, root44.right) and areSymmetric(root4.right, root44.left)\n",
    "    \n",
    "def isSymmetric(root):\n",
    "    if root is None:\n",
    "        return True\n",
    "    return areSymmetric(root.left, root.right)    \n",
    "\n",
    "# Time Complexity O(n)\n",
    "# Space Complexity O(logn)"
   ]
  },
  {
   "cell_type": "markdown",
   "metadata": {},
   "source": [
    "## Sum of Binary Tree"
   ]
  },
  {
   "cell_type": "code",
   "execution_count": 58,
   "metadata": {},
   "outputs": [],
   "source": [
    "def treeSum(root):\n",
    "    if root is None:\n",
    "        return 0\n",
    "    else:\n",
    "        left = treeSum(root.left)\n",
    "        right = treeSum(root.right)\n",
    "        return root.value + left + right"
   ]
  },
  {
   "cell_type": "markdown",
   "metadata": {},
   "source": [
    "## 5. Generate Parentheses (())() - Given n integers, generate valid combination of n pair of parentheses \n",
    "    Input : \n",
    "        N = 3 \n",
    "    Output :\n",
    "        [\"((()))\", \"(()())\", \"(())()\", \"()(())\", \"()()()\"]\n",
    "    Explanation :\n",
    "       ---\n"
   ]
  },
  {
   "cell_type": "code",
   "execution_count": 86,
   "metadata": {},
   "outputs": [
    {
     "data": {
      "text/plain": [
       "['((()))', '(()())', '(())()', '()(())', '()()()']"
      ]
     },
     "execution_count": 86,
     "metadata": {},
     "output_type": "execute_result"
    }
   ],
   "source": [
    "def generate(n):\n",
    "    def rec(n, diff, comb, combs):\n",
    "        if diff < 0 or diff > n:\n",
    "            return\n",
    "        elif n == 0:\n",
    "            if diff == 0:\n",
    "                combs.append(''.join(comb))\n",
    "        else:\n",
    "            comb.append('(')\n",
    "            rec(n-1, diff+1, comb, combs)\n",
    "            comb.pop()\n",
    "            comb.append(')')\n",
    "            rec(n-1, diff-1, comb, combs)\n",
    "            comb.pop()\n",
    "    combs = []\n",
    "    rec(2*n, 0, [], combs)\n",
    "    return combs\n",
    "\n",
    "generate(3)"
   ]
  },
  {
   "cell_type": "markdown",
   "metadata": {},
   "source": [
    "## 6. Minum Window Substring - Given 2 strings s & t. Find shortest substring of s that contains all char of t\n",
    "    Input : \n",
    "        S = \"ABCDEFGHIJKLMNOPQRSTUVWXYZ\"\n",
    "        T = \"AFB\"\n",
    "    Output :\n",
    "        \"ABCDEF\"\n",
    "    Explanation :\n",
    "       \"ABCDEF\" is the shortest substring of s contains all character of t (1 A, 1 F, 1 B)\n"
   ]
  },
  {
   "cell_type": "code",
   "execution_count": 44,
   "metadata": {},
   "outputs": [
    {
     "data": {
      "text/plain": [
       "'ABCDEF'"
      ]
     },
     "execution_count": 44,
     "metadata": {},
     "output_type": "execute_result"
    }
   ],
   "source": [
    "from collections import Counter\n",
    "\n",
    "\n",
    "def contains_all(freq1, freq2):\n",
    "    for ch in freq2:\n",
    "        if freq1[ch] < freq2[ch]:\n",
    "            return False\n",
    "    return True\n",
    "\n",
    "\n",
    "def min_window(s, t):\n",
    "    n, m = len(s), len(t)\n",
    "    if m > n or m == 0:\n",
    "        return \"\"\n",
    "    freqt = Counter(t)\n",
    "    shortest = \" \"*(n+1)\n",
    "    for length in range(1, n+1):\n",
    "        for i in range(n-length+1):\n",
    "            sub = s[i:i+length]\n",
    "            freqs = Counter(sub)\n",
    "            if contains_all(freqs, freqt) and length < len(shortest):\n",
    "                shortest = sub\n",
    "    return shortest if len(shortest) <= n else \"\"\n",
    "\n",
    "S = \"ABCDEFGHIJKLMNOPQRSTUVWXYZ\"\n",
    "T = \"AFB\"\n",
    "min_window(S, T)"
   ]
  },
  {
   "cell_type": "code",
   "execution_count": 4,
   "metadata": {},
   "outputs": [
    {
     "data": {
      "text/plain": [
       "'ABCDEF'"
      ]
     },
     "execution_count": 4,
     "metadata": {},
     "output_type": "execute_result"
    }
   ],
   "source": [
    "from collections import Counter\n",
    "\n",
    "def min_window(s, t):\n",
    "    n, m = len(s), len(t)\n",
    "    if m > n or t == \"\":\n",
    "        return \"\"\n",
    "    freqt = Counter(t)\n",
    "    start, end = 0, n+1\n",
    "    for length in range(1, n+1):\n",
    "        freqs = Counter()\n",
    "        satisfied = 0\n",
    "        for ch in s[:length]:\n",
    "            freqs[ch] += 1\n",
    "            if ch in freqt and freqs[ch] == freqt[ch]:\n",
    "                satisfied += 1\n",
    "        if satisfied == len(freqt) and length < end-start:\n",
    "            start, end = 0, length\n",
    "        for i in range(1, n-length+1):\n",
    "            freqs[s[i+length-1]] += 1\n",
    "            if s[i+length-1] in freqt and freqs[s[i+length-1]] == freqt[s[i+length-1]]:\n",
    "                satisfied += 1\n",
    "            if s[i-1] in freqt and freqs[s[i-1]] == freqt[s[i-1]]:\n",
    "                satisfied -= 1\n",
    "            freqs[s[i-1]] -= 1\n",
    "            if satisfied == len(freqt) and length < end-start:\n",
    "                start, end = i, i+length\n",
    "    return s[start:end] if end-start <= n else \"\"\n",
    "\n",
    "S = \"ABCDEFGHIJKLMNOPQRSTUVWXYZ\"\n",
    "T = \"AFB\"\n",
    "min_window(S, T)\n",
    "\n",
    "# Time Complexity O(n^2)\n",
    "# Space Complexity S(n, m) =  O(n + m)"
   ]
  },
  {
   "cell_type": "code",
   "execution_count": 9,
   "metadata": {},
   "outputs": [
    {
     "data": {
      "text/plain": [
       "'ABCDEF'"
      ]
     },
     "execution_count": 9,
     "metadata": {},
     "output_type": "execute_result"
    }
   ],
   "source": [
    "from collections import Counter\n",
    "\n",
    "\n",
    "def min_window(s, t):\n",
    "    n, m = len(s), len(t)\n",
    "    if m > n or t == \"\":\n",
    "        return \"\"\n",
    "    freqt = Counter(t)\n",
    "    start, end = 0, n\n",
    "    satisfied = 0\n",
    "    freqs = Counter()\n",
    "    left = 0\n",
    "    for right in range(n):\n",
    "        freqs[s[right]] += 1\n",
    "        if s[right] in freqt and freqs[s[right]] == freqt[s[right]]:\n",
    "            satisfied += 1\n",
    "        if satisfied == len(freqt):\n",
    "            while s[left] not in freqt or freqs[s[left]] > freqt[s[left]]:\n",
    "                freqs[s[left]] -= 1\n",
    "                left += 1\n",
    "            if right-left+1 < end-start+1:\n",
    "                start, end = left, right\n",
    "    return s[start:end+1] if end-start+1 <= n else \"\"\n",
    "\n",
    "S = \"ABCDEFGHIJKLMNOPQRSTUVWXYZ\"\n",
    "T = \"AFB\"\n",
    "min_window(S, T)\n",
    "\n",
    "\n",
    "# Time Complexity O(n)\n",
    "# Space Complexity S(n, m) =  O(n + m)"
   ]
  },
  {
   "cell_type": "code",
   "execution_count": null,
   "metadata": {},
   "outputs": [],
   "source": []
  }
 ],
 "metadata": {
  "kernelspec": {
   "display_name": "Python 3.8.9 64-bit",
   "language": "python",
   "name": "python3"
  },
  "language_info": {
   "codemirror_mode": {
    "name": "ipython",
    "version": 3
   },
   "file_extension": ".py",
   "mimetype": "text/x-python",
   "name": "python",
   "nbconvert_exporter": "python",
   "pygments_lexer": "ipython3",
   "version": "3.8.9"
  },
  "orig_nbformat": 4,
  "vscode": {
   "interpreter": {
    "hash": "31f2aee4e71d21fbe5cf8b01ff0e069b9275f58929596ceb00d14d90e3e16cd6"
   }
  }
 },
 "nbformat": 4,
 "nbformat_minor": 2
}
